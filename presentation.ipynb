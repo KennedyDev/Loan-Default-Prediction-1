{
 "cells": [
  {
   "cell_type": "markdown",
   "metadata": {
    "slideshow": {
     "slide_type": "slide"
    }
   },
   "source": [
    "# Loan Default Risk"
   ]
  },
  {
   "cell_type": "code",
   "execution_count": 1,
   "metadata": {
    "slideshow": {
     "slide_type": "skip"
    }
   },
   "outputs": [],
   "source": [
    "import os\n",
    "import pandas as pd\n",
    "import numpy as np\n",
    "import matplotlib.pyplot as plt\n",
    "import seaborn as sns\n",
    "from sklearn.model_selection import train_test_split\n",
    "from sklearn.linear_model import LogisticRegression\n",
    "from sklearn.ensemble import RandomForestClassifier\n",
    "from sklearn.preprocessing import StandardScaler\n",
    "from sklearn.neural_network import MLPClassifier\n",
    "from sklearn.metrics import confusion_matrix, f1_score, classification_report\n",
    "from sklearn.ensemble import VotingClassifier\n",
    "from joblib import dump, load"
   ]
  },
  {
   "cell_type": "code",
   "execution_count": 2,
   "metadata": {
    "slideshow": {
     "slide_type": "skip"
    }
   },
   "outputs": [],
   "source": [
    "def plot_var(col_name, title, continuous, dataset, x1limit=False, x2limit=False, x1l=0, x1u=0, x2l=0, x2u=0):\n",
    "    \"\"\"\n",
    "    Plot a variable against the response variable loan status\n",
    "    - col_name is the variable name in the dataframe\n",
    "    - title is the full variable name\n",
    "    - continuous is True if the variable is continuous, False otherwise\n",
    "    - dataset is the pandas dataframe containing the dataset\n",
    "    \"\"\"\n",
    "    f, (ax1, ax2) = plt.subplots(nrows=1, ncols=2, figsize=(12, 3), dpi=90)\n",
    "\n",
    "    # Plot without loan status\n",
    "    if continuous:\n",
    "        sns.distplot(dataset.loc[dataset[col_name].notnull(), col_name], kde=False, ax=ax1)\n",
    "    else:\n",
    "        sns.countplot(dataset[col_name], order=sorted(dataset[col_name].unique()), color='#4f81bd', saturation=1, ax=ax1)\n",
    "    if x1limit:\n",
    "        ax1.set_xlim([x1l, x1u])\n",
    "    ax1.set_xlabel(title)\n",
    "    ax1.set_ylabel('Frequency')\n",
    "    ax1.set_title(title)\n",
    "\n",
    "    # Plot with loan status\n",
    "    if continuous:\n",
    "        sns.boxplot(x=col_name, y='loan_status', data=dataset, ax=ax2)\n",
    "        ax2.set_ylabel('')\n",
    "        ax2.set_title(title + ' by Loan Status')\n",
    "    else:\n",
    "        charge_off_rates = dataset.groupby(col_name)['loan_status'].value_counts(normalize=True).loc[:, 'Charged Off']\n",
    "        sns.barplot(x=charge_off_rates.index, y=charge_off_rates.values, color='#4f81bd', saturation=1, ax=ax2)\n",
    "        ax2.set_ylabel('Fraction of Loans Charged-off')\n",
    "        ax2.set_title('Charge-off Rate by ' + title)\n",
    "    if x2limit:\n",
    "        ax2.set_xlim([x2l, x2u])\n",
    "    ax2.set_xlabel(title)\n",
    "\n",
    "    plt.tight_layout()\n"
   ]
  },
  {
   "cell_type": "markdown",
   "metadata": {
    "slideshow": {
     "slide_type": "slide"
    }
   },
   "source": [
    "# Preliminary Data Analysis"
   ]
  },
  {
   "cell_type": "code",
   "execution_count": 3,
   "metadata": {
    "slideshow": {
     "slide_type": "skip"
    }
   },
   "outputs": [],
   "source": [
    "# read in the entire raw dataset\n",
    "dataset = pd.read_csv('.\\\\data\\\\Loan Data 2017Q2 Clean.csv', header=0)\n",
    "# pd.set_option('display.max_columns', None)"
   ]
  },
  {
   "cell_type": "code",
   "execution_count": 4,
   "metadata": {
    "slideshow": {
     "slide_type": "subslide"
    }
   },
   "outputs": [
    {
     "data": {
      "text/html": [
       "<div>\n",
       "<style scoped>\n",
       "    .dataframe tbody tr th:only-of-type {\n",
       "        vertical-align: middle;\n",
       "    }\n",
       "\n",
       "    .dataframe tbody tr th {\n",
       "        vertical-align: top;\n",
       "    }\n",
       "\n",
       "    .dataframe thead th {\n",
       "        text-align: right;\n",
       "    }\n",
       "</style>\n",
       "<table border=\"1\" class=\"dataframe\">\n",
       "  <thead>\n",
       "    <tr style=\"text-align: right;\">\n",
       "      <th></th>\n",
       "      <th>loan_amnt</th>\n",
       "      <th>term</th>\n",
       "      <th>int_rate</th>\n",
       "      <th>installment</th>\n",
       "      <th>grade</th>\n",
       "      <th>emp_length</th>\n",
       "      <th>home_ownership</th>\n",
       "      <th>annual_inc</th>\n",
       "      <th>verification_status</th>\n",
       "      <th>loan_status</th>\n",
       "      <th>...</th>\n",
       "      <th>earliest_cr_line</th>\n",
       "      <th>open_acc</th>\n",
       "      <th>pub_rec</th>\n",
       "      <th>revol_bal</th>\n",
       "      <th>revol_util</th>\n",
       "      <th>total_acc</th>\n",
       "      <th>initial_list_status</th>\n",
       "      <th>application_type</th>\n",
       "      <th>mort_acc</th>\n",
       "      <th>pub_rec_bankruptcies</th>\n",
       "    </tr>\n",
       "  </thead>\n",
       "  <tbody>\n",
       "    <tr>\n",
       "      <th>0</th>\n",
       "      <td>5000</td>\n",
       "      <td>36 months</td>\n",
       "      <td>7.35%</td>\n",
       "      <td>155.19</td>\n",
       "      <td>A</td>\n",
       "      <td>5 years</td>\n",
       "      <td>MORTGAGE</td>\n",
       "      <td>60000.0</td>\n",
       "      <td>Not Verified</td>\n",
       "      <td>Fully Paid</td>\n",
       "      <td>...</td>\n",
       "      <td>Oct-04</td>\n",
       "      <td>12</td>\n",
       "      <td>0</td>\n",
       "      <td>3697</td>\n",
       "      <td>13.20%</td>\n",
       "      <td>25</td>\n",
       "      <td>w</td>\n",
       "      <td>Individual</td>\n",
       "      <td>1</td>\n",
       "      <td>0</td>\n",
       "    </tr>\n",
       "    <tr>\n",
       "      <th>1</th>\n",
       "      <td>7500</td>\n",
       "      <td>36 months</td>\n",
       "      <td>7.35%</td>\n",
       "      <td>232.79</td>\n",
       "      <td>A</td>\n",
       "      <td>7 years</td>\n",
       "      <td>MORTGAGE</td>\n",
       "      <td>110000.0</td>\n",
       "      <td>Not Verified</td>\n",
       "      <td>Fully Paid</td>\n",
       "      <td>...</td>\n",
       "      <td>Mar-13</td>\n",
       "      <td>19</td>\n",
       "      <td>0</td>\n",
       "      <td>23348</td>\n",
       "      <td>27.20%</td>\n",
       "      <td>27</td>\n",
       "      <td>w</td>\n",
       "      <td>Individual</td>\n",
       "      <td>4</td>\n",
       "      <td>0</td>\n",
       "    </tr>\n",
       "    <tr>\n",
       "      <th>2</th>\n",
       "      <td>9600</td>\n",
       "      <td>36 months</td>\n",
       "      <td>7.97%</td>\n",
       "      <td>300.70</td>\n",
       "      <td>A</td>\n",
       "      <td>&lt; 1 year</td>\n",
       "      <td>OWN</td>\n",
       "      <td>140000.0</td>\n",
       "      <td>Not Verified</td>\n",
       "      <td>Fully Paid</td>\n",
       "      <td>...</td>\n",
       "      <td>Aug-05</td>\n",
       "      <td>16</td>\n",
       "      <td>0</td>\n",
       "      <td>11808</td>\n",
       "      <td>48.60%</td>\n",
       "      <td>44</td>\n",
       "      <td>w</td>\n",
       "      <td>Individual</td>\n",
       "      <td>3</td>\n",
       "      <td>0</td>\n",
       "    </tr>\n",
       "    <tr>\n",
       "      <th>3</th>\n",
       "      <td>2000</td>\n",
       "      <td>36 months</td>\n",
       "      <td>7.07%</td>\n",
       "      <td>61.82</td>\n",
       "      <td>A</td>\n",
       "      <td>2 years</td>\n",
       "      <td>RENT</td>\n",
       "      <td>80000.0</td>\n",
       "      <td>Not Verified</td>\n",
       "      <td>Fully Paid</td>\n",
       "      <td>...</td>\n",
       "      <td>Apr-05</td>\n",
       "      <td>9</td>\n",
       "      <td>0</td>\n",
       "      <td>38</td>\n",
       "      <td>0.30%</td>\n",
       "      <td>12</td>\n",
       "      <td>w</td>\n",
       "      <td>Individual</td>\n",
       "      <td>0</td>\n",
       "      <td>0</td>\n",
       "    </tr>\n",
       "    <tr>\n",
       "      <th>4</th>\n",
       "      <td>7200</td>\n",
       "      <td>36 months</td>\n",
       "      <td>24.85%</td>\n",
       "      <td>285.70</td>\n",
       "      <td>E</td>\n",
       "      <td>2 years</td>\n",
       "      <td>RENT</td>\n",
       "      <td>50000.0</td>\n",
       "      <td>Source Verified</td>\n",
       "      <td>Fully Paid</td>\n",
       "      <td>...</td>\n",
       "      <td>Jan-00</td>\n",
       "      <td>4</td>\n",
       "      <td>0</td>\n",
       "      <td>3560</td>\n",
       "      <td>98.90%</td>\n",
       "      <td>5</td>\n",
       "      <td>w</td>\n",
       "      <td>Individual</td>\n",
       "      <td>0</td>\n",
       "      <td>0</td>\n",
       "    </tr>\n",
       "  </tbody>\n",
       "</table>\n",
       "<p>5 rows × 23 columns</p>\n",
       "</div>"
      ],
      "text/plain": [
       "   loan_amnt        term int_rate  installment grade emp_length  \\\n",
       "0       5000   36 months    7.35%       155.19     A    5 years   \n",
       "1       7500   36 months    7.35%       232.79     A    7 years   \n",
       "2       9600   36 months    7.97%       300.70     A   < 1 year   \n",
       "3       2000   36 months    7.07%        61.82     A    2 years   \n",
       "4       7200   36 months   24.85%       285.70     E    2 years   \n",
       "\n",
       "  home_ownership  annual_inc verification_status loan_status  \\\n",
       "0       MORTGAGE     60000.0        Not Verified  Fully Paid   \n",
       "1       MORTGAGE    110000.0        Not Verified  Fully Paid   \n",
       "2            OWN    140000.0        Not Verified  Fully Paid   \n",
       "3           RENT     80000.0        Not Verified  Fully Paid   \n",
       "4           RENT     50000.0     Source Verified  Fully Paid   \n",
       "\n",
       "          ...          earliest_cr_line  open_acc  pub_rec revol_bal  \\\n",
       "0         ...                    Oct-04        12        0      3697   \n",
       "1         ...                    Mar-13        19        0     23348   \n",
       "2         ...                    Aug-05        16        0     11808   \n",
       "3         ...                    Apr-05         9        0        38   \n",
       "4         ...                    Jan-00         4        0      3560   \n",
       "\n",
       "   revol_util  total_acc  initial_list_status application_type  mort_acc  \\\n",
       "0      13.20%         25                    w       Individual         1   \n",
       "1      27.20%         27                    w       Individual         4   \n",
       "2      48.60%         44                    w       Individual         3   \n",
       "3       0.30%         12                    w       Individual         0   \n",
       "4      98.90%          5                    w       Individual         0   \n",
       "\n",
       "  pub_rec_bankruptcies  \n",
       "0                    0  \n",
       "1                    0  \n",
       "2                    0  \n",
       "3                    0  \n",
       "4                    0  \n",
       "\n",
       "[5 rows x 23 columns]"
      ]
     },
     "execution_count": 4,
     "metadata": {},
     "output_type": "execute_result"
    }
   ],
   "source": [
    "dataset.head()"
   ]
  },
  {
   "cell_type": "code",
   "execution_count": 5,
   "metadata": {
    "slideshow": {
     "slide_type": "skip"
    }
   },
   "outputs": [
    {
     "name": "stdout",
     "output_type": "stream",
     "text": [
      "Fully Paid     29145\n",
      "Charged Off     8625\n",
      "Name: loan_status, dtype: int64\n",
      "Fully Paid     0.771644\n",
      "Charged Off    0.228356\n",
      "Name: loan_status, dtype: float64\n",
      "(37770, 23)\n"
     ]
    }
   ],
   "source": [
    "# Look at how many of each response variable we have\n",
    "print(dataset['loan_status'].value_counts(dropna=False))\n",
    "print(dataset['loan_status'].value_counts(normalize=True, dropna=False))\n",
    "print(dataset.shape)"
   ]
  },
  {
   "cell_type": "markdown",
   "metadata": {
    "slideshow": {
     "slide_type": "subslide"
    }
   },
   "source": [
    "| Status     | Count | Percentage |\n",
    "| -----------|:-----:|:----------:|\n",
    "| Fully Paid | 29145 | 77% |\n",
    "| Charged Off | 8625 | 23% |\n",
    "\n",
    "37770 rows x 25 Columns"
   ]
  },
  {
   "cell_type": "markdown",
   "metadata": {
    "slideshow": {
     "slide_type": "fragment"
    }
   },
   "source": [
    "A list of percentage of missing values in a column"
   ]
  },
  {
   "cell_type": "code",
   "execution_count": 6,
   "metadata": {
    "slideshow": {
     "slide_type": "fragment"
    }
   },
   "outputs": [
    {
     "data": {
      "text/plain": [
       "emp_length    0.065078\n",
       "revol_util    0.000688\n",
       "dti           0.000635\n",
       "dtype: float64"
      ]
     },
     "execution_count": 6,
     "metadata": {},
     "output_type": "execute_result"
    }
   ],
   "source": [
    "missing_values = ((dataset.isna().sum()) / len(dataset.index)).sort_values(ascending=False)\n",
    "missing_values[missing_values > 0]"
   ]
  },
  {
   "cell_type": "code",
   "execution_count": 7,
   "metadata": {
    "scrolled": true,
    "slideshow": {
     "slide_type": "skip"
    }
   },
   "outputs": [
    {
     "name": "stdout",
     "output_type": "stream",
     "text": [
      "loan_amnt                 int64\n",
      "term                     object\n",
      "int_rate                 object\n",
      "installment             float64\n",
      "grade                    object\n",
      "emp_length               object\n",
      "home_ownership           object\n",
      "annual_inc              float64\n",
      "verification_status      object\n",
      "loan_status              object\n",
      "purpose                  object\n",
      "dti                     float64\n",
      "delinq_2yrs               int64\n",
      "earliest_cr_line         object\n",
      "open_acc                  int64\n",
      "pub_rec                   int64\n",
      "revol_bal                 int64\n",
      "revol_util               object\n",
      "total_acc                 int64\n",
      "initial_list_status      object\n",
      "application_type         object\n",
      "mort_acc                  int64\n",
      "pub_rec_bankruptcies      int64\n",
      "dtype: object\n"
     ]
    }
   ],
   "source": [
    "# Look at the data type of each column\n",
    "print(dataset.dtypes)"
   ]
  },
  {
   "cell_type": "markdown",
   "metadata": {
    "slideshow": {
     "slide_type": "subslide"
    }
   },
   "source": [
    "| Variable | Type |\n",
    "| ---------|:----:|\n",
    "| Loan Amount | Numerical |\n",
    "| Term | Categorical |\n",
    "| Interest Rate | Numerical |\n",
    "| Installment | Numerical |\n",
    "| Grade | Categorical |\n",
    "| Employment Length | Numerical |\n",
    "| Home Ownership | Categorical |\n",
    "| Annual Income | Numerical |\n",
    "| Verification Status | Categorical |\n",
    "| Loan Status| Categorical |\n",
    "| Purpose | Categorical |\n",
    "| Debt-to-Income Ratio | Numerical |\n",
    "| Delinquency | Categorical |\n",
    "| Earliest Credit Line | Numerical |\n",
    "| Open Accounts | Numerical |\n",
    "| Public Records | Categorical |\n",
    "| Revolving Balance | Numerical |\n",
    "| Revolving Utility | Numerical |\n",
    "| Total Account | Numerical |\n",
    "| Initial List Status | Categorical |\n",
    "| Application Type | Categorical |\n",
    "| Mortage Account | Numerical |\n",
    "| Public Record of Bankruptcies | Categorical |"
   ]
  },
  {
   "cell_type": "markdown",
   "metadata": {
    "slideshow": {
     "slide_type": "slide"
    }
   },
   "source": [
    "# Exploratory Data Analysis"
   ]
  },
  {
   "cell_type": "markdown",
   "metadata": {
    "slideshow": {
     "slide_type": "subslide"
    }
   },
   "source": [
    "### Annual Income (Numerical)\n",
    "The self-reported annual income provided by the borrower during registration"
   ]
  },
  {
   "cell_type": "code",
   "execution_count": 8,
   "metadata": {
    "slideshow": {
     "slide_type": "skip"
    }
   },
   "outputs": [
    {
     "name": "stdout",
     "output_type": "stream",
     "text": [
      "               count          mean           std  min      25%      50%  \\\n",
      "loan_status                                                               \n",
      "Charged Off   8625.0  73189.649769  46186.090717  0.0  45000.0  63000.0   \n",
      "Fully Paid   29145.0  80899.315013  69096.968024  0.0  49000.0  69000.0   \n",
      "\n",
      "                 75%        max  \n",
      "loan_status                      \n",
      "Charged Off  90000.0   900000.0  \n",
      "Fully Paid   97133.0  5616890.0  \n"
     ]
    }
   ],
   "source": [
    "print(dataset.groupby('loan_status')['annual_inc'].describe())\n",
    "\n"
   ]
  },
  {
   "cell_type": "code",
   "execution_count": 9,
   "metadata": {
    "slideshow": {
     "slide_type": "fragment"
    }
   },
   "outputs": [
    {
     "data": {
      "image/png": "[encoded data removed]",
      "text/plain": [
       "<Figure size 1080x270 with 2 Axes>"
      ]
     },
     "metadata": {
      "needs_background": "light"
     },
     "output_type": "display_data"
    }
   ],
   "source": [
    "plot_var('annual_inc', 'Annual Income $', continuous=True, dataset=dataset,\n",
    "         x1limit=True, x2limit=True, x1l=-1, x1u=350000, x2l=-1, x2u=200000)"
   ]
  },
  {
   "cell_type": "code",
   "execution_count": 10,
   "metadata": {
    "slideshow": {
     "slide_type": "skip"
    }
   },
   "outputs": [
    {
     "name": "stdout",
     "output_type": "stream",
     "text": [
      "               count       mean       std  min        25%        50%  \\\n",
      "loan_status                                                            \n",
      "Charged Off   8625.0  11.046253  0.602620  0.0  10.714440  11.050906   \n",
      "Fully Paid   29145.0  11.129532  0.625351  0.0  10.799596  11.141876   \n",
      "\n",
      "                   75%        max  \n",
      "loan_status                        \n",
      "Charged Off  11.407576  13.710151  \n",
      "Fully Paid   11.483847  15.541289  \n"
     ]
    }
   ],
   "source": [
    "# Because the plot is right skewed we take a log transform of the annual income\n",
    "dataset['log_annual_inc'] = dataset['annual_inc'].apply(lambda x: np.log(x + 1))\n",
    "dataset.drop('annual_inc', axis=1, inplace=True)\n",
    "print(dataset.groupby('loan_status')['log_annual_inc'].describe())"
   ]
  },
  {
   "cell_type": "code",
   "execution_count": 11,
   "metadata": {
    "slideshow": {
     "slide_type": "fragment"
    }
   },
   "outputs": [
    {
     "data": {
      "image/png": "[encoded data removed]",
      "text/plain": [
       "<Figure size 1080x270 with 2 Axes>"
      ]
     },
     "metadata": {
      "needs_background": "light"
     },
     "output_type": "display_data"
    }
   ],
   "source": [
    "plot_var('log_annual_inc', 'Log Annual Income', continuous=True, dataset=dataset,\n",
    "         x1limit=True, x2limit=True, x1l=9, x1u=14, x2l=9, x2u=14)"
   ]
  },
  {
   "cell_type": "markdown",
   "metadata": {
    "slideshow": {
     "slide_type": "fragment"
    }
   },
   "source": [
    "It seems that those with higher annual income are less risk"
   ]
  },
  {
   "cell_type": "markdown",
   "metadata": {
    "slideshow": {
     "slide_type": "skip"
    }
   },
   "source": [
    "### Application Type (Categorical)\n",
    "Indicates whether the loan is an individual application or a joint application with two co-borrowers"
   ]
  },
  {
   "cell_type": "code",
   "execution_count": 12,
   "metadata": {
    "slideshow": {
     "slide_type": "skip"
    }
   },
   "outputs": [
    {
     "name": "stdout",
     "output_type": "stream",
     "text": [
      "loan_status  application_type\n",
      "Charged Off  Individual           8073\n",
      "             Joint App             552\n",
      "Fully Paid   Individual          27609\n",
      "             Joint App            1536\n",
      "Name: application_type, dtype: int64\n"
     ]
    },
    {
     "data": {
      "image/png": "[encoded data removed]",
      "text/plain": [
       "<Figure size 1080x270 with 2 Axes>"
      ]
     },
     "metadata": {
      "needs_background": "light"
     },
     "output_type": "display_data"
    }
   ],
   "source": [
    "print(dataset.groupby('loan_status')['application_type'].value_counts(dropna=False))\n",
    "plot_var('application_type', 'Application Type', continuous=False, dataset=dataset)"
   ]
  },
  {
   "cell_type": "markdown",
   "metadata": {
    "slideshow": {
     "slide_type": "skip"
    }
   },
   "source": [
    "There does not seem to be a strong correlation between risk and application_type. Both risk around the same percentage."
   ]
  },
  {
   "cell_type": "markdown",
   "metadata": {
    "slideshow": {
     "slide_type": "skip"
    }
   },
   "source": [
    "### Debt to Income Ratio (Numerical)\n",
    "A ratio calculated using the borrower’s total monthly debt payments on the total debt obligations, excluding mortgage and the requested LC loan, divided by the borrower’s self-reported monthly income"
   ]
  },
  {
   "cell_type": "code",
   "execution_count": 13,
   "metadata": {
    "slideshow": {
     "slide_type": "skip"
    }
   },
   "outputs": [
    {
     "name": "stdout",
     "output_type": "stream",
     "text": [
      "               count       mean        std  min    25%     50%    75%    max\n",
      "loan_status                                                                 \n",
      "Charged Off   8620.0  20.538085  11.553504  0.0  13.86  20.185  26.55  532.0\n",
      "Fully Paid   29126.0  18.066659  13.751295  0.0  11.48  17.190  23.52  999.0\n"
     ]
    },
    {
     "data": {
      "image/png": "[encoded data removed]",
      "text/plain": [
       "<Figure size 1080x270 with 2 Axes>"
      ]
     },
     "metadata": {
      "needs_background": "light"
     },
     "output_type": "display_data"
    }
   ],
   "source": [
    "# dummy = dataset.loc[dataset['dti'].notnull() & (dataset['dti']<60), 'dti']\n",
    "print(dataset.groupby('loan_status')['dti'].describe())\n",
    "plot_var('dti', 'Debt To Income Ratio', continuous=True, dataset=dataset,\n",
    "         x1limit=True, x2limit=True, x1l=0, x1u=40, x2l=0, x2u=60)\n",
    "# sns.distplot(dataset.loc[dataset['dti'].notnull() & (dataset['dti']<60), 'dti'], kde=False)\n",
    "# plt.xlabel('Debt-to-income Ratio')\n",
    "# plt.ylabel('Count')\n",
    "# plt.title('Debt-to-income Ratio')"
   ]
  },
  {
   "cell_type": "markdown",
   "metadata": {
    "slideshow": {
     "slide_type": "skip"
    }
   },
   "source": [
    "It seems that a higher debt to income ratio has a higher probability of charged off"
   ]
  },
  {
   "cell_type": "markdown",
   "metadata": {
    "slideshow": {
     "slide_type": "skip"
    }
   },
   "source": [
    "### Delinquency (Categorical)\n",
    "The number of 30+ days past-due incidences of delinquency in the borrower's credit file for the past 2 years"
   ]
  },
  {
   "cell_type": "code",
   "execution_count": 14,
   "metadata": {
    "slideshow": {
     "slide_type": "skip"
    }
   },
   "outputs": [
    {
     "name": "stdout",
     "output_type": "stream",
     "text": [
      "loan_status  delinq_2yrs\n",
      "Charged Off  0               6756\n",
      "             1               1206\n",
      "             2                663\n",
      "Fully Paid   0              23444\n",
      "             1               3817\n",
      "             2               1884\n",
      "Name: delinq_2yrs, dtype: int64\n"
     ]
    },
    {
     "data": {
      "image/png": "[encoded data removed]",
      "text/plain": [
       "<Figure size 1080x270 with 2 Axes>"
      ]
     },
     "metadata": {
      "needs_background": "light"
     },
     "output_type": "display_data"
    }
   ],
   "source": [
    "dataset['delinq_2yrs'].values[dataset['delinq_2yrs'] > 1] = 2\n",
    "print(dataset.groupby('loan_status')['delinq_2yrs'].value_counts(dropna=False))\n",
    "plot_var('delinq_2yrs', 'Number of Delinquencies', continuous=False, dataset=dataset)"
   ]
  },
  {
   "cell_type": "markdown",
   "metadata": {
    "slideshow": {
     "slide_type": "skip"
    }
   },
   "source": [
    "There seems to be an increasing trend in charge-off rate and increasing number of delinquencies but it is small. Whether or not this is significant remains to be seen."
   ]
  },
  {
   "cell_type": "markdown",
   "metadata": {
    "slideshow": {
     "slide_type": "skip"
    }
   },
   "source": [
    "### Earliest Credit Line (Numerical)\n",
    "The month the borrower's earliest reported credit line was opened."
   ]
  },
  {
   "cell_type": "code",
   "execution_count": 15,
   "metadata": {
    "slideshow": {
     "slide_type": "skip"
    }
   },
   "outputs": [
    {
     "name": "stdout",
     "output_type": "stream",
     "text": [
      "               count         mean       std     min     25%     50%     75%  \\\n",
      "loan_status                                                                   \n",
      "Charged Off   8625.0  2001.169855  7.686851  1957.0  1998.0  2003.0  2006.0   \n",
      "Fully Paid   29145.0  2000.470647  7.565745  1958.0  1997.0  2002.0  2005.0   \n",
      "\n",
      "                max  \n",
      "loan_status          \n",
      "Charged Off  2014.0  \n",
      "Fully Paid   2014.0  \n"
     ]
    },
    {
     "data": {
      "image/png": "[encoded data removed]",
      "text/plain": [
       "<Figure size 1080x270 with 2 Axes>"
      ]
     },
     "metadata": {
      "needs_background": "light"
     },
     "output_type": "display_data"
    }
   ],
   "source": [
    "# dataset['earliest_cr_line'] = pd.to_datetime(dataset['earliest_cr_line'], format='%b-%y').dt.year\n",
    "dataset['earliest_cr_line'] = dataset['earliest_cr_line'].apply(lambda s: int(s[-2:]))\n",
    "dataset.loc[dataset['earliest_cr_line'] > 20, 'earliest_cr_line'] += 1900\n",
    "dataset.loc[dataset['earliest_cr_line'] < 20, 'earliest_cr_line'] += 2000\n",
    "print(dataset.groupby('loan_status')['earliest_cr_line'].describe())\n",
    "plot_var('earliest_cr_line', 'Earliest Credit Line', continuous=True, dataset=dataset)"
   ]
  },
  {
   "cell_type": "markdown",
   "metadata": {
    "slideshow": {
     "slide_type": "skip"
    }
   },
   "source": [
    "It seems that those with an earlier credit line are more likely to be less risk"
   ]
  },
  {
   "cell_type": "markdown",
   "metadata": {
    "slideshow": {
     "slide_type": "skip"
    }
   },
   "source": [
    "### Employment Length (Numerical)\n",
    "Employment length in years. Possible values are between 0 and 10 where 0 means less than one year and 10 means ten or more years."
   ]
  },
  {
   "cell_type": "code",
   "execution_count": 16,
   "metadata": {
    "slideshow": {
     "slide_type": "skip"
    }
   },
   "outputs": [
    {
     "name": "stdout",
     "output_type": "stream",
     "text": [
      "loan_status  emp_length\n",
      "Charged Off  0.0             840\n",
      "             1.0             611\n",
      "             2.0             853\n",
      "             3.0             743\n",
      "             4.0             517\n",
      "             5.0             506\n",
      "             6.0             305\n",
      "             7.0             304\n",
      "             8.0             285\n",
      "             9.0             287\n",
      "             10.0           2609\n",
      "             NaN             765\n",
      "Fully Paid   0.0            2454\n",
      "             1.0            1879\n",
      "             2.0            2654\n",
      "             3.0            2349\n",
      "             4.0            1793\n",
      "             5.0            1788\n",
      "             6.0            1311\n",
      "             7.0            1054\n",
      "             8.0             856\n",
      "             9.0            1101\n",
      "             10.0          10213\n",
      "             NaN            1693\n",
      "Name: emp_length, dtype: int64\n"
     ]
    },
    {
     "data": {
      "image/png": "[encoded data removed]",
      "text/plain": [
       "<Figure size 1080x270 with 2 Axes>"
      ]
     },
     "metadata": {
      "needs_background": "light"
     },
     "output_type": "display_data"
    }
   ],
   "source": [
    "dataset['emp_length'].replace('< 1 year', 0, inplace=True)\n",
    "dataset['emp_length'].replace('1 year', 1, inplace=True)\n",
    "dataset['emp_length'].replace('2 years', 2, inplace=True)\n",
    "dataset['emp_length'].replace('3 years', 3, inplace=True)\n",
    "dataset['emp_length'].replace('4 years', 4, inplace=True)\n",
    "dataset['emp_length'].replace('5 years', 5, inplace=True)\n",
    "dataset['emp_length'].replace('6 years', 6, inplace=True)\n",
    "dataset['emp_length'].replace('7 years', 7, inplace=True)\n",
    "dataset['emp_length'].replace('8 years', 8, inplace=True)\n",
    "dataset['emp_length'].replace('9 years', 9, inplace=True)\n",
    "dataset['emp_length'].replace('10+ years', 10, inplace=True)\n",
    "print(dataset.groupby('loan_status')['emp_length'].value_counts(dropna=False).sort_index())\n",
    "plot_var('emp_length', 'Employment Length by Year', continuous=False, dataset=dataset)"
   ]
  },
  {
   "cell_type": "markdown",
   "metadata": {
    "slideshow": {
     "slide_type": "skip"
    }
   },
   "source": [
    "Doesn't seem to be much of a significant pattern here"
   ]
  },
  {
   "cell_type": "markdown",
   "metadata": {
    "slideshow": {
     "slide_type": "skip"
    }
   },
   "source": [
    "### Home Ownership (Categorical)\n",
    "The home ownership status provided by the borrower during registration or obtained from the credit report."
   ]
  },
  {
   "cell_type": "code",
   "execution_count": 17,
   "metadata": {
    "slideshow": {
     "slide_type": "skip"
    }
   },
   "outputs": [
    {
     "name": "stdout",
     "output_type": "stream",
     "text": [
      "loan_status  home_ownership\n",
      "Charged Off  RENT               3932\n",
      "             MORTGAGE           3654\n",
      "             OWN                1039\n",
      "Fully Paid   MORTGAGE          15651\n",
      "             RENT              10149\n",
      "             OWN                3345\n",
      "Name: home_ownership, dtype: int64\n"
     ]
    },
    {
     "data": {
      "image/png": "[encoded data removed]",
      "text/plain": [
       "<Figure size 1080x270 with 2 Axes>"
      ]
     },
     "metadata": {
      "needs_background": "light"
     },
     "output_type": "display_data"
    }
   ],
   "source": [
    "# dataset['home_ownership'].replace(['NONE', 'ANY'], 'NaN', inplace=True)\n",
    "print(dataset.groupby('loan_status')['home_ownership'].value_counts(dropna=False))\n",
    "plot_var('home_ownership', 'Home Ownership', continuous=False, dataset=dataset)\n",
    "# dataset['home_ownership'].replace('NaN', np.nan, inplace=True)"
   ]
  },
  {
   "cell_type": "markdown",
   "metadata": {
    "slideshow": {
     "slide_type": "skip"
    }
   },
   "source": [
    "Interestingly those with a mortgage are more likely to pay off loans and those who rent are the least likely"
   ]
  },
  {
   "cell_type": "markdown",
   "metadata": {
    "slideshow": {
     "slide_type": "skip"
    }
   },
   "source": [
    "### Initial List Status (Categorical)\n",
    "The initial listing status of the loan. Possible values are – W, F"
   ]
  },
  {
   "cell_type": "code",
   "execution_count": 18,
   "metadata": {
    "slideshow": {
     "slide_type": "skip"
    }
   },
   "outputs": [
    {
     "name": "stdout",
     "output_type": "stream",
     "text": [
      "loan_status  initial_list_status\n",
      "Charged Off  w                       5999\n",
      "             f                       2626\n",
      "Fully Paid   w                      21390\n",
      "             f                       7755\n",
      "Name: initial_list_status, dtype: int64\n"
     ]
    },
    {
     "data": {
      "image/png": "[encoded data removed]",
      "text/plain": [
       "<Figure size 1080x270 with 2 Axes>"
      ]
     },
     "metadata": {
      "needs_background": "light"
     },
     "output_type": "display_data"
    }
   ],
   "source": [
    "print(dataset.groupby('loan_status')['initial_list_status'].value_counts(dropna=False))\n",
    "plot_var('initial_list_status', 'Initial List Status', continuous=False, dataset=dataset)"
   ]
  },
  {
   "cell_type": "markdown",
   "metadata": {
    "slideshow": {
     "slide_type": "skip"
    }
   },
   "source": [
    "Theres does not seem to be much information gained from Initial List status"
   ]
  },
  {
   "cell_type": "markdown",
   "metadata": {
    "slideshow": {
     "slide_type": "subslide"
    }
   },
   "source": [
    "### Installment (Numerical)\n",
    "The monthly payment owed by the borrower if the loan originates."
   ]
  },
  {
   "cell_type": "code",
   "execution_count": 19,
   "metadata": {
    "slideshow": {
     "slide_type": "skip"
    }
   },
   "outputs": [
    {
     "name": "stdout",
     "output_type": "stream",
     "text": [
      "               count        mean         std    min     25%     50%     75%  \\\n",
      "loan_status                                                                   \n",
      "Charged Off   8625.0  483.633490  300.351212  31.04  263.78  398.52  649.96   \n",
      "Fully Paid   29145.0  420.773546  281.422908  30.12  212.75  341.41  559.44   \n",
      "\n",
      "                 max  \n",
      "loan_status           \n",
      "Charged Off  1566.80  \n",
      "Fully Paid   1587.23  \n"
     ]
    }
   ],
   "source": [
    "print(dataset.groupby('loan_status')['installment'].describe())"
   ]
  },
  {
   "cell_type": "code",
   "execution_count": 20,
   "metadata": {
    "slideshow": {
     "slide_type": "fragment"
    }
   },
   "outputs": [
    {
     "data": {
      "image/png": "[encoded data removed]",
      "text/plain": [
       "<Figure size 1080x270 with 2 Axes>"
      ]
     },
     "metadata": {
      "needs_background": "light"
     },
     "output_type": "display_data"
    }
   ],
   "source": [
    "plot_var('installment', 'Installment', continuous=True, dataset=dataset)"
   ]
  },
  {
   "cell_type": "code",
   "execution_count": 21,
   "metadata": {
    "slideshow": {
     "slide_type": "skip"
    }
   },
   "outputs": [
    {
     "name": "stdout",
     "output_type": "stream",
     "text": [
      "               count      mean       std       min       25%       50%  \\\n",
      "loan_status                                                              \n",
      "Charged Off   8625.0  5.975791  0.685506  3.466985  5.578899  5.990264   \n",
      "Fully Paid   29145.0  5.811583  0.722315  3.437851  5.364807  5.836009   \n",
      "\n",
      "                  75%       max  \n",
      "loan_status                      \n",
      "Charged Off  6.478448  7.357429  \n",
      "Fully Paid   6.328722  7.370375  \n"
     ]
    }
   ],
   "source": [
    "# since the plot is left skewed, we take the log transformation\n",
    "dataset['log_installment'] = dataset['installment'].apply(lambda x: np.log(x + 1))\n",
    "dataset.drop('installment', axis=1, inplace=True)\n",
    "print(dataset.groupby('loan_status')['log_installment'].describe())"
   ]
  },
  {
   "cell_type": "code",
   "execution_count": 22,
   "metadata": {
    "slideshow": {
     "slide_type": "fragment"
    }
   },
   "outputs": [
    {
     "data": {
      "image/png": "[encoded data removed]",
      "text/plain": [
       "<Figure size 1080x270 with 2 Axes>"
      ]
     },
     "metadata": {
      "needs_background": "light"
     },
     "output_type": "display_data"
    }
   ],
   "source": [
    "plot_var('log_installment', 'Log Installment', continuous=True, dataset=dataset)"
   ]
  },
  {
   "cell_type": "markdown",
   "metadata": {
    "slideshow": {
     "slide_type": "fragment"
    }
   },
   "source": [
    "It seems those with higher installments are more likely to be charged off"
   ]
  },
  {
   "cell_type": "markdown",
   "metadata": {
    "slideshow": {
     "slide_type": "subslide"
    }
   },
   "source": [
    "### Interest Rate (Numerical)\n",
    "Interest Rate on the loan"
   ]
  },
  {
   "cell_type": "code",
   "execution_count": 23,
   "metadata": {
    "slideshow": {
     "slide_type": "fragment"
    }
   },
   "outputs": [
    {
     "name": "stdout",
     "output_type": "stream",
     "text": [
      "               count       mean       std   min    25%    50%    75%    max\n",
      "loan_status                                                                \n",
      "Charged Off   8625.0  16.636369  6.005821  5.32  12.62  15.05  19.03  30.99\n",
      "Fully Paid   29145.0  13.215077  5.276465  5.32   9.93  12.62  15.99  30.99\n"
     ]
    },
    {
     "data": {
      "image/png": "[encoded data removed]",
      "text/plain": [
       "<Figure size 1080x270 with 2 Axes>"
      ]
     },
     "metadata": {
      "needs_background": "light"
     },
     "output_type": "display_data"
    }
   ],
   "source": [
    "dataset['int_rate'] = dataset['int_rate'].str.rstrip('%').astype('float')\n",
    "print(dataset.groupby('loan_status')['int_rate'].describe())\n",
    "plot_var('int_rate', 'Interest Rate', continuous=True, dataset=dataset)"
   ]
  },
  {
   "cell_type": "markdown",
   "metadata": {
    "slideshow": {
     "slide_type": "fragment"
    }
   },
   "source": [
    "There seems to be a much higher interest rate on average for loans that charge off"
   ]
  },
  {
   "cell_type": "markdown",
   "metadata": {
    "slideshow": {
     "slide_type": "subslide"
    }
   },
   "source": [
    "### Loan Amount (Numerical)\n",
    "The listed amount of the loan applied for by the borrower. If at some point in time, the credit department reduces the loan amount, then it will be reflected in this value."
   ]
  },
  {
   "cell_type": "code",
   "execution_count": 24,
   "metadata": {
    "slideshow": {
     "slide_type": "skip"
    }
   },
   "outputs": [
    {
     "name": "stdout",
     "output_type": "stream",
     "text": [
      "               count          mean          std     min     25%      50%  \\\n",
      "loan_status                                                                \n",
      "Charged Off   8625.0  15452.168116  9447.032934  1000.0  8000.0  14000.0   \n",
      "Fully Paid   29145.0  13690.972723  9244.813927  1000.0  6400.0  11200.0   \n",
      "\n",
      "                 75%      max  \n",
      "loan_status                    \n",
      "Charged Off  21000.0  40000.0  \n",
      "Fully Paid   19200.0  40000.0  \n"
     ]
    }
   ],
   "source": [
    "print(dataset.groupby('loan_status')['loan_amnt'].describe())"
   ]
  },
  {
   "cell_type": "code",
   "execution_count": 25,
   "metadata": {
    "slideshow": {
     "slide_type": "fragment"
    }
   },
   "outputs": [
    {
     "data": {
      "image/png": "[encoded data removed]",
      "text/plain": [
       "<Figure size 1080x270 with 2 Axes>"
      ]
     },
     "metadata": {
      "needs_background": "light"
     },
     "output_type": "display_data"
    }
   ],
   "source": [
    "plot_var('loan_amnt', 'Loan Amount', continuous=True, dataset=dataset)"
   ]
  },
  {
   "cell_type": "markdown",
   "metadata": {
    "slideshow": {
     "slide_type": "fragment"
    }
   },
   "source": [
    "It seems charged off loans have a higher loan amount"
   ]
  },
  {
   "cell_type": "markdown",
   "metadata": {
    "slideshow": {
     "slide_type": "skip"
    }
   },
   "source": [
    "### Mortgage Accounts (Numerical)\n",
    "Number of mortgage accounts"
   ]
  },
  {
   "cell_type": "code",
   "execution_count": 26,
   "metadata": {
    "slideshow": {
     "slide_type": "skip"
    }
   },
   "outputs": [
    {
     "name": "stdout",
     "output_type": "stream",
     "text": [
      "loan_status  mort_acc\n",
      "Charged Off  0            4295\n",
      "             1            1629\n",
      "             2            1193\n",
      "             3             710\n",
      "             4             405\n",
      "             5             215\n",
      "             6             108\n",
      "             7              43\n",
      "             8              13\n",
      "             9              11\n",
      "             10              3\n",
      "Fully Paid   0           11003\n",
      "             1            5592\n",
      "             2            4767\n",
      "             3            3288\n",
      "             4            2163\n",
      "             5            1118\n",
      "             6             608\n",
      "             7             290\n",
      "             8             171\n",
      "             10             80\n",
      "             9              65\n",
      "Name: mort_acc, dtype: int64\n"
     ]
    },
    {
     "data": {
      "image/png": "[encoded data removed]",
      "text/plain": [
       "<Figure size 1080x270 with 2 Axes>"
      ]
     },
     "metadata": {
      "needs_background": "light"
     },
     "output_type": "display_data"
    }
   ],
   "source": [
    "dataset.loc[dataset['mort_acc'] > 9, 'mort_acc'] = 10\n",
    "print(dataset.groupby('loan_status')['mort_acc'].value_counts(dropna=False))\n",
    "plot_var('mort_acc', 'Mortgage Accounts', continuous=True, dataset=dataset)"
   ]
  },
  {
   "cell_type": "markdown",
   "metadata": {
    "slideshow": {
     "slide_type": "skip"
    }
   },
   "source": [
    "Currently there does not seem to be a significant difference"
   ]
  },
  {
   "cell_type": "markdown",
   "metadata": {
    "slideshow": {
     "slide_type": "skip"
    }
   },
   "source": [
    "### Open Account (Numerical)\n",
    "The number of open credit lines in the borrower's credit file."
   ]
  },
  {
   "cell_type": "code",
   "execution_count": 27,
   "metadata": {
    "slideshow": {
     "slide_type": "skip"
    }
   },
   "outputs": [
    {
     "name": "stdout",
     "output_type": "stream",
     "text": [
      "               count       mean       std  min  25%   50%   75%   max\n",
      "loan_status                                                          \n",
      "Charged Off   8625.0  11.992696  5.818954  1.0  8.0  11.0  15.0  68.0\n",
      "Fully Paid   29145.0  11.825630  5.743959  0.0  8.0  11.0  15.0  88.0\n"
     ]
    },
    {
     "data": {
      "image/png": "[encoded data removed]",
      "text/plain": [
       "<Figure size 1080x270 with 2 Axes>"
      ]
     },
     "metadata": {
      "needs_background": "light"
     },
     "output_type": "display_data"
    }
   ],
   "source": [
    "print(dataset.groupby('loan_status')['open_acc'].describe())\n",
    "plot_var('open_acc', 'Open Credit Lines', continuous=True, dataset=dataset,\n",
    "         x1limit=True, x2limit=True, x1l=0, x1u=40, x2l=0, x2u=30)"
   ]
  },
  {
   "cell_type": "markdown",
   "metadata": {
    "slideshow": {
     "slide_type": "skip"
    }
   },
   "source": [
    "Does not seem to be a good indicator of risk"
   ]
  },
  {
   "cell_type": "markdown",
   "metadata": {
    "slideshow": {
     "slide_type": "subslide"
    }
   },
   "source": [
    "### Public Record (Categorical)\n",
    "Number of derogatory public records"
   ]
  },
  {
   "cell_type": "code",
   "execution_count": 28,
   "metadata": {
    "scrolled": true,
    "slideshow": {
     "slide_type": "fragment"
    }
   },
   "outputs": [
    {
     "name": "stdout",
     "output_type": "stream",
     "text": [
      "loan_status  pub_rec     \n",
      "Charged Off  None             6659\n",
      "             At least one     1966\n",
      "Fully Paid   None            22937\n",
      "             At least one     6208\n",
      "Name: pub_rec, dtype: int64\n"
     ]
    },
    {
     "data": {
      "image/png": "[encoded data removed]",
      "text/plain": [
       "<Figure size 1080x270 with 2 Axes>"
      ]
     },
     "metadata": {
      "needs_background": "light"
     },
     "output_type": "display_data"
    }
   ],
   "source": [
    "dataset['pub_rec'] = pd.cut(dataset['pub_rec'], [0, 0.9, 25], labels=['None', 'At least one'], include_lowest=True)\n",
    "print(dataset.groupby('loan_status')['pub_rec'].value_counts(dropna=False))\n",
    "plot_var('pub_rec', 'Public Records', continuous=False, dataset=dataset)"
   ]
  },
  {
   "cell_type": "markdown",
   "metadata": {
    "slideshow": {
     "slide_type": "fragment"
    }
   },
   "source": [
    "Loan default rate does not seem to change much by derogatory public records"
   ]
  },
  {
   "cell_type": "markdown",
   "metadata": {
    "slideshow": {
     "slide_type": "skip"
    }
   },
   "source": [
    "### Public Record of Bankruptcies (Categorical)\n",
    "Number of public record bankruptcies"
   ]
  },
  {
   "cell_type": "code",
   "execution_count": 29,
   "metadata": {
    "slideshow": {
     "slide_type": "skip"
    }
   },
   "outputs": [
    {
     "name": "stdout",
     "output_type": "stream",
     "text": [
      "loan_status  pub_rec_bankruptcies\n",
      "Charged Off  None                     7234\n",
      "             At least one             1391\n",
      "Fully Paid   None                    24732\n",
      "             At least one             4413\n",
      "Name: pub_rec_bankruptcies, dtype: int64\n"
     ]
    },
    {
     "data": {
      "image/png": "[encoded data removed]",
      "text/plain": [
       "<Figure size 1080x270 with 2 Axes>"
      ]
     },
     "metadata": {
      "needs_background": "light"
     },
     "output_type": "display_data"
    }
   ],
   "source": [
    "dataset['pub_rec_bankruptcies'] = pd.cut(dataset['pub_rec_bankruptcies'], [0, 0.9, 25], labels=['None', 'At least one'], include_lowest=True)\n",
    "print(dataset.groupby('loan_status')['pub_rec_bankruptcies'].value_counts(dropna=False))\n",
    "plot_var('pub_rec_bankruptcies', 'Bankruptcies', continuous=False, dataset=dataset)"
   ]
  },
  {
   "cell_type": "markdown",
   "metadata": {
    "slideshow": {
     "slide_type": "skip"
    }
   },
   "source": [
    "Loan default rate does not seem to change much by public bankruptcies records"
   ]
  },
  {
   "cell_type": "markdown",
   "metadata": {
    "slideshow": {
     "slide_type": "skip"
    }
   },
   "source": [
    "### Purpose (Categorical)\n",
    "A category provided by the borrower for the loan request"
   ]
  },
  {
   "cell_type": "code",
   "execution_count": 30,
   "metadata": {
    "slideshow": {
     "slide_type": "skip"
    }
   },
   "outputs": [
    {
     "data": {
      "text/plain": [
       "purpose\n",
       "house                 0.155000\n",
       "car                   0.175403\n",
       "vacation              0.198198\n",
       "home_improvement      0.198206\n",
       "major_purchase        0.205184\n",
       "credit_card           0.207764\n",
       "debt_consolidation    0.236775\n",
       "other                 0.244284\n",
       "medical               0.250877\n",
       "renewable_energy      0.280000\n",
       "moving                0.303109\n",
       "small_business        0.390110\n",
       "Name: loan_status, dtype: float64"
      ]
     },
     "execution_count": 30,
     "metadata": {},
     "output_type": "execute_result"
    }
   ],
   "source": [
    "dataset.groupby('purpose')['loan_status'].value_counts(normalize=True).loc[:,'Charged Off'].sort_values()"
   ]
  },
  {
   "cell_type": "markdown",
   "metadata": {
    "slideshow": {
     "slide_type": "skip"
    }
   },
   "source": [
    "### Revolving Balance (Numerical)\n",
    "Total credit revolving balance"
   ]
  },
  {
   "cell_type": "code",
   "execution_count": 31,
   "metadata": {
    "slideshow": {
     "slide_type": "skip"
    }
   },
   "outputs": [
    {
     "name": "stdout",
     "output_type": "stream",
     "text": [
      "               count          mean           std  min     25%      50%  \\\n",
      "loan_status                                                              \n",
      "Charged Off   8625.0  15598.939362  18289.533135  0.0  6023.0  11323.0   \n",
      "Fully Paid   29145.0  15601.315080  24339.574929  0.0  5176.0  10103.0   \n",
      "\n",
      "                 75%        max  \n",
      "loan_status                      \n",
      "Charged Off  19085.0   354794.0  \n",
      "Fully Paid   18214.0  1039013.0  \n",
      "               count      mean       std  min       25%       50%       75%  \\\n",
      "loan_status                                                                   \n",
      "Charged Off   8625.0  9.189286  1.172564  0.0  8.703507  9.334680  9.856710   \n",
      "Fully Paid   29145.0  9.078444  1.308805  0.0  8.551981  9.220687  9.810001   \n",
      "\n",
      "                   max  \n",
      "loan_status             \n",
      "Charged Off  12.779295  \n",
      "Fully Paid   13.853783  \n"
     ]
    },
    {
     "data": {
      "image/png": "[encoded data removed]",
      "text/plain": [
       "<Figure size 1080x270 with 2 Axes>"
      ]
     },
     "metadata": {
      "needs_background": "light"
     },
     "output_type": "display_data"
    },
    {
     "data": {
      "image/png": "[encoded data removed]",
      "text/plain": [
       "<Figure size 1080x270 with 2 Axes>"
      ]
     },
     "metadata": {
      "needs_background": "light"
     },
     "output_type": "display_data"
    }
   ],
   "source": [
    "print(dataset.groupby('loan_status')['revol_bal'].describe())\n",
    "plot_var('revol_bal', 'Revolving Balance in $', continuous=True, dataset=dataset,\n",
    "                  x1limit=True, x2limit=True, x1l=0, x1u=80000, x2l=0, x2u=40000)\n",
    "# Seems like the data is heavily right skewed with a large range due to large outliers so we take the log transformation\n",
    "dataset['log_revol_bal'] = dataset['revol_bal'].apply(lambda x: np.log(x + 1))\n",
    "dataset.drop('revol_bal', axis=1, inplace=True)\n",
    "print(dataset.groupby('loan_status')['log_revol_bal'].describe())\n",
    "plot_var('log_revol_bal', 'Log Revolving Balance in $', continuous=True, dataset=dataset)"
   ]
  },
  {
   "cell_type": "markdown",
   "metadata": {
    "slideshow": {
     "slide_type": "skip"
    }
   },
   "source": [
    "There is not much difference in the two categories for revolving balances"
   ]
  },
  {
   "cell_type": "markdown",
   "metadata": {
    "slideshow": {
     "slide_type": "skip"
    }
   },
   "source": [
    "### Revolving Utility (Numerical)\n",
    "Revolving line utilization rate, or the amount of credit the borrower is using relative to all available revolving credit."
   ]
  },
  {
   "cell_type": "code",
   "execution_count": 32,
   "metadata": {
    "slideshow": {
     "slide_type": "skip"
    }
   },
   "outputs": [
    {
     "name": "stdout",
     "output_type": "stream",
     "text": [
      "               count       mean        std  min   25%   50%   75%    max\n",
      "loan_status                                                             \n",
      "Charged Off   8624.0  52.278154  23.940588  0.0  34.9  52.8  70.3  138.9\n",
      "Fully Paid   29120.0  44.685968  24.521824  0.0  25.4  43.3  62.9  125.2\n"
     ]
    },
    {
     "data": {
      "image/png": "[encoded data removed]",
      "text/plain": [
       "<Figure size 1080x270 with 2 Axes>"
      ]
     },
     "metadata": {
      "needs_background": "light"
     },
     "output_type": "display_data"
    }
   ],
   "source": [
    "dataset['revol_util'] = dataset['revol_util'].str.rstrip('%').astype('float')\n",
    "print(dataset.groupby('loan_status')['revol_util'].describe())\n",
    "plot_var('revol_util', 'Revolving Utility in %', continuous=True, dataset=dataset)"
   ]
  },
  {
   "cell_type": "markdown",
   "metadata": {
    "slideshow": {
     "slide_type": "skip"
    }
   },
   "source": [
    "It seems those with a lower revolving utility are more likely to pay off their loans"
   ]
  },
  {
   "cell_type": "markdown",
   "metadata": {
    "slideshow": {
     "slide_type": "skip"
    }
   },
   "source": [
    "### Grade (Categorical)\n",
    "LendingClub assigned loan grade. The higher the letter, the safer the loan."
   ]
  },
  {
   "cell_type": "code",
   "execution_count": 33,
   "metadata": {
    "slideshow": {
     "slide_type": "skip"
    }
   },
   "outputs": [
    {
     "data": {
      "image/png": "[encoded data removed]",
      "text/plain": [
       "<Figure size 1080x270 with 2 Axes>"
      ]
     },
     "metadata": {
      "needs_background": "light"
     },
     "output_type": "display_data"
    }
   ],
   "source": [
    "plot_var('grade', 'Grade', continuous=False, dataset=dataset)"
   ]
  },
  {
   "cell_type": "markdown",
   "metadata": {
    "slideshow": {
     "slide_type": "skip"
    }
   },
   "source": [
    "There seems to be a strong trend between charge off rate and deterioriateing sub grade"
   ]
  },
  {
   "cell_type": "markdown",
   "metadata": {
    "slideshow": {
     "slide_type": "skip"
    }
   },
   "source": [
    "### Term (Categorical)\n",
    "The number of payments on the loan. Values are in months and can be either 36 or 60"
   ]
  },
  {
   "cell_type": "code",
   "execution_count": 34,
   "metadata": {
    "slideshow": {
     "slide_type": "skip"
    }
   },
   "outputs": [
    {
     "name": "stdout",
     "output_type": "stream",
     "text": [
      "loan_status  term\n",
      "Charged Off  36       5846\n",
      "             60       2779\n",
      "Fully Paid   36      23073\n",
      "             60       6072\n",
      "Name: term, dtype: int64\n"
     ]
    },
    {
     "data": {
      "image/png": "[encoded data removed]",
      "text/plain": [
       "<Figure size 1080x270 with 2 Axes>"
      ]
     },
     "metadata": {
      "needs_background": "light"
     },
     "output_type": "display_data"
    }
   ],
   "source": [
    "# dataset['term'].replace('36 months', 36, inplace=True)\n",
    "# dataset['term'].replace('60 months', 60, inplace=True)\n",
    "dataset['term'] = dataset['term'].apply(lambda s: np.int8(s.split()[0]))\n",
    "print(dataset.groupby('loan_status')['term'].value_counts(dropna=False))\n",
    "plot_var('term', 'Term (months)', continuous=False, dataset=dataset)"
   ]
  },
  {
   "cell_type": "markdown",
   "metadata": {
    "slideshow": {
     "slide_type": "skip"
    }
   },
   "source": [
    "It seems longer term loans have a higher likelihood of being charged off"
   ]
  },
  {
   "cell_type": "markdown",
   "metadata": {
    "slideshow": {
     "slide_type": "skip"
    }
   },
   "source": [
    "### Total Accounts (Numerical)\n",
    "The total number of credit lines currently in the borrower's credit file"
   ]
  },
  {
   "cell_type": "code",
   "execution_count": 35,
   "metadata": {
    "scrolled": true,
    "slideshow": {
     "slide_type": "skip"
    }
   },
   "outputs": [
    {
     "name": "stdout",
     "output_type": "stream",
     "text": [
      "               count       mean        std  min   25%   50%   75%    max\n",
      "loan_status                                                             \n",
      "Charged Off   8625.0  23.747362  11.761055  2.0  15.0  22.0  30.0   97.0\n",
      "Fully Paid   29145.0  24.859633  12.233984  2.0  16.0  23.0  31.0  146.0\n"
     ]
    },
    {
     "data": {
      "image/png": "[encoded data removed]",
      "text/plain": [
       "<Figure size 1080x270 with 2 Axes>"
      ]
     },
     "metadata": {
      "needs_background": "light"
     },
     "output_type": "display_data"
    }
   ],
   "source": [
    "print(dataset.groupby('loan_status')['total_acc'].describe())\n",
    "plot_var('total_acc', 'Number of Total Accounts', continuous=True, dataset=dataset)"
   ]
  },
  {
   "cell_type": "markdown",
   "metadata": {
    "slideshow": {
     "slide_type": "skip"
    }
   },
   "source": [
    "There does not seem to be a significant difference in charge off rate depending on the total account number"
   ]
  },
  {
   "cell_type": "markdown",
   "metadata": {
    "slideshow": {
     "slide_type": "subslide"
    }
   },
   "source": [
    "### Verification Status (Categorical)\n",
    "Indicates if income was verified, not verified, or if the income source was verified."
   ]
  },
  {
   "cell_type": "code",
   "execution_count": 36,
   "metadata": {
    "slideshow": {
     "slide_type": "skip"
    }
   },
   "outputs": [
    {
     "name": "stdout",
     "output_type": "stream",
     "text": [
      "loan_status  verification_status\n",
      "Charged Off  Source Verified         3584\n",
      "             Verified                2986\n",
      "             Not Verified            2055\n",
      "Fully Paid   Source Verified        11607\n",
      "             Not Verified           10330\n",
      "             Verified                7208\n",
      "Name: verification_status, dtype: int64\n"
     ]
    }
   ],
   "source": [
    "print(dataset.groupby('loan_status')['verification_status'].value_counts(dropna=False))"
   ]
  },
  {
   "cell_type": "code",
   "execution_count": 37,
   "metadata": {
    "slideshow": {
     "slide_type": "fragment"
    }
   },
   "outputs": [
    {
     "data": {
      "image/png": "[encoded data removed]",
      "text/plain": [
       "<Figure size 1080x270 with 2 Axes>"
      ]
     },
     "metadata": {
      "needs_background": "light"
     },
     "output_type": "display_data"
    }
   ],
   "source": [
    "plot_var('verification_status', 'Verification Status', continuous=False, dataset=dataset)"
   ]
  },
  {
   "cell_type": "markdown",
   "metadata": {
    "slideshow": {
     "slide_type": "fragment"
    }
   },
   "source": [
    "There seems to be a strong linear trend between charged off rate and verification status. Surprisingly, loans with a status of verified have a higher chance of becoming charged off."
   ]
  },
  {
   "cell_type": "markdown",
   "metadata": {
    "slideshow": {
     "slide_type": "skip"
    }
   },
   "source": [
    "# Preliminary Model Design"
   ]
  },
  {
   "cell_type": "markdown",
   "metadata": {
    "slideshow": {
     "slide_type": "skip"
    }
   },
   "source": [
    "### Create dummy variables\n",
    "1 means charged-off and 0 means fully paid and create dummy variables for all categorical variables"
   ]
  },
  {
   "cell_type": "code",
   "execution_count": 38,
   "metadata": {
    "slideshow": {
     "slide_type": "skip"
    }
   },
   "outputs": [
    {
     "data": {
      "text/html": [
       "<div>\n",
       "<style scoped>\n",
       "    .dataframe tbody tr th:only-of-type {\n",
       "        vertical-align: middle;\n",
       "    }\n",
       "\n",
       "    .dataframe tbody tr th {\n",
       "        vertical-align: top;\n",
       "    }\n",
       "\n",
       "    .dataframe thead th {\n",
       "        text-align: right;\n",
       "    }\n",
       "</style>\n",
       "<table border=\"1\" class=\"dataframe\">\n",
       "  <thead>\n",
       "    <tr style=\"text-align: right;\">\n",
       "      <th></th>\n",
       "      <th>loan_amnt</th>\n",
       "      <th>term</th>\n",
       "      <th>int_rate</th>\n",
       "      <th>emp_length</th>\n",
       "      <th>loan_status</th>\n",
       "      <th>dti</th>\n",
       "      <th>delinq_2yrs</th>\n",
       "      <th>earliest_cr_line</th>\n",
       "      <th>open_acc</th>\n",
       "      <th>revol_util</th>\n",
       "      <th>...</th>\n",
       "      <th>purpose_medical</th>\n",
       "      <th>purpose_moving</th>\n",
       "      <th>purpose_other</th>\n",
       "      <th>purpose_renewable_energy</th>\n",
       "      <th>purpose_small_business</th>\n",
       "      <th>purpose_vacation</th>\n",
       "      <th>initial_list_status_w</th>\n",
       "      <th>application_type_Joint App</th>\n",
       "      <th>pub_rec_At least one</th>\n",
       "      <th>pub_rec_bankruptcies_At least one</th>\n",
       "    </tr>\n",
       "  </thead>\n",
       "  <tbody>\n",
       "    <tr>\n",
       "      <th>0</th>\n",
       "      <td>5000</td>\n",
       "      <td>36</td>\n",
       "      <td>7.35</td>\n",
       "      <td>5.0</td>\n",
       "      <td>0</td>\n",
       "      <td>15.76</td>\n",
       "      <td>0</td>\n",
       "      <td>2004</td>\n",
       "      <td>12</td>\n",
       "      <td>13.2</td>\n",
       "      <td>...</td>\n",
       "      <td>0</td>\n",
       "      <td>0</td>\n",
       "      <td>0</td>\n",
       "      <td>0</td>\n",
       "      <td>0</td>\n",
       "      <td>0</td>\n",
       "      <td>1</td>\n",
       "      <td>0</td>\n",
       "      <td>0</td>\n",
       "      <td>0</td>\n",
       "    </tr>\n",
       "    <tr>\n",
       "      <th>1</th>\n",
       "      <td>7500</td>\n",
       "      <td>36</td>\n",
       "      <td>7.35</td>\n",
       "      <td>7.0</td>\n",
       "      <td>0</td>\n",
       "      <td>13.12</td>\n",
       "      <td>0</td>\n",
       "      <td>2013</td>\n",
       "      <td>19</td>\n",
       "      <td>27.2</td>\n",
       "      <td>...</td>\n",
       "      <td>0</td>\n",
       "      <td>0</td>\n",
       "      <td>0</td>\n",
       "      <td>0</td>\n",
       "      <td>0</td>\n",
       "      <td>0</td>\n",
       "      <td>1</td>\n",
       "      <td>0</td>\n",
       "      <td>0</td>\n",
       "      <td>0</td>\n",
       "    </tr>\n",
       "    <tr>\n",
       "      <th>2</th>\n",
       "      <td>9600</td>\n",
       "      <td>36</td>\n",
       "      <td>7.97</td>\n",
       "      <td>0.0</td>\n",
       "      <td>0</td>\n",
       "      <td>18.34</td>\n",
       "      <td>0</td>\n",
       "      <td>2005</td>\n",
       "      <td>16</td>\n",
       "      <td>48.6</td>\n",
       "      <td>...</td>\n",
       "      <td>0</td>\n",
       "      <td>0</td>\n",
       "      <td>0</td>\n",
       "      <td>0</td>\n",
       "      <td>0</td>\n",
       "      <td>0</td>\n",
       "      <td>1</td>\n",
       "      <td>0</td>\n",
       "      <td>0</td>\n",
       "      <td>0</td>\n",
       "    </tr>\n",
       "    <tr>\n",
       "      <th>3</th>\n",
       "      <td>2000</td>\n",
       "      <td>36</td>\n",
       "      <td>7.07</td>\n",
       "      <td>2.0</td>\n",
       "      <td>0</td>\n",
       "      <td>12.15</td>\n",
       "      <td>0</td>\n",
       "      <td>2005</td>\n",
       "      <td>9</td>\n",
       "      <td>0.3</td>\n",
       "      <td>...</td>\n",
       "      <td>1</td>\n",
       "      <td>0</td>\n",
       "      <td>0</td>\n",
       "      <td>0</td>\n",
       "      <td>0</td>\n",
       "      <td>0</td>\n",
       "      <td>1</td>\n",
       "      <td>0</td>\n",
       "      <td>0</td>\n",
       "      <td>0</td>\n",
       "    </tr>\n",
       "    <tr>\n",
       "      <th>4</th>\n",
       "      <td>7200</td>\n",
       "      <td>36</td>\n",
       "      <td>24.85</td>\n",
       "      <td>2.0</td>\n",
       "      <td>0</td>\n",
       "      <td>6.07</td>\n",
       "      <td>0</td>\n",
       "      <td>2000</td>\n",
       "      <td>4</td>\n",
       "      <td>98.9</td>\n",
       "      <td>...</td>\n",
       "      <td>0</td>\n",
       "      <td>0</td>\n",
       "      <td>0</td>\n",
       "      <td>0</td>\n",
       "      <td>0</td>\n",
       "      <td>0</td>\n",
       "      <td>1</td>\n",
       "      <td>0</td>\n",
       "      <td>0</td>\n",
       "      <td>0</td>\n",
       "    </tr>\n",
       "  </tbody>\n",
       "</table>\n",
       "<p>5 rows × 40 columns</p>\n",
       "</div>"
      ],
      "text/plain": [
       "   loan_amnt  term  int_rate  emp_length  loan_status    dti  delinq_2yrs  \\\n",
       "0       5000    36      7.35         5.0            0  15.76            0   \n",
       "1       7500    36      7.35         7.0            0  13.12            0   \n",
       "2       9600    36      7.97         0.0            0  18.34            0   \n",
       "3       2000    36      7.07         2.0            0  12.15            0   \n",
       "4       7200    36     24.85         2.0            0   6.07            0   \n",
       "\n",
       "   earliest_cr_line  open_acc  revol_util                ...                  \\\n",
       "0              2004        12        13.2                ...                   \n",
       "1              2013        19        27.2                ...                   \n",
       "2              2005        16        48.6                ...                   \n",
       "3              2005         9         0.3                ...                   \n",
       "4              2000         4        98.9                ...                   \n",
       "\n",
       "   purpose_medical  purpose_moving  purpose_other  purpose_renewable_energy  \\\n",
       "0                0               0              0                         0   \n",
       "1                0               0              0                         0   \n",
       "2                0               0              0                         0   \n",
       "3                1               0              0                         0   \n",
       "4                0               0              0                         0   \n",
       "\n",
       "   purpose_small_business  purpose_vacation  initial_list_status_w  \\\n",
       "0                       0                 0                      1   \n",
       "1                       0                 0                      1   \n",
       "2                       0                 0                      1   \n",
       "3                       0                 0                      1   \n",
       "4                       0                 0                      1   \n",
       "\n",
       "   application_type_Joint App  pub_rec_At least one  \\\n",
       "0                           0                     0   \n",
       "1                           0                     0   \n",
       "2                           0                     0   \n",
       "3                           0                     0   \n",
       "4                           0                     0   \n",
       "\n",
       "   pub_rec_bankruptcies_At least one  \n",
       "0                                  0  \n",
       "1                                  0  \n",
       "2                                  0  \n",
       "3                                  0  \n",
       "4                                  0  \n",
       "\n",
       "[5 rows x 40 columns]"
      ]
     },
     "execution_count": 38,
     "metadata": {},
     "output_type": "execute_result"
    }
   ],
   "source": [
    "dataset['loan_status'].replace('Charged Off', 1, inplace=True)\n",
    "dataset['loan_status'].replace('Fully Paid', 0, inplace=True)\n",
    "\n",
    "dataset = pd.get_dummies(dataset, columns=['grade', 'home_ownership', 'verification_status', 'purpose', \n",
    "                                           'initial_list_status', 'application_type', 'pub_rec', 'pub_rec_bankruptcies'], drop_first=True)\n",
    "dataset.head()"
   ]
  },
  {
   "cell_type": "markdown",
   "metadata": {
    "slideshow": {
     "slide_type": "skip"
    }
   },
   "source": [
    "### Split the data"
   ]
  },
  {
   "cell_type": "code",
   "execution_count": 39,
   "metadata": {
    "slideshow": {
     "slide_type": "skip"
    }
   },
   "outputs": [],
   "source": [
    "dataset.dropna(inplace=True)\n",
    "# dataset.fillna(lambda x: x.median())\n",
    "y = dataset.loc[:, dataset.columns == 'loan_status']\n",
    "x = dataset.loc[:, dataset.columns != 'loan_status']\n",
    "# y = dataset['loan_status']\n",
    "# X = dataset.drop(columns=['loan_status'])\n",
    "x_train, x_test, y_train, y_test = train_test_split(x, y, test_size=0.3, random_state=0, stratify=dataset['loan_status'])\n",
    "# x_train = x_train.reset_index()\n",
    "# y_train = y_train.reset_index()"
   ]
  },
  {
   "cell_type": "markdown",
   "metadata": {
    "slideshow": {
     "slide_type": "slide"
    }
   },
   "source": [
    "# Feature Selection and Model Fitting"
   ]
  },
  {
   "cell_type": "markdown",
   "metadata": {
    "slideshow": {
     "slide_type": "subslide"
    }
   },
   "source": [
    "### Logistic Regression Model"
   ]
  },
  {
   "cell_type": "code",
   "execution_count": 40,
   "metadata": {
    "scrolled": false,
    "slideshow": {
     "slide_type": "fragment"
    }
   },
   "outputs": [],
   "source": [
    "lr_model = LogisticRegression(penalty=\"l2\",\n",
    "                           C=0.5,\n",
    "                           fit_intercept=True,\n",
    "                           class_weight='balanced',\n",
    "                           random_state=0,\n",
    "                           max_iter=10000,\n",
    "                           solver='lbfgs')\n",
    "lr_model = lr_model.fit(x_train, y_train.values.ravel())\n",
    "y_pred_lr = lr_model.predict(x_test)"
   ]
  },
  {
   "cell_type": "code",
   "execution_count": 41,
   "metadata": {
    "slideshow": {
     "slide_type": "fragment"
    }
   },
   "outputs": [
    {
     "name": "stdout",
     "output_type": "stream",
     "text": [
      "Accuracy of base logistic regresssion on test set: 0.657\n"
     ]
    },
    {
     "data": {
      "text/plain": [
       "array([[5542, 2687],\n",
       "       [ 943, 1415]], dtype=int64)"
      ]
     },
     "execution_count": 41,
     "metadata": {},
     "output_type": "execute_result"
    }
   ],
   "source": [
    "print('Accuracy of base logistic regresssion on test set: {:.3f}'.format(lr_model.score(x_test, y_test)))\n",
    "conf_mat = confusion_matrix(y_test, y_pred_lr)\n",
    "conf_mat"
   ]
  },
  {
   "cell_type": "code",
   "execution_count": 42,
   "metadata": {
    "slideshow": {
     "slide_type": "skip"
    }
   },
   "outputs": [
    {
     "name": "stdout",
     "output_type": "stream",
     "text": [
      "Optimization terminated successfully.\n",
      "         Current function value: 0.480191\n",
      "         Iterations 7\n"
     ]
    },
    {
     "data": {
      "text/html": [
       "<table class=\"simpletable\">\n",
       "<tr>\n",
       "        <td>Model:</td>              <td>Logit</td>      <td>Pseudo R-squared:</td>    <td>0.095</td>  \n",
       "</tr>\n",
       "<tr>\n",
       "  <td>Dependent Variable:</td>    <td>loan_status</td>         <td>AIC:</td>        <td>33967.0325</td>\n",
       "</tr>\n",
       "<tr>\n",
       "         <td>Date:</td>        <td>2019-03-03 06:04</td>       <td>BIC:</td>        <td>34297.4120</td>\n",
       "</tr>\n",
       "<tr>\n",
       "   <td>No. Observations:</td>        <td>35287</td>       <td>Log-Likelihood:</td>    <td>-16945.</td> \n",
       "</tr>\n",
       "<tr>\n",
       "       <td>Df Model:</td>             <td>38</td>            <td>LL-Null:</td>        <td>-18714.</td> \n",
       "</tr>\n",
       "<tr>\n",
       "     <td>Df Residuals:</td>          <td>35248</td>        <td>LLR p-value:</td>      <td>0.0000</td>  \n",
       "</tr>\n",
       "<tr>\n",
       "      <td>Converged:</td>           <td>1.0000</td>           <td>Scale:</td>         <td>1.0000</td>  \n",
       "</tr>\n",
       "<tr>\n",
       "    <td>No. Iterations:</td>        <td>7.0000</td>              <td></td>               <td></td>     \n",
       "</tr>\n",
       "</table>\n",
       "<table class=\"simpletable\">\n",
       "<tr>\n",
       "                   <td></td>                    <th>Coef.</th>  <th>Std.Err.</th>    <th>z</th>     <th>P>|z|</th> <th>[0.025</th>  <th>0.975]</th> \n",
       "</tr>\n",
       "<tr>\n",
       "  <th>loan_amnt</th>                           <td>-0.0000</td>  <td>0.0000</td>  <td>-0.6301</td> <td>0.5286</td> <td>-0.0000</td> <td>0.0000</td> \n",
       "</tr>\n",
       "<tr>\n",
       "  <th>term</th>                                <td>0.0123</td>   <td>0.0016</td>  <td>7.4339</td>  <td>0.0000</td> <td>0.0090</td>  <td>0.0155</td> \n",
       "</tr>\n",
       "<tr>\n",
       "  <th>int_rate</th>                            <td>0.0731</td>   <td>0.0116</td>  <td>6.2897</td>  <td>0.0000</td> <td>0.0503</td>  <td>0.0958</td> \n",
       "</tr>\n",
       "<tr>\n",
       "  <th>emp_length</th>                          <td>-0.0151</td>  <td>0.0038</td>  <td>-4.0253</td> <td>0.0001</td> <td>-0.0225</td> <td>-0.0077</td>\n",
       "</tr>\n",
       "<tr>\n",
       "  <th>dti</th>                                 <td>0.0105</td>   <td>0.0016</td>  <td>6.4157</td>  <td>0.0000</td> <td>0.0073</td>  <td>0.0137</td> \n",
       "</tr>\n",
       "<tr>\n",
       "  <th>delinq_2yrs</th>                         <td>0.1366</td>   <td>0.0231</td>  <td>5.9160</td>  <td>0.0000</td> <td>0.0913</td>  <td>0.1818</td> \n",
       "</tr>\n",
       "<tr>\n",
       "  <th>earliest_cr_line</th>                    <td>-0.0020</td>  <td>0.0002</td>  <td>-8.1619</td> <td>0.0000</td> <td>-0.0024</td> <td>-0.0015</td>\n",
       "</tr>\n",
       "<tr>\n",
       "  <th>open_acc</th>                            <td>0.0274</td>   <td>0.0036</td>  <td>7.6357</td>  <td>0.0000</td> <td>0.0203</td>  <td>0.0344</td> \n",
       "</tr>\n",
       "<tr>\n",
       "  <th>revol_util</th>                          <td>0.0092</td>   <td>0.0007</td>  <td>12.6652</td> <td>0.0000</td> <td>0.0078</td>  <td>0.0106</td> \n",
       "</tr>\n",
       "<tr>\n",
       "  <th>total_acc</th>                           <td>-0.0071</td>  <td>0.0018</td>  <td>-3.9995</td> <td>0.0001</td> <td>-0.0105</td> <td>-0.0036</td>\n",
       "</tr>\n",
       "<tr>\n",
       "  <th>mort_acc</th>                            <td>-0.1008</td>  <td>0.0108</td>  <td>-9.3308</td> <td>0.0000</td> <td>-0.1219</td> <td>-0.0796</td>\n",
       "</tr>\n",
       "<tr>\n",
       "  <th>log_annual_inc</th>                      <td>-0.1610</td>  <td>0.0356</td>  <td>-4.5249</td> <td>0.0000</td> <td>-0.2307</td> <td>-0.0913</td>\n",
       "</tr>\n",
       "<tr>\n",
       "  <th>log_installment</th>                     <td>0.3394</td>   <td>0.0517</td>  <td>6.5690</td>  <td>0.0000</td> <td>0.2382</td>  <td>0.4407</td> \n",
       "</tr>\n",
       "<tr>\n",
       "  <th>log_revol_bal</th>                       <td>-0.0604</td>  <td>0.0156</td>  <td>-3.8664</td> <td>0.0001</td> <td>-0.0910</td> <td>-0.0298</td>\n",
       "</tr>\n",
       "<tr>\n",
       "  <th>grade_B</th>                             <td>0.4800</td>   <td>0.0763</td>  <td>6.2923</td>  <td>0.0000</td> <td>0.3305</td>  <td>0.6295</td> \n",
       "</tr>\n",
       "<tr>\n",
       "  <th>grade_C</th>                             <td>0.6135</td>   <td>0.1037</td>  <td>5.9155</td>  <td>0.0000</td> <td>0.4102</td>  <td>0.8168</td> \n",
       "</tr>\n",
       "<tr>\n",
       "  <th>grade_D</th>                             <td>0.5622</td>   <td>0.1486</td>  <td>3.7839</td>  <td>0.0002</td> <td>0.2710</td>  <td>0.8534</td> \n",
       "</tr>\n",
       "<tr>\n",
       "  <th>grade_E</th>                             <td>0.3211</td>   <td>0.2152</td>  <td>1.4920</td>  <td>0.1357</td> <td>-0.1007</td> <td>0.7429</td> \n",
       "</tr>\n",
       "<tr>\n",
       "  <th>grade_F</th>                             <td>0.1193</td>   <td>0.2744</td>  <td>0.4349</td>  <td>0.6637</td> <td>-0.4185</td> <td>0.6572</td> \n",
       "</tr>\n",
       "<tr>\n",
       "  <th>grade_G</th>                             <td>-0.0839</td>  <td>0.2954</td>  <td>-0.2839</td> <td>0.7765</td> <td>-0.6629</td> <td>0.4952</td> \n",
       "</tr>\n",
       "<tr>\n",
       "  <th>home_ownership_OWN</th>                  <td>0.1721</td>   <td>0.0465</td>  <td>3.7024</td>  <td>0.0002</td> <td>0.0810</td>  <td>0.2632</td> \n",
       "</tr>\n",
       "<tr>\n",
       "  <th>home_ownership_RENT</th>                 <td>0.3366</td>   <td>0.0350</td>  <td>9.6274</td>  <td>0.0000</td> <td>0.2681</td>  <td>0.4051</td> \n",
       "</tr>\n",
       "<tr>\n",
       "  <th>verification_status_Source Verified</th> <td>0.1701</td>   <td>0.0346</td>  <td>4.9093</td>  <td>0.0000</td> <td>0.1022</td>  <td>0.2380</td> \n",
       "</tr>\n",
       "<tr>\n",
       "  <th>verification_status_Verified</th>        <td>0.2459</td>   <td>0.0382</td>  <td>6.4372</td>  <td>0.0000</td> <td>0.1710</td>  <td>0.3208</td> \n",
       "</tr>\n",
       "<tr>\n",
       "  <th>purpose_credit_card</th>                 <td>0.0058</td>   <td>0.1372</td>  <td>0.0423</td>  <td>0.9662</td> <td>-0.2630</td> <td>0.2746</td> \n",
       "</tr>\n",
       "<tr>\n",
       "  <th>purpose_debt_consolidation</th>          <td>0.0035</td>   <td>0.1343</td>  <td>0.0259</td>  <td>0.9793</td> <td>-0.2598</td> <td>0.2668</td> \n",
       "</tr>\n",
       "<tr>\n",
       "  <th>purpose_home_improvement</th>            <td>0.2496</td>   <td>0.1414</td>  <td>1.7655</td>  <td>0.0775</td> <td>-0.0275</td> <td>0.5267</td> \n",
       "</tr>\n",
       "<tr>\n",
       "  <th>purpose_house</th>                       <td>-0.7356</td>  <td>0.2613</td>  <td>-2.8149</td> <td>0.0049</td> <td>-1.2477</td> <td>-0.2234</td>\n",
       "</tr>\n",
       "<tr>\n",
       "  <th>purpose_major_purchase</th>              <td>0.1691</td>   <td>0.1597</td>  <td>1.0589</td>  <td>0.2896</td> <td>-0.1439</td> <td>0.4821</td> \n",
       "</tr>\n",
       "<tr>\n",
       "  <th>purpose_medical</th>                     <td>0.2740</td>   <td>0.1736</td>  <td>1.5785</td>  <td>0.1144</td> <td>-0.0662</td> <td>0.6142</td> \n",
       "</tr>\n",
       "<tr>\n",
       "  <th>purpose_moving</th>                      <td>0.3550</td>   <td>0.1820</td>  <td>1.9505</td>  <td>0.0511</td> <td>-0.0017</td> <td>0.7117</td> \n",
       "</tr>\n",
       "<tr>\n",
       "  <th>purpose_other</th>                       <td>0.2308</td>   <td>0.1420</td>  <td>1.6253</td>  <td>0.1041</td> <td>-0.0475</td> <td>0.5091</td> \n",
       "</tr>\n",
       "<tr>\n",
       "  <th>purpose_renewable_energy</th>            <td>0.8100</td>   <td>0.5173</td>  <td>1.5658</td>  <td>0.1174</td> <td>-0.2039</td> <td>1.8240</td> \n",
       "</tr>\n",
       "<tr>\n",
       "  <th>purpose_small_business</th>              <td>0.7793</td>   <td>0.1778</td>  <td>4.3833</td>  <td>0.0000</td> <td>0.4308</td>  <td>1.1277</td> \n",
       "</tr>\n",
       "<tr>\n",
       "  <th>purpose_vacation</th>                    <td>0.3299</td>   <td>0.1878</td>  <td>1.7563</td>  <td>0.0790</td> <td>-0.0382</td> <td>0.6980</td> \n",
       "</tr>\n",
       "<tr>\n",
       "  <th>initial_list_status_w</th>               <td>0.0246</td>   <td>0.0333</td>  <td>0.7376</td>  <td>0.4607</td> <td>-0.0408</td> <td>0.0899</td> \n",
       "</tr>\n",
       "<tr>\n",
       "  <th>application_type_Joint App</th>          <td>-0.2585</td>  <td>0.0654</td>  <td>-3.9505</td> <td>0.0001</td> <td>-0.3868</td> <td>-0.1303</td>\n",
       "</tr>\n",
       "<tr>\n",
       "  <th>pub_rec_At least one</th>                <td>0.0171</td>   <td>0.0551</td>  <td>0.3103</td>  <td>0.7563</td> <td>-0.0909</td> <td>0.1251</td> \n",
       "</tr>\n",
       "<tr>\n",
       "  <th>pub_rec_bankruptcies_At least one</th>   <td>0.0094</td>   <td>0.0630</td>  <td>0.1495</td>  <td>0.8811</td> <td>-0.1140</td> <td>0.1328</td> \n",
       "</tr>\n",
       "</table>"
      ],
      "text/plain": [
       "<class 'statsmodels.iolib.summary2.Summary'>\n",
       "\"\"\"\n",
       "                                  Results: Logit\n",
       "===================================================================================\n",
       "Model:                    Logit                  Pseudo R-squared:       0.095     \n",
       "Dependent Variable:       loan_status            AIC:                    33967.0325\n",
       "Date:                     2019-03-03 06:04       BIC:                    34297.4120\n",
       "No. Observations:         35287                  Log-Likelihood:         -16945.   \n",
       "Df Model:                 38                     LL-Null:                -18714.   \n",
       "Df Residuals:             35248                  LLR p-value:            0.0000    \n",
       "Converged:                1.0000                 Scale:                  1.0000    \n",
       "No. Iterations:           7.0000                                                   \n",
       "-----------------------------------------------------------------------------------\n",
       "                                     Coef.  Std.Err.    z    P>|z|   [0.025  0.975]\n",
       "-----------------------------------------------------------------------------------\n",
       "loan_amnt                           -0.0000   0.0000 -0.6301 0.5286 -0.0000  0.0000\n",
       "term                                 0.0123   0.0016  7.4339 0.0000  0.0090  0.0155\n",
       "int_rate                             0.0731   0.0116  6.2897 0.0000  0.0503  0.0958\n",
       "emp_length                          -0.0151   0.0038 -4.0253 0.0001 -0.0225 -0.0077\n",
       "dti                                  0.0105   0.0016  6.4157 0.0000  0.0073  0.0137\n",
       "delinq_2yrs                          0.1366   0.0231  5.9160 0.0000  0.0913  0.1818\n",
       "earliest_cr_line                    -0.0020   0.0002 -8.1619 0.0000 -0.0024 -0.0015\n",
       "open_acc                             0.0274   0.0036  7.6357 0.0000  0.0203  0.0344\n",
       "revol_util                           0.0092   0.0007 12.6652 0.0000  0.0078  0.0106\n",
       "total_acc                           -0.0071   0.0018 -3.9995 0.0001 -0.0105 -0.0036\n",
       "mort_acc                            -0.1008   0.0108 -9.3308 0.0000 -0.1219 -0.0796\n",
       "log_annual_inc                      -0.1610   0.0356 -4.5249 0.0000 -0.2307 -0.0913\n",
       "log_installment                      0.3394   0.0517  6.5690 0.0000  0.2382  0.4407\n",
       "log_revol_bal                       -0.0604   0.0156 -3.8664 0.0001 -0.0910 -0.0298\n",
       "grade_B                              0.4800   0.0763  6.2923 0.0000  0.3305  0.6295\n",
       "grade_C                              0.6135   0.1037  5.9155 0.0000  0.4102  0.8168\n",
       "grade_D                              0.5622   0.1486  3.7839 0.0002  0.2710  0.8534\n",
       "grade_E                              0.3211   0.2152  1.4920 0.1357 -0.1007  0.7429\n",
       "grade_F                              0.1193   0.2744  0.4349 0.6637 -0.4185  0.6572\n",
       "grade_G                             -0.0839   0.2954 -0.2839 0.7765 -0.6629  0.4952\n",
       "home_ownership_OWN                   0.1721   0.0465  3.7024 0.0002  0.0810  0.2632\n",
       "home_ownership_RENT                  0.3366   0.0350  9.6274 0.0000  0.2681  0.4051\n",
       "verification_status_Source Verified  0.1701   0.0346  4.9093 0.0000  0.1022  0.2380\n",
       "verification_status_Verified         0.2459   0.0382  6.4372 0.0000  0.1710  0.3208\n",
       "purpose_credit_card                  0.0058   0.1372  0.0423 0.9662 -0.2630  0.2746\n",
       "purpose_debt_consolidation           0.0035   0.1343  0.0259 0.9793 -0.2598  0.2668\n",
       "purpose_home_improvement             0.2496   0.1414  1.7655 0.0775 -0.0275  0.5267\n",
       "purpose_house                       -0.7356   0.2613 -2.8149 0.0049 -1.2477 -0.2234\n",
       "purpose_major_purchase               0.1691   0.1597  1.0589 0.2896 -0.1439  0.4821\n",
       "purpose_medical                      0.2740   0.1736  1.5785 0.1144 -0.0662  0.6142\n",
       "purpose_moving                       0.3550   0.1820  1.9505 0.0511 -0.0017  0.7117\n",
       "purpose_other                        0.2308   0.1420  1.6253 0.1041 -0.0475  0.5091\n",
       "purpose_renewable_energy             0.8100   0.5173  1.5658 0.1174 -0.2039  1.8240\n",
       "purpose_small_business               0.7793   0.1778  4.3833 0.0000  0.4308  1.1277\n",
       "purpose_vacation                     0.3299   0.1878  1.7563 0.0790 -0.0382  0.6980\n",
       "initial_list_status_w                0.0246   0.0333  0.7376 0.4607 -0.0408  0.0899\n",
       "application_type_Joint App          -0.2585   0.0654 -3.9505 0.0001 -0.3868 -0.1303\n",
       "pub_rec_At least one                 0.0171   0.0551  0.3103 0.7563 -0.0909  0.1251\n",
       "pub_rec_bankruptcies_At least one    0.0094   0.0630  0.1495 0.8811 -0.1140  0.1328\n",
       "===================================================================================\n",
       "\n",
       "\"\"\""
      ]
     },
     "execution_count": 42,
     "metadata": {},
     "output_type": "execute_result"
    }
   ],
   "source": [
    "import statsmodels.api as sm\n",
    "logit_model = sm.Logit(y, x)\n",
    "result = logit_model.fit()\n",
    "result.summary2()"
   ]
  },
  {
   "cell_type": "markdown",
   "metadata": {
    "slideshow": {
     "slide_type": "subslide"
    }
   },
   "source": [
    "We remove all variables with p-value less than 0.05"
   ]
  },
  {
   "cell_type": "code",
   "execution_count": 43,
   "metadata": {
    "slideshow": {
     "slide_type": "fragment"
    }
   },
   "outputs": [
    {
     "data": {
      "text/plain": [
       "loan_amnt                            0.528648\n",
       "grade_E                              0.135709\n",
       "grade_F                              0.663670\n",
       "grade_G                              0.776495\n",
       "purpose_credit_card                  0.966228\n",
       "purpose_debt_consolidation           0.979323\n",
       "purpose_home_improvement             0.077484\n",
       "purpose_major_purchase               0.289649\n",
       "purpose_medical                      0.114448\n",
       "purpose_moving                       0.051116\n",
       "purpose_other                        0.104100\n",
       "purpose_renewable_energy             0.117397\n",
       "purpose_vacation                     0.079031\n",
       "initial_list_status_w                0.460733\n",
       "pub_rec_At least one                 0.756315\n",
       "pub_rec_bankruptcies_At least one    0.881142\n",
       "dtype: float64"
      ]
     },
     "execution_count": 43,
     "metadata": {},
     "output_type": "execute_result"
    }
   ],
   "source": [
    "result.pvalues[result.pvalues > 0.05]"
   ]
  },
  {
   "cell_type": "code",
   "execution_count": 44,
   "metadata": {
    "slideshow": {
     "slide_type": "skip"
    }
   },
   "outputs": [],
   "source": [
    "keep_list = list(result.pvalues[result.pvalues < 0.05].index)\n",
    "keep_list.append('loan_status')\n",
    "drop_list = [col for col in dataset.columns if col not in keep_list]\n",
    "x_train = x_train.drop(labels=drop_list, axis=1)\n",
    "x_test = x_test.drop(labels=drop_list, axis=1)\n",
    "lr_model = LogisticRegression(penalty=\"l2\", C=0.5, fit_intercept=True, class_weight='balanced', \n",
    "                           random_state=0, max_iter=10000, solver='lbfgs')\n",
    "lr_model = lr_model.fit(x_train, y_train.values.ravel())\n",
    "y_pred_lr = lr_model.predict(x_test)"
   ]
  },
  {
   "cell_type": "markdown",
   "metadata": {
    "slideshow": {
     "slide_type": "subslide"
    }
   },
   "source": [
    "### Logistic Regression Results"
   ]
  },
  {
   "cell_type": "code",
   "execution_count": 45,
   "metadata": {
    "slideshow": {
     "slide_type": "fragment"
    }
   },
   "outputs": [
    {
     "name": "stdout",
     "output_type": "stream",
     "text": [
      "Accuracy of adjusted logistic regresssion on test set: 0.637\n"
     ]
    },
    {
     "data": {
      "text/plain": [
       "array([[5130, 3099],\n",
       "       [ 739, 1619]], dtype=int64)"
      ]
     },
     "execution_count": 45,
     "metadata": {},
     "output_type": "execute_result"
    }
   ],
   "source": [
    "print('Accuracy of adjusted logistic regresssion on test set: {:.3f}'.format(lr_model.score(x_test, y_test)))\n",
    "conf_mat = confusion_matrix(y_test, y_pred_lr)\n",
    "conf_mat"
   ]
  },
  {
   "cell_type": "code",
   "execution_count": 46,
   "metadata": {
    "slideshow": {
     "slide_type": "fragment"
    }
   },
   "outputs": [
    {
     "name": "stdout",
     "output_type": "stream",
     "text": [
      "F1 Score: 0.4576031656302996\n",
      "              precision    recall  f1-score   support\n",
      "\n",
      "           0       0.87      0.62      0.73      8229\n",
      "           1       0.34      0.69      0.46      2358\n",
      "\n",
      "   micro avg       0.64      0.64      0.64     10587\n",
      "   macro avg       0.61      0.66      0.59     10587\n",
      "weighted avg       0.76      0.64      0.67     10587\n",
      "\n"
     ]
    }
   ],
   "source": [
    "print('F1 Score:', f1_score(y_test, y_pred_lr))\n",
    "print(classification_report(y_test, y_pred_lr))"
   ]
  },
  {
   "cell_type": "markdown",
   "metadata": {
    "slideshow": {
     "slide_type": "skip"
    }
   },
   "source": [
    "### Random Forest Model"
   ]
  },
  {
   "cell_type": "code",
   "execution_count": 47,
   "metadata": {
    "slideshow": {
     "slide_type": "skip"
    }
   },
   "outputs": [],
   "source": [
    "rf_model_path = '.\\\\data\\\\rf_1000.joblib'\n",
    "if os.path.exists(rf_model_path):\n",
    "    forest = load('.\\\\data\\\\rf_1000.joblib')\n",
    "else:\n",
    "    # from Class 4\n",
    "    n_trees = [50, 100, 250, 500, 1000, 1500, 2500]\n",
    "    rf_dict = dict.fromkeys(n_trees)\n",
    "    for num in n_trees:\n",
    "        print(num)\n",
    "        rf = RandomForestClassifier(n_estimators=num,\n",
    "                                    min_samples_leaf=30,\n",
    "                                    oob_score=True,\n",
    "                                    random_state=100,\n",
    "                                    class_weight='balanced',\n",
    "                                    n_jobs=2)\n",
    "        rf.fit(x_train, y_train.values.ravel())\n",
    "        rf_dict[num] = rf\n",
    "\n",
    "    oob_error_list = [None] * len(n_trees)\n",
    "\n",
    "    for i in range(len(n_trees)):\n",
    "        oob_error_list[i] = 1 - rf_dict[n_trees[i]].oob_score_\n",
    "\n",
    "    plt.plot(n_trees, oob_error_list, 'bo', n_trees, oob_error_list, 'k')\n",
    "    # Save model to file\n",
    "    dump(rf_dict[1000], '.\\\\data\\\\rf_1000.joblib')\n",
    "    forest = rf_dict[1000]\n",
    "y_pred_rf = forest.predict(x_test)"
   ]
  },
  {
   "cell_type": "markdown",
   "metadata": {
    "slideshow": {
     "slide_type": "subslide"
    }
   },
   "source": [
    "### Random Forest Results"
   ]
  },
  {
   "cell_type": "code",
   "execution_count": 48,
   "metadata": {
    "slideshow": {
     "slide_type": "fragment"
    }
   },
   "outputs": [
    {
     "name": "stdout",
     "output_type": "stream",
     "text": [
      "Accuracy of Random Forest on test set: 0.673\n"
     ]
    },
    {
     "data": {
      "text/plain": [
       "array([[5678, 2551],\n",
       "       [ 914, 1444]], dtype=int64)"
      ]
     },
     "execution_count": 48,
     "metadata": {},
     "output_type": "execute_result"
    }
   ],
   "source": [
    "print('Accuracy of Random Forest on test set: {:.3f}'.format(forest.score(x_test, y_test)))\n",
    "conf_mat = confusion_matrix(y_test, y_pred_rf)\n",
    "conf_mat"
   ]
  },
  {
   "cell_type": "code",
   "execution_count": 49,
   "metadata": {
    "slideshow": {
     "slide_type": "fragment"
    }
   },
   "outputs": [
    {
     "name": "stdout",
     "output_type": "stream",
     "text": [
      "F1 Score: 0.45458838344089403\n",
      "              precision    recall  f1-score   support\n",
      "\n",
      "           0       0.86      0.69      0.77      8229\n",
      "           1       0.36      0.61      0.45      2358\n",
      "\n",
      "   micro avg       0.67      0.67      0.67     10587\n",
      "   macro avg       0.61      0.65      0.61     10587\n",
      "weighted avg       0.75      0.67      0.70     10587\n",
      "\n"
     ]
    }
   ],
   "source": [
    "print('F1 Score:', f1_score(y_test, y_pred_rf))\n",
    "print(classification_report(y_test, y_pred_rf))"
   ]
  },
  {
   "cell_type": "markdown",
   "metadata": {
    "slideshow": {
     "slide_type": "skip"
    }
   },
   "source": [
    "### Neural Network Model"
   ]
  },
  {
   "cell_type": "code",
   "execution_count": 50,
   "metadata": {
    "slideshow": {
     "slide_type": "skip"
    }
   },
   "outputs": [],
   "source": [
    "scaler = StandardScaler()\n",
    "scaler.fit(x_train.astype('float64'))\n",
    "StandardScaler(copy=True, with_mean=True, with_std=True)\n",
    "x_train_nn = scaler.transform(x_train.astype('float64'))\n",
    "x_test_nn = scaler.transform(x_test.astype('float64'))\n",
    "\n",
    "nn_model_path = '.\\\\data\\\\nn_model.joblib'\n",
    "if os.path.exists(nn_model_path):\n",
    "    mlp = load('.\\\\data\\\\nn_model.joblib')\n",
    "else:\n",
    "    mlp = MLPClassifier(hidden_layer_sizes=(13, 13, 13), max_iter=500, random_state=0)\n",
    "    mlp.fit(x_train_nn, y_train.values.ravel())\n",
    "    dump(mlp, '.\\\\data\\\\nn_model.joblib')\n",
    "y_pred_nn = mlp.predict(x_test_nn)"
   ]
  },
  {
   "cell_type": "markdown",
   "metadata": {
    "slideshow": {
     "slide_type": "skip"
    }
   },
   "source": [
    "### Neural Network Results"
   ]
  },
  {
   "cell_type": "code",
   "execution_count": 51,
   "metadata": {
    "slideshow": {
     "slide_type": "skip"
    }
   },
   "outputs": [
    {
     "name": "stdout",
     "output_type": "stream",
     "text": [
      "Accuracy of Neural Network on test set: 0.773\n"
     ]
    },
    {
     "data": {
      "text/plain": [
       "array([[7859,  370],\n",
       "       [2032,  326]], dtype=int64)"
      ]
     },
     "execution_count": 51,
     "metadata": {},
     "output_type": "execute_result"
    }
   ],
   "source": [
    "print('Accuracy of Neural Network on test set: {:.3f}'.format(mlp.score(x_test_nn, y_test)))\n",
    "conf_mat = confusion_matrix(y_test, y_pred_nn)\n",
    "conf_mat"
   ]
  },
  {
   "cell_type": "code",
   "execution_count": 52,
   "metadata": {
    "slideshow": {
     "slide_type": "skip"
    }
   },
   "outputs": [
    {
     "name": "stdout",
     "output_type": "stream",
     "text": [
      "F1 Score: 0.21349050425671245\n",
      "              precision    recall  f1-score   support\n",
      "\n",
      "           0       0.79      0.96      0.87      8229\n",
      "           1       0.47      0.14      0.21      2358\n",
      "\n",
      "   micro avg       0.77      0.77      0.77     10587\n",
      "   macro avg       0.63      0.55      0.54     10587\n",
      "weighted avg       0.72      0.77      0.72     10587\n",
      "\n"
     ]
    }
   ],
   "source": [
    "print('F1 Score:', f1_score(y_test, y_pred_nn))\n",
    "print(classification_report(y_test, y_pred_nn))"
   ]
  },
  {
   "cell_type": "markdown",
   "metadata": {
    "slideshow": {
     "slide_type": "skip"
    }
   },
   "source": [
    "### Ensembled Model"
   ]
  },
  {
   "cell_type": "code",
   "execution_count": 53,
   "metadata": {
    "slideshow": {
     "slide_type": "skip"
    }
   },
   "outputs": [],
   "source": [
    "# RF_probs = pd.DataFrame(forest.predict_proba(x_test))\n",
    "# LR_probs = pd.DataFrame(lr_model.predict_proba(x_test))\n",
    "# probs\n",
    "ensemble_model_path = '.\\\\data\\\\ensemble_model.joblib'\n",
    "if os.path.exists(ensemble_model_path):\n",
    "    ensemble = load('.\\\\data\\\\ensemble_model.joblib')\n",
    "else:\n",
    "    estimators = [('log_reg', lr_model), ('rf', forest)]\n",
    "    ensemble = VotingClassifier(estimators, voting='soft', n_jobs=2)\n",
    "    ensemble.fit(x_train, y_train.values.ravel())\n",
    "    # Save model to file\n",
    "    dump(ensemble, '.\\\\data\\\\ensemble_model.joblib')\n",
    "y_pred_ensemble = ensemble.predict(x_test)"
   ]
  },
  {
   "cell_type": "markdown",
   "metadata": {
    "slideshow": {
     "slide_type": "subslide"
    }
   },
   "source": [
    "### Ensembled Results"
   ]
  },
  {
   "cell_type": "code",
   "execution_count": 54,
   "metadata": {
    "slideshow": {
     "slide_type": "fragment"
    }
   },
   "outputs": [
    {
     "name": "stdout",
     "output_type": "stream",
     "text": [
      "[[5413 2816]\n",
      " [ 838 1520]]\n",
      "Accuracy of ensemble on test set: 0.655\n"
     ]
    }
   ],
   "source": [
    "conf_mat = confusion_matrix(y_test, y_pred_ensemble)\n",
    "print(conf_mat)\n",
    "print('Accuracy of ensemble on test set: {:.3f}'.format(ensemble.score(x_test, y_test.values.ravel())))"
   ]
  },
  {
   "cell_type": "markdown",
   "metadata": {
    "slideshow": {
     "slide_type": "slide"
    }
   },
   "source": [
    "# Production Use"
   ]
  },
  {
   "cell_type": "markdown",
   "metadata": {
    "slideshow": {
     "slide_type": "subslide"
    }
   },
   "source": [
    "### Input and Output Spec\n",
    "* Input: pandas dataframe containing:\n",
    " * loan_status (Outcome)\n",
    " * Annual Income, Application Type, Debt to Income Ratio, Delinquincy, Earliest Credit Line, Employment Length, Home Ownership, Initial List Status, Installment, Interest Rate, Loan Amount, Mortgage Accounts, Open Account, Public Record, Public Record of Bankruptices, Purpose, Revolving Balance, Revolving Utility, Grade, Term, Total Accounts, Verification Status (Predictors)\n",
    "* Outcome: list of same size as number of rows in pandas DataFrame containing:\n",
    " * 1/0 for predicted loan status of fully paid or charged off\n",
    " * Probability for each category\n"
   ]
  },
  {
   "cell_type": "code",
   "execution_count": 55,
   "metadata": {
    "slideshow": {
     "slide_type": "skip"
    }
   },
   "outputs": [],
   "source": [
    "input_data = pd.DataFrame(columns=['loan_amnt', 'term', 'int_rate', 'installment', \n",
    "                                   'grade', 'emp_length', 'home_ownership', 'annual_inc', \n",
    "                                   'verification_status', 'purpose', 'dti', 'delinq_2yrs', \n",
    "                                   'earliest_cr_line', 'open_acc', 'pub_rec', 'revol_bal', \n",
    "                                   'revol_util', 'total_acc', 'initial_list_status', 'application_type', \n",
    "                                   'mort_acc', 'pub_rec_bankruptcies'])\n",
    "input_data.loc[0] = pd.Series({'loan_amnt':12000, \n",
    "                               'term':'36 months', \n",
    "                               'int_rate': '7.00%', \n",
    "                               'installment': 350, \n",
    "                               'grade': 'A', \n",
    "                               'emp_length': '3 years', \n",
    "                               'home_ownership': 'RENT', \n",
    "                               'annual_inc': 30000, \n",
    "                               'verification_status': 'Source Verified', \n",
    "                               'purpose': 'major_purchase', \n",
    "                               'dti': 15.23, 'delinq_2yrs': 0, \n",
    "                               'earliest_cr_line': 'Jul-17', \n",
    "                               'open_acc': 3, \n",
    "                               'pub_rec': 0, \n",
    "                               'revol_bal': 18000, \n",
    "                               'revol_util': '17.24%', \n",
    "                               'total_acc': 3, \n",
    "                               'initial_list_status': 'w', \n",
    "                               'application_type': 'Individual', \n",
    "                               'mort_acc': 0, \n",
    "                               'pub_rec_bankruptcies': 0})\n"
   ]
  },
  {
   "cell_type": "code",
   "execution_count": 56,
   "metadata": {
    "slideshow": {
     "slide_type": "subslide"
    }
   },
   "outputs": [
    {
     "data": {
      "text/html": [
       "<div>\n",
       "<style scoped>\n",
       "    .dataframe tbody tr th:only-of-type {\n",
       "        vertical-align: middle;\n",
       "    }\n",
       "\n",
       "    .dataframe tbody tr th {\n",
       "        vertical-align: top;\n",
       "    }\n",
       "\n",
       "    .dataframe thead th {\n",
       "        text-align: right;\n",
       "    }\n",
       "</style>\n",
       "<table border=\"1\" class=\"dataframe\">\n",
       "  <thead>\n",
       "    <tr style=\"text-align: right;\">\n",
       "      <th></th>\n",
       "      <th>loan_amnt</th>\n",
       "      <th>term</th>\n",
       "      <th>int_rate</th>\n",
       "      <th>installment</th>\n",
       "      <th>grade</th>\n",
       "      <th>emp_length</th>\n",
       "      <th>home_ownership</th>\n",
       "      <th>annual_inc</th>\n",
       "      <th>verification_status</th>\n",
       "      <th>purpose</th>\n",
       "      <th>...</th>\n",
       "      <th>earliest_cr_line</th>\n",
       "      <th>open_acc</th>\n",
       "      <th>pub_rec</th>\n",
       "      <th>revol_bal</th>\n",
       "      <th>revol_util</th>\n",
       "      <th>total_acc</th>\n",
       "      <th>initial_list_status</th>\n",
       "      <th>application_type</th>\n",
       "      <th>mort_acc</th>\n",
       "      <th>pub_rec_bankruptcies</th>\n",
       "    </tr>\n",
       "  </thead>\n",
       "  <tbody>\n",
       "    <tr>\n",
       "      <th>0</th>\n",
       "      <td>12000</td>\n",
       "      <td>36 months</td>\n",
       "      <td>7.00%</td>\n",
       "      <td>350</td>\n",
       "      <td>A</td>\n",
       "      <td>3 years</td>\n",
       "      <td>RENT</td>\n",
       "      <td>30000</td>\n",
       "      <td>Source Verified</td>\n",
       "      <td>major_purchase</td>\n",
       "      <td>...</td>\n",
       "      <td>Jul-17</td>\n",
       "      <td>3</td>\n",
       "      <td>0</td>\n",
       "      <td>18000</td>\n",
       "      <td>17.24%</td>\n",
       "      <td>3</td>\n",
       "      <td>w</td>\n",
       "      <td>Individual</td>\n",
       "      <td>0</td>\n",
       "      <td>0</td>\n",
       "    </tr>\n",
       "  </tbody>\n",
       "</table>\n",
       "<p>1 rows × 22 columns</p>\n",
       "</div>"
      ],
      "text/plain": [
       "  loan_amnt       term int_rate installment grade emp_length home_ownership  \\\n",
       "0     12000  36 months    7.00%         350     A    3 years           RENT   \n",
       "\n",
       "  annual_inc verification_status         purpose         ...           \\\n",
       "0      30000     Source Verified  major_purchase         ...            \n",
       "\n",
       "   earliest_cr_line open_acc pub_rec revol_bal revol_util total_acc  \\\n",
       "0            Jul-17        3       0     18000     17.24%         3   \n",
       "\n",
       "  initial_list_status application_type mort_acc pub_rec_bankruptcies  \n",
       "0                   w       Individual        0                    0  \n",
       "\n",
       "[1 rows x 22 columns]"
      ]
     },
     "execution_count": 56,
     "metadata": {},
     "output_type": "execute_result"
    }
   ],
   "source": [
    "input_data"
   ]
  },
  {
   "cell_type": "code",
   "execution_count": 57,
   "metadata": {
    "slideshow": {
     "slide_type": "skip"
    }
   },
   "outputs": [],
   "source": [
    "input_data['log_annual_inc'] = input_data['annual_inc'].apply(lambda x: np.log(x + 1))\n",
    "input_data.drop('annual_inc', axis=1, inplace=True)\n",
    "\n",
    "input_data['delinq_2yrs'].values[input_data['delinq_2yrs'] > 1] = 2\n",
    "\n",
    "input_data['earliest_cr_line'] = input_data['earliest_cr_line'].apply(lambda s: int(s[-2:]))\n",
    "input_data.loc[input_data['earliest_cr_line'] > 20, 'earliest_cr_line'] += 1900\n",
    "input_data.loc[input_data['earliest_cr_line'] < 20, 'earliest_cr_line'] += 2000\n",
    "\n",
    "input_data['emp_length'].replace('< 1 year', 0, inplace=True)\n",
    "input_data['emp_length'].replace('1 year', 1, inplace=True)\n",
    "input_data['emp_length'].replace('2 years', 2, inplace=True)\n",
    "input_data['emp_length'].replace('3 years', 3, inplace=True)\n",
    "input_data['emp_length'].replace('4 years', 4, inplace=True)\n",
    "input_data['emp_length'].replace('5 years', 5, inplace=True)\n",
    "input_data['emp_length'].replace('6 years', 6, inplace=True)\n",
    "input_data['emp_length'].replace('7 years', 7, inplace=True)\n",
    "input_data['emp_length'].replace('8 years', 8, inplace=True)\n",
    "input_data['emp_length'].replace('9 years', 9, inplace=True)\n",
    "input_data['emp_length'].replace('10+ years', 10, inplace=True)\n",
    "\n",
    "input_data['log_installment'] = input_data['installment'].apply(lambda x: np.log(x + 1))\n",
    "input_data.drop('installment', axis=1, inplace=True)\n",
    "\n",
    "input_data['int_rate'] = input_data['int_rate'].str.rstrip('%').astype('float')\n",
    "\n",
    "input_data.loc[dataset['mort_acc'] > 9, 'mort_acc'] = 10\n",
    "\n",
    "input_data['pub_rec'] = pd.cut(input_data['pub_rec'], [0, 0.9, 25], \n",
    "                               labels=['None', 'At least one'], include_lowest=True)\n",
    "\n",
    "input_data['pub_rec_bankruptcies'] = pd.cut(input_data['pub_rec_bankruptcies'], [0, 0.9, 25], \n",
    "                                            labels=['None', 'At least one'], include_lowest=True)\n",
    "\n",
    "input_data['log_revol_bal'] = input_data['revol_bal'].apply(lambda x: np.log(x + 1))\n",
    "input_data.drop('revol_bal', axis=1, inplace=True)\n",
    "\n",
    "input_data['revol_util'] = input_data['revol_util'].str.rstrip('%').astype('float')\n",
    "\n",
    "input_data['term'] = input_data['term'].apply(lambda s: np.int8(s.split()[0]))"
   ]
  },
  {
   "cell_type": "code",
   "execution_count": 58,
   "metadata": {
    "slideshow": {
     "slide_type": "skip"
    }
   },
   "outputs": [],
   "source": [
    "# TODO: we must create a dummy dataset with all types of categorical values then get dummies and use only the first one!\n",
    "input_data = pd.get_dummies(input_data, columns=['grade', 'home_ownership', 'verification_status', 'purpose', \n",
    "                                           'initial_list_status', 'application_type', 'pub_rec', 'pub_rec_bankruptcies'], drop_first=True)\n",
    "\n",
    "dummy_frame = pd.DataFrame(columns=['term', 'int_rate', 'emp_length', 'dti', 'delinq_2yrs',\n",
    "       'earliest_cr_line', 'open_acc', 'revol_util', 'total_acc', 'mort_acc',\n",
    "       'log_annual_inc', 'log_installment', 'log_revol_bal', 'grade_B',\n",
    "       'grade_C', 'grade_D', 'home_ownership_OWN', 'home_ownership_RENT',\n",
    "       'verification_status_Source Verified', 'verification_status_Verified',\n",
    "       'purpose_house', 'purpose_small_business',\n",
    "       'application_type_Joint App'])\n",
    "input_data=input_data.reindex(columns = dummy_frame.columns, fill_value=0)"
   ]
  },
  {
   "cell_type": "code",
   "execution_count": 59,
   "metadata": {
    "slideshow": {
     "slide_type": "fragment"
    }
   },
   "outputs": [
    {
     "data": {
      "text/html": [
       "<div>\n",
       "<style scoped>\n",
       "    .dataframe tbody tr th:only-of-type {\n",
       "        vertical-align: middle;\n",
       "    }\n",
       "\n",
       "    .dataframe tbody tr th {\n",
       "        vertical-align: top;\n",
       "    }\n",
       "\n",
       "    .dataframe thead th {\n",
       "        text-align: right;\n",
       "    }\n",
       "</style>\n",
       "<table border=\"1\" class=\"dataframe\">\n",
       "  <thead>\n",
       "    <tr style=\"text-align: right;\">\n",
       "      <th></th>\n",
       "      <th>term</th>\n",
       "      <th>int_rate</th>\n",
       "      <th>emp_length</th>\n",
       "      <th>dti</th>\n",
       "      <th>delinq_2yrs</th>\n",
       "      <th>earliest_cr_line</th>\n",
       "      <th>open_acc</th>\n",
       "      <th>revol_util</th>\n",
       "      <th>total_acc</th>\n",
       "      <th>mort_acc</th>\n",
       "      <th>...</th>\n",
       "      <th>grade_B</th>\n",
       "      <th>grade_C</th>\n",
       "      <th>grade_D</th>\n",
       "      <th>home_ownership_OWN</th>\n",
       "      <th>home_ownership_RENT</th>\n",
       "      <th>verification_status_Source Verified</th>\n",
       "      <th>verification_status_Verified</th>\n",
       "      <th>purpose_house</th>\n",
       "      <th>purpose_small_business</th>\n",
       "      <th>application_type_Joint App</th>\n",
       "    </tr>\n",
       "  </thead>\n",
       "  <tbody>\n",
       "    <tr>\n",
       "      <th>0</th>\n",
       "      <td>36</td>\n",
       "      <td>7.0</td>\n",
       "      <td>3</td>\n",
       "      <td>15.23</td>\n",
       "      <td>0</td>\n",
       "      <td>2017</td>\n",
       "      <td>3</td>\n",
       "      <td>17.24</td>\n",
       "      <td>3</td>\n",
       "      <td>0</td>\n",
       "      <td>...</td>\n",
       "      <td>0</td>\n",
       "      <td>0</td>\n",
       "      <td>0</td>\n",
       "      <td>0</td>\n",
       "      <td>0</td>\n",
       "      <td>0</td>\n",
       "      <td>0</td>\n",
       "      <td>0</td>\n",
       "      <td>0</td>\n",
       "      <td>0</td>\n",
       "    </tr>\n",
       "  </tbody>\n",
       "</table>\n",
       "<p>1 rows × 23 columns</p>\n",
       "</div>"
      ],
      "text/plain": [
       "   term  int_rate  emp_length    dti delinq_2yrs  earliest_cr_line open_acc  \\\n",
       "0    36       7.0           3  15.23           0              2017        3   \n",
       "\n",
       "   revol_util total_acc  mort_acc             ...              grade_B  \\\n",
       "0       17.24         3         0             ...                    0   \n",
       "\n",
       "   grade_C  grade_D  home_ownership_OWN  home_ownership_RENT  \\\n",
       "0        0        0                   0                    0   \n",
       "\n",
       "   verification_status_Source Verified  verification_status_Verified  \\\n",
       "0                                    0                             0   \n",
       "\n",
       "   purpose_house  purpose_small_business  application_type_Joint App  \n",
       "0              0                       0                           0  \n",
       "\n",
       "[1 rows x 23 columns]"
      ]
     },
     "execution_count": 59,
     "metadata": {},
     "output_type": "execute_result"
    }
   ],
   "source": [
    "input_data"
   ]
  },
  {
   "cell_type": "code",
   "execution_count": 60,
   "metadata": {
    "slideshow": {
     "slide_type": "subslide"
    }
   },
   "outputs": [
    {
     "name": "stdout",
     "output_type": "stream",
     "text": [
      "Fully Paid\n"
     ]
    }
   ],
   "source": [
    "prod_model = load('.\\\\data\\\\ensemble_model.joblib')\n",
    "output = prod_model.predict(input_data)\n",
    "if output[0] == 0:\n",
    "    print('Fully Paid')\n",
    "else:\n",
    "    print('Charged Off')"
   ]
  },
  {
   "cell_type": "code",
   "execution_count": 61,
   "metadata": {
    "slideshow": {
     "slide_type": "skip"
    }
   },
   "outputs": [],
   "source": [
    "p_output = pd.DataFrame(prod_model.predict_proba(input_data))\n",
    "p_output.columns = ['Fully Paid', 'Charged Off']\n",
    "p_output = (p_output*100).round(0).astype(int).astype(str) + '%'"
   ]
  },
  {
   "cell_type": "code",
   "execution_count": 62,
   "metadata": {
    "slideshow": {
     "slide_type": "fragment"
    }
   },
   "outputs": [
    {
     "data": {
      "text/html": [
       "<div>\n",
       "<style scoped>\n",
       "    .dataframe tbody tr th:only-of-type {\n",
       "        vertical-align: middle;\n",
       "    }\n",
       "\n",
       "    .dataframe tbody tr th {\n",
       "        vertical-align: top;\n",
       "    }\n",
       "\n",
       "    .dataframe thead th {\n",
       "        text-align: right;\n",
       "    }\n",
       "</style>\n",
       "<table border=\"1\" class=\"dataframe\">\n",
       "  <thead>\n",
       "    <tr style=\"text-align: right;\">\n",
       "      <th></th>\n",
       "      <th>Fully Paid</th>\n",
       "      <th>Charged Off</th>\n",
       "    </tr>\n",
       "  </thead>\n",
       "  <tbody>\n",
       "    <tr>\n",
       "      <th>0</th>\n",
       "      <td>81%</td>\n",
       "      <td>19%</td>\n",
       "    </tr>\n",
       "  </tbody>\n",
       "</table>\n",
       "</div>"
      ],
      "text/plain": [
       "  Fully Paid Charged Off\n",
       "0        81%         19%"
      ]
     },
     "execution_count": 62,
     "metadata": {},
     "output_type": "execute_result"
    }
   ],
   "source": [
    "p_output"
   ]
  },
  {
   "cell_type": "markdown",
   "metadata": {
    "slideshow": {
     "slide_type": "slide"
    }
   },
   "source": [
    "# Next Steps and Further Research"
   ]
  },
  {
   "cell_type": "markdown",
   "metadata": {
    "slideshow": {
     "slide_type": "subslide"
    }
   },
   "source": [
    "* Improve performance of current models\n",
    "* Look into other ML models\n",
    "* Improvemnts to feature selection\n",
    "* Opportunity cost of prediction errors"
   ]
  },
  {
   "cell_type": "markdown",
   "metadata": {
    "slideshow": {
     "slide_type": "skip"
    }
   },
   "source": [
    "#### Hw 2\n",
    "The business question we try to solve as well as the goal of this analysis, is to leverage loan data to be able to predict whether or not a potential debtor will charge off(default) or fully pay their debt. Ultimately, we want to be able to analyze the risk of a given loan before it is given and advise the potential crediting association. Each row in the data table consists of loan information about debtors with about 37770 total rows. Initially, the dataset had 150 columns, however, after cleaning the data by filtering out columns on missing values criteria, relevance of information, and columns would be information obtained after money has already been loaned, there was 24 columns in the end. For example, some columns have over 50% of missing values. I set the cut off for dropping a column if it contained 15% or more missing values. Afterwards, I manually looked through the columns and picked out ones that were the most relevant and dropped columns that did not provide useful information. For example, job title was dropped since there were too many unique job title values to be of any use. From here, I looked at the summary statistics and plot to see if any had a strong correlation to the response variable. There are some trends between the certain predictors and the response. Some predictors tend to have a higher mean for one response than the other. In particular, some significant ones to explore further are loan amount, interest rate, and public records. Loan amount, installment, and interest rate both showed higher averages for loans that were higher risk. Public records showed those with more public records also had a higher probability of defaulting. Some of the data for these predictors were right skewed, such as installment, so some processing was made to make it more normal by taking the natural log of the data. In some of the data such as, delinquency, not all categories have a good frequency so perhaps some categories can be combined together determined by some threshold. There are two classification techniques I would like to consider and compare their performance, logistic regression and random forest."
   ]
  },
  {
   "cell_type": "markdown",
   "metadata": {
    "slideshow": {
     "slide_type": "skip"
    }
   },
   "source": [
    "#### Hw 3\n",
    "Feature Selection was based on intuitive knowledge as mentioned previously as well as looking at the p-values of the logistic regression. Interestingly, some variables that I initially thought would be good predictors ended up having p-values of over 0.05 meaning insignificant. For example, loan amount and interest rate, based on the initial exploratory analysis showed to have an higher average in charged off rate but ended up being dropped due to a high p-value. Comparing the results of the two models, the confusion matrix of the logistic regression model shows that there are 5094+1627 = 6721 correct predictions and 5094+1627 = 3866 incorrect predictions which results in an accuracy of about 63.5%. Alternatively, the confusion matrix of the random forest model shows that there are 5768 + 1381 = 7149 correct predictions and 2461+977 = 3438 incorrect predictions which results in an accuracy of about 67.5%. There is therefore not much different between the accuracies of the two different methods. Random Forest does however, take much longer to run than logistic regression. Therefore, the preferred model is logistic regression by the confusion matrix evaluation. Overall, this seems to be an acceptable accuracy level."
   ]
  },
  {
   "cell_type": "markdown",
   "metadata": {
    "slideshow": {
     "slide_type": "skip"
    }
   },
   "source": [
    "##### Hw 4\n",
    "The data file is about 5mb consists of 37770 rows and 23 columns. When reading it in with pandas, it only takes about 500ms which is quite fast. Therefore, it seems unnessary to make an effort to improve the speed of data reading. Before the data is read, columns that would not be used and other excess data was filtered out. Before computation is made on the data, columns that were decided to not be used, such as columns with a enormous amount of missing data or columns that does not provivde valuable information, were dropped. In some places where a for loop could have bee used, apply() was leveraged instead. Overall, the portion of the code that takes the most computation time is the random forest model which takes around 3 minutes to complete. However, this only needs to be run once and then the model can be saved and loaded. Are applying parallel processing, the computation time was greatly reduced. Previously the computation took over 10 minutes, now it takes about 4 minutes."
   ]
  },
  {
   "cell_type": "code",
   "execution_count": null,
   "metadata": {
    "slideshow": {
     "slide_type": "skip"
    }
   },
   "outputs": [],
   "source": [
    "!jupyter nbconvert presentation.ipynb --to slides --post serve"
   ]
  },
  {
   "cell_type": "code",
   "execution_count": null,
   "metadata": {},
   "outputs": [],
   "source": []
  }
 ],
 "metadata": {
  "celltoolbar": "Slideshow",
  "kernelspec": {
   "display_name": "Python 3",
   "language": "python",
   "name": "python3"
  },
  "language_info": {
   "codemirror_mode": {
    "name": "ipython",
    "version": 3
   },
   "file_extension": ".py",
   "mimetype": "text/x-python",
   "name": "python",
   "nbconvert_exporter": "python",
   "pygments_lexer": "ipython3",
   "version": "3.7.1"
  }
 },
 "nbformat": 4,
 "nbformat_minor": 2
}
