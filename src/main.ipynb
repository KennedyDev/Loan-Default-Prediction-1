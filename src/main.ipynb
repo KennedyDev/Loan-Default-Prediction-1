{
 "cells": [
  {
   "cell_type": "markdown",
   "metadata": {
    "slideshow": {
     "slide_type": "-"
    }
   },
   "source": [
    "# Loan Default Risk"
   ]
  },
  {
   "cell_type": "code",
   "execution_count": 1,
   "metadata": {
    "slideshow": {
     "slide_type": "-"
    }
   },
   "outputs": [
    {
     "name": "stderr",
     "output_type": "stream",
     "text": [
      "Using TensorFlow backend.\n"
     ]
    }
   ],
   "source": [
    "from numpy.random import seed\n",
    "seed(1)\n",
    "from tensorflow import set_random_seed\n",
    "set_random_seed(2)\n",
    "import os\n",
    "from pathlib import Path\n",
    "import pandas as pd\n",
    "import numpy as np\n",
    "import matplotlib.pyplot as plt\n",
    "import seaborn as sns\n",
    "from joblib import dump, load\n",
    "from sklearn.model_selection import train_test_split\n",
    "from sklearn.linear_model import LogisticRegression\n",
    "from sklearn.ensemble import RandomForestClassifier\n",
    "from sklearn.inspection import permutation_importance\n",
    "from sklearn.preprocessing import StandardScaler\n",
    "from sklearn.metrics import confusion_matrix, f1_score, classification_report, accuracy_score, auc, roc_curve, roc_auc_score, precision_recall_curve\n",
    "from sklearn.utils import class_weight\n",
    "from imblearn.over_sampling import SMOTE\n",
    "from imblearn.over_sampling import ADASYN\n",
    "from keras.models import Sequential\n",
    "from keras.layers import Dense\n",
    "from keras.utils import to_categorical\n",
    "from keras.models import load_model\n",
    "from xgboost import XGBClassifier\n",
    "from xgboost import plot_importance"
   ]
  },
  {
   "cell_type": "code",
   "execution_count": 2,
   "metadata": {
    "slideshow": {
     "slide_type": "-"
    }
   },
   "outputs": [],
   "source": [
    "def plot_var(col_name, title, continuous, dataset, x1limit=False, x2limit=False, x1l=0, x1u=0, x2l=0, x2u=0):\n",
    "    \"\"\"\n",
    "    Plot a variable against the response variable loan status\n",
    "    - col_name is the variable name in the dataframe\n",
    "    - title is the full variable name\n",
    "    - continuous is True if the variable is continuous, False otherwise\n",
    "    - dataset is the pandas dataframe containing the dataset\n",
    "    \"\"\"\n",
    "    f, (ax1, ax2) = plt.subplots(nrows=1, ncols=2, figsize=(12, 3), dpi=90)\n",
    "\n",
    "    # Plot without loan status\n",
    "    if continuous:\n",
    "        sns.distplot(dataset.loc[dataset[col_name].notnull(), col_name], kde=False, ax=ax1)\n",
    "    else:\n",
    "        sns.countplot(dataset[col_name], order=sorted(dataset[col_name].unique()),\n",
    "                      color='#4f81bd', saturation=1, ax=ax1)\n",
    "    if x1limit:\n",
    "        ax1.set_xlim([x1l, x1u])\n",
    "    ax1.set_xlabel(title)\n",
    "    ax1.set_ylabel('Frequency')\n",
    "    ax1.set_title(title)\n",
    "\n",
    "    # Plot with loan status\n",
    "    if continuous:\n",
    "        sns.boxplot(x=col_name, y='loan_status', data=dataset, ax=ax2)\n",
    "        ax2.set_ylabel('')\n",
    "        ax2.set_title(title + ' by Loan Status')\n",
    "    else:\n",
    "        charge_off_rates = dataset.groupby(col_name)['loan_status'].value_counts(normalize=True).loc[:, 'Default']\n",
    "        sns.barplot(x=charge_off_rates.index, y=charge_off_rates.values, color='#4f81bd', saturation=1, ax=ax2)\n",
    "        ax2.set_ylabel('Fraction of Loans Default')\n",
    "        ax2.set_title('Default Rate by ' + title)\n",
    "    if x2limit:\n",
    "        ax2.set_xlim([x2l, x2u])\n",
    "    ax2.set_xlabel(title)\n",
    "\n",
    "    plt.tight_layout()"
   ]
  },
  {
   "cell_type": "markdown",
   "metadata": {
    "slideshow": {
     "slide_type": "-"
    }
   },
   "source": [
    "# Preliminary Data Analysis"
   ]
  },
  {
   "cell_type": "code",
   "execution_count": 3,
   "metadata": {
    "scrolled": true,
    "slideshow": {
     "slide_type": "-"
    }
   },
   "outputs": [
    {
     "data": {
      "text/html": [
       "<div>\n",
       "<style scoped>\n",
       "    .dataframe tbody tr th:only-of-type {\n",
       "        vertical-align: middle;\n",
       "    }\n",
       "\n",
       "    .dataframe tbody tr th {\n",
       "        vertical-align: top;\n",
       "    }\n",
       "\n",
       "    .dataframe thead th {\n",
       "        text-align: right;\n",
       "    }\n",
       "</style>\n",
       "<table border=\"1\" class=\"dataframe\">\n",
       "  <thead>\n",
       "    <tr style=\"text-align: right;\">\n",
       "      <th></th>\n",
       "      <th>loan_amnt</th>\n",
       "      <th>term</th>\n",
       "      <th>int_rate</th>\n",
       "      <th>installment</th>\n",
       "      <th>grade</th>\n",
       "      <th>emp_length</th>\n",
       "      <th>home_ownership</th>\n",
       "      <th>annual_inc</th>\n",
       "      <th>verification_status</th>\n",
       "      <th>loan_status</th>\n",
       "      <th>purpose</th>\n",
       "      <th>dti</th>\n",
       "      <th>delinq_2yrs</th>\n",
       "      <th>earliest_cr_line</th>\n",
       "      <th>open_acc</th>\n",
       "      <th>pub_rec</th>\n",
       "      <th>revol_bal</th>\n",
       "      <th>revol_util</th>\n",
       "      <th>total_acc</th>\n",
       "      <th>initial_list_status</th>\n",
       "      <th>total_pymnt</th>\n",
       "      <th>application_type</th>\n",
       "      <th>mort_acc</th>\n",
       "      <th>pub_rec_bankruptcies</th>\n",
       "    </tr>\n",
       "  </thead>\n",
       "  <tbody>\n",
       "    <tr>\n",
       "      <th>0</th>\n",
       "      <td>5000</td>\n",
       "      <td>36 months</td>\n",
       "      <td>7.35%</td>\n",
       "      <td>155.19</td>\n",
       "      <td>A</td>\n",
       "      <td>5 years</td>\n",
       "      <td>MORTGAGE</td>\n",
       "      <td>60000.0</td>\n",
       "      <td>Not Verified</td>\n",
       "      <td>Fully Paid</td>\n",
       "      <td>car</td>\n",
       "      <td>15.76</td>\n",
       "      <td>0</td>\n",
       "      <td>Oct-04</td>\n",
       "      <td>12</td>\n",
       "      <td>0</td>\n",
       "      <td>3697</td>\n",
       "      <td>13.20%</td>\n",
       "      <td>25</td>\n",
       "      <td>w</td>\n",
       "      <td>5385.245133</td>\n",
       "      <td>Individual</td>\n",
       "      <td>1</td>\n",
       "      <td>0</td>\n",
       "    </tr>\n",
       "    <tr>\n",
       "      <th>1</th>\n",
       "      <td>7500</td>\n",
       "      <td>36 months</td>\n",
       "      <td>7.35%</td>\n",
       "      <td>232.79</td>\n",
       "      <td>A</td>\n",
       "      <td>7 years</td>\n",
       "      <td>MORTGAGE</td>\n",
       "      <td>110000.0</td>\n",
       "      <td>Not Verified</td>\n",
       "      <td>Fully Paid</td>\n",
       "      <td>debt_consolidation</td>\n",
       "      <td>13.12</td>\n",
       "      <td>0</td>\n",
       "      <td>Mar-13</td>\n",
       "      <td>19</td>\n",
       "      <td>0</td>\n",
       "      <td>23348</td>\n",
       "      <td>27.20%</td>\n",
       "      <td>27</td>\n",
       "      <td>w</td>\n",
       "      <td>7642.289180</td>\n",
       "      <td>Individual</td>\n",
       "      <td>4</td>\n",
       "      <td>0</td>\n",
       "    </tr>\n",
       "    <tr>\n",
       "      <th>2</th>\n",
       "      <td>9600</td>\n",
       "      <td>36 months</td>\n",
       "      <td>7.97%</td>\n",
       "      <td>300.70</td>\n",
       "      <td>A</td>\n",
       "      <td>&lt; 1 year</td>\n",
       "      <td>OWN</td>\n",
       "      <td>140000.0</td>\n",
       "      <td>Not Verified</td>\n",
       "      <td>Fully Paid</td>\n",
       "      <td>credit_card</td>\n",
       "      <td>18.34</td>\n",
       "      <td>0</td>\n",
       "      <td>Aug-05</td>\n",
       "      <td>16</td>\n",
       "      <td>0</td>\n",
       "      <td>11808</td>\n",
       "      <td>48.60%</td>\n",
       "      <td>44</td>\n",
       "      <td>w</td>\n",
       "      <td>10283.629660</td>\n",
       "      <td>Individual</td>\n",
       "      <td>3</td>\n",
       "      <td>0</td>\n",
       "    </tr>\n",
       "    <tr>\n",
       "      <th>3</th>\n",
       "      <td>2000</td>\n",
       "      <td>36 months</td>\n",
       "      <td>7.07%</td>\n",
       "      <td>61.82</td>\n",
       "      <td>A</td>\n",
       "      <td>2 years</td>\n",
       "      <td>RENT</td>\n",
       "      <td>80000.0</td>\n",
       "      <td>Not Verified</td>\n",
       "      <td>Fully Paid</td>\n",
       "      <td>medical</td>\n",
       "      <td>12.15</td>\n",
       "      <td>0</td>\n",
       "      <td>Apr-05</td>\n",
       "      <td>9</td>\n",
       "      <td>0</td>\n",
       "      <td>38</td>\n",
       "      <td>0.30%</td>\n",
       "      <td>12</td>\n",
       "      <td>w</td>\n",
       "      <td>2097.014574</td>\n",
       "      <td>Individual</td>\n",
       "      <td>0</td>\n",
       "      <td>0</td>\n",
       "    </tr>\n",
       "    <tr>\n",
       "      <th>4</th>\n",
       "      <td>7200</td>\n",
       "      <td>36 months</td>\n",
       "      <td>24.85%</td>\n",
       "      <td>285.70</td>\n",
       "      <td>E</td>\n",
       "      <td>2 years</td>\n",
       "      <td>RENT</td>\n",
       "      <td>50000.0</td>\n",
       "      <td>Source Verified</td>\n",
       "      <td>Fully Paid</td>\n",
       "      <td>debt_consolidation</td>\n",
       "      <td>6.07</td>\n",
       "      <td>0</td>\n",
       "      <td>Jan-00</td>\n",
       "      <td>4</td>\n",
       "      <td>0</td>\n",
       "      <td>3560</td>\n",
       "      <td>98.90%</td>\n",
       "      <td>5</td>\n",
       "      <td>w</td>\n",
       "      <td>7206.461000</td>\n",
       "      <td>Individual</td>\n",
       "      <td>0</td>\n",
       "      <td>0</td>\n",
       "    </tr>\n",
       "  </tbody>\n",
       "</table>\n",
       "</div>"
      ],
      "text/plain": [
       "   loan_amnt        term int_rate  installment grade emp_length  \\\n",
       "0       5000   36 months    7.35%       155.19     A    5 years   \n",
       "1       7500   36 months    7.35%       232.79     A    7 years   \n",
       "2       9600   36 months    7.97%       300.70     A   < 1 year   \n",
       "3       2000   36 months    7.07%        61.82     A    2 years   \n",
       "4       7200   36 months   24.85%       285.70     E    2 years   \n",
       "\n",
       "  home_ownership  annual_inc verification_status loan_status  \\\n",
       "0       MORTGAGE     60000.0        Not Verified  Fully Paid   \n",
       "1       MORTGAGE    110000.0        Not Verified  Fully Paid   \n",
       "2            OWN    140000.0        Not Verified  Fully Paid   \n",
       "3           RENT     80000.0        Not Verified  Fully Paid   \n",
       "4           RENT     50000.0     Source Verified  Fully Paid   \n",
       "\n",
       "              purpose    dti  delinq_2yrs earliest_cr_line  open_acc  pub_rec  \\\n",
       "0                 car  15.76            0           Oct-04        12        0   \n",
       "1  debt_consolidation  13.12            0           Mar-13        19        0   \n",
       "2         credit_card  18.34            0           Aug-05        16        0   \n",
       "3             medical  12.15            0           Apr-05         9        0   \n",
       "4  debt_consolidation   6.07            0           Jan-00         4        0   \n",
       "\n",
       "   revol_bal revol_util  total_acc initial_list_status   total_pymnt  \\\n",
       "0       3697     13.20%         25                   w   5385.245133   \n",
       "1      23348     27.20%         27                   w   7642.289180   \n",
       "2      11808     48.60%         44                   w  10283.629660   \n",
       "3         38      0.30%         12                   w   2097.014574   \n",
       "4       3560     98.90%          5                   w   7206.461000   \n",
       "\n",
       "  application_type  mort_acc  pub_rec_bankruptcies  \n",
       "0       Individual         1                     0  \n",
       "1       Individual         4                     0  \n",
       "2       Individual         3                     0  \n",
       "3       Individual         0                     0  \n",
       "4       Individual         0                     0  "
      ]
     },
     "execution_count": 3,
     "metadata": {},
     "output_type": "execute_result"
    }
   ],
   "source": [
    "# read in the entire raw dataset\n",
    "dataset = pd.read_csv(Path('../data/2017Half_clean.csv'), header=0)\n",
    "pd.set_option('display.max_columns', None)\n",
    "dataset.head()"
   ]
  },
  {
   "cell_type": "code",
   "execution_count": 4,
   "metadata": {
    "slideshow": {
     "slide_type": "-"
    }
   },
   "outputs": [
    {
     "name": "stdout",
     "output_type": "stream",
     "text": [
      "Fully Paid    29145\n",
      "Default       18494\n",
      "Name: loan_status, dtype: int64\n",
      "Fully Paid    0.611789\n",
      "Default       0.388211\n",
      "Name: loan_status, dtype: float64\n",
      "(47639, 24)\n"
     ]
    }
   ],
   "source": [
    "# Look at how many of each response variable we have\n",
    "print(dataset['loan_status'].value_counts(dropna=False))\n",
    "print(dataset['loan_status'].value_counts(normalize=True, dropna=False))\n",
    "print(dataset.shape)"
   ]
  },
  {
   "cell_type": "markdown",
   "metadata": {
    "slideshow": {
     "slide_type": "-"
    }
   },
   "source": [
    "| Status     | Count | Percentage |\n",
    "| -----------|:-----:|:----------:|\n",
    "| Fully Paid | 29145 | 61% |\n",
    "| Charged Off | 18494 | 39% |\n",
    "\n",
    "47639 rows x 23 Columns"
   ]
  },
  {
   "cell_type": "markdown",
   "metadata": {
    "slideshow": {
     "slide_type": "-"
    }
   },
   "source": [
    "A list of percentage of missing values in a column"
   ]
  },
  {
   "cell_type": "code",
   "execution_count": 5,
   "metadata": {
    "slideshow": {
     "slide_type": "-"
    }
   },
   "outputs": [
    {
     "name": "stdout",
     "output_type": "stream",
     "text": [
      "emp_length    7.225173\n",
      "revol_util    0.065073\n",
      "dti           0.056676\n",
      "dtype: float64\n"
     ]
    }
   ],
   "source": [
    "missing_values = ((dataset.isna().sum()) / len(dataset.index)).sort_values(ascending=False)\n",
    "missing_values = missing_values[missing_values > 0]\n",
    "print(missing_values*100)"
   ]
  },
  {
   "cell_type": "markdown",
   "metadata": {},
   "source": [
    "| Variable | % Missing |\n",
    "| ---------|:----:|\n",
    "| emp_length | 7.225173% |\n",
    "| revol_util | 0.065073% |\n",
    "| dti | 0.056676% |"
   ]
  },
  {
   "cell_type": "code",
   "execution_count": 6,
   "metadata": {
    "scrolled": true,
    "slideshow": {
     "slide_type": "-"
    }
   },
   "outputs": [
    {
     "name": "stdout",
     "output_type": "stream",
     "text": [
      "loan_amnt                 int64\n",
      "term                     object\n",
      "int_rate                 object\n",
      "installment             float64\n",
      "grade                    object\n",
      "emp_length               object\n",
      "home_ownership           object\n",
      "annual_inc              float64\n",
      "verification_status      object\n",
      "loan_status              object\n",
      "purpose                  object\n",
      "dti                     float64\n",
      "delinq_2yrs               int64\n",
      "earliest_cr_line         object\n",
      "open_acc                  int64\n",
      "pub_rec                   int64\n",
      "revol_bal                 int64\n",
      "revol_util               object\n",
      "total_acc                 int64\n",
      "initial_list_status      object\n",
      "total_pymnt             float64\n",
      "application_type         object\n",
      "mort_acc                  int64\n",
      "pub_rec_bankruptcies      int64\n",
      "dtype: object\n"
     ]
    }
   ],
   "source": [
    "# Look at the data type of each column\n",
    "print(dataset.dtypes)"
   ]
  },
  {
   "cell_type": "markdown",
   "metadata": {},
   "source": [
    "| Variable | Type |\n",
    "| ---------|:----:|\n",
    "| Loan Amount | Numerical |\n",
    "| Term | Categorical |\n",
    "| Interest Rate | Numerical |\n",
    "| Installment | Numerical |\n",
    "| Grade | Categorical |\n",
    "| Employment Length | Categorical |\n",
    "| Home Ownership | Categorical |\n",
    "| Annual Income | Numerical |\n",
    "| Verification Status | Categorical |\n",
    "| Loan Status| Categorical |\n",
    "| Purpose | Categorical |\n",
    "| Debt-to-Income Ratio | Numerical |\n",
    "| Delinquency | Categorical |\n",
    "| Earliest Credit Line | Numerical |\n",
    "| Open Accounts | Numerical |\n",
    "| Public Records | Categorical |\n",
    "| Revolving Balance | Numerical |\n",
    "| Revolving Utility | Numerical |\n",
    "| Total Account | Numerical |\n",
    "| Initial List Status | Categorical |\n",
    "| Application Type | Categorical |\n",
    "| Mortage Account | Numerical |\n",
    "| Public Record of Bankruptcies | Categorical |"
   ]
  },
  {
   "cell_type": "markdown",
   "metadata": {
    "slideshow": {
     "slide_type": "-"
    }
   },
   "source": [
    "# Exploratory Data Analysis"
   ]
  },
  {
   "cell_type": "markdown",
   "metadata": {
    "slideshow": {
     "slide_type": "-"
    }
   },
   "source": [
    "### Annual Income (Numerical)\n",
    "The self-reported annual income provided by the borrower during registration"
   ]
  },
  {
   "cell_type": "code",
   "execution_count": 7,
   "metadata": {
    "slideshow": {
     "slide_type": "-"
    }
   },
   "outputs": [
    {
     "name": "stdout",
     "output_type": "stream",
     "text": [
      "               count          mean           std  min      25%      50%  \\\n",
      "loan_status                                                               \n",
      "Default      18494.0  74073.439857  46806.677767  0.0  45000.0  64000.0   \n",
      "Fully Paid   29145.0  80899.315013  69096.968024  0.0  49000.0  69000.0   \n",
      "\n",
      "                 75%        max  \n",
      "loan_status                      \n",
      "Default      90000.0   982000.0  \n",
      "Fully Paid   97133.0  5616890.0  \n",
      "               count       mean       std  min        25%        50%  \\\n",
      "loan_status                                                            \n",
      "Default      18494.0  11.058230  0.590522  0.0  10.714440  11.066654   \n",
      "Fully Paid   29145.0  11.129532  0.625351  0.0  10.799596  11.141876   \n",
      "\n",
      "                   75%        max  \n",
      "loan_status                        \n",
      "Default      11.407576  13.797348  \n",
      "Fully Paid   11.483847  15.541289  \n"
     ]
    },
    {
     "data": {
      "image/png": "[encoded data removed]",
      "text/plain": [
       "<Figure size 1080x270 with 2 Axes>"
      ]
     },
     "metadata": {
      "needs_background": "light"
     },
     "output_type": "display_data"
    },
    {
     "data": {
      "image/png": "[encoded data removed]",
      "text/plain": [
       "<Figure size 1080x270 with 2 Axes>"
      ]
     },
     "metadata": {
      "needs_background": "light"
     },
     "output_type": "display_data"
    }
   ],
   "source": [
    "print(dataset.groupby('loan_status')['annual_inc'].describe())\n",
    "plot_var('annual_inc', 'Annual Income $', continuous=True, dataset=dataset,\n",
    "         x1limit=True, x2limit=True, x1l=-1, x1u=350000, x2l=-1, x2u=200000)\n",
    "# Because the plot is right skewed we take a log transform of the annual income\n",
    "dataset['log_annual_inc'] = dataset['annual_inc'].apply(lambda x: np.log(x + 1))\n",
    "dataset.drop('annual_inc', axis=1, inplace=True)\n",
    "print(dataset.groupby('loan_status')['log_annual_inc'].describe())\n",
    "plot_var('log_annual_inc', 'Log Annual Income', continuous=True, dataset=dataset,\n",
    "         x1limit=True, x2limit=True, x1l=9, x1u=14, x2l=9, x2u=14)"
   ]
  },
  {
   "cell_type": "markdown",
   "metadata": {
    "slideshow": {
     "slide_type": "-"
    }
   },
   "source": [
    "It seems that those with higher annual income are less risk"
   ]
  },
  {
   "cell_type": "markdown",
   "metadata": {},
   "source": [
    "### Application Type (Categorical)\n",
    "Indicates whether the loan is an individual application or a joint application with two co-borrowers"
   ]
  },
  {
   "cell_type": "code",
   "execution_count": 8,
   "metadata": {},
   "outputs": [
    {
     "name": "stdout",
     "output_type": "stream",
     "text": [
      "loan_status  application_type\n",
      "Default      Individual          17551\n",
      "             Joint App             943\n",
      "Fully Paid   Individual          27609\n",
      "             Joint App            1536\n",
      "Name: application_type, dtype: int64\n"
     ]
    },
    {
     "data": {
      "image/png": "[encoded data removed]",
      "text/plain": [
       "<Figure size 1080x270 with 2 Axes>"
      ]
     },
     "metadata": {
      "needs_background": "light"
     },
     "output_type": "display_data"
    }
   ],
   "source": [
    "print(dataset.groupby('loan_status')['application_type'].value_counts(dropna=False))\n",
    "plot_var('application_type', 'Application Type', continuous=False, dataset=dataset)"
   ]
  },
  {
   "cell_type": "markdown",
   "metadata": {},
   "source": [
    "There does not seem to be a strong correlation between risk and application_type. Both risk around the same percentage."
   ]
  },
  {
   "cell_type": "markdown",
   "metadata": {},
   "source": [
    "### Debt to Income Ratio (Numerical)\n",
    "A ratio calculated using the borrower’s total monthly debt payments on the total debt obligations, excluding mortgage and the requested LC loan, divided by the borrower’s self-reported monthly income"
   ]
  },
  {
   "cell_type": "code",
   "execution_count": 9,
   "metadata": {},
   "outputs": [
    {
     "name": "stdout",
     "output_type": "stream",
     "text": [
      "               count       mean        std  min    25%    50%    75%     max\n",
      "loan_status                                                                 \n",
      "Default      18486.0  20.346391  12.928459  0.0  13.77  19.98  26.31  886.77\n",
      "Fully Paid   29126.0  18.066659  13.751295  0.0  11.48  17.19  23.52  999.00\n"
     ]
    },
    {
     "data": {
      "image/png": "[encoded data removed]",
      "text/plain": [
       "<Figure size 1080x270 with 2 Axes>"
      ]
     },
     "metadata": {
      "needs_background": "light"
     },
     "output_type": "display_data"
    }
   ],
   "source": [
    "# dummy = dataset.loc[dataset['dti'].notnull() & (dataset['dti']<60), 'dti']\n",
    "print(dataset.groupby('loan_status')['dti'].describe())\n",
    "plot_var('dti', 'Debt To Income Ratio', continuous=True, dataset=dataset,\n",
    "         x1limit=True, x2limit=True, x1l=0, x1u=40, x2l=0, x2u=60)\n",
    "# sns.distplot(dataset.loc[dataset['dti'].notnull() & (dataset['dti']<60), 'dti'], kde=False)\n",
    "# plt.xlabel('Debt-to-income Ratio')\n",
    "# plt.ylabel('Count')\n",
    "# plt.title('Debt-to-income Ratio')"
   ]
  },
  {
   "cell_type": "markdown",
   "metadata": {},
   "source": [
    "It seems that a higher debt to income ratio has a higher probability of charged off"
   ]
  },
  {
   "cell_type": "markdown",
   "metadata": {},
   "source": [
    "### Delinquency (Categorical)\n",
    "The number of 30+ days past-due incidences of delinquency in the borrower's credit file for the past 2 years"
   ]
  },
  {
   "cell_type": "code",
   "execution_count": 10,
   "metadata": {},
   "outputs": [
    {
     "name": "stdout",
     "output_type": "stream",
     "text": [
      "loan_status  delinq_2yrs\n",
      "Default      0              14465\n",
      "             1               2587\n",
      "             2               1442\n",
      "Fully Paid   0              23444\n",
      "             1               3817\n",
      "             2               1884\n",
      "Name: delinq_2yrs, dtype: int64\n"
     ]
    },
    {
     "data": {
      "image/png": "[encoded data removed]",
      "text/plain": [
       "<Figure size 1080x270 with 2 Axes>"
      ]
     },
     "metadata": {
      "needs_background": "light"
     },
     "output_type": "display_data"
    }
   ],
   "source": [
    "dataset['delinq_2yrs'].values[dataset['delinq_2yrs'] > 1] = 2\n",
    "print(dataset.groupby('loan_status')['delinq_2yrs'].value_counts(dropna=False))\n",
    "plot_var('delinq_2yrs', 'Number of Delinquencies', continuous=False, dataset=dataset)"
   ]
  },
  {
   "cell_type": "markdown",
   "metadata": {},
   "source": [
    "There seems to be an increasing trend in charge-off rate and increasing number of delinquencies but it is small. Whether or not this is significant remains to be seen."
   ]
  },
  {
   "cell_type": "markdown",
   "metadata": {},
   "source": [
    "### Earliest Credit Line (Numerical)\n",
    "The month the borrower's earliest reported credit line was opened."
   ]
  },
  {
   "cell_type": "code",
   "execution_count": 11,
   "metadata": {},
   "outputs": [
    {
     "name": "stdout",
     "output_type": "stream",
     "text": [
      "               count         mean       std     min     25%     50%     75%  \\\n",
      "loan_status                                                                   \n",
      "Default      18494.0  2000.799773  7.758312  1953.0  1997.0  2002.0  2006.0   \n",
      "Fully Paid   29145.0  2000.470647  7.565745  1958.0  1997.0  2002.0  2005.0   \n",
      "\n",
      "                max  \n",
      "loan_status          \n",
      "Default      2014.0  \n",
      "Fully Paid   2014.0  \n"
     ]
    },
    {
     "data": {
      "image/png": "[encoded data removed]",
      "text/plain": [
       "<Figure size 1080x270 with 2 Axes>"
      ]
     },
     "metadata": {
      "needs_background": "light"
     },
     "output_type": "display_data"
    }
   ],
   "source": [
    "# dataset['earliest_cr_line'] = pd.to_datetime(dataset['earliest_cr_line'], format='%b-%y').dt.year\n",
    "dataset['earliest_cr_line'] = dataset['earliest_cr_line'].apply(lambda s: int(s[-2:]))\n",
    "dataset.loc[dataset['earliest_cr_line'] > 20, 'earliest_cr_line'] += 1900\n",
    "dataset.loc[dataset['earliest_cr_line'] < 20, 'earliest_cr_line'] += 2000\n",
    "print(dataset.groupby('loan_status')['earliest_cr_line'].describe())\n",
    "plot_var('earliest_cr_line', 'Earliest Credit Line', continuous=True, dataset=dataset)"
   ]
  },
  {
   "cell_type": "markdown",
   "metadata": {},
   "source": [
    "Surprisingly, when a person first obtained credit seems irrelevant."
   ]
  },
  {
   "cell_type": "markdown",
   "metadata": {},
   "source": [
    "### Employment Length (Categorical)\n",
    "Employment length in years. Possible values are between 0 and 10 where 0 means less than one year and 10 means ten or more years."
   ]
  },
  {
   "cell_type": "code",
   "execution_count": 12,
   "metadata": {},
   "outputs": [
    {
     "name": "stdout",
     "output_type": "stream",
     "text": [
      "loan_status  emp_length\n",
      "Default      0.0            1541\n",
      "             1.0            1328\n",
      "             2.0            1823\n",
      "             3.0            1581\n",
      "             4.0            1099\n",
      "             5.0            1152\n",
      "             6.0             732\n",
      "             7.0             650\n",
      "             8.0             582\n",
      "             9.0             627\n",
      "             10.0           5630\n",
      "             NaN            1749\n",
      "Fully Paid   0.0            2454\n",
      "             1.0            1879\n",
      "             2.0            2654\n",
      "             3.0            2349\n",
      "             4.0            1793\n",
      "             5.0            1788\n",
      "             6.0            1311\n",
      "             7.0            1054\n",
      "             8.0             856\n",
      "             9.0            1101\n",
      "             10.0          10213\n",
      "             NaN            1693\n",
      "Name: emp_length, dtype: int64\n"
     ]
    },
    {
     "data": {
      "image/png": "[encoded data removed]",
      "text/plain": [
       "<Figure size 1080x270 with 2 Axes>"
      ]
     },
     "metadata": {
      "needs_background": "light"
     },
     "output_type": "display_data"
    }
   ],
   "source": [
    "dataset['emp_length'].replace('< 1 year', 0, inplace=True)\n",
    "dataset['emp_length'].replace('1 year', 1, inplace=True)\n",
    "dataset['emp_length'].replace('2 years', 2, inplace=True)\n",
    "dataset['emp_length'].replace('3 years', 3, inplace=True)\n",
    "dataset['emp_length'].replace('4 years', 4, inplace=True)\n",
    "dataset['emp_length'].replace('5 years', 5, inplace=True)\n",
    "dataset['emp_length'].replace('6 years', 6, inplace=True)\n",
    "dataset['emp_length'].replace('7 years', 7, inplace=True)\n",
    "dataset['emp_length'].replace('8 years', 8, inplace=True)\n",
    "dataset['emp_length'].replace('9 years', 9, inplace=True)\n",
    "dataset['emp_length'].replace('10+ years', 10, inplace=True)\n",
    "print(dataset.groupby('loan_status')['emp_length'].value_counts(dropna=False).sort_index())\n",
    "plot_var('emp_length', 'Employment Length by Year', continuous=False, dataset=dataset)"
   ]
  },
  {
   "cell_type": "markdown",
   "metadata": {},
   "source": [
    "Doesn't seem to be much of a significant pattern here"
   ]
  },
  {
   "cell_type": "markdown",
   "metadata": {},
   "source": [
    "### Home Ownership (Categorical)\n",
    "The home ownership status provided by the borrower during registration or obtained from the credit report."
   ]
  },
  {
   "cell_type": "code",
   "execution_count": 13,
   "metadata": {},
   "outputs": [
    {
     "name": "stdout",
     "output_type": "stream",
     "text": [
      "loan_status  home_ownership\n",
      "Default      RENT               8501\n",
      "             MORTGAGE           7781\n",
      "             OWN                2212\n",
      "Fully Paid   MORTGAGE          15652\n",
      "             RENT              10148\n",
      "             OWN                3345\n",
      "Name: home_ownership, dtype: int64\n"
     ]
    },
    {
     "data": {
      "image/png": "[encoded data removed]",
      "text/plain": [
       "<Figure size 1080x270 with 2 Axes>"
      ]
     },
     "metadata": {
      "needs_background": "light"
     },
     "output_type": "display_data"
    }
   ],
   "source": [
    "# dataset['home_ownership'].replace(['NONE', 'ANY'], 'NaN', inplace=True)\n",
    "dataset['home_ownership'].replace(['NONE', 'ANY'], 'MORTGAGE', inplace=True)\n",
    "print(dataset.groupby('loan_status')['home_ownership'].value_counts(dropna=False))\n",
    "plot_var('home_ownership', 'Home Ownership', continuous=False, dataset=dataset)\n",
    "# dataset['home_ownership'].replace('NaN', np.nan, inplace=True)"
   ]
  },
  {
   "cell_type": "markdown",
   "metadata": {},
   "source": [
    "Interestingly those with a mortgage are more likely to pay off loans and those who rent are the least likely"
   ]
  },
  {
   "cell_type": "markdown",
   "metadata": {},
   "source": [
    "### Initial List Status (Categorical)\n",
    "The initial listing status of the loan. Possible values are – W, F"
   ]
  },
  {
   "cell_type": "code",
   "execution_count": 14,
   "metadata": {},
   "outputs": [
    {
     "name": "stdout",
     "output_type": "stream",
     "text": [
      "loan_status  initial_list_status\n",
      "Default      w                      12515\n",
      "             f                       5979\n",
      "Fully Paid   w                      21390\n",
      "             f                       7755\n",
      "Name: initial_list_status, dtype: int64\n"
     ]
    },
    {
     "data": {
      "image/png": "[encoded data removed]",
      "text/plain": [
       "<Figure size 1080x270 with 2 Axes>"
      ]
     },
     "metadata": {
      "needs_background": "light"
     },
     "output_type": "display_data"
    }
   ],
   "source": [
    "print(dataset.groupby('loan_status')['initial_list_status'].value_counts(dropna=False))\n",
    "plot_var('initial_list_status', 'Initial List Status', continuous=False, dataset=dataset)"
   ]
  },
  {
   "cell_type": "markdown",
   "metadata": {},
   "source": [
    "Theres does not seem to be much information gained from Initial List status"
   ]
  },
  {
   "cell_type": "markdown",
   "metadata": {},
   "source": [
    "### Installment (Numerical)\n",
    "The monthly payment owed by the borrower if the loan originates."
   ]
  },
  {
   "cell_type": "code",
   "execution_count": 15,
   "metadata": {
    "slideshow": {
     "slide_type": "-"
    }
   },
   "outputs": [
    {
     "name": "stdout",
     "output_type": "stream",
     "text": [
      "               count        mean         std    min     25%     50%     75%  \\\n",
      "loan_status                                                                   \n",
      "Default      18494.0  490.309022  298.855772  30.99  271.45  410.35  659.43   \n",
      "Fully Paid   29145.0  420.773546  281.422908  30.12  212.75  341.41  559.44   \n",
      "\n",
      "                 max  \n",
      "loan_status           \n",
      "Default      1566.80  \n",
      "Fully Paid   1587.23  \n",
      "               count      mean       std       min       25%       50%  \\\n",
      "loan_status                                                              \n",
      "Default      18494.0  5.995530  0.676362  3.465423  5.607455  6.019444   \n",
      "Fully Paid   29145.0  5.811583  0.722315  3.437851  5.364807  5.836009   \n",
      "\n",
      "                  75%       max  \n",
      "loan_status                      \n",
      "Default      6.492891  7.357429  \n",
      "Fully Paid   6.328722  7.370375  \n"
     ]
    },
    {
     "data": {
      "image/png": "[encoded data removed]",
      "text/plain": [
       "<Figure size 1080x270 with 2 Axes>"
      ]
     },
     "metadata": {
      "needs_background": "light"
     },
     "output_type": "display_data"
    },
    {
     "data": {
      "image/png": "[encoded data removed]",
      "text/plain": [
       "<Figure size 1080x270 with 2 Axes>"
      ]
     },
     "metadata": {
      "needs_background": "light"
     },
     "output_type": "display_data"
    }
   ],
   "source": [
    "print(dataset.groupby('loan_status')['installment'].describe())\n",
    "plot_var('installment', 'Installment', continuous=True, dataset=dataset)\n",
    "# since the plot is left skewed, we take the log transformation\n",
    "dataset['log_installment'] = dataset['installment'].apply(lambda x: np.log(x + 1))\n",
    "dataset.drop('installment', axis=1, inplace=True)\n",
    "print(dataset.groupby('loan_status')['log_installment'].describe())\n",
    "plot_var('log_installment', 'Log Installment', continuous=True, dataset=dataset)"
   ]
  },
  {
   "cell_type": "markdown",
   "metadata": {},
   "source": [
    "It seems those with higher installments are more likely to be charged off"
   ]
  },
  {
   "cell_type": "markdown",
   "metadata": {},
   "source": [
    "### Interest Rate (Numerical)\n",
    "Interest Rate on the loan"
   ]
  },
  {
   "cell_type": "code",
   "execution_count": 16,
   "metadata": {
    "slideshow": {
     "slide_type": "-"
    }
   },
   "outputs": [
    {
     "name": "stdout",
     "output_type": "stream",
     "text": [
      "               count       mean       std   min    25%    50%    75%    max\n",
      "loan_status                                                                \n",
      "Default      18494.0  16.556265  5.858256  5.32  12.74  15.05  18.99  30.99\n",
      "Fully Paid   29145.0  13.215077  5.276465  5.32   9.93  12.62  15.99  30.99\n"
     ]
    },
    {
     "data": {
      "image/png": "[encoded data removed]",
      "text/plain": [
       "<Figure size 1080x270 with 2 Axes>"
      ]
     },
     "metadata": {
      "needs_background": "light"
     },
     "output_type": "display_data"
    }
   ],
   "source": [
    "dataset['int_rate'] = dataset['int_rate'].str.rstrip('%').astype('float')\n",
    "print(dataset.groupby('loan_status')['int_rate'].describe())\n",
    "plot_var('int_rate', 'Interest Rate', continuous=True, dataset=dataset)"
   ]
  },
  {
   "cell_type": "markdown",
   "metadata": {},
   "source": [
    "There seems to be a much higher interest rate on average for loans that charge off"
   ]
  },
  {
   "cell_type": "markdown",
   "metadata": {},
   "source": [
    "### Loan Amount (Numerical)\n",
    "The listed amount of the loan applied for by the borrower. If at some point in time, the credit department reduces the loan amount, then it will be reflected in this value."
   ]
  },
  {
   "cell_type": "code",
   "execution_count": 17,
   "metadata": {
    "slideshow": {
     "slide_type": "-"
    }
   },
   "outputs": [
    {
     "name": "stdout",
     "output_type": "stream",
     "text": [
      "               count          mean          std     min     25%      50%  \\\n",
      "loan_status                                                                \n",
      "Default      18494.0  15645.820266  9411.036948  1000.0  8000.0  14000.0   \n",
      "Fully Paid   29145.0  13690.972723  9244.813927  1000.0  6400.0  11200.0   \n",
      "\n",
      "                 75%      max  \n",
      "loan_status                    \n",
      "Default      21000.0  40000.0  \n",
      "Fully Paid   19200.0  40000.0  \n"
     ]
    },
    {
     "data": {
      "image/png": "[encoded data removed]",
      "text/plain": [
       "<Figure size 1080x270 with 2 Axes>"
      ]
     },
     "metadata": {
      "needs_background": "light"
     },
     "output_type": "display_data"
    }
   ],
   "source": [
    "print(dataset.groupby('loan_status')['loan_amnt'].describe())\n",
    "plot_var('loan_amnt', 'Loan Amount', continuous=True, dataset=dataset)"
   ]
  },
  {
   "cell_type": "markdown",
   "metadata": {},
   "source": [
    "It seems charged off loans have a higher loan amount"
   ]
  },
  {
   "cell_type": "markdown",
   "metadata": {},
   "source": [
    "### Mortgage Accounts (Numerical)\n",
    "Number of mortgage accounts"
   ]
  },
  {
   "cell_type": "code",
   "execution_count": 18,
   "metadata": {},
   "outputs": [
    {
     "name": "stdout",
     "output_type": "stream",
     "text": [
      "loan_status  mort_acc\n",
      "Default      0            9093\n",
      "             1            3457\n",
      "             2            2514\n",
      "             3            1639\n",
      "             4             914\n",
      "             5             475\n",
      "             6             216\n",
      "             7             100\n",
      "             8              42\n",
      "             9              28\n",
      "             10             16\n",
      "Fully Paid   0           11003\n",
      "             1            5592\n",
      "             2            4767\n",
      "             3            3288\n",
      "             4            2163\n",
      "             5            1118\n",
      "             6             608\n",
      "             7             290\n",
      "             8             171\n",
      "             10             80\n",
      "             9              65\n",
      "Name: mort_acc, dtype: int64\n"
     ]
    },
    {
     "data": {
      "image/png": "[encoded data removed]",
      "text/plain": [
       "<Figure size 1080x270 with 2 Axes>"
      ]
     },
     "metadata": {
      "needs_background": "light"
     },
     "output_type": "display_data"
    }
   ],
   "source": [
    "dataset.loc[dataset['mort_acc'] > 9, 'mort_acc'] = 10\n",
    "print(dataset.groupby('loan_status')['mort_acc'].value_counts(dropna=False))\n",
    "plot_var('mort_acc', 'Mortgage Accounts', continuous=True, dataset=dataset)"
   ]
  },
  {
   "cell_type": "markdown",
   "metadata": {},
   "source": [
    "Currently there does not seem to be a significant difference"
   ]
  },
  {
   "cell_type": "markdown",
   "metadata": {},
   "source": [
    "### Open Account (Numerical)\n",
    "The number of open credit lines in the borrower's credit file."
   ]
  },
  {
   "cell_type": "code",
   "execution_count": 19,
   "metadata": {},
   "outputs": [
    {
     "name": "stdout",
     "output_type": "stream",
     "text": [
      "               count       mean       std  min  25%   50%   75%   max\n",
      "loan_status                                                          \n",
      "Default      18494.0  11.944306  5.770755  1.0  8.0  11.0  15.0  68.0\n",
      "Fully Paid   29145.0  11.825630  5.743959  0.0  8.0  11.0  15.0  88.0\n"
     ]
    },
    {
     "data": {
      "image/png": "[encoded data removed]",
      "text/plain": [
       "<Figure size 1080x270 with 2 Axes>"
      ]
     },
     "metadata": {
      "needs_background": "light"
     },
     "output_type": "display_data"
    }
   ],
   "source": [
    "print(dataset.groupby('loan_status')['open_acc'].describe())\n",
    "plot_var('open_acc', 'Open Credit Lines', continuous=True, dataset=dataset,\n",
    "         x1limit=True, x2limit=True, x1l=0, x1u=40, x2l=0, x2u=30)"
   ]
  },
  {
   "cell_type": "markdown",
   "metadata": {},
   "source": [
    "Does not seem to be a good indicator of risk"
   ]
  },
  {
   "cell_type": "markdown",
   "metadata": {},
   "source": [
    "### Public Record (Categorical)\n",
    "Number of derogatory public records"
   ]
  },
  {
   "cell_type": "code",
   "execution_count": 20,
   "metadata": {
    "scrolled": true
   },
   "outputs": [
    {
     "name": "stdout",
     "output_type": "stream",
     "text": [
      "loan_status  pub_rec     \n",
      "Default      None            14254\n",
      "             At least one     4240\n",
      "Fully Paid   None            22937\n",
      "             At least one     6208\n",
      "Name: pub_rec, dtype: int64\n"
     ]
    },
    {
     "data": {
      "image/png": "[encoded data removed]",
      "text/plain": [
       "<Figure size 1080x270 with 2 Axes>"
      ]
     },
     "metadata": {
      "needs_background": "light"
     },
     "output_type": "display_data"
    }
   ],
   "source": [
    "dataset['pub_rec'] = pd.cut(dataset['pub_rec'], [0, 0.9, 25], labels=['None', 'At least one'], include_lowest=True)\n",
    "print(dataset.groupby('loan_status')['pub_rec'].value_counts(dropna=False))\n",
    "plot_var('pub_rec', 'Public Records', continuous=False, dataset=dataset)"
   ]
  },
  {
   "cell_type": "markdown",
   "metadata": {},
   "source": [
    "Loan default rate does not seem to change much by derogatory public records"
   ]
  },
  {
   "cell_type": "markdown",
   "metadata": {},
   "source": [
    "### Public Record of Bankruptcies (Categorical)\n",
    "Number of public record bankruptcies"
   ]
  },
  {
   "cell_type": "code",
   "execution_count": 21,
   "metadata": {},
   "outputs": [
    {
     "name": "stdout",
     "output_type": "stream",
     "text": [
      "loan_status  pub_rec_bankruptcies\n",
      "Default      None                    15508\n",
      "             At least one             2986\n",
      "Fully Paid   None                    24732\n",
      "             At least one             4413\n",
      "Name: pub_rec_bankruptcies, dtype: int64\n"
     ]
    },
    {
     "data": {
      "image/png": "[encoded data removed]",
      "text/plain": [
       "<Figure size 1080x270 with 2 Axes>"
      ]
     },
     "metadata": {
      "needs_background": "light"
     },
     "output_type": "display_data"
    }
   ],
   "source": [
    "dataset['pub_rec_bankruptcies'] = pd.cut(dataset['pub_rec_bankruptcies'], [0, 0.9, 25], \n",
    "                                         labels=['None', 'At least one'], include_lowest=True)\n",
    "print(dataset.groupby('loan_status')['pub_rec_bankruptcies'].value_counts(dropna=False))\n",
    "plot_var('pub_rec_bankruptcies', 'Bankruptcies', continuous=False, dataset=dataset)"
   ]
  },
  {
   "cell_type": "markdown",
   "metadata": {},
   "source": [
    "Loan default rate does not seem to change much by public bankruptcies records"
   ]
  },
  {
   "cell_type": "markdown",
   "metadata": {},
   "source": [
    "### Purpose (Categorical)\n",
    "A category provided by the borrower for the loan request"
   ]
  },
  {
   "cell_type": "code",
   "execution_count": 22,
   "metadata": {},
   "outputs": [
    {
     "data": {
      "text/plain": [
       "purpose\n",
       "car                   0.294828\n",
       "home_improvement      0.323486\n",
       "vacation              0.330827\n",
       "house                 0.337255\n",
       "major_purchase        0.351542\n",
       "credit_card           0.368047\n",
       "other                 0.397081\n",
       "debt_consolidation    0.403409\n",
       "moving                0.415217\n",
       "renewable_energy      0.419355\n",
       "medical               0.420624\n",
       "small_business        0.577143\n",
       "Name: loan_status, dtype: float64"
      ]
     },
     "execution_count": 22,
     "metadata": {},
     "output_type": "execute_result"
    }
   ],
   "source": [
    "dataset.groupby('purpose')['loan_status'].value_counts(normalize=True).loc[:, 'Default'].sort_values()"
   ]
  },
  {
   "cell_type": "markdown",
   "metadata": {},
   "source": [
    "### Revolving Balance (Numerical)\n",
    "Total credit revolving balance"
   ]
  },
  {
   "cell_type": "code",
   "execution_count": 23,
   "metadata": {},
   "outputs": [
    {
     "name": "stdout",
     "output_type": "stream",
     "text": [
      "               count          mean           std  min      25%      50%  \\\n",
      "loan_status                                                               \n",
      "Default      18494.0  15708.679734  17434.382178  0.0  6293.25  11532.0   \n",
      "Fully Paid   29145.0  15601.315080  24339.574929  0.0  5176.00  10103.0   \n",
      "\n",
      "                  75%        max  \n",
      "loan_status                       \n",
      "Default      19428.75   354794.0  \n",
      "Fully Paid   18214.00  1039013.0  \n",
      "               count      mean       std  min       25%       50%       75%  \\\n",
      "loan_status                                                                   \n",
      "Default      18494.0  9.226252  1.132146  0.0  8.747392  9.352968  9.874561   \n",
      "Fully Paid   29145.0  9.078444  1.308805  0.0  8.551981  9.220687  9.810001   \n",
      "\n",
      "                   max  \n",
      "loan_status             \n",
      "Default      12.779295  \n",
      "Fully Paid   13.853783  \n"
     ]
    },
    {
     "data": {
      "image/png": "[encoded data removed]",
      "text/plain": [
       "<Figure size 1080x270 with 2 Axes>"
      ]
     },
     "metadata": {
      "needs_background": "light"
     },
     "output_type": "display_data"
    },
    {
     "data": {
      "image/png": "[encoded data removed]",
      "text/plain": [
       "<Figure size 1080x270 with 2 Axes>"
      ]
     },
     "metadata": {
      "needs_background": "light"
     },
     "output_type": "display_data"
    }
   ],
   "source": [
    "print(dataset.groupby('loan_status')['revol_bal'].describe())\n",
    "plot_var('revol_bal', 'Revolving Balance in $', continuous=True, dataset=dataset,\n",
    "         x1limit=True, x2limit=True, x1l=0, x1u=80000, x2l=0, x2u=40000)\n",
    "# Seems like the data is heavily right skewed with a large range due to large outliers so we take the log transformation\n",
    "dataset['log_revol_bal'] = dataset['revol_bal'].apply(lambda x: np.log(x + 1))\n",
    "dataset.drop('revol_bal', axis=1, inplace=True)\n",
    "print(dataset.groupby('loan_status')['log_revol_bal'].describe())\n",
    "plot_var('log_revol_bal', 'Log Revolving Balance in $', continuous=True, dataset=dataset)"
   ]
  },
  {
   "cell_type": "markdown",
   "metadata": {},
   "source": [
    "There is not much difference in the two categories for revolving balances"
   ]
  },
  {
   "cell_type": "markdown",
   "metadata": {},
   "source": [
    "### Revolving Utility (Numerical)\n",
    "Revolving line utilization rate, or the amount of credit the borrower is using relative to all available revolving credit."
   ]
  },
  {
   "cell_type": "code",
   "execution_count": 24,
   "metadata": {},
   "outputs": [
    {
     "name": "stdout",
     "output_type": "stream",
     "text": [
      "               count       mean        std  min   25%   50%   75%    max\n",
      "loan_status                                                             \n",
      "Default      18488.0  52.649946  23.650179  0.0  35.3  52.9  70.3  138.9\n",
      "Fully Paid   29120.0  44.685968  24.521824  0.0  25.4  43.3  62.9  125.2\n"
     ]
    },
    {
     "data": {
      "image/png": "[encoded data removed]",
      "text/plain": [
       "<Figure size 1080x270 with 2 Axes>"
      ]
     },
     "metadata": {
      "needs_background": "light"
     },
     "output_type": "display_data"
    }
   ],
   "source": [
    "dataset['revol_util'] = dataset['revol_util'].str.rstrip('%').astype('float')\n",
    "print(dataset.groupby('loan_status')['revol_util'].describe())\n",
    "plot_var('revol_util', 'Revolving Utility in %', continuous=True, dataset=dataset)"
   ]
  },
  {
   "cell_type": "markdown",
   "metadata": {},
   "source": [
    "It seems those with a lower revolving utility are more likely to pay off their loans"
   ]
  },
  {
   "cell_type": "markdown",
   "metadata": {},
   "source": [
    "### Grade (Categorical)\n",
    "LendingClub assigned loan grade. The higher the letter, the safer the loan."
   ]
  },
  {
   "cell_type": "code",
   "execution_count": 25,
   "metadata": {
    "slideshow": {
     "slide_type": "-"
    }
   },
   "outputs": [
    {
     "data": {
      "image/png": "[encoded data removed]",
      "text/plain": [
       "<Figure size 1080x270 with 2 Axes>"
      ]
     },
     "metadata": {
      "needs_background": "light"
     },
     "output_type": "display_data"
    }
   ],
   "source": [
    "plot_var('grade', 'Grade', continuous=False, dataset=dataset)"
   ]
  },
  {
   "cell_type": "markdown",
   "metadata": {},
   "source": [
    "There seems to be a strong trend between charge off rate and deteriorating grade"
   ]
  },
  {
   "cell_type": "markdown",
   "metadata": {},
   "source": [
    "### Term (Categorical)\n",
    "The number of payments on the loan. Values are in months and can be either 36 or 60"
   ]
  },
  {
   "cell_type": "code",
   "execution_count": 26,
   "metadata": {},
   "outputs": [
    {
     "name": "stdout",
     "output_type": "stream",
     "text": [
      "loan_status  term\n",
      "Default      36      12599\n",
      "             60       5895\n",
      "Fully Paid   36      23073\n",
      "             60       6072\n",
      "Name: term, dtype: int64\n"
     ]
    },
    {
     "data": {
      "image/png": "[encoded data removed]",
      "text/plain": [
       "<Figure size 1080x270 with 2 Axes>"
      ]
     },
     "metadata": {
      "needs_background": "light"
     },
     "output_type": "display_data"
    }
   ],
   "source": [
    "# dataset['term'].replace('36 months', 36, inplace=True)\n",
    "# dataset['term'].replace('60 months', 60, inplace=True)\n",
    "dataset['term'] = dataset['term'].apply(lambda s: np.int8(s.split()[0]))\n",
    "print(dataset.groupby('loan_status')['term'].value_counts(dropna=False))\n",
    "plot_var('term', 'Term (months)', continuous=False, dataset=dataset)"
   ]
  },
  {
   "cell_type": "markdown",
   "metadata": {},
   "source": [
    "Loan Duration or how long to maturity seems to be important and a good indicator of risk of default. A longer duration has a higher risk that the loan will not be repaid.  "
   ]
  },
  {
   "cell_type": "markdown",
   "metadata": {},
   "source": [
    "### Total Accounts (Numerical)\n",
    "The total number of credit lines currently in the borrower's credit file"
   ]
  },
  {
   "cell_type": "code",
   "execution_count": 27,
   "metadata": {
    "scrolled": true
   },
   "outputs": [
    {
     "name": "stdout",
     "output_type": "stream",
     "text": [
      "               count       mean        std  min   25%   50%   75%    max\n",
      "loan_status                                                             \n",
      "Default      18494.0  23.766843  11.858529  2.0  15.0  22.0  30.0  121.0\n",
      "Fully Paid   29145.0  24.859633  12.233984  2.0  16.0  23.0  31.0  146.0\n"
     ]
    },
    {
     "data": {
      "image/png": "[encoded data removed]",
      "text/plain": [
       "<Figure size 1080x270 with 2 Axes>"
      ]
     },
     "metadata": {
      "needs_background": "light"
     },
     "output_type": "display_data"
    }
   ],
   "source": [
    "print(dataset.groupby('loan_status')['total_acc'].describe())\n",
    "plot_var('total_acc', 'Number of Total Accounts', continuous=True, dataset=dataset)"
   ]
  },
  {
   "cell_type": "markdown",
   "metadata": {},
   "source": [
    "There does not seem to be a significant difference in charge off rate depending on the total account number"
   ]
  },
  {
   "cell_type": "markdown",
   "metadata": {},
   "source": [
    "### Verification Status (Categorical)\n",
    "Indicates if income was verified, not verified, or if the income source was verified."
   ]
  },
  {
   "cell_type": "code",
   "execution_count": 28,
   "metadata": {
    "slideshow": {
     "slide_type": "-"
    }
   },
   "outputs": [
    {
     "name": "stdout",
     "output_type": "stream",
     "text": [
      "loan_status  verification_status\n",
      "Default      Source Verified         7559\n",
      "             Verified                6761\n",
      "             Not Verified            4174\n",
      "Fully Paid   Source Verified        11607\n",
      "             Not Verified           10330\n",
      "             Verified                7208\n",
      "Name: verification_status, dtype: int64\n"
     ]
    },
    {
     "data": {
      "image/png": "[encoded data removed]",
      "text/plain": [
       "<Figure size 1080x270 with 2 Axes>"
      ]
     },
     "metadata": {
      "needs_background": "light"
     },
     "output_type": "display_data"
    }
   ],
   "source": [
    "print(dataset.groupby('loan_status')['verification_status'].value_counts(dropna=False))\n",
    "plot_var('verification_status', 'Verification Status', continuous=False, dataset=dataset)"
   ]
  },
  {
   "cell_type": "markdown",
   "metadata": {},
   "source": [
    "There seems to be a strong linear trend between charged off rate and verification status. Surprisingly, loans with a status of verified have a higher chance of becoming charged off."
   ]
  },
  {
   "cell_type": "markdown",
   "metadata": {},
   "source": [
    "# Preliminary Model Design"
   ]
  },
  {
   "cell_type": "markdown",
   "metadata": {},
   "source": [
    "### Create dummy variables\n",
    "1(negative class) means charged-off and 0(positive class) means fully paid and create dummy variables for all categorical variables"
   ]
  },
  {
   "cell_type": "code",
   "execution_count": 29,
   "metadata": {},
   "outputs": [
    {
     "data": {
      "text/html": [
       "<div>\n",
       "<style scoped>\n",
       "    .dataframe tbody tr th:only-of-type {\n",
       "        vertical-align: middle;\n",
       "    }\n",
       "\n",
       "    .dataframe tbody tr th {\n",
       "        vertical-align: top;\n",
       "    }\n",
       "\n",
       "    .dataframe thead th {\n",
       "        text-align: right;\n",
       "    }\n",
       "</style>\n",
       "<table border=\"1\" class=\"dataframe\">\n",
       "  <thead>\n",
       "    <tr style=\"text-align: right;\">\n",
       "      <th></th>\n",
       "      <th>loan_amnt</th>\n",
       "      <th>term</th>\n",
       "      <th>int_rate</th>\n",
       "      <th>emp_length</th>\n",
       "      <th>loan_status</th>\n",
       "      <th>dti</th>\n",
       "      <th>delinq_2yrs</th>\n",
       "      <th>earliest_cr_line</th>\n",
       "      <th>open_acc</th>\n",
       "      <th>revol_util</th>\n",
       "      <th>total_acc</th>\n",
       "      <th>total_pymnt</th>\n",
       "      <th>mort_acc</th>\n",
       "      <th>log_annual_inc</th>\n",
       "      <th>log_installment</th>\n",
       "      <th>log_revol_bal</th>\n",
       "      <th>grade_B</th>\n",
       "      <th>grade_C</th>\n",
       "      <th>grade_D</th>\n",
       "      <th>grade_E</th>\n",
       "      <th>grade_F</th>\n",
       "      <th>grade_G</th>\n",
       "      <th>home_ownership_OWN</th>\n",
       "      <th>home_ownership_RENT</th>\n",
       "      <th>verification_status_Source Verified</th>\n",
       "      <th>verification_status_Verified</th>\n",
       "      <th>purpose_credit_card</th>\n",
       "      <th>purpose_debt_consolidation</th>\n",
       "      <th>purpose_home_improvement</th>\n",
       "      <th>purpose_house</th>\n",
       "      <th>purpose_major_purchase</th>\n",
       "      <th>purpose_medical</th>\n",
       "      <th>purpose_moving</th>\n",
       "      <th>purpose_other</th>\n",
       "      <th>purpose_renewable_energy</th>\n",
       "      <th>purpose_small_business</th>\n",
       "      <th>purpose_vacation</th>\n",
       "      <th>initial_list_status_w</th>\n",
       "      <th>application_type_Joint App</th>\n",
       "      <th>pub_rec_At least one</th>\n",
       "      <th>pub_rec_bankruptcies_At least one</th>\n",
       "    </tr>\n",
       "  </thead>\n",
       "  <tbody>\n",
       "    <tr>\n",
       "      <th>0</th>\n",
       "      <td>5000</td>\n",
       "      <td>36</td>\n",
       "      <td>7.35</td>\n",
       "      <td>5.0</td>\n",
       "      <td>0</td>\n",
       "      <td>15.76</td>\n",
       "      <td>0</td>\n",
       "      <td>2004</td>\n",
       "      <td>12</td>\n",
       "      <td>13.2</td>\n",
       "      <td>25</td>\n",
       "      <td>5385.245133</td>\n",
       "      <td>1</td>\n",
       "      <td>11.002117</td>\n",
       "      <td>5.051073</td>\n",
       "      <td>8.215547</td>\n",
       "      <td>0</td>\n",
       "      <td>0</td>\n",
       "      <td>0</td>\n",
       "      <td>0</td>\n",
       "      <td>0</td>\n",
       "      <td>0</td>\n",
       "      <td>0</td>\n",
       "      <td>0</td>\n",
       "      <td>0</td>\n",
       "      <td>0</td>\n",
       "      <td>0</td>\n",
       "      <td>0</td>\n",
       "      <td>0</td>\n",
       "      <td>0</td>\n",
       "      <td>0</td>\n",
       "      <td>0</td>\n",
       "      <td>0</td>\n",
       "      <td>0</td>\n",
       "      <td>0</td>\n",
       "      <td>0</td>\n",
       "      <td>0</td>\n",
       "      <td>1</td>\n",
       "      <td>0</td>\n",
       "      <td>0</td>\n",
       "      <td>0</td>\n",
       "    </tr>\n",
       "    <tr>\n",
       "      <th>1</th>\n",
       "      <td>7500</td>\n",
       "      <td>36</td>\n",
       "      <td>7.35</td>\n",
       "      <td>7.0</td>\n",
       "      <td>0</td>\n",
       "      <td>13.12</td>\n",
       "      <td>0</td>\n",
       "      <td>2013</td>\n",
       "      <td>19</td>\n",
       "      <td>27.2</td>\n",
       "      <td>27</td>\n",
       "      <td>7642.289180</td>\n",
       "      <td>4</td>\n",
       "      <td>11.608245</td>\n",
       "      <td>5.454423</td>\n",
       "      <td>10.058309</td>\n",
       "      <td>0</td>\n",
       "      <td>0</td>\n",
       "      <td>0</td>\n",
       "      <td>0</td>\n",
       "      <td>0</td>\n",
       "      <td>0</td>\n",
       "      <td>0</td>\n",
       "      <td>0</td>\n",
       "      <td>0</td>\n",
       "      <td>0</td>\n",
       "      <td>0</td>\n",
       "      <td>1</td>\n",
       "      <td>0</td>\n",
       "      <td>0</td>\n",
       "      <td>0</td>\n",
       "      <td>0</td>\n",
       "      <td>0</td>\n",
       "      <td>0</td>\n",
       "      <td>0</td>\n",
       "      <td>0</td>\n",
       "      <td>0</td>\n",
       "      <td>1</td>\n",
       "      <td>0</td>\n",
       "      <td>0</td>\n",
       "      <td>0</td>\n",
       "    </tr>\n",
       "    <tr>\n",
       "      <th>2</th>\n",
       "      <td>9600</td>\n",
       "      <td>36</td>\n",
       "      <td>7.97</td>\n",
       "      <td>0.0</td>\n",
       "      <td>0</td>\n",
       "      <td>18.34</td>\n",
       "      <td>0</td>\n",
       "      <td>2005</td>\n",
       "      <td>16</td>\n",
       "      <td>48.6</td>\n",
       "      <td>44</td>\n",
       "      <td>10283.629660</td>\n",
       "      <td>3</td>\n",
       "      <td>11.849405</td>\n",
       "      <td>5.709433</td>\n",
       "      <td>9.376617</td>\n",
       "      <td>0</td>\n",
       "      <td>0</td>\n",
       "      <td>0</td>\n",
       "      <td>0</td>\n",
       "      <td>0</td>\n",
       "      <td>0</td>\n",
       "      <td>1</td>\n",
       "      <td>0</td>\n",
       "      <td>0</td>\n",
       "      <td>0</td>\n",
       "      <td>1</td>\n",
       "      <td>0</td>\n",
       "      <td>0</td>\n",
       "      <td>0</td>\n",
       "      <td>0</td>\n",
       "      <td>0</td>\n",
       "      <td>0</td>\n",
       "      <td>0</td>\n",
       "      <td>0</td>\n",
       "      <td>0</td>\n",
       "      <td>0</td>\n",
       "      <td>1</td>\n",
       "      <td>0</td>\n",
       "      <td>0</td>\n",
       "      <td>0</td>\n",
       "    </tr>\n",
       "    <tr>\n",
       "      <th>3</th>\n",
       "      <td>2000</td>\n",
       "      <td>36</td>\n",
       "      <td>7.07</td>\n",
       "      <td>2.0</td>\n",
       "      <td>0</td>\n",
       "      <td>12.15</td>\n",
       "      <td>0</td>\n",
       "      <td>2005</td>\n",
       "      <td>9</td>\n",
       "      <td>0.3</td>\n",
       "      <td>12</td>\n",
       "      <td>2097.014574</td>\n",
       "      <td>0</td>\n",
       "      <td>11.289794</td>\n",
       "      <td>4.140273</td>\n",
       "      <td>3.663562</td>\n",
       "      <td>0</td>\n",
       "      <td>0</td>\n",
       "      <td>0</td>\n",
       "      <td>0</td>\n",
       "      <td>0</td>\n",
       "      <td>0</td>\n",
       "      <td>0</td>\n",
       "      <td>1</td>\n",
       "      <td>0</td>\n",
       "      <td>0</td>\n",
       "      <td>0</td>\n",
       "      <td>0</td>\n",
       "      <td>0</td>\n",
       "      <td>0</td>\n",
       "      <td>0</td>\n",
       "      <td>1</td>\n",
       "      <td>0</td>\n",
       "      <td>0</td>\n",
       "      <td>0</td>\n",
       "      <td>0</td>\n",
       "      <td>0</td>\n",
       "      <td>1</td>\n",
       "      <td>0</td>\n",
       "      <td>0</td>\n",
       "      <td>0</td>\n",
       "    </tr>\n",
       "    <tr>\n",
       "      <th>4</th>\n",
       "      <td>7200</td>\n",
       "      <td>36</td>\n",
       "      <td>24.85</td>\n",
       "      <td>2.0</td>\n",
       "      <td>0</td>\n",
       "      <td>6.07</td>\n",
       "      <td>0</td>\n",
       "      <td>2000</td>\n",
       "      <td>4</td>\n",
       "      <td>98.9</td>\n",
       "      <td>5</td>\n",
       "      <td>7206.461000</td>\n",
       "      <td>0</td>\n",
       "      <td>10.819798</td>\n",
       "      <td>5.658436</td>\n",
       "      <td>8.177797</td>\n",
       "      <td>0</td>\n",
       "      <td>0</td>\n",
       "      <td>0</td>\n",
       "      <td>1</td>\n",
       "      <td>0</td>\n",
       "      <td>0</td>\n",
       "      <td>0</td>\n",
       "      <td>1</td>\n",
       "      <td>1</td>\n",
       "      <td>0</td>\n",
       "      <td>0</td>\n",
       "      <td>1</td>\n",
       "      <td>0</td>\n",
       "      <td>0</td>\n",
       "      <td>0</td>\n",
       "      <td>0</td>\n",
       "      <td>0</td>\n",
       "      <td>0</td>\n",
       "      <td>0</td>\n",
       "      <td>0</td>\n",
       "      <td>0</td>\n",
       "      <td>1</td>\n",
       "      <td>0</td>\n",
       "      <td>0</td>\n",
       "      <td>0</td>\n",
       "    </tr>\n",
       "  </tbody>\n",
       "</table>\n",
       "</div>"
      ],
      "text/plain": [
       "   loan_amnt  term  int_rate  emp_length  loan_status    dti  delinq_2yrs  \\\n",
       "0       5000    36      7.35         5.0            0  15.76            0   \n",
       "1       7500    36      7.35         7.0            0  13.12            0   \n",
       "2       9600    36      7.97         0.0            0  18.34            0   \n",
       "3       2000    36      7.07         2.0            0  12.15            0   \n",
       "4       7200    36     24.85         2.0            0   6.07            0   \n",
       "\n",
       "   earliest_cr_line  open_acc  revol_util  total_acc   total_pymnt  mort_acc  \\\n",
       "0              2004        12        13.2         25   5385.245133         1   \n",
       "1              2013        19        27.2         27   7642.289180         4   \n",
       "2              2005        16        48.6         44  10283.629660         3   \n",
       "3              2005         9         0.3         12   2097.014574         0   \n",
       "4              2000         4        98.9          5   7206.461000         0   \n",
       "\n",
       "   log_annual_inc  log_installment  log_revol_bal  grade_B  grade_C  grade_D  \\\n",
       "0       11.002117         5.051073       8.215547        0        0        0   \n",
       "1       11.608245         5.454423      10.058309        0        0        0   \n",
       "2       11.849405         5.709433       9.376617        0        0        0   \n",
       "3       11.289794         4.140273       3.663562        0        0        0   \n",
       "4       10.819798         5.658436       8.177797        0        0        0   \n",
       "\n",
       "   grade_E  grade_F  grade_G  home_ownership_OWN  home_ownership_RENT  \\\n",
       "0        0        0        0                   0                    0   \n",
       "1        0        0        0                   0                    0   \n",
       "2        0        0        0                   1                    0   \n",
       "3        0        0        0                   0                    1   \n",
       "4        1        0        0                   0                    1   \n",
       "\n",
       "   verification_status_Source Verified  verification_status_Verified  \\\n",
       "0                                    0                             0   \n",
       "1                                    0                             0   \n",
       "2                                    0                             0   \n",
       "3                                    0                             0   \n",
       "4                                    1                             0   \n",
       "\n",
       "   purpose_credit_card  purpose_debt_consolidation  purpose_home_improvement  \\\n",
       "0                    0                           0                         0   \n",
       "1                    0                           1                         0   \n",
       "2                    1                           0                         0   \n",
       "3                    0                           0                         0   \n",
       "4                    0                           1                         0   \n",
       "\n",
       "   purpose_house  purpose_major_purchase  purpose_medical  purpose_moving  \\\n",
       "0              0                       0                0               0   \n",
       "1              0                       0                0               0   \n",
       "2              0                       0                0               0   \n",
       "3              0                       0                1               0   \n",
       "4              0                       0                0               0   \n",
       "\n",
       "   purpose_other  purpose_renewable_energy  purpose_small_business  \\\n",
       "0              0                         0                       0   \n",
       "1              0                         0                       0   \n",
       "2              0                         0                       0   \n",
       "3              0                         0                       0   \n",
       "4              0                         0                       0   \n",
       "\n",
       "   purpose_vacation  initial_list_status_w  application_type_Joint App  \\\n",
       "0                 0                      1                           0   \n",
       "1                 0                      1                           0   \n",
       "2                 0                      1                           0   \n",
       "3                 0                      1                           0   \n",
       "4                 0                      1                           0   \n",
       "\n",
       "   pub_rec_At least one  pub_rec_bankruptcies_At least one  \n",
       "0                     0                                  0  \n",
       "1                     0                                  0  \n",
       "2                     0                                  0  \n",
       "3                     0                                  0  \n",
       "4                     0                                  0  "
      ]
     },
     "execution_count": 29,
     "metadata": {},
     "output_type": "execute_result"
    }
   ],
   "source": [
    "dataset['loan_status'].replace('Default', 1, inplace=True)\n",
    "dataset['loan_status'].replace('Fully Paid', 0, inplace=True)\n",
    "\n",
    "dataset = pd.get_dummies(dataset, columns=['grade', 'home_ownership', 'verification_status', 'purpose', \n",
    "                                           'initial_list_status', 'application_type', 'pub_rec', \n",
    "                                           'pub_rec_bankruptcies'], drop_first=True)\n",
    "dataset.head()"
   ]
  },
  {
   "cell_type": "markdown",
   "metadata": {},
   "source": [
    "### Split the data"
   ]
  },
  {
   "cell_type": "code",
   "execution_count": 30,
   "metadata": {},
   "outputs": [
    {
     "name": "stderr",
     "output_type": "stream",
     "text": [
      "c:\\users\\leon\\miniconda3\\envs\\aiml\\lib\\site-packages\\pandas\\core\\frame.py:3940: SettingWithCopyWarning: \n",
      "A value is trying to be set on a copy of a slice from a DataFrame\n",
      "\n",
      "See the caveats in the documentation: http://pandas.pydata.org/pandas-docs/stable/indexing.html#indexing-view-versus-copy\n",
      "  errors=errors)\n"
     ]
    }
   ],
   "source": [
    "dataset.dropna(inplace=True)\n",
    "# dataset.fillna(lambda x: x.median())\n",
    "y = dataset.loc[:, dataset.columns == 'loan_status']\n",
    "x = dataset.loc[:, dataset.columns != 'loan_status']\n",
    "# y = dataset['loan_status']\n",
    "# X = dataset.drop(columns=['loan_status'])\n",
    "x_train, x_test, y_train, y_test = train_test_split(x, y, test_size=0.3, random_state=0, \n",
    "                                                    stratify=dataset['loan_status'])\n",
    "\n",
    "x_train.drop('total_pymnt', axis=1, inplace=True)\n",
    "test_pymnts = x_test.loc[:, x_test.columns == 'total_pymnt']\n",
    "x_test.drop('total_pymnt', axis=1, inplace=True)\n",
    "\n",
    "# x_train = x_train.reset_index()\n",
    "# y_train = y_train.reset_index()"
   ]
  },
  {
   "cell_type": "markdown",
   "metadata": {
    "slideshow": {
     "slide_type": "-"
    }
   },
   "source": [
    "# Feature Selection and Model Fitting"
   ]
  },
  {
   "cell_type": "markdown",
   "metadata": {
    "slideshow": {
     "slide_type": "-"
    }
   },
   "source": [
    "### Logistic Regression Model"
   ]
  },
  {
   "cell_type": "markdown",
   "metadata": {},
   "source": [
    "#### Base"
   ]
  },
  {
   "cell_type": "code",
   "execution_count": 31,
   "metadata": {},
   "outputs": [
    {
     "data": {
      "text/plain": [
       "LogisticRegression(C=0.5, class_weight=None, dual=False, fit_intercept=True,\n",
       "                   intercept_scaling=1, l1_ratio=None, max_iter=10000,\n",
       "                   multi_class='auto', n_jobs=None, penalty='l2',\n",
       "                   random_state=0, solver='lbfgs', tol=0.0001, verbose=0,\n",
       "                   warm_start=False)"
      ]
     },
     "execution_count": 31,
     "metadata": {},
     "output_type": "execute_result"
    }
   ],
   "source": [
    "model_lr_base = LogisticRegression(penalty=\"l2\",\n",
    "                                   C=0.5,\n",
    "                                   fit_intercept=True,\n",
    "                                   random_state=0,\n",
    "                                   max_iter=10000,\n",
    "                                   solver='lbfgs')\n",
    "model_lr_base.fit(x_train, y_train.values.ravel())"
   ]
  },
  {
   "cell_type": "markdown",
   "metadata": {},
   "source": [
    "#### Cost Sensitive Method"
   ]
  },
  {
   "cell_type": "code",
   "execution_count": 32,
   "metadata": {
    "scrolled": false,
    "slideshow": {
     "slide_type": "-"
    }
   },
   "outputs": [],
   "source": [
    "model_lr = LogisticRegression(penalty=\"l2\",\n",
    "                              C=0.5,\n",
    "                              fit_intercept=True,\n",
    "                              class_weight='balanced',\n",
    "                              random_state=0,\n",
    "                              max_iter=10000,\n",
    "                              solver='lbfgs')\n",
    "model_lr = model_lr.fit(x_train, y_train.values.ravel())"
   ]
  },
  {
   "cell_type": "code",
   "execution_count": 33,
   "metadata": {},
   "outputs": [
    {
     "name": "stdout",
     "output_type": "stream",
     "text": [
      "Optimization terminated successfully.\n",
      "         Current function value: 0.015635\n",
      "         Iterations 14\n"
     ]
    },
    {
     "data": {
      "text/html": [
       "<table class=\"simpletable\">\n",
       "<tr>\n",
       "        <td>Model:</td>              <td>Logit</td>      <td>Pseudo R-squared:</td>   <td>0.976</td>  \n",
       "</tr>\n",
       "<tr>\n",
       "  <td>Dependent Variable:</td>    <td>loan_status</td>         <td>AIC:</td>        <td>1461.1080</td>\n",
       "</tr>\n",
       "<tr>\n",
       "         <td>Date:</td>        <td>2019-10-30 08:20</td>       <td>BIC:</td>        <td>1808.9373</td>\n",
       "</tr>\n",
       "<tr>\n",
       "   <td>No. Observations:</td>        <td>44167</td>       <td>Log-Likelihood:</td>   <td>-690.55</td> \n",
       "</tr>\n",
       "<tr>\n",
       "       <td>Df Model:</td>             <td>39</td>            <td>LL-Null:</td>       <td>-29308.</td> \n",
       "</tr>\n",
       "<tr>\n",
       "     <td>Df Residuals:</td>          <td>44127</td>        <td>LLR p-value:</td>     <td>0.0000</td>  \n",
       "</tr>\n",
       "<tr>\n",
       "      <td>Converged:</td>           <td>1.0000</td>           <td>Scale:</td>        <td>1.0000</td>  \n",
       "</tr>\n",
       "<tr>\n",
       "    <td>No. Iterations:</td>        <td>14.0000</td>             <td></td>              <td></td>     \n",
       "</tr>\n",
       "</table>\n",
       "<table class=\"simpletable\">\n",
       "<tr>\n",
       "                   <td></td>                    <th>Coef.</th>  <th>Std.Err.</th>     <th>z</th>     <th>P>|z|</th> <th>[0.025</th>  <th>0.975]</th> \n",
       "</tr>\n",
       "<tr>\n",
       "  <th>loan_amnt</th>                           <td>0.0051</td>   <td>0.0002</td>   <td>31.9155</td> <td>0.0000</td> <td>0.0048</td>  <td>0.0054</td> \n",
       "</tr>\n",
       "<tr>\n",
       "  <th>term</th>                                <td>-0.0512</td>  <td>0.0184</td>   <td>-2.7819</td> <td>0.0054</td> <td>-0.0873</td> <td>-0.0151</td>\n",
       "</tr>\n",
       "<tr>\n",
       "  <th>int_rate</th>                            <td>0.0638</td>   <td>0.0724</td>   <td>0.8804</td>  <td>0.3787</td> <td>-0.0782</td> <td>0.2057</td> \n",
       "</tr>\n",
       "<tr>\n",
       "  <th>emp_length</th>                          <td>-0.0012</td>  <td>0.0230</td>   <td>-0.0522</td> <td>0.9584</td> <td>-0.0463</td> <td>0.0439</td> \n",
       "</tr>\n",
       "<tr>\n",
       "  <th>dti</th>                                 <td>0.0084</td>   <td>0.0106</td>   <td>0.7943</td>  <td>0.4270</td> <td>-0.0123</td> <td>0.0291</td> \n",
       "</tr>\n",
       "<tr>\n",
       "  <th>delinq_2yrs</th>                         <td>0.2104</td>   <td>0.1332</td>   <td>1.5791</td>  <td>0.1143</td> <td>-0.0507</td> <td>0.4715</td> \n",
       "</tr>\n",
       "<tr>\n",
       "  <th>earliest_cr_line</th>                    <td>0.0025</td>   <td>0.0012</td>   <td>2.0681</td>  <td>0.0386</td> <td>0.0001</td>  <td>0.0049</td> \n",
       "</tr>\n",
       "<tr>\n",
       "  <th>open_acc</th>                            <td>0.0415</td>   <td>0.0222</td>   <td>1.8681</td>  <td>0.0617</td> <td>-0.0020</td> <td>0.0850</td> \n",
       "</tr>\n",
       "<tr>\n",
       "  <th>revol_util</th>                          <td>0.0105</td>   <td>0.0042</td>   <td>2.5282</td>  <td>0.0115</td> <td>0.0024</td>  <td>0.0186</td> \n",
       "</tr>\n",
       "<tr>\n",
       "  <th>total_acc</th>                           <td>-0.0107</td>  <td>0.0107</td>   <td>-0.9991</td> <td>0.3178</td> <td>-0.0316</td> <td>0.0103</td> \n",
       "</tr>\n",
       "<tr>\n",
       "  <th>total_pymnt</th>                         <td>-0.0049</td>  <td>0.0002</td>  <td>-31.3356</td> <td>0.0000</td> <td>-0.0052</td> <td>-0.0046</td>\n",
       "</tr>\n",
       "<tr>\n",
       "  <th>mort_acc</th>                            <td>0.0110</td>   <td>0.0647</td>   <td>0.1702</td>  <td>0.8649</td> <td>-0.1158</td> <td>0.1378</td> \n",
       "</tr>\n",
       "<tr>\n",
       "  <th>log_annual_inc</th>                      <td>-0.2491</td>  <td>0.1977</td>   <td>-1.2598</td> <td>0.2077</td> <td>-0.6366</td> <td>0.1384</td> \n",
       "</tr>\n",
       "<tr>\n",
       "  <th>log_installment</th>                     <td>-1.5293</td>  <td>0.1870</td>   <td>-8.1799</td> <td>0.0000</td> <td>-1.8958</td> <td>-1.1629</td>\n",
       "</tr>\n",
       "<tr>\n",
       "  <th>log_revol_bal</th>                       <td>-0.0575</td>  <td>0.0783</td>   <td>-0.7340</td> <td>0.4629</td> <td>-0.2109</td> <td>0.0960</td> \n",
       "</tr>\n",
       "<tr>\n",
       "  <th>grade_B</th>                             <td>0.3078</td>   <td>0.4038</td>   <td>0.7623</td>  <td>0.4459</td> <td>-0.4836</td> <td>1.0992</td> \n",
       "</tr>\n",
       "<tr>\n",
       "  <th>grade_C</th>                             <td>0.7029</td>   <td>0.5883</td>   <td>1.1947</td>  <td>0.2322</td> <td>-0.4502</td> <td>1.8559</td> \n",
       "</tr>\n",
       "<tr>\n",
       "  <th>grade_D</th>                             <td>1.0094</td>   <td>0.8874</td>   <td>1.1374</td>  <td>0.2554</td> <td>-0.7299</td> <td>2.7486</td> \n",
       "</tr>\n",
       "<tr>\n",
       "  <th>grade_E</th>                             <td>0.8045</td>   <td>1.3145</td>   <td>0.6120</td>  <td>0.5405</td> <td>-1.7718</td> <td>3.3809</td> \n",
       "</tr>\n",
       "<tr>\n",
       "  <th>grade_F</th>                             <td>0.2924</td>   <td>1.7724</td>   <td>0.1650</td>  <td>0.8690</td> <td>-3.1814</td> <td>3.7662</td> \n",
       "</tr>\n",
       "<tr>\n",
       "  <th>grade_G</th>                             <td>1.8290</td>   <td>1.8524</td>   <td>0.9874</td>  <td>0.3235</td> <td>-1.8016</td> <td>5.4596</td> \n",
       "</tr>\n",
       "<tr>\n",
       "  <th>home_ownership_OWN</th>                  <td>0.2594</td>   <td>0.2551</td>   <td>1.0171</td>  <td>0.3091</td> <td>-0.2405</td> <td>0.7593</td> \n",
       "</tr>\n",
       "<tr>\n",
       "  <th>home_ownership_RENT</th>                 <td>0.0827</td>   <td>0.2142</td>   <td>0.3859</td>  <td>0.6996</td> <td>-0.3372</td> <td>0.5025</td> \n",
       "</tr>\n",
       "<tr>\n",
       "  <th>verification_status_Source Verified</th> <td>0.3925</td>   <td>0.2123</td>   <td>1.8489</td>  <td>0.0645</td> <td>-0.0236</td> <td>0.8086</td> \n",
       "</tr>\n",
       "<tr>\n",
       "  <th>verification_status_Verified</th>        <td>0.2522</td>   <td>0.2488</td>   <td>1.0135</td>  <td>0.3108</td> <td>-0.2355</td> <td>0.7399</td> \n",
       "</tr>\n",
       "<tr>\n",
       "  <th>purpose_credit_card</th>                 <td>0.5843</td>   <td>0.7025</td>   <td>0.8318</td>  <td>0.4055</td> <td>-0.7925</td> <td>1.9611</td> \n",
       "</tr>\n",
       "<tr>\n",
       "  <th>purpose_debt_consolidation</th>          <td>0.4451</td>   <td>0.6784</td>   <td>0.6561</td>  <td>0.5118</td> <td>-0.8846</td> <td>1.7748</td> \n",
       "</tr>\n",
       "<tr>\n",
       "  <th>purpose_home_improvement</th>            <td>0.7780</td>   <td>0.7137</td>   <td>1.0900</td>  <td>0.2757</td> <td>-0.6209</td> <td>2.1769</td> \n",
       "</tr>\n",
       "<tr>\n",
       "  <th>purpose_house</th>                       <td>0.6895</td>   <td>1.0535</td>   <td>0.6545</td>  <td>0.5128</td> <td>-1.3754</td> <td>2.7543</td> \n",
       "</tr>\n",
       "<tr>\n",
       "  <th>purpose_major_purchase</th>              <td>0.2848</td>   <td>0.8008</td>   <td>0.3557</td>  <td>0.7221</td> <td>-1.2846</td> <td>1.8543</td> \n",
       "</tr>\n",
       "<tr>\n",
       "  <th>purpose_medical</th>                     <td>0.6742</td>   <td>0.7594</td>   <td>0.8878</td>  <td>0.3747</td> <td>-0.8143</td> <td>2.1627</td> \n",
       "</tr>\n",
       "<tr>\n",
       "  <th>purpose_moving</th>                      <td>0.2560</td>   <td>0.8431</td>   <td>0.3037</td>  <td>0.7614</td> <td>-1.3964</td> <td>1.9085</td> \n",
       "</tr>\n",
       "<tr>\n",
       "  <th>purpose_other</th>                       <td>0.4449</td>   <td>0.6903</td>   <td>0.6446</td>  <td>0.5192</td> <td>-0.9080</td> <td>1.7978</td> \n",
       "</tr>\n",
       "<tr>\n",
       "  <th>purpose_renewable_energy</th>            <td>0.4863</td>   <td>1.5947</td>   <td>0.3050</td>  <td>0.7604</td> <td>-2.6393</td> <td>3.6119</td> \n",
       "</tr>\n",
       "<tr>\n",
       "  <th>purpose_small_business</th>              <td>0.0845</td>   <td>1.1135</td>   <td>0.0759</td>  <td>0.9395</td> <td>-2.0979</td> <td>2.2669</td> \n",
       "</tr>\n",
       "<tr>\n",
       "  <th>purpose_vacation</th>                    <td>0.5522</td>   <td>0.7479</td>   <td>0.7383</td>  <td>0.4603</td> <td>-0.9137</td> <td>2.0181</td> \n",
       "</tr>\n",
       "<tr>\n",
       "  <th>initial_list_status_w</th>               <td>-0.0366</td>  <td>0.1820</td>   <td>-0.2011</td> <td>0.8407</td> <td>-0.3933</td> <td>0.3202</td> \n",
       "</tr>\n",
       "<tr>\n",
       "  <th>application_type_Joint App</th>          <td>-0.1060</td>  <td>0.5709</td>   <td>-0.1857</td> <td>0.8527</td> <td>-1.2250</td> <td>1.0129</td> \n",
       "</tr>\n",
       "<tr>\n",
       "  <th>pub_rec_At least one</th>                <td>0.1432</td>   <td>0.3356</td>   <td>0.4266</td>  <td>0.6697</td> <td>-0.5146</td> <td>0.8010</td> \n",
       "</tr>\n",
       "<tr>\n",
       "  <th>pub_rec_bankruptcies_At least one</th>   <td>0.2980</td>   <td>0.3795</td>   <td>0.7853</td>  <td>0.4323</td> <td>-0.4458</td> <td>1.0419</td> \n",
       "</tr>\n",
       "</table>"
      ],
      "text/plain": [
       "<class 'statsmodels.iolib.summary2.Summary'>\n",
       "\"\"\"\n",
       "                                   Results: Logit\n",
       "====================================================================================\n",
       "Model:                      Logit                  Pseudo R-squared:       0.976    \n",
       "Dependent Variable:         loan_status            AIC:                    1461.1080\n",
       "Date:                       2019-10-30 08:20       BIC:                    1808.9373\n",
       "No. Observations:           44167                  Log-Likelihood:         -690.55  \n",
       "Df Model:                   39                     LL-Null:                -29308.  \n",
       "Df Residuals:               44127                  LLR p-value:            0.0000   \n",
       "Converged:                  1.0000                 Scale:                  1.0000   \n",
       "No. Iterations:             14.0000                                                 \n",
       "------------------------------------------------------------------------------------\n",
       "                                     Coef.  Std.Err.    z     P>|z|   [0.025  0.975]\n",
       "------------------------------------------------------------------------------------\n",
       "loan_amnt                            0.0051   0.0002  31.9155 0.0000  0.0048  0.0054\n",
       "term                                -0.0512   0.0184  -2.7819 0.0054 -0.0873 -0.0151\n",
       "int_rate                             0.0638   0.0724   0.8804 0.3787 -0.0782  0.2057\n",
       "emp_length                          -0.0012   0.0230  -0.0522 0.9584 -0.0463  0.0439\n",
       "dti                                  0.0084   0.0106   0.7943 0.4270 -0.0123  0.0291\n",
       "delinq_2yrs                          0.2104   0.1332   1.5791 0.1143 -0.0507  0.4715\n",
       "earliest_cr_line                     0.0025   0.0012   2.0681 0.0386  0.0001  0.0049\n",
       "open_acc                             0.0415   0.0222   1.8681 0.0617 -0.0020  0.0850\n",
       "revol_util                           0.0105   0.0042   2.5282 0.0115  0.0024  0.0186\n",
       "total_acc                           -0.0107   0.0107  -0.9991 0.3178 -0.0316  0.0103\n",
       "total_pymnt                         -0.0049   0.0002 -31.3356 0.0000 -0.0052 -0.0046\n",
       "mort_acc                             0.0110   0.0647   0.1702 0.8649 -0.1158  0.1378\n",
       "log_annual_inc                      -0.2491   0.1977  -1.2598 0.2077 -0.6366  0.1384\n",
       "log_installment                     -1.5293   0.1870  -8.1799 0.0000 -1.8958 -1.1629\n",
       "log_revol_bal                       -0.0575   0.0783  -0.7340 0.4629 -0.2109  0.0960\n",
       "grade_B                              0.3078   0.4038   0.7623 0.4459 -0.4836  1.0992\n",
       "grade_C                              0.7029   0.5883   1.1947 0.2322 -0.4502  1.8559\n",
       "grade_D                              1.0094   0.8874   1.1374 0.2554 -0.7299  2.7486\n",
       "grade_E                              0.8045   1.3145   0.6120 0.5405 -1.7718  3.3809\n",
       "grade_F                              0.2924   1.7724   0.1650 0.8690 -3.1814  3.7662\n",
       "grade_G                              1.8290   1.8524   0.9874 0.3235 -1.8016  5.4596\n",
       "home_ownership_OWN                   0.2594   0.2551   1.0171 0.3091 -0.2405  0.7593\n",
       "home_ownership_RENT                  0.0827   0.2142   0.3859 0.6996 -0.3372  0.5025\n",
       "verification_status_Source Verified  0.3925   0.2123   1.8489 0.0645 -0.0236  0.8086\n",
       "verification_status_Verified         0.2522   0.2488   1.0135 0.3108 -0.2355  0.7399\n",
       "purpose_credit_card                  0.5843   0.7025   0.8318 0.4055 -0.7925  1.9611\n",
       "purpose_debt_consolidation           0.4451   0.6784   0.6561 0.5118 -0.8846  1.7748\n",
       "purpose_home_improvement             0.7780   0.7137   1.0900 0.2757 -0.6209  2.1769\n",
       "purpose_house                        0.6895   1.0535   0.6545 0.5128 -1.3754  2.7543\n",
       "purpose_major_purchase               0.2848   0.8008   0.3557 0.7221 -1.2846  1.8543\n",
       "purpose_medical                      0.6742   0.7594   0.8878 0.3747 -0.8143  2.1627\n",
       "purpose_moving                       0.2560   0.8431   0.3037 0.7614 -1.3964  1.9085\n",
       "purpose_other                        0.4449   0.6903   0.6446 0.5192 -0.9080  1.7978\n",
       "purpose_renewable_energy             0.4863   1.5947   0.3050 0.7604 -2.6393  3.6119\n",
       "purpose_small_business               0.0845   1.1135   0.0759 0.9395 -2.0979  2.2669\n",
       "purpose_vacation                     0.5522   0.7479   0.7383 0.4603 -0.9137  2.0181\n",
       "initial_list_status_w               -0.0366   0.1820  -0.2011 0.8407 -0.3933  0.3202\n",
       "application_type_Joint App          -0.1060   0.5709  -0.1857 0.8527 -1.2250  1.0129\n",
       "pub_rec_At least one                 0.1432   0.3356   0.4266 0.6697 -0.5146  0.8010\n",
       "pub_rec_bankruptcies_At least one    0.2980   0.3795   0.7853 0.4323 -0.4458  1.0419\n",
       "====================================================================================\n",
       "\n",
       "\"\"\""
      ]
     },
     "execution_count": 33,
     "metadata": {},
     "output_type": "execute_result"
    }
   ],
   "source": [
    "import statsmodels.api as sm\n",
    "logit_model = sm.Logit(y, x)\n",
    "result = logit_model.fit()\n",
    "result.summary2()"
   ]
  },
  {
   "cell_type": "markdown",
   "metadata": {},
   "source": [
    "We remove all variables with p-value less than 0.05"
   ]
  },
  {
   "cell_type": "code",
   "execution_count": 34,
   "metadata": {
    "slideshow": {
     "slide_type": "-"
    }
   },
   "outputs": [
    {
     "data": {
      "text/plain": [
       "int_rate                               0.378662\n",
       "emp_length                             0.958403\n",
       "dti                                    0.427021\n",
       "delinq_2yrs                            0.114316\n",
       "open_acc                               0.061749\n",
       "total_acc                              0.317753\n",
       "mort_acc                               0.864878\n",
       "log_annual_inc                         0.207726\n",
       "log_revol_bal                          0.462941\n",
       "grade_B                                0.445874\n",
       "grade_C                                0.232199\n",
       "grade_D                                0.255358\n",
       "grade_E                                0.540510\n",
       "grade_F                                0.868953\n",
       "grade_G                                0.323465\n",
       "home_ownership_OWN                     0.309099\n",
       "home_ownership_RENT                    0.699561\n",
       "verification_status_Source Verified    0.064475\n",
       "verification_status_Verified           0.310800\n",
       "purpose_credit_card                    0.405548\n",
       "purpose_debt_consolidation             0.511758\n",
       "purpose_home_improvement               0.275716\n",
       "purpose_house                          0.512816\n",
       "purpose_major_purchase                 0.722068\n",
       "purpose_medical                        0.374669\n",
       "purpose_moving                         0.761364\n",
       "purpose_other                          0.519200\n",
       "purpose_renewable_energy               0.760395\n",
       "purpose_small_business                 0.939501\n",
       "purpose_vacation                       0.460320\n",
       "initial_list_status_w                  0.840654\n",
       "application_type_Joint App             0.852687\n",
       "pub_rec_At least one                   0.669658\n",
       "pub_rec_bankruptcies_At least one      0.432271\n",
       "dtype: float64"
      ]
     },
     "execution_count": 34,
     "metadata": {},
     "output_type": "execute_result"
    }
   ],
   "source": [
    "result.pvalues[result.pvalues > 0.05]"
   ]
  },
  {
   "cell_type": "code",
   "execution_count": 35,
   "metadata": {},
   "outputs": [
    {
     "data": {
      "text/plain": [
       "LogisticRegression(C=0.5, class_weight='balanced', dual=False,\n",
       "                   fit_intercept=True, intercept_scaling=1, l1_ratio=None,\n",
       "                   max_iter=10000, multi_class='auto', n_jobs=None,\n",
       "                   penalty='l2', random_state=0, solver='lbfgs', tol=0.0001,\n",
       "                   verbose=0, warm_start=False)"
      ]
     },
     "execution_count": 35,
     "metadata": {},
     "output_type": "execute_result"
    }
   ],
   "source": [
    "keep_list = list(result.pvalues[result.pvalues < 0.05].index)\n",
    "keep_list.append('loan_status')\n",
    "drop_list = [col for col in dataset.columns if col not in keep_list]\n",
    "x_train_lr = x_train.drop(labels=drop_list, axis=1)\n",
    "x_test_lr = x_test.drop(labels=drop_list, axis=1)\n",
    "model_lr2 = LogisticRegression(penalty=\"l2\", C=0.5, fit_intercept=True, class_weight='balanced',\n",
    "                               random_state=0, max_iter=10000, solver='lbfgs')\n",
    "model_lr2.fit(x_train_lr, y_train.values.ravel())"
   ]
  },
  {
   "cell_type": "markdown",
   "metadata": {},
   "source": [
    "#### Sampling Method - SMOTE"
   ]
  },
  {
   "cell_type": "code",
   "execution_count": 36,
   "metadata": {},
   "outputs": [
    {
     "data": {
      "text/plain": [
       "LogisticRegression(C=0.5, class_weight=None, dual=False, fit_intercept=True,\n",
       "                   intercept_scaling=1, l1_ratio=None, max_iter=10000,\n",
       "                   multi_class='auto', n_jobs=None, penalty='l2',\n",
       "                   random_state=0, solver='lbfgs', tol=0.0001, verbose=0,\n",
       "                   warm_start=False)"
      ]
     },
     "execution_count": 36,
     "metadata": {},
     "output_type": "execute_result"
    }
   ],
   "source": [
    "x_train_lr_sm, y_train_sm = SMOTE(random_state=1).fit_resample(x_train, y_train.values.ravel())\n",
    "model_lr_smote = LogisticRegression(penalty=\"l2\",\n",
    "                                    C=0.5,\n",
    "                                    fit_intercept=True,\n",
    "                                    random_state=0,\n",
    "                                    max_iter=10000,\n",
    "                                    solver='lbfgs')\n",
    "model_lr_smote.fit(x_train_lr_sm, y_train_sm)"
   ]
  },
  {
   "cell_type": "markdown",
   "metadata": {},
   "source": [
    "#### Sampling Method - ADASYN"
   ]
  },
  {
   "cell_type": "code",
   "execution_count": 37,
   "metadata": {},
   "outputs": [
    {
     "data": {
      "text/plain": [
       "LogisticRegression(C=0.5, class_weight=None, dual=False, fit_intercept=True,\n",
       "                   intercept_scaling=1, l1_ratio=None, max_iter=10000,\n",
       "                   multi_class='auto', n_jobs=None, penalty='l2',\n",
       "                   random_state=0, solver='lbfgs', tol=0.0001, verbose=0,\n",
       "                   warm_start=False)"
      ]
     },
     "execution_count": 37,
     "metadata": {},
     "output_type": "execute_result"
    }
   ],
   "source": [
    "x_train_lr_as, y_train_as = ADASYN(random_state=1).fit_sample(x_train, y_train.values.ravel())\n",
    "model_lr_adasyn = LogisticRegression(penalty=\"l2\", \n",
    "                                     C=0.5, fit_intercept=True, \n",
    "                                     random_state=0, \n",
    "                                     max_iter=10000, \n",
    "                                     solver='lbfgs')\n",
    "model_lr_adasyn.fit(x_train_lr_as, y_train_as)"
   ]
  },
  {
   "cell_type": "markdown",
   "metadata": {
    "slideshow": {
     "slide_type": "-"
    }
   },
   "source": [
    "### Logistic Regression Results"
   ]
  },
  {
   "cell_type": "markdown",
   "metadata": {},
   "source": [
    "#### Base"
   ]
  },
  {
   "cell_type": "code",
   "execution_count": 38,
   "metadata": {},
   "outputs": [
    {
     "name": "stdout",
     "output_type": "stream",
     "text": [
      "Accuracy: 65.70%\n",
      "[[7134 1095]\n",
      " [3450 1572]]\n",
      "F1 Score: 0.4088958252048381\n",
      "              precision    recall  f1-score   support\n",
      "\n",
      "           0       0.67      0.87      0.76      8229\n",
      "           1       0.59      0.31      0.41      5022\n",
      "\n",
      "    accuracy                           0.66     13251\n",
      "   macro avg       0.63      0.59      0.58     13251\n",
      "weighted avg       0.64      0.66      0.63     13251\n",
      "\n",
      "PR-AUC:  0.5464040971217461\n"
     ]
    }
   ],
   "source": [
    "# Make predictions and determine the error\n",
    "y_pred_lr = model_lr_base.predict(x_test)\n",
    "print(\"Accuracy: %.2f%%\" % (model_lr_base.score(x_test, y_test) * 100))\n",
    "print(confusion_matrix(y_test, y_pred_lr))\n",
    "print('F1 Score:', f1_score(y_test, y_pred_lr))\n",
    "print(classification_report(y_test, y_pred_lr))\n",
    "# predict probabilities\n",
    "prob = model_lr_base.predict_proba(x_test)\n",
    "# keep probabilities for the positive outcome only\n",
    "preds = prob[:,1]\n",
    "# calculate pr curve\n",
    "precision_lr, recall_lr, threshold = precision_recall_curve(y_test, preds)\n",
    "# calculate auc, equivalent to roc_auc_score()?\n",
    "print('PR-AUC: ', auc(recall_lr, precision_lr))"
   ]
  },
  {
   "cell_type": "markdown",
   "metadata": {},
   "source": [
    "#### Cost Sensitive Method"
   ]
  },
  {
   "cell_type": "code",
   "execution_count": 39,
   "metadata": {},
   "outputs": [
    {
     "name": "stdout",
     "output_type": "stream",
     "text": [
      "Accuracy: 64.03%\n",
      "[[5503 2726]\n",
      " [2041 2981]]\n",
      "F1 Score: 0.5556901854786094\n",
      "              precision    recall  f1-score   support\n",
      "\n",
      "           0       0.73      0.67      0.70      8229\n",
      "           1       0.52      0.59      0.56      5022\n",
      "\n",
      "    accuracy                           0.64     13251\n",
      "   macro avg       0.63      0.63      0.63     13251\n",
      "weighted avg       0.65      0.64      0.64     13251\n",
      "\n",
      "PR-AUC:  0.5464973303519882\n"
     ]
    }
   ],
   "source": [
    "# Make predictions and determine the error\n",
    "y_pred_lr = model_lr.predict(x_test)\n",
    "print(\"Accuracy: %.2f%%\" % (model_lr.score(x_test, y_test) * 100))\n",
    "print(confusion_matrix(y_test, y_pred_lr))\n",
    "print('F1 Score:', f1_score(y_test, y_pred_lr))\n",
    "print(classification_report(y_test, y_pred_lr))\n",
    "# predict probabilities\n",
    "prob = model_lr.predict_proba(x_test)\n",
    "# keep probabilities for the positive outcome only\n",
    "preds = prob[:,1]\n",
    "# calculate pr curve\n",
    "precision_lr, recall_lr, threshold = precision_recall_curve(y_test, preds)\n",
    "# calculate auc, equivalent to roc_auc_score()?\n",
    "print('PR-AUC: ', auc(recall_lr, precision_lr))"
   ]
  },
  {
   "cell_type": "code",
   "execution_count": 40,
   "metadata": {
    "slideshow": {
     "slide_type": "-"
    }
   },
   "outputs": [
    {
     "name": "stdout",
     "output_type": "stream",
     "text": [
      "Accuracy: 58.94%\n",
      "[[4733 3496]\n",
      " [1945 3077]]\n",
      "F1 Score: 0.5307460112117292\n",
      "              precision    recall  f1-score   support\n",
      "\n",
      "           0       0.71      0.58      0.64      8229\n",
      "           1       0.47      0.61      0.53      5022\n",
      "\n",
      "    accuracy                           0.59     13251\n",
      "   macro avg       0.59      0.59      0.58     13251\n",
      "weighted avg       0.62      0.59      0.60     13251\n",
      "\n",
      "PR-AUC:  0.4993774441315906\n"
     ]
    }
   ],
   "source": [
    "y_pred_lr2 = model_lr2.predict(x_test_lr)\n",
    "print(\"Accuracy: %.2f%%\" % (model_lr2.score(x_test_lr, y_test) * 100))\n",
    "print(confusion_matrix(y_test, y_pred_lr2))\n",
    "print('F1 Score:', f1_score(y_test, y_pred_lr2))\n",
    "print(classification_report(y_test, y_pred_lr2))\n",
    "prob = model_lr2.predict_proba(x_test_lr)\n",
    "# keep probabilities for the positive outcome only\n",
    "preds = prob[:,1]\n",
    "# calculate pr curve\n",
    "precision_lr, recall_lr, threshold = precision_recall_curve(y_test, preds)\n",
    "# calculate auc, equivalent to roc_auc_score()?\n",
    "print('PR-AUC: ', auc(recall_lr, precision_lr))"
   ]
  },
  {
   "cell_type": "code",
   "execution_count": 41,
   "metadata": {},
   "outputs": [
    {
     "name": "stdout",
     "output_type": "stream",
     "text": [
      "Accuracy: 63.86%\n",
      "F1 Score: 0.5538891476478808\n",
      "              precision    recall  f1-score   support\n",
      "\n",
      "           0       0.73      0.67      0.70      8229\n",
      "           1       0.52      0.59      0.55      5022\n",
      "\n",
      "    accuracy                           0.64     13251\n",
      "   macro avg       0.62      0.63      0.63     13251\n",
      "weighted avg       0.65      0.64      0.64     13251\n",
      "\n",
      "PR-AUC:  0.5416129481431338\n"
     ]
    }
   ],
   "source": [
    "# manually picked\n",
    "important_indices = ['log_annual_inc',\n",
    "                     'dti',\n",
    "                     'home_ownership_OWN',\n",
    "                     'home_ownership_RENT',\n",
    "                     'log_installment',\n",
    "                     'int_rate',\n",
    "                     'loan_amnt',\n",
    "                     'revol_util',\n",
    "                     'grade_B',\n",
    "                     'grade_C',\n",
    "                     'grade_D',\n",
    "                     'grade_E',\n",
    "                     'grade_F',\n",
    "                     'grade_G',\n",
    "                     'term',\n",
    "                     'verification_status_Source Verified',\n",
    "                     'verification_status_Verified']\n",
    "x_train_lr = x_train.loc[:, important_indices]\n",
    "x_test_lr = x_test.loc[:, important_indices]\n",
    "model_lr3 = LogisticRegression(penalty=\"l2\", C=0.5, fit_intercept=True, class_weight='balanced',\n",
    "                               random_state=0, max_iter=10000, solver='lbfgs')\n",
    "model_lr3 = model_lr3.fit(x_train_lr, y_train.values.ravel())\n",
    "y_pred_lr = model_lr3.predict(x_test_lr)\n",
    "print(\"Accuracy: %.2f%%\" % (model_lr3.score(x_test_lr, y_test) * 100))\n",
    "confusion_matrix(y_test, y_pred_lr)\n",
    "print('F1 Score:', f1_score(y_test, y_pred_lr))\n",
    "print(classification_report(y_test, y_pred_lr))\n",
    "# predict probabilities\n",
    "prob = model_lr3.predict_proba(x_test_lr)\n",
    "# keep probabilities for the positive outcome only\n",
    "preds = prob[:,1]\n",
    "# calculate pr curve\n",
    "precision_lr, recall_lr, threshold = precision_recall_curve(y_test, preds)\n",
    "# calculate auc, equivalent to roc_auc_score()?\n",
    "print('PR-AUC: ', auc(recall_lr, precision_lr))"
   ]
  },
  {
   "cell_type": "markdown",
   "metadata": {},
   "source": [
    "#### Sampling Method - SMOTE"
   ]
  },
  {
   "cell_type": "code",
   "execution_count": 42,
   "metadata": {},
   "outputs": [
    {
     "name": "stdout",
     "output_type": "stream",
     "text": [
      "Accuracy: 64.49%\n",
      "[[5376 2853]\n",
      " [1852 3170]]\n",
      "F1 Score: 0.5740153915799003\n",
      "              precision    recall  f1-score   support\n",
      "\n",
      "           0       0.74      0.65      0.70      8229\n",
      "           1       0.53      0.63      0.57      5022\n",
      "\n",
      "    accuracy                           0.64     13251\n",
      "   macro avg       0.64      0.64      0.63     13251\n",
      "weighted avg       0.66      0.64      0.65     13251\n",
      "\n",
      "PR-AUC:  0.558655682201526\n"
     ]
    }
   ],
   "source": [
    "# Make predictions and determine the error\n",
    "y_pred_lr = model_lr_smote.predict(x_test)\n",
    "print(\"Accuracy: %.2f%%\" % (model_lr_smote.score(x_test, y_test) * 100))\n",
    "print(confusion_matrix(y_test, y_pred_lr))\n",
    "print('F1 Score:', f1_score(y_test, y_pred_lr))\n",
    "print(classification_report(y_test, y_pred_lr))\n",
    "# predict probabilities\n",
    "prob = model_lr_smote.predict_proba(x_test)\n",
    "# keep probabilities for the positive outcome only\n",
    "preds = prob[:,1]\n",
    "# calculate pr curve\n",
    "precision_lr, recall_lr, threshold = precision_recall_curve(y_test, preds)\n",
    "# calculate auc, equivalent to roc_auc_score()?\n",
    "print('PR-AUC: ', auc(recall_lr, precision_lr))"
   ]
  },
  {
   "cell_type": "markdown",
   "metadata": {},
   "source": [
    "#### Sampling Method - ADASYN"
   ]
  },
  {
   "cell_type": "code",
   "execution_count": 43,
   "metadata": {},
   "outputs": [
    {
     "name": "stdout",
     "output_type": "stream",
     "text": [
      "Accuracy: 63.95%\n",
      "[[5434 2795]\n",
      " [1982 3040]]\n",
      "F1 Score: 0.5600073685180068\n",
      "              precision    recall  f1-score   support\n",
      "\n",
      "           0       0.73      0.66      0.69      8229\n",
      "           1       0.52      0.61      0.56      5022\n",
      "\n",
      "    accuracy                           0.64     13251\n",
      "   macro avg       0.63      0.63      0.63     13251\n",
      "weighted avg       0.65      0.64      0.64     13251\n",
      "\n",
      "PR-AUC:  0.5459631714046866\n"
     ]
    }
   ],
   "source": [
    "# Make predictions and determine the error\n",
    "y_pred_lr = model_lr_adasyn.predict(x_test)\n",
    "print(\"Accuracy: %.2f%%\" % (model_lr_adasyn.score(x_test, y_test) * 100))\n",
    "print(confusion_matrix(y_test, y_pred_lr))\n",
    "print('F1 Score:', f1_score(y_test, y_pred_lr))\n",
    "print(classification_report(y_test, y_pred_lr))\n",
    "# predict probabilities\n",
    "prob = model_lr_adasyn.predict_proba(x_test)\n",
    "# keep probabilities for the positive outcome only\n",
    "preds = prob[:,1]\n",
    "# calculate pr curve\n",
    "precision_lr, recall_lr, threshold = precision_recall_curve(y_test, preds)\n",
    "# calculate auc, equivalent to roc_auc_score()?\n",
    "print('PR-AUC: ', auc(recall_lr, precision_lr))"
   ]
  },
  {
   "cell_type": "markdown",
   "metadata": {
    "slideshow": {
     "slide_type": "-"
    }
   },
   "source": [
    "### Random Forest Model"
   ]
  },
  {
   "cell_type": "code",
   "execution_count": 44,
   "metadata": {
    "slideshow": {
     "slide_type": "-"
    }
   },
   "outputs": [
    {
     "name": "stdout",
     "output_type": "stream",
     "text": [
      "50\n",
      "100\n",
      "250\n",
      "500\n",
      "1000\n",
      "1500\n",
      "2500\n"
     ]
    },
    {
     "data": {
      "image/png": "[encoded data removed]",
      "text/plain": [
       "<Figure size 432x288 with 1 Axes>"
      ]
     },
     "metadata": {
      "needs_background": "light"
     },
     "output_type": "display_data"
    },
    {
     "data": {
      "image/png": "[encoded data removed]",
      "text/plain": [
       "<Figure size 864x576 with 1 Axes>"
      ]
     },
     "metadata": {
      "needs_background": "light"
     },
     "output_type": "display_data"
    }
   ],
   "source": [
    "model_rf_path = Path('../data/model_rf.joblib')\n",
    "if os.path.exists(model_rf_path): # list of features files does not exist dont save model\n",
    "    model_rf = load(model_rf_path)\n",
    "else:\n",
    "    n_trees = [50, 100, 250, 500, 1000, 1500, 2500]\n",
    "    rf_dict = dict.fromkeys(n_trees)\n",
    "    for num in n_trees:\n",
    "        print(num)\n",
    "        rf = RandomForestClassifier(n_estimators=num,\n",
    "                                    min_samples_leaf=30,\n",
    "                                    oob_score=True,\n",
    "                                    random_state=100,\n",
    "                                    class_weight='balanced',\n",
    "                                    n_jobs=-1)\n",
    "        rf.fit(x_train, y_train.values.ravel())\n",
    "        rf_dict[num] = rf\n",
    "\n",
    "    oob_error_list = [None] * len(n_trees)\n",
    "\n",
    "    for i in range(len(n_trees)):\n",
    "        oob_error_list[i] = 1 - rf_dict[n_trees[i]].oob_score_\n",
    "\n",
    "    plt.plot(n_trees, oob_error_list, 'bo', n_trees, oob_error_list, 'k')\n",
    "    plt.xlabel('Number of Trees')\n",
    "    plt.ylabel('Out of Bag Error')\n",
    "    model_rf = rf_dict[500]\n",
    "    \n",
    "    # calculate permutation feature importance\n",
    "    result = permutation_importance(model_rf, x_train, y_train, n_repeats=10, random_state=42)\n",
    "    perm_sorted_idx = result.importances_mean.argsort()\n",
    "\n",
    "    fig, ax1 = plt.subplots(figsize=(12, 8))\n",
    "    ax1.boxplot(result.importances[perm_sorted_idx].T, vert=False,\n",
    "                labels=x_train.columns[perm_sorted_idx])\n",
    "    ax1.set_xlabel('Feature Importance')\n",
    "    fig.tight_layout()\n",
    "    plt.show()"
   ]
  },
  {
   "cell_type": "code",
   "execution_count": 45,
   "metadata": {},
   "outputs": [],
   "source": [
    "# manually picked\n",
    "important_indices = ['log_annual_inc',\n",
    "                     'dti',\n",
    "                     'home_ownership_OWN',\n",
    "                     'home_ownership_RENT',\n",
    "                     'log_installment',\n",
    "                     'int_rate',\n",
    "                     'loan_amnt',\n",
    "                     'revol_util',\n",
    "                     'grade_B',\n",
    "                     'grade_C',\n",
    "                     'grade_D',\n",
    "                     'grade_E',\n",
    "                     'grade_F',\n",
    "                     'grade_G',\n",
    "                     'term',\n",
    "                     'verification_status_Source Verified',\n",
    "                     'verification_status_Verified']\n",
    "x_train_rf = x_train.loc[:, important_indices]\n",
    "x_test_rf = x_test.loc[:, important_indices]"
   ]
  },
  {
   "cell_type": "markdown",
   "metadata": {},
   "source": [
    "#### Base Model"
   ]
  },
  {
   "cell_type": "code",
   "execution_count": 46,
   "metadata": {},
   "outputs": [],
   "source": [
    "model_rf_base_path = Path('../data/model_rf_base.joblib')\n",
    "if os.path.exists(model_rf_base_path):\n",
    "    model_rf_base = load(model_rf_base_path)\n",
    "else:\n",
    "    model_rf_base = RandomForestClassifier(n_estimators=500,\n",
    "                                        min_samples_leaf=30,\n",
    "                                        oob_score=True,\n",
    "                                        random_state=100,\n",
    "                                        n_jobs=-1)\n",
    "    model_rf_base.fit(x_train_rf, y_train.values.ravel())\n",
    "    dump(model_rf_base, model_rf_base_path)"
   ]
  },
  {
   "cell_type": "markdown",
   "metadata": {},
   "source": [
    "#### Class Sensetive Method"
   ]
  },
  {
   "cell_type": "code",
   "execution_count": 47,
   "metadata": {},
   "outputs": [],
   "source": [
    "model_rf_path = Path('../data/model_rf.joblib')\n",
    "if os.path.exists(model_rf_path):\n",
    "    model_rf = load(model_rf_path)\n",
    "else:\n",
    "    model_rf = RandomForestClassifier(n_estimators=500,\n",
    "                                        min_samples_leaf=30,\n",
    "                                        oob_score=True,\n",
    "                                        random_state=100,\n",
    "                                        class_weight='balanced',\n",
    "                                        n_jobs=-1)\n",
    "    model_rf.fit(x_train_rf, y_train.values.ravel())\n",
    "    dump(model_rf, model_rf_path)"
   ]
  },
  {
   "cell_type": "markdown",
   "metadata": {},
   "source": [
    "#### Sampling - SMOTE Method"
   ]
  },
  {
   "cell_type": "code",
   "execution_count": 48,
   "metadata": {},
   "outputs": [],
   "source": [
    "model_rf_smote_path = Path('../data/model_rf_smote.joblib')\n",
    "if os.path.exists(model_rf_smote_path):\n",
    "    model_rf_smote = load(model_rf_smote_path)\n",
    "else:\n",
    "    x_train_rf_sm, y_train_sm = SMOTE(random_state=1).fit_resample(x_train_rf, y_train.values.ravel())\n",
    "    model_rf_smote = RandomForestClassifier(n_estimators=500,\n",
    "                                        min_samples_leaf=30,\n",
    "                                        oob_score=True,\n",
    "                                        random_state=100,\n",
    "                                        n_jobs=-1)\n",
    "    model_rf_smote.fit(x_train_rf_sm, y_train_sm)\n",
    "    dump(model_rf_smote, model_rf_smote_path)"
   ]
  },
  {
   "cell_type": "markdown",
   "metadata": {},
   "source": [
    "#### Sampling - ADASYN Method"
   ]
  },
  {
   "cell_type": "code",
   "execution_count": 49,
   "metadata": {},
   "outputs": [],
   "source": [
    "model_rf_adasyn_path = Path('../data/model_rf_adasyn.joblib')\n",
    "if os.path.exists(model_rf_adasyn_path):\n",
    "    model_rf_adasyn = load(model_rf_adasyn_path)\n",
    "else:\n",
    "    x_train_rf_as, y_train_as = ADASYN(random_state=1).fit_sample(x_train_rf, y_train.values.ravel())\n",
    "    model_rf_adasyn = RandomForestClassifier(n_estimators=500,\n",
    "                                        min_samples_leaf=30,\n",
    "                                        oob_score=True,\n",
    "                                        random_state=100,\n",
    "                                        n_jobs=-1)\n",
    "    model_rf_adasyn.fit(x_train_rf_as, y_train_as)\n",
    "    dump(model_rf_adasyn, model_rf_adasyn_path)"
   ]
  },
  {
   "cell_type": "markdown",
   "metadata": {
    "slideshow": {
     "slide_type": "-"
    }
   },
   "source": [
    "### Random Forest Results"
   ]
  },
  {
   "cell_type": "markdown",
   "metadata": {},
   "source": [
    "#### Base"
   ]
  },
  {
   "cell_type": "code",
   "execution_count": 50,
   "metadata": {},
   "outputs": [
    {
     "name": "stdout",
     "output_type": "stream",
     "text": [
      "Accuracy: 67.73%\n",
      "[[6816 1413]\n",
      " [2863 2159]]\n",
      "F1 Score: 0.502443565278101\n",
      "              precision    recall  f1-score   support\n",
      "\n",
      "           0       0.70      0.83      0.76      8229\n",
      "           1       0.60      0.43      0.50      5022\n",
      "\n",
      "    accuracy                           0.68     13251\n",
      "   macro avg       0.65      0.63      0.63     13251\n",
      "weighted avg       0.67      0.68      0.66     13251\n",
      "\n",
      "PR-AUC:  0.593429439597816\n"
     ]
    }
   ],
   "source": [
    "# Make predictions and determine the error\n",
    "y_pred_rf = model_rf_base.predict(x_test_rf)\n",
    "print(\"Accuracy: %.2f%%\" % (model_rf_base.score(x_test_rf, y_test) * 100))\n",
    "print(confusion_matrix(y_test, y_pred_rf))\n",
    "print('F1 Score:', f1_score(y_test, y_pred_rf))\n",
    "print(classification_report(y_test, y_pred_rf))\n",
    "# predict probabilities\n",
    "prob = model_rf_base.predict_proba(x_test_rf)\n",
    "# keep probabilities for the positive outcome only\n",
    "preds = prob[:,1]\n",
    "# calculate pr curve\n",
    "precision_rf, recall_rf, threshold = precision_recall_curve(y_test, preds)\n",
    "# calculate auc, equivalent to roc_auc_score()?\n",
    "print('PR-AUC: ', auc(recall_rf, precision_rf))"
   ]
  },
  {
   "cell_type": "markdown",
   "metadata": {},
   "source": [
    "#### Cost Sensitive Methods"
   ]
  },
  {
   "cell_type": "code",
   "execution_count": 51,
   "metadata": {
    "scrolled": true
   },
   "outputs": [
    {
     "name": "stdout",
     "output_type": "stream",
     "text": [
      "Accuracy: 65.67%\n",
      "[[5234 2995]\n",
      " [1554 3468]]\n",
      "F1 Score: 0.6039181541140619\n",
      "              precision    recall  f1-score   support\n",
      "\n",
      "           0       0.77      0.64      0.70      8229\n",
      "           1       0.54      0.69      0.60      5022\n",
      "\n",
      "    accuracy                           0.66     13251\n",
      "   macro avg       0.65      0.66      0.65     13251\n",
      "weighted avg       0.68      0.66      0.66     13251\n",
      "\n",
      "PR-AUC:  0.5934318794159843\n"
     ]
    }
   ],
   "source": [
    "y_pred_rf = model_rf.predict(x_test_rf)\n",
    "print(\"Accuracy: %.2f%%\" % (model_rf.score(x_test_rf, y_test) * 100))\n",
    "print(confusion_matrix(y_test, y_pred_rf))\n",
    "print('F1 Score:', f1_score(y_test, y_pred_rf))\n",
    "print(classification_report(y_test, y_pred_rf))\n",
    "prob = model_rf.predict_proba(x_test_rf)\n",
    "preds = prob[:,1]\n",
    "precision_rf, recall_rf, threshold = precision_recall_curve(y_test, preds)\n",
    "print('PR-AUC: ', auc(recall_rf, precision_rf))"
   ]
  },
  {
   "cell_type": "markdown",
   "metadata": {},
   "source": [
    "#### Sampling Methods - SMOTE"
   ]
  },
  {
   "cell_type": "code",
   "execution_count": 52,
   "metadata": {},
   "outputs": [
    {
     "name": "stdout",
     "output_type": "stream",
     "text": [
      "Accuracy: 67.99%\n",
      "[[6404 1825]\n",
      " [2416 2606]]\n",
      "F1 Score: 0.5513593568179413\n",
      "              precision    recall  f1-score   support\n",
      "\n",
      "           0       0.73      0.78      0.75      8229\n",
      "           1       0.59      0.52      0.55      5022\n",
      "\n",
      "    accuracy                           0.68     13251\n",
      "   macro avg       0.66      0.65      0.65     13251\n",
      "weighted avg       0.67      0.68      0.68     13251\n",
      "\n",
      "PR-AUC:  0.5930660640408101\n"
     ]
    }
   ],
   "source": [
    "y_pred_rf = model_rf_smote.predict(x_test_rf)\n",
    "print(\"Accuracy: %.2f%%\" % (model_rf_smote.score(x_test_rf, y_test) * 100))\n",
    "print(confusion_matrix(y_test, y_pred_rf))\n",
    "print('F1 Score:', f1_score(y_test, y_pred_rf))\n",
    "print(classification_report(y_test, y_pred_rf))\n",
    "prob = model_rf_smote.predict_proba(x_test_rf)\n",
    "preds = prob[:,1]\n",
    "precision_rf, recall_rf, threshold = precision_recall_curve(y_test, preds)\n",
    "print('PR-AUC: ', auc(recall_rf, precision_rf))"
   ]
  },
  {
   "cell_type": "markdown",
   "metadata": {},
   "source": [
    "#### Sampling Methods - ADASYN"
   ]
  },
  {
   "cell_type": "code",
   "execution_count": 53,
   "metadata": {},
   "outputs": [
    {
     "name": "stdout",
     "output_type": "stream",
     "text": [
      "Accuracy: 68.01%\n",
      "[[6401 1828]\n",
      " [2411 2611]]\n",
      "F1 Score: 0.5519501109819258\n",
      "              precision    recall  f1-score   support\n",
      "\n",
      "           0       0.73      0.78      0.75      8229\n",
      "           1       0.59      0.52      0.55      5022\n",
      "\n",
      "    accuracy                           0.68     13251\n",
      "   macro avg       0.66      0.65      0.65     13251\n",
      "weighted avg       0.67      0.68      0.68     13251\n",
      "\n",
      "PR-AUC:  0.5929695058205939\n"
     ]
    }
   ],
   "source": [
    "y_pred_rf = model_rf_adasyn.predict(x_test_rf)\n",
    "print(\"Accuracy: %.2f%%\" % (model_rf_adasyn.score(x_test_rf, y_test) * 100))\n",
    "print(confusion_matrix(y_test, y_pred_rf))\n",
    "print('F1 Score:', f1_score(y_test, y_pred_rf))\n",
    "print(classification_report(y_test, y_pred_rf))\n",
    "prob = model_rf_adasyn.predict_proba(x_test_rf)\n",
    "preds = prob[:,1]\n",
    "precision_rf, recall_rf, threshold = precision_recall_curve(y_test, preds)\n",
    "print('PR-AUC: ', auc(recall_rf, precision_rf))"
   ]
  },
  {
   "cell_type": "markdown",
   "metadata": {},
   "source": [
    "if you got an AUROC of 0.47, it just means you need to invert the predictions because Scikit-Learn is misinterpreting the positive class. AUROC should be >= 0.5."
   ]
  },
  {
   "cell_type": "markdown",
   "metadata": {
    "slideshow": {
     "slide_type": "-"
    }
   },
   "source": [
    "### Neural Network Model"
   ]
  },
  {
   "cell_type": "code",
   "execution_count": 54,
   "metadata": {},
   "outputs": [
    {
     "data": {
      "text/plain": [
       "['..\\\\data\\\\scaler.joblib']"
      ]
     },
     "execution_count": 54,
     "metadata": {},
     "output_type": "execute_result"
    }
   ],
   "source": [
    "scaler = StandardScaler()\n",
    "scaler.fit(x_train.astype('float64'))\n",
    "StandardScaler(copy=True, with_mean=True, with_std=True)\n",
    "x_train_nn = scaler.transform(x_train.astype('float64'))\n",
    "x_test_nn = scaler.transform(x_test.astype('float64'))\n",
    "dump(scaler, Path('../data/scaler.joblib'))"
   ]
  },
  {
   "cell_type": "markdown",
   "metadata": {},
   "source": [
    "#### Base"
   ]
  },
  {
   "cell_type": "code",
   "execution_count": 55,
   "metadata": {},
   "outputs": [
    {
     "name": "stdout",
     "output_type": "stream",
     "text": [
      "WARNING:tensorflow:From c:\\users\\leon\\miniconda3\\envs\\aiml\\lib\\site-packages\\tensorflow\\python\\framework\\op_def_library.py:263: colocate_with (from tensorflow.python.framework.ops) is deprecated and will be removed in a future version.\n",
      "Instructions for updating:\n",
      "Colocations handled automatically by placer.\n",
      "(None, 2)\n",
      "WARNING:tensorflow:From c:\\users\\leon\\miniconda3\\envs\\aiml\\lib\\site-packages\\tensorflow\\python\\ops\\math_ops.py:3066: to_int32 (from tensorflow.python.ops.math_ops) is deprecated and will be removed in a future version.\n",
      "Instructions for updating:\n",
      "Use tf.cast instead.\n",
      "Epoch 1/5\n",
      "30916/30916 [==============================] - 6s 186us/step - loss: 0.6056 - acc: 0.6644\n",
      "Epoch 2/5\n",
      "30916/30916 [==============================] - 5s 157us/step - loss: 0.5913 - acc: 0.6768\n",
      "Epoch 3/5\n",
      "30916/30916 [==============================] - 5s 155us/step - loss: 0.5883 - acc: 0.6811\n",
      "Epoch 4/5\n",
      "30916/30916 [==============================] - 5s 155us/step - loss: 0.5864 - acc: 0.6816\n",
      "Epoch 5/5\n",
      "30916/30916 [==============================] - 5s 157us/step - loss: 0.5844 - acc: 0.6837\n"
     ]
    },
    {
     "data": {
      "text/plain": [
       "<keras.callbacks.History at 0x1deab575cf8>"
      ]
     },
     "execution_count": 55,
     "metadata": {},
     "output_type": "execute_result"
    }
   ],
   "source": [
    "model_nn_base = Sequential()\n",
    "# Input layer\n",
    "model_nn_base.add(Dense(20, activation='relu', input_shape=(39,)))\n",
    "# Hidden layer\n",
    "model_nn_base.add(Dense(15, activation='relu'))\n",
    "model_nn_base.add(Dense(4, activation='relu'))\n",
    "# Output layer\n",
    "model_nn_base.add(Dense(2, activation='sigmoid'))\n",
    "print(model_nn_base.output_shape)\n",
    "\n",
    "model_nn_base.compile(loss='binary_crossentropy',\n",
    "                      optimizer='adam',\n",
    "                      metrics=['accuracy'])\n",
    "model_nn_base.fit(x_train_nn, to_categorical(y_train), epochs=5, batch_size=10, verbose=1)"
   ]
  },
  {
   "cell_type": "markdown",
   "metadata": {},
   "source": [
    "#### Cost Sensitive Method"
   ]
  },
  {
   "cell_type": "code",
   "execution_count": 56,
   "metadata": {},
   "outputs": [
    {
     "name": "stdout",
     "output_type": "stream",
     "text": [
      "(None, 2)\n",
      "Epoch 1/5\n",
      "30916/30916 [==============================] - 6s 183us/step - loss: 0.6056 - acc: 0.6599\n",
      "Epoch 2/5\n",
      "30916/30916 [==============================] - 5s 158us/step - loss: 0.5907 - acc: 0.6779\n",
      "Epoch 3/5\n",
      "30916/30916 [==============================] - 5s 157us/step - loss: 0.5882 - acc: 0.6788\n",
      "Epoch 4/5\n",
      "30916/30916 [==============================] - 5s 173us/step - loss: 0.5862 - acc: 0.6811\n",
      "Epoch 5/5\n",
      "30916/30916 [==============================] - 5s 171us/step - loss: 0.5846 - acc: 0.6839\n",
      "_________________________________________________________________\n",
      "Layer (type)                 Output Shape              Param #   \n",
      "=================================================================\n",
      "dense_5 (Dense)              (None, 20)                800       \n",
      "_________________________________________________________________\n",
      "dense_6 (Dense)              (None, 15)                315       \n",
      "_________________________________________________________________\n",
      "dense_7 (Dense)              (None, 4)                 64        \n",
      "_________________________________________________________________\n",
      "dense_8 (Dense)              (None, 2)                 10        \n",
      "=================================================================\n",
      "Total params: 1,189\n",
      "Trainable params: 1,189\n",
      "Non-trainable params: 0\n",
      "_________________________________________________________________\n",
      "None\n"
     ]
    }
   ],
   "source": [
    "model_nn_path = Path('../data/model_nn.h5')\n",
    "if os.path.exists(model_nn_path):\n",
    "    model_nn = load_model(str(model_nn_path))\n",
    "else:\n",
    "    class_weights = class_weight.compute_class_weight('balanced', \n",
    "                                                      np.unique(y_train.values.ravel()), \n",
    "                                                      y_train.values.ravel())\n",
    "    model_nn = Sequential()\n",
    "    # Input layer\n",
    "    model_nn.add(Dense(20, activation='relu', input_shape=(39,)))\n",
    "    # Hidden layer\n",
    "    model_nn.add(Dense(15, activation='relu'))\n",
    "    model_nn.add(Dense(4, activation='relu'))\n",
    "    # Output layer\n",
    "    model_nn.add(Dense(2, activation='sigmoid'))\n",
    "    print(model_nn.output_shape)\n",
    "    \n",
    "    model_nn.compile(loss='binary_crossentropy', \n",
    "                     optimizer='adam', \n",
    "                     metrics=['accuracy'])\n",
    "    model_nn.fit(x_train_nn, to_categorical(y_train), epochs=5, batch_size=10, class_weight=class_weights, verbose=1)\n",
    "    \n",
    "    model_nn.save(str(model_nn_path))\n",
    "print(model_nn.summary())"
   ]
  },
  {
   "cell_type": "markdown",
   "metadata": {},
   "source": [
    "#### Sampling Method - SMOTE"
   ]
  },
  {
   "cell_type": "code",
   "execution_count": 57,
   "metadata": {},
   "outputs": [],
   "source": [
    "if os.path.exists(Path('../data/model_nn_smote.h5')):\n",
    "    model_nn_smote = load_model(str(Path('../data/model_nn_smote.h5')))\n",
    "else:\n",
    "    x_train_nn_sm, y_train_sm = SMOTE(random_state=1).fit_sample(x_train_nn, y_train.values.ravel())\n",
    "    model_nn_smote = load_model(str(model_nn_path))\n",
    "    model_nn_smote.fit(x_train_nn_sm, to_categorical(y_train_sm), epochs=5, batch_size=10, verbose=0)\n",
    "    model_nn_smote.save(str(Path('../data/model_nn_smote.h5')))"
   ]
  },
  {
   "cell_type": "markdown",
   "metadata": {},
   "source": [
    "#### Sampling Method - ADASYN"
   ]
  },
  {
   "cell_type": "code",
   "execution_count": 58,
   "metadata": {},
   "outputs": [],
   "source": [
    "if os.path.exists(Path('../data/model_nn_adasyn.h5')):\n",
    "    model_nn_adasyn = load_model(str(Path('../data/model_nn_adasyn.h5')))\n",
    "else:\n",
    "    x_train_nn_as, y_train_as = ADASYN(random_state=1).fit_sample(x_train_nn, y_train.values.ravel())\n",
    "    model_nn_adasyn = load_model(str(model_nn_path))\n",
    "    model_nn_adasyn.fit(x_train_nn_as, to_categorical(y_train_as), epochs=5, batch_size=10, verbose=0)\n",
    "    model_nn_adasyn.save(str(Path('../data/model_nn_adasyn.h5')))"
   ]
  },
  {
   "cell_type": "markdown",
   "metadata": {
    "slideshow": {
     "slide_type": "-"
    }
   },
   "source": [
    "### Neural Network Results"
   ]
  },
  {
   "cell_type": "markdown",
   "metadata": {},
   "source": [
    "#### Base"
   ]
  },
  {
   "cell_type": "code",
   "execution_count": 59,
   "metadata": {},
   "outputs": [
    {
     "name": "stdout",
     "output_type": "stream",
     "text": [
      "13251/13251 [==============================] - 1s 41us/step\n",
      "Accuracy: 67.22%\n",
      "[[7051 1178]\n",
      " [3166 1856]]\n",
      "F1 Score: 0.46077457795431975\n",
      "              precision    recall  f1-score   support\n",
      "\n",
      "           0       0.69      0.86      0.76      8229\n",
      "           1       0.61      0.37      0.46      5022\n",
      "\n",
      "    accuracy                           0.67     13251\n",
      "   macro avg       0.65      0.61      0.61     13251\n",
      "weighted avg       0.66      0.67      0.65     13251\n",
      "\n",
      "PR-AUC:  0.5761936061130482\n"
     ]
    }
   ],
   "source": [
    "y_pred_nn = model_nn_base.predict_classes(x_test_nn)\n",
    "score = model_nn_base.evaluate(x_test_nn, to_categorical(y_test))\n",
    "print(\"Accuracy: %.2f%%\" % (score[1]*100))\n",
    "print(confusion_matrix(y_test, y_pred_nn))\n",
    "print('F1 Score:', f1_score(y_test, y_pred_nn))\n",
    "print(classification_report(y_test, y_pred_nn))\n",
    "# predict probabilities\n",
    "prob = model_nn_base.predict(x_test_nn)\n",
    "# keep probabilities for the positive outcome only\n",
    "preds = prob[:,1]\n",
    "# calculate pr curve\n",
    "precision_nn, recall_nn, threshold = precision_recall_curve(y_test, preds)\n",
    "# calculate auc, equivalent to roc_auc_score()?\n",
    "print('PR-AUC: ', auc(recall_nn, precision_nn))"
   ]
  },
  {
   "cell_type": "markdown",
   "metadata": {},
   "source": [
    "#### Cost Sensentive Method"
   ]
  },
  {
   "cell_type": "code",
   "execution_count": 60,
   "metadata": {},
   "outputs": [
    {
     "name": "stdout",
     "output_type": "stream",
     "text": [
      "13251/13251 [==============================] - 0s 37us/step\n",
      "Accuracy: 66.76%\n",
      "[[6943 1286]\n",
      " [3119 1903]]\n",
      "F1 Score: 0.46352454025088297\n",
      "              precision    recall  f1-score   support\n",
      "\n",
      "           0       0.69      0.84      0.76      8229\n",
      "           1       0.60      0.38      0.46      5022\n",
      "\n",
      "    accuracy                           0.67     13251\n",
      "   macro avg       0.64      0.61      0.61     13251\n",
      "weighted avg       0.65      0.67      0.65     13251\n",
      "\n",
      "PR-AUC:  0.5755291216948994\n"
     ]
    }
   ],
   "source": [
    "y_pred_nn = model_nn.predict_classes(x_test_nn)\n",
    "score = model_nn.evaluate(x_test_nn, to_categorical(y_test))\n",
    "print(\"Accuracy: %.2f%%\" % (score[1]*100))\n",
    "print(confusion_matrix(y_test, y_pred_nn))\n",
    "print('F1 Score:', f1_score(y_test, y_pred_nn))\n",
    "print(classification_report(y_test, y_pred_nn))\n",
    "prob = model_nn.predict(x_test_nn)\n",
    "preds = prob[:,1]\n",
    "precision_nn, recall_nn, threshold = precision_recall_curve(y_test, preds)\n",
    "print('PR-AUC: ', auc(recall_nn, precision_nn))"
   ]
  },
  {
   "cell_type": "markdown",
   "metadata": {},
   "source": [
    "#### Sampling Method - SMOTE"
   ]
  },
  {
   "cell_type": "code",
   "execution_count": 61,
   "metadata": {
    "scrolled": true
   },
   "outputs": [
    {
     "name": "stdout",
     "output_type": "stream",
     "text": [
      "13251/13251 [==============================] - 0s 34us/step\n",
      "Accuracy: 63.99%\n",
      "[[5069 3160]\n",
      " [1614 3408]]\n",
      "F1 Score: 0.58809318377912\n",
      "              precision    recall  f1-score   support\n",
      "\n",
      "           0       0.76      0.62      0.68      8229\n",
      "           1       0.52      0.68      0.59      5022\n",
      "\n",
      "    accuracy                           0.64     13251\n",
      "   macro avg       0.64      0.65      0.63     13251\n",
      "weighted avg       0.67      0.64      0.65     13251\n",
      "\n",
      "PR-AUC:  0.5724406688143368\n"
     ]
    }
   ],
   "source": [
    "y_pred_nn = model_nn_smote.predict_classes(x_test_nn)\n",
    "score = model_nn_smote.evaluate(x_test_nn, to_categorical(y_test))\n",
    "print(\"Accuracy: %.2f%%\" % (score[1]*100))\n",
    "print(confusion_matrix(y_test, y_pred_nn))\n",
    "print('F1 Score:', f1_score(y_test, y_pred_nn))\n",
    "print(classification_report(y_test, y_pred_nn))\n",
    "prob = model_nn_smote.predict(x_test_nn)\n",
    "preds = prob[:,1]\n",
    "precision_nn, recall_nn, threshold = precision_recall_curve(y_test, preds)\n",
    "print('PR-AUC: ', auc(recall_nn, precision_nn))"
   ]
  },
  {
   "cell_type": "markdown",
   "metadata": {},
   "source": [
    "#### Sampling Method - ADASYN"
   ]
  },
  {
   "cell_type": "code",
   "execution_count": 62,
   "metadata": {},
   "outputs": [
    {
     "name": "stdout",
     "output_type": "stream",
     "text": [
      "13251/13251 [==============================] - 0s 34us/step\n",
      "Accuracy: 63.09%\n",
      "[[4818 3411]\n",
      " [1482 3540]]\n",
      "F1 Score: 0.5913304936106238\n",
      "              precision    recall  f1-score   support\n",
      "\n",
      "           0       0.76      0.59      0.66      8229\n",
      "           1       0.51      0.70      0.59      5022\n",
      "\n",
      "    accuracy                           0.63     13251\n",
      "   macro avg       0.64      0.65      0.63     13251\n",
      "weighted avg       0.67      0.63      0.64     13251\n",
      "\n",
      "PR-AUC:  0.5709266215713528\n"
     ]
    }
   ],
   "source": [
    "y_pred_nn = model_nn_adasyn.predict_classes(x_test_nn)\n",
    "score = model_nn_adasyn.evaluate(x_test_nn, to_categorical(y_test))\n",
    "print(\"Accuracy: %.2f%%\" % (score[1]*100))\n",
    "print(confusion_matrix(y_test, y_pred_nn))\n",
    "print('F1 Score:', f1_score(y_test, y_pred_nn))\n",
    "print(classification_report(y_test, y_pred_nn))\n",
    "prob = model_nn_adasyn.predict(x_test_nn)\n",
    "preds = prob[:,1]\n",
    "precision_nn, recall_nn, threshold = precision_recall_curve(y_test, preds)\n",
    "print('PR-AUC: ', auc(recall_nn, precision_nn))"
   ]
  },
  {
   "cell_type": "markdown",
   "metadata": {},
   "source": [
    "### XGBoost Model"
   ]
  },
  {
   "cell_type": "code",
   "execution_count": 63,
   "metadata": {},
   "outputs": [
    {
     "data": {
      "text/plain": [
       "XGBClassifier(base_score=0.5, booster='gbtree', colsample_bylevel=1,\n",
       "              colsample_bynode=1, colsample_bytree=1, gamma=0,\n",
       "              learning_rate=0.05, max_delta_step=0, max_depth=3,\n",
       "              min_child_weight=1, missing=None, n_estimators=300, n_jobs=1,\n",
       "              nthread=None, objective='binary:logistic', random_state=42,\n",
       "              reg_alpha=0, reg_lambda=1, scale_pos_weight=1, seed=None,\n",
       "              silent=None, subsample=0.8, verbosity=1)"
      ]
     },
     "execution_count": 63,
     "metadata": {},
     "output_type": "execute_result"
    }
   ],
   "source": [
    "# TODO: wrap under a if condition for cost sensitive so this doesnt have to run everytime\n",
    "model_xgb = XGBClassifier(max_depth=3,\n",
    "                          learning_rate=0.05,\n",
    "                          n_estimators=300,\n",
    "                          objective='binary:logistic',\n",
    "                          subsample=0.8,\n",
    "                          random_state=42)\n",
    "eval_set = [(x_train, y_train.values.ravel()), (x_test, y_test.values.ravel())]\n",
    "eval_metric = ['auc', 'error']\n",
    "model_xgb.fit(x_train, y_train.values.ravel(), eval_metric=eval_metric, eval_set=eval_set, \n",
    "              verbose=False)"
   ]
  },
  {
   "cell_type": "code",
   "execution_count": 64,
   "metadata": {},
   "outputs": [
    {
     "data": {
      "image/png": "[encoded data removed]",
      "text/plain": [
       "<Figure size 1080x270 with 2 Axes>"
      ]
     },
     "metadata": {
      "needs_background": "light"
     },
     "output_type": "display_data"
    },
    {
     "data": {
      "image/png": "[encoded data removed]",
      "text/plain": [
       "<Figure size 432x288 with 1 Axes>"
      ]
     },
     "metadata": {
      "needs_background": "light"
     },
     "output_type": "display_data"
    }
   ],
   "source": [
    "results = model_xgb.evals_result()\n",
    "epochs = len(results['validation_0']['error'])\n",
    "x_axis = range(0, epochs)\n",
    "\n",
    "f, (ax1, ax2) = plt.subplots(nrows=1, ncols=2, figsize=(12, 3), dpi=90)\n",
    "ax1.plot(x_axis, results['validation_0']['auc'], label='Train')\n",
    "ax1.plot(x_axis, results['validation_1']['auc'], label='Test')\n",
    "ax1.legend()\n",
    "ax1.set_ylabel('AUC')\n",
    "ax1.set_title('XGBoost PR-AUC')\n",
    "\n",
    "ax2.plot(x_axis, results['validation_0']['error'], label='Train')\n",
    "ax2.plot(x_axis, results['validation_1']['error'], label='Test')\n",
    "ax2.legend()\n",
    "ax2.set_ylabel('Classification Error')\n",
    "ax2.set_title('XGBoost Classification Error')\n",
    "plt.show()\n",
    "\n",
    "plot_importance(model_xgb)\n",
    "plt.show()"
   ]
  },
  {
   "cell_type": "code",
   "execution_count": 65,
   "metadata": {},
   "outputs": [],
   "source": [
    "# from sklearn.feature_selection import SelectFromModel\n",
    "# from sklearn.metrics import accuracy_score\n",
    "# thresholds = np.sort(model_xgb.feature_importances_)\n",
    "# for thresh in thresholds:\n",
    "#     # select features using threshold\n",
    "#     selection = SelectFromModel(model_xgb, threshold=thresh, prefit=True)\n",
    "#     select_x_train = selection.transform(x_train)\n",
    "#     # train model\n",
    "#     selection_model = XGBClassifier(scale_pos_weight=class_weights[1])\n",
    "#     selection_model.fit(select_x_train, y_train.values.ravel())\n",
    "#     # eval model\n",
    "#     select_x_test = selection.transform(x_test)\n",
    "#     y_pred_xgb = selection_model.predict(select_x_test)\n",
    "#     predictions = [round(value) for value in y_pred_xgb]\n",
    "#     accuracy = accuracy_score(y_test, predictions)\n",
    "#     print(\"Thresh=%.3f, n=%d, Accuracy: %.2f%%\" % (thresh, \n",
    "#                                                   select_x_train.shape[1], \n",
    "#                                                   accuracy * 100))"
   ]
  },
  {
   "cell_type": "code",
   "execution_count": 66,
   "metadata": {},
   "outputs": [],
   "source": [
    "important_indices = ['log_annual_inc',\n",
    "                     'dti',\n",
    "                     'home_ownership_OWN',\n",
    "                     'home_ownership_RENT',\n",
    "                     'log_installment',\n",
    "                     'int_rate',\n",
    "                     'loan_amnt',\n",
    "                     'revol_util',\n",
    "                     'grade_B',\n",
    "                     'grade_C',\n",
    "                     'grade_D',\n",
    "                     'grade_E',\n",
    "                     'grade_F',\n",
    "                     'grade_G',\n",
    "                     'term',\n",
    "                     'verification_status_Source Verified',\n",
    "                     'verification_status_Verified']\n",
    "x_train_xgb = x_train.loc[:, important_indices]\n",
    "x_test_xgb = x_test.loc[:, important_indices]"
   ]
  },
  {
   "cell_type": "markdown",
   "metadata": {},
   "source": [
    "#### Base Model"
   ]
  },
  {
   "cell_type": "code",
   "execution_count": 67,
   "metadata": {},
   "outputs": [],
   "source": [
    "model_xgb_base_path = Path('../data/model_xgb_base.joblib')\n",
    "if os.path.exists(model_xgb_base_path):\n",
    "    model_xgb_base = load(model_xgb_base_path)\n",
    "else:\n",
    "    model_xgb_base = XGBClassifier(max_depth=3, \n",
    "                                   learning_rate=0.05, \n",
    "                                   n_estimators=300, \n",
    "                                   objective='binary:logistic', \n",
    "                                   subsample=0.8, \n",
    "                                   random_state=42)\n",
    "    model_xgb_base.fit(x_train_xgb, y_train.values.ravel())\n",
    "    dump(model_xgb_base, model_xgb_base_path)"
   ]
  },
  {
   "cell_type": "markdown",
   "metadata": {},
   "source": [
    "#### Cost Sensitive Method"
   ]
  },
  {
   "cell_type": "code",
   "execution_count": 68,
   "metadata": {},
   "outputs": [],
   "source": [
    "model_path_xgb = Path('../data/model_xgb.joblib')\n",
    "if os.path.exists(model_path_xgb):\n",
    "    model_xgb = load(model_path_xgb)\n",
    "else:\n",
    "    neg_weight = y_train['loan_status'].value_counts(dropna=False)[0]/y_train['loan_status'].value_counts(dropna=False)[1]\n",
    "    model_xgb = XGBClassifier(max_depth=3,\n",
    "                              learning_rate=0.05,\n",
    "                              n_estimators=300,\n",
    "                              objective='binary:logistic',\n",
    "                              subsample=0.8,\n",
    "                              scale_pos_weight=neg_weight, \n",
    "                              random_state=42)\n",
    "    model_xgb.fit(x_train_xgb, y_train.values.ravel())\n",
    "    dump(model_xgb, model_path_xgb)"
   ]
  },
  {
   "cell_type": "markdown",
   "metadata": {},
   "source": [
    "#### Sampling Method - SMOTE"
   ]
  },
  {
   "cell_type": "code",
   "execution_count": 69,
   "metadata": {},
   "outputs": [],
   "source": [
    "model_xgb_smote_path = Path('../data/model_xgb_smote.joblib')\n",
    "if os.path.exists(model_xgb_smote_path):\n",
    "    model_xgb_smote = load(model_xgb_smote_path)\n",
    "else:\n",
    "    x_train_xgb_sm, y_train_sm = SMOTE(random_state=1).fit_resample(x_train_xgb, y_train.values.ravel())\n",
    "    x_train_xgb_sm = pd.DataFrame(x_train_xgb_sm, columns=x_test_xgb.columns)\n",
    "    y_train_sm = pd.DataFrame(y_train_sm, columns=y_train.columns)\n",
    "    model_xgb_smote = XGBClassifier(max_depth=3, \n",
    "                                    learning_rate=0.01, \n",
    "                                    n_estimators=300, \n",
    "                                    objective='binary:logistic', \n",
    "                                    subsample=0.8, \n",
    "                                    random_state=42)\n",
    "    model_xgb_smote.fit(x_train_xgb_sm, y_train_sm.values.ravel())\n",
    "    dump(model_xgb_smote, model_xgb_smote_path)"
   ]
  },
  {
   "cell_type": "markdown",
   "metadata": {},
   "source": [
    "#### Sampling Method - ADASYN"
   ]
  },
  {
   "cell_type": "code",
   "execution_count": 70,
   "metadata": {},
   "outputs": [],
   "source": [
    "model_xgb_adasyn_path = Path('../data/model_xgb_adasyn.joblib')\n",
    "if os.path.exists(model_xgb_adasyn_path):\n",
    "    model_xgb_adasyn = load(model_xgb_adasyn_path)\n",
    "else:\n",
    "    x_train_xgb_as, y_train_as = ADASYN(random_state=1).fit_sample(x_train_xgb, y_train.values.ravel())\n",
    "    x_train_xgb_as = pd.DataFrame(x_train_xgb_as, columns=x_test_xgb.columns)\n",
    "    y_train_as = pd.DataFrame(y_train_as, columns=y_train.columns)\n",
    "    model_xgb_adasyn = XGBClassifier(max_depth=3, \n",
    "                                     learning_rate=0.01, \n",
    "                                     n_estimators=300, \n",
    "                                     objective='binary:logistic', \n",
    "                                     subsample=0.8, \n",
    "                                     random_state=42)\n",
    "    model_xgb_adasyn.fit(x_train_xgb_as, y_train_as.values.ravel())\n",
    "    dump(model_xgb_adasyn, model_xgb_adasyn_path)"
   ]
  },
  {
   "cell_type": "markdown",
   "metadata": {},
   "source": [
    "### XGBoost Results"
   ]
  },
  {
   "cell_type": "code",
   "execution_count": 71,
   "metadata": {},
   "outputs": [
    {
     "name": "stdout",
     "output_type": "stream",
     "text": [
      "Accuracy: 69.51%\n",
      "[[6757 1472]\n",
      " [2568 2454]]\n",
      "F1 Score: 0.5485024586499776\n",
      "              precision    recall  f1-score   support\n",
      "\n",
      "           0       0.72      0.82      0.77      8229\n",
      "           1       0.63      0.49      0.55      5022\n",
      "\n",
      "    accuracy                           0.70     13251\n",
      "   macro avg       0.67      0.65      0.66     13251\n",
      "weighted avg       0.69      0.70      0.69     13251\n",
      "\n",
      "PR-AUC:  0.6219669164829286\n"
     ]
    }
   ],
   "source": [
    "# Make predictions and determine the error\n",
    "y_pred_xgb = model_xgb_base.predict(x_test_xgb)\n",
    "print(\"Accuracy: %.2f%%\" % (model_xgb_base.score(x_test_xgb, y_test) * 100))\n",
    "print(confusion_matrix(y_test, y_pred_xgb))\n",
    "print('F1 Score:', f1_score(y_test, y_pred_xgb))\n",
    "print(classification_report(y_test, y_pred_xgb))\n",
    "# predict probabilities\n",
    "prob = model_xgb_base.predict_proba(x_test_xgb)\n",
    "# keep probabilities for the positive outcome only\n",
    "preds = prob[:,1]\n",
    "# calculate pr curve\n",
    "precision_xgb, recall_xgb, threshold = precision_recall_curve(y_test, preds)\n",
    "# calculate auc, equivalent to roc_auc_score()?\n",
    "print('PR-AUC: ', auc(recall_xgb, precision_xgb))"
   ]
  },
  {
   "cell_type": "markdown",
   "metadata": {},
   "source": [
    "#### Cost Sensitive Method"
   ]
  },
  {
   "cell_type": "code",
   "execution_count": 72,
   "metadata": {},
   "outputs": [
    {
     "name": "stdout",
     "output_type": "stream",
     "text": [
      "Accuracy: 67.63%\n",
      "[[5281 2948]\n",
      " [1342 3680]]\n",
      "F1 Score: 0.6317596566523604\n",
      "              precision    recall  f1-score   support\n",
      "\n",
      "           0       0.80      0.64      0.71      8229\n",
      "           1       0.56      0.73      0.63      5022\n",
      "\n",
      "    accuracy                           0.68     13251\n",
      "   macro avg       0.68      0.69      0.67     13251\n",
      "weighted avg       0.71      0.68      0.68     13251\n",
      "\n",
      "PR-AUC:  0.621457929718918\n"
     ]
    }
   ],
   "source": [
    "# Make predictions and determine the error\n",
    "y_pred_xgb = model_xgb.predict(x_test_xgb)\n",
    "print(\"Accuracy: %.2f%%\" % (model_xgb.score(x_test_xgb, y_test) * 100))\n",
    "print(confusion_matrix(y_test, y_pred_xgb))\n",
    "print('F1 Score:', f1_score(y_test, y_pred_xgb))\n",
    "print(classification_report(y_test, y_pred_xgb))\n",
    "# predict probabilities\n",
    "prob = model_xgb.predict_proba(x_test_xgb)\n",
    "# keep probabilities for the positive outcome only\n",
    "preds = prob[:,1]\n",
    "# calculate pr curve\n",
    "precision_xgb, recall_xgb, threshold = precision_recall_curve(y_test, preds)\n",
    "# calculate auc, equivalent to roc_auc_score()?\n",
    "print('PR-AUC: ', auc(recall_xgb, precision_xgb))"
   ]
  },
  {
   "cell_type": "markdown",
   "metadata": {},
   "source": [
    "#### Sampling Method - SMOTE"
   ]
  },
  {
   "cell_type": "code",
   "execution_count": 73,
   "metadata": {},
   "outputs": [
    {
     "name": "stdout",
     "output_type": "stream",
     "text": [
      "Accuracy: 66.77%\n",
      "[[6013 2216]\n",
      " [2187 2835]]\n",
      "F1 Score: 0.5628908964558722\n",
      "              precision    recall  f1-score   support\n",
      "\n",
      "           0       0.73      0.73      0.73      8229\n",
      "           1       0.56      0.56      0.56      5022\n",
      "\n",
      "    accuracy                           0.67     13251\n",
      "   macro avg       0.65      0.65      0.65     13251\n",
      "weighted avg       0.67      0.67      0.67     13251\n",
      "\n",
      "PR-AUC:  0.5839595093688296\n"
     ]
    }
   ],
   "source": [
    "y_pred_xgb = model_xgb_smote.predict(x_test_xgb)\n",
    "print(\"Accuracy: %.2f%%\" % (model_xgb_smote.score(x_test_xgb, y_test) * 100))\n",
    "print(confusion_matrix(y_test, y_pred_xgb))\n",
    "print('F1 Score:', f1_score(y_test, y_pred_xgb))\n",
    "print(classification_report(y_test, y_pred_xgb))\n",
    "# predict probabilities\n",
    "prob = model_xgb_smote.predict_proba(x_test_xgb)\n",
    "# keep probabilities for the positive outcome only\n",
    "preds = prob[:,1]\n",
    "# calculate pr curve\n",
    "precision_xgb, recall_xgb, threshold = precision_recall_curve(y_test, preds)\n",
    "# calculate auc, equivalent to roc_auc_score()?\n",
    "print('PR-AUC: ', auc(recall_xgb, precision_xgb))"
   ]
  },
  {
   "cell_type": "markdown",
   "metadata": {},
   "source": [
    "#### Sampling Method - ADASYN"
   ]
  },
  {
   "cell_type": "code",
   "execution_count": 74,
   "metadata": {},
   "outputs": [
    {
     "name": "stdout",
     "output_type": "stream",
     "text": [
      "Accuracy: 66.83%\n",
      "[[6014 2215]\n",
      " [2180 2842]]\n",
      "F1 Score: 0.5639448357972022\n",
      "              precision    recall  f1-score   support\n",
      "\n",
      "           0       0.73      0.73      0.73      8229\n",
      "           1       0.56      0.57      0.56      5022\n",
      "\n",
      "    accuracy                           0.67     13251\n",
      "   macro avg       0.65      0.65      0.65     13251\n",
      "weighted avg       0.67      0.67      0.67     13251\n",
      "\n",
      "PR-AUC:  0.584599657530125\n"
     ]
    }
   ],
   "source": [
    "y_pred_xgb = model_xgb_adasyn.predict(x_test_xgb)\n",
    "print(\"Accuracy: %.2f%%\" % (model_xgb_adasyn.score(x_test_xgb, y_test) * 100))\n",
    "print(confusion_matrix(y_test, y_pred_xgb))\n",
    "print('F1 Score:', f1_score(y_test, y_pred_xgb))\n",
    "print(classification_report(y_test, y_pred_xgb))\n",
    "# predict probabilities\n",
    "prob = model_xgb_adasyn.predict_proba(x_test_xgb)\n",
    "# keep probabilities for the positive outcome only\n",
    "preds = prob[:,1]\n",
    "# calculate pr curve\n",
    "precision_xgb, recall_xgb, threshold = precision_recall_curve(y_test, preds)\n",
    "# calculate auc, equivalent to roc_auc_score()?\n",
    "print('PR-AUC: ', auc(recall_xgb, precision_xgb))"
   ]
  },
  {
   "cell_type": "markdown",
   "metadata": {
    "slideshow": {
     "slide_type": "-"
    }
   },
   "source": [
    "### Ensemble Model"
   ]
  },
  {
   "cell_type": "code",
   "execution_count": 75,
   "metadata": {},
   "outputs": [],
   "source": [
    "# Random Forest Model\n",
    "output_rf = model_rf.predict_proba(x_test_rf)\n",
    "output_rf2 = model_rf.predict(x_test_rf)\n",
    "\n",
    "# Neural Network Model\n",
    "output_nn = model_nn_adasyn.predict(x_test_nn)\n",
    "output_nn2 = model_nn_adasyn.predict_classes(x_test_nn)\n",
    "\n",
    "# XGBoost Model\n",
    "output_xgb = model_xgb.predict_proba(x_test_xgb)\n",
    "output_xgb2 = model_xgb.predict(x_test_xgb)\n",
    "\n",
    "# Ensemble output\n",
    "# Avg\n",
    "output = (output_rf + output_nn + output_xgb) / 3\n",
    "\n",
    "# Majority vote\n",
    "output2 = pd.DataFrame({'rf': output_rf2, 'nn': output_nn2, 'xgb': output_xgb2})\n",
    "output2['Prediction'] = output2.sum(axis=1)\n",
    "output2.loc[output2['Prediction'] < 2, 'Prediction'] = 0\n",
    "output2.loc[output2['Prediction'] >= 2, 'Prediction'] = 1"
   ]
  },
  {
   "cell_type": "markdown",
   "metadata": {},
   "source": [
    "#### Stacking"
   ]
  },
  {
   "cell_type": "code",
   "execution_count": 76,
   "metadata": {},
   "outputs": [
    {
     "data": {
      "text/plain": [
       "LogisticRegression(C=0.5, class_weight='balanced', dual=False,\n",
       "                   fit_intercept=True, intercept_scaling=1, l1_ratio=None,\n",
       "                   max_iter=10000, multi_class='auto', n_jobs=None,\n",
       "                   penalty='l2', random_state=0, solver='lbfgs', tol=0.0001,\n",
       "                   verbose=0, warm_start=False)"
      ]
     },
     "execution_count": 76,
     "metadata": {},
     "output_type": "execute_result"
    }
   ],
   "source": [
    "# Obtain the base first-level model predictions\n",
    "y_pred_stacking_rf = model_rf.predict(x_train_rf)\n",
    "y_pred_stacking_nn = model_nn_adasyn.predict_classes(x_train_nn)\n",
    "y_pred_stacking_xgb = model_xgb.predict(x_train_xgb)\n",
    "x_train_stacking = pd.DataFrame({'rf': y_pred_stacking_rf, 'nn': y_pred_stacking_nn, 'xgb': y_pred_stacking_xgb})\n",
    "y_train_stacking = pd.DataFrame(y_train.copy())\n",
    "x_test_stacking = pd.DataFrame({'rf': output_rf2, 'nn': output_nn2, 'xgb': output_xgb2})\n",
    "y_test_stacking = pd.DataFrame(y_test.copy())\n",
    "\n",
    "# Fit the Meta Learner from first level predictions\n",
    "neg_weight = y_train_stacking['loan_status'].value_counts(dropna=False)[0] / y_train_stacking['loan_status'].value_counts(dropna=False)[1]\n",
    "model_stacking_xgb = XGBClassifier(max_depth=3, \n",
    "                                   learning_rate=0.05, \n",
    "                                   n_estimators=300, \n",
    "                                   objective='binary:logistic', \n",
    "                                   subsample=0.8, \n",
    "                                   scale_pos_weight=neg_weight, \n",
    "                                   random_state=42)\n",
    "model_stacking_xgb.fit(x_train_stacking, y_train_stacking.values.ravel())\n",
    "\n",
    "model_stacking_lr = LogisticRegression(penalty=\"l2\", C=0.5, fit_intercept=True, class_weight='balanced',\n",
    "                                       random_state=0, max_iter=10000, solver='lbfgs')\n",
    "model_stacking_lr.fit(x_train_stacking, y_train_stacking.values.ravel())"
   ]
  },
  {
   "cell_type": "markdown",
   "metadata": {},
   "source": [
    "### Ensemble Results"
   ]
  },
  {
   "cell_type": "code",
   "execution_count": 77,
   "metadata": {
    "scrolled": true,
    "slideshow": {
     "slide_type": "-"
    }
   },
   "outputs": [
    {
     "name": "stdout",
     "output_type": "stream",
     "text": [
      "Averaging Method\n",
      "Accuracy: 66.70%\n",
      "[[3572 1450]\n",
      " [2963 5266]]\n",
      "              precision    recall  f1-score   support\n",
      "\n",
      "     Default       0.55      0.71      0.62      5022\n",
      "  Fully Paid       0.78      0.64      0.70      8229\n",
      "\n",
      "    accuracy                           0.67     13251\n",
      "   macro avg       0.67      0.68      0.66     13251\n",
      "weighted avg       0.69      0.67      0.67     13251\n",
      "\n",
      "\n",
      "Majority Method\n",
      "Accuracy: 66.65%\n",
      "[[3599 1423]\n",
      " [2996 5233]]\n",
      "              precision    recall  f1-score   support\n",
      "\n",
      "     Default       0.55      0.72      0.62      5022\n",
      "  Fully Paid       0.79      0.64      0.70      8229\n",
      "\n",
      "    accuracy                           0.67     13251\n",
      "   macro avg       0.67      0.68      0.66     13251\n",
      "weighted avg       0.70      0.67      0.67     13251\n",
      "\n"
     ]
    }
   ],
   "source": [
    "p_output = pd.DataFrame(output.copy())\n",
    "p_output.columns = ['Fully Paid', 'Default']\n",
    "p_output['Prediction'] = p_output.idxmax(axis=1)\n",
    "p_output['Fully Paid'] = p_output['Fully Paid'].multiply(100).round(0).astype(int).astype(str) + '%'\n",
    "p_output['Default'] = p_output['Default'].multiply(100).round(0).astype(int).astype(str) + '%'\n",
    "\n",
    "y_test2 = pd.DataFrame(y_test.copy())\n",
    "y_test2.columns = ['Prediction']\n",
    "y_test2['Prediction'].replace(0, 'Fully Paid', inplace=True)\n",
    "y_test2['Prediction'].replace(1, 'Default', inplace=True)\n",
    "print('Averaging Method')\n",
    "accuracy = accuracy_score(y_true=y_test2, y_pred=p_output['Prediction'])\n",
    "print(\"Accuracy: %.2f%%\" % (accuracy * 100))\n",
    "print(confusion_matrix(y_test2, p_output['Prediction']))\n",
    "print(classification_report(y_test2, p_output['Prediction']))\n",
    "\n",
    "# Majority\n",
    "output2['Prediction'].replace(0, 'Fully Paid', inplace=True)\n",
    "output2['Prediction'].replace(1, 'Default', inplace=True)\n",
    "\n",
    "print('\\nMajority Method')\n",
    "accuracy = accuracy_score(y_true=y_test2, y_pred=output2['Prediction'])\n",
    "print(\"Accuracy: %.2f%%\" % (accuracy * 100))\n",
    "print(confusion_matrix(y_test2, output2['Prediction']))\n",
    "print(classification_report(y_test2, output2['Prediction']))"
   ]
  },
  {
   "cell_type": "code",
   "execution_count": 78,
   "metadata": {},
   "outputs": [
    {
     "name": "stdout",
     "output_type": "stream",
     "text": [
      "Accuracy: 65.67%\n",
      "[[5234 2995]\n",
      " [1554 3468]]\n",
      "F1 Score: 0.6039181541140619\n",
      "              precision    recall  f1-score   support\n",
      "\n",
      "           0       0.77      0.64      0.70      8229\n",
      "           1       0.54      0.69      0.60      5022\n",
      "\n",
      "    accuracy                           0.66     13251\n",
      "   macro avg       0.65      0.66      0.65     13251\n",
      "weighted avg       0.68      0.66      0.66     13251\n",
      "\n",
      "PR-AUC:  0.669572334466345\n"
     ]
    }
   ],
   "source": [
    "# Predict the test\n",
    "y_pred_xgb = model_stacking_xgb.predict(x_test_stacking)\n",
    "print(\"Accuracy: %.2f%%\" % (model_stacking_xgb.score(x_test_stacking, y_test_stacking) * 100))\n",
    "print(confusion_matrix(y_test_stacking, y_pred_xgb))\n",
    "print('F1 Score:', f1_score(y_test_stacking, y_pred_xgb))\n",
    "print(classification_report(y_test_stacking, y_pred_xgb))\n",
    "# predict probabilities\n",
    "prob = model_stacking_xgb.predict_proba(x_test_stacking)\n",
    "# keep probabilities for the positive outcome only\n",
    "preds = prob[:,1]\n",
    "# calculate pr curve\n",
    "precision_xgb, recall_xgb, threshold = precision_recall_curve(y_test_stacking, preds)\n",
    "# calculate auc, equivalent to roc_auc_score()?\n",
    "print('PR-AUC: ', auc(recall_xgb, precision_xgb))"
   ]
  },
  {
   "cell_type": "code",
   "execution_count": 79,
   "metadata": {},
   "outputs": [
    {
     "name": "stdout",
     "output_type": "stream",
     "text": [
      "Accuracy: 66.47%\n",
      "[[5386 2843]\n",
      " [1600 3422]]\n",
      "F1 Score: 0.6063613006113228\n",
      "              precision    recall  f1-score   support\n",
      "\n",
      "           0       0.77      0.65      0.71      8229\n",
      "           1       0.55      0.68      0.61      5022\n",
      "\n",
      "    accuracy                           0.66     13251\n",
      "   macro avg       0.66      0.67      0.66     13251\n",
      "weighted avg       0.69      0.66      0.67     13251\n",
      "\n",
      "PR-AUC:  0.6705189734401573\n"
     ]
    }
   ],
   "source": [
    "y_pred_lr = model_stacking_lr.predict(x_test_stacking)\n",
    "print(\"Accuracy: %.2f%%\" % (model_stacking_lr.score(x_test_stacking, y_test_stacking) * 100))\n",
    "print(confusion_matrix(y_test_stacking, y_pred_lr))\n",
    "print('F1 Score:', f1_score(y_test_stacking, y_pred_lr))\n",
    "print(classification_report(y_test_stacking, y_pred_lr))\n",
    "# predict probabilities\n",
    "prob = model_stacking_lr.predict_proba(x_test_stacking)\n",
    "# keep probabilities for the positive outcome only\n",
    "preds = prob[:,1]\n",
    "# calculate pr curve\n",
    "precision_lr, recall_lr, threshold = precision_recall_curve(y_test_stacking, preds)\n",
    "# calculate auc, equivalent to roc_auc_score()?\n",
    "print('PR-AUC: ', auc(recall_lr, precision_lr))"
   ]
  },
  {
   "cell_type": "code",
   "execution_count": 80,
   "metadata": {},
   "outputs": [
    {
     "data": {
      "image/png": "[encoded data removed]",
      "text/plain": [
       "<Figure size 1080x270 with 2 Axes>"
      ]
     },
     "metadata": {
      "needs_background": "light"
     },
     "output_type": "display_data"
    }
   ],
   "source": [
    "# predict probabilities\n",
    "model_rf = load(model_rf_path)\n",
    "model_nn = load_model(str(Path('../data/model_nn_adasyn.h5')))\n",
    "model_xgb = load(model_path_xgb)\n",
    "pos_pred_rf = model_rf.predict_proba(x_test_rf)\n",
    "pos_pred_nn = model_nn.predict(x_test_nn)\n",
    "pos_pred_xgb = model_xgb.predict_proba(x_test_xgb)\n",
    "# keep probabilities for the positive outcome only\n",
    "pos_pred_rf = pos_pred_rf[:,1]\n",
    "pos_pred_nn = pos_pred_nn[:,1]\n",
    "pos_pred_xgb = pos_pred_xgb[:,1]\n",
    "# calculate roc curve\n",
    "fpr_rf, tpr_rf, threshold = roc_curve(y_test, pos_pred_rf)\n",
    "fpr_nn, tpr_nn, threshold = roc_curve(y_test, pos_pred_nn)\n",
    "fpr_xgb, tpr_xgb, threshold = roc_curve(y_test, pos_pred_xgb)\n",
    "# # calculate auc, equivalent to roc_auc_score()?\n",
    "roc_auc_rf = auc(fpr_rf, tpr_rf)\n",
    "roc_auc_nn = auc(fpr_nn, tpr_nn)\n",
    "roc_auc_xgb = auc(fpr_xgb, tpr_xgb)\n",
    "\n",
    "f, (ax1, ax2) = plt.subplots(nrows=1, ncols=2, figsize=(12, 3), dpi=90)\n",
    "ax1.set_title('Receiver Operating Characteristic')\n",
    "ax1.plot(fpr_rf, tpr_rf, 'r', label = 'RF AUC = %0.2f' % roc_auc_rf)\n",
    "ax1.plot(fpr_nn, tpr_nn, 'b', label = 'NN AUC = %0.2f' % roc_auc_nn)\n",
    "ax1.plot(fpr_xgb, tpr_xgb, color='yellow', label = 'XGB AUC = %0.2f' % roc_auc_xgb)\n",
    "ax1.legend(loc = 'lower right')\n",
    "ax1.plot([0, 1], [0, 1], 'g--')\n",
    "ax1.set_ylabel('True Positive Rate')\n",
    "ax1.set_xlabel('False Positie Rate')\n",
    "\n",
    "precision_rf, recall_rf, threshold = precision_recall_curve(y_test, pos_pred_rf)\n",
    "precision_nn, recall_nn, threshold = precision_recall_curve(y_test, pos_pred_nn)\n",
    "precision_xgb, recall_xgb, threshold = precision_recall_curve(y_test, pos_pred_xgb)\n",
    "pr_auc_rf = auc(recall_rf, precision_rf)\n",
    "pr_auc_nn = auc(recall_nn, precision_nn)\n",
    "pr_auc_xgb = auc(recall_xgb, precision_xgb)\n",
    "ax2.set_title('Precision-Recall Curve')\n",
    "ax2.plot(recall_rf, precision_rf, 'r', label = 'RF AUC = %0.2f' % pr_auc_rf)\n",
    "ax2.plot(recall_nn, precision_nn, 'b', label = 'NN AUC = %0.2f' % pr_auc_nn)\n",
    "ax2.plot(recall_xgb, precision_xgb, 'y', label = 'XGB AUC = %0.2f' % pr_auc_xgb)\n",
    "ax2.legend(loc = 'upper right')\n",
    "ax2.plot([0, 1], [0.4, 0.4], 'r--')\n",
    "ax2.set_ylabel('Precision')\n",
    "ax2.set_xlabel('Recall')\n",
    "plt.show()"
   ]
  },
  {
   "cell_type": "code",
   "execution_count": 81,
   "metadata": {
    "scrolled": true
   },
   "outputs": [
    {
     "data": {
      "image/png": "[encoded data removed]",
      "text/plain": [
       "<Figure size 1080x270 with 2 Axes>"
      ]
     },
     "metadata": {
      "needs_background": "light"
     },
     "output_type": "display_data"
    }
   ],
   "source": [
    "accu_metrics = pd.DataFrame(p_output.copy())\n",
    "accu_metrics['Actual'] = y_test2.to_numpy()\n",
    "accu_metrics['category'] = accu_metrics[['Fully Paid', 'Default']].max(axis=1)\n",
    "accu_metrics['category'] = accu_metrics['category'].str.rstrip('%').astype('float')\n",
    "temp = pd.DataFrame(x_test['loan_amnt'])\n",
    "temp = temp.join(test_pymnts)\n",
    "temp.reset_index(inplace=True, drop=True)\n",
    "accu_metrics = accu_metrics.join(temp)\n",
    "accu_metrics['PL'] = ((accu_metrics['total_pymnt'] - accu_metrics['loan_amnt']) / abs(accu_metrics['loan_amnt'])) * 100\n",
    "accu_metrics['proba_range'] = pd.cut(accu_metrics['category'], [0, 10, 20, 30, 40, 50, 60, 70, 80, 90, 100], right=False,\n",
    "                           labels=['0-10', '10-20', '20-30', '30-40', '40-50', '50-60', \n",
    "                                   '60-70', '70-80', '80-90', '90-100'], include_lowest=True)\n",
    "accu_metrics['correct'] = 0\n",
    "accu_metrics.loc[accu_metrics['Prediction'] == accu_metrics['Actual'], 'correct'] = 1\n",
    "accu_metric = pd.DataFrame(accu_metrics.groupby('proba_range')['correct'].sum())\n",
    "accu_metric['total'] = accu_metrics.groupby(['proba_range']).count()['correct']\n",
    "accu_metric['Accuracy'] = accu_metric['correct'] / accu_metric['total'] * 100\n",
    "accu_metric.dropna(inplace=True)\n",
    "accu_metric.reset_index(inplace=True)\n",
    "\n",
    "returns_orgi = pd.DataFrame(accu_metrics.groupby('proba_range')['PL'].sum())\n",
    "returns_orgi['rows'] = accu_metrics.groupby(['proba_range']).count()['correct']\n",
    "returns_orgi['Avg_pct_return'] = returns_orgi['PL'] / returns_orgi['rows']\n",
    "returns_new = accu_metrics.loc[accu_metrics['Prediction']=='Fully Paid']\n",
    "returns_new = pd.DataFrame(returns_new.groupby('proba_range')['PL'].sum())\n",
    "returns_new['rows'] = accu_metrics.groupby(['proba_range']).count()['correct']\n",
    "returns_new['Avg_pct_return'] = returns_new['PL'] / returns_new['rows']\n",
    "returns_chart = pd.DataFrame()\n",
    "returns_chart['avg_improvement'] = returns_new['Avg_pct_return'] - returns_orgi['Avg_pct_return']\n",
    "returns_chart.dropna(inplace=True)\n",
    "returns_chart.reset_index(inplace=True)\n",
    "\n",
    "# This is for get rid of the groupby no data issue\n",
    "accu_metric.to_csv('../data/fuck.csv', index=False)\n",
    "accu_metric = pd.read_csv(Path('../data/fuck.csv'), header=0)\n",
    "returns_chart.to_csv('../data/fuck2.csv')\n",
    "returns_chart = pd.read_csv(Path('../data/fuck2.csv'), header=0)\n",
    "\n",
    "f, (ax1, ax2) = plt.subplots(nrows=1, ncols=2, figsize=(12, 3), dpi=90)\n",
    "sns.barplot(x='proba_range', y='total', data=accu_metric, color=sns.xkcd_rgb['windows blue'], ax=ax1)\n",
    "ax1.set_xlabel('Prediction Probability Range')\n",
    "ax1.set_ylabel('Frequency')\n",
    "ax1.set_title('Distribution of Prediction Accuracy Percentage ')\n",
    "# ax1.set_xticklabels(ax1.get_xticklabels(), rotation=90)\n",
    "sns.barplot(x='proba_range', y=\"avg_improvement\", data=returns_chart, color=sns.xkcd_rgb['windows blue'], ax=ax2)\n",
    "ax2.set_xlabel('Prediction Probability Range')\n",
    "ax2.set_ylabel('Percent')\n",
    "ax2.set_title('Average Percent Return Improvement')\n",
    "# ax2.set_xticklabels(ax2.get_xticklabels(), rotation=90)\n",
    "plt.show()"
   ]
  },
  {
   "cell_type": "code",
   "execution_count": 82,
   "metadata": {},
   "outputs": [
    {
     "name": "stdout",
     "output_type": "stream",
     "text": [
      "Overall return without model: -20.615711683298986\n",
      "Overall return with model: -8.078301566512902\n",
      "Percent improvement: 83.41007713613459\n"
     ]
    }
   ],
   "source": [
    "print('Overall return without model:', ((accu_metrics['total_pymnt'].sum()/accu_metrics['loan_amnt'].sum()) - 1) * 100)\n",
    "\n",
    "total_cost = accu_metrics.loc[accu_metrics['Prediction'] == 'Fully Paid']['loan_amnt'].sum()\n",
    "total_return = accu_metrics.loc[accu_metrics['Prediction'] == 'Fully Paid']['total_pymnt'].sum()\n",
    "print('Overall return with model:', ((total_return/total_cost) - 1) * 100)\n",
    "\n",
    "orig_roi = accu_metrics['total_pymnt'].sum() - accu_metrics['loan_amnt'].sum()\n",
    "new_roi = total_return - total_cost\n",
    "pcnt_chng = ((new_roi - orig_roi) / abs(orig_roi)) * 100\n",
    "print('Percent improvement:', pcnt_chng)"
   ]
  },
  {
   "cell_type": "code",
   "execution_count": null,
   "metadata": {},
   "outputs": [],
   "source": []
  }
 ],
 "metadata": {
  "kernelspec": {
   "display_name": "Python 3",
   "language": "python",
   "name": "python3"
  },
  "language_info": {
   "codemirror_mode": {
    "name": "ipython",
    "version": 3
   },
   "file_extension": ".py",
   "mimetype": "text/x-python",
   "name": "python",
   "nbconvert_exporter": "python",
   "pygments_lexer": "ipython3",
   "version": "3.7.3"
  }
 },
 "nbformat": 4,
 "nbformat_minor": 2
}
