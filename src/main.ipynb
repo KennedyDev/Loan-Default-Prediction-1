{
 "cells": [
  {
   "cell_type": "markdown",
   "metadata": {
    "slideshow": {
     "slide_type": "-"
    }
   },
   "source": [
    "# Loan Default Risk"
   ]
  },
  {
   "cell_type": "code",
   "execution_count": 72,
   "metadata": {
    "slideshow": {
     "slide_type": "-"
    }
   },
   "outputs": [],
   "source": [
    "import os\n",
    "from pathlib import Path\n",
    "import pandas as pd\n",
    "import numpy as np\n",
    "import matplotlib.pyplot as plt\n",
    "import seaborn as sns\n",
    "from joblib import dump, load\n",
    "from sklearn.model_selection import train_test_split\n",
    "from sklearn.linear_model import LogisticRegression\n",
    "from sklearn.ensemble import RandomForestClassifier\n",
    "from sklearn.preprocessing import StandardScaler\n",
    "from sklearn.metrics import confusion_matrix, f1_score, classification_report, accuracy_score, auc, roc_curve, roc_auc_score, precision_recall_curve\n",
    "from sklearn.utils import class_weight\n",
    "from keras.models import Sequential\n",
    "from keras.layers import Dense\n",
    "from keras.utils import to_categorical\n",
    "from keras.models import load_model"
   ]
  },
  {
   "cell_type": "code",
   "execution_count": 73,
   "metadata": {
    "slideshow": {
     "slide_type": "-"
    }
   },
   "outputs": [],
   "source": [
    "def plot_var(col_name, title, continuous, dataset, x1limit=False, x2limit=False, x1l=0, x1u=0, x2l=0, x2u=0):\n",
    "    \"\"\"\n",
    "    Plot a variable against the response variable loan status\n",
    "    - col_name is the variable name in the dataframe\n",
    "    - title is the full variable name\n",
    "    - continuous is True if the variable is continuous, False otherwise\n",
    "    - dataset is the pandas dataframe containing the dataset\n",
    "    \"\"\"\n",
    "    f, (ax1, ax2) = plt.subplots(nrows=1, ncols=2, figsize=(12, 3), dpi=90)\n",
    "\n",
    "    # Plot without loan status\n",
    "    if continuous:\n",
    "        sns.distplot(dataset.loc[dataset[col_name].notnull(), col_name], kde=False, ax=ax1)\n",
    "    else:\n",
    "        sns.countplot(dataset[col_name], order=sorted(dataset[col_name].unique()),\n",
    "                      color='#4f81bd', saturation=1, ax=ax1)\n",
    "    if x1limit:\n",
    "        ax1.set_xlim([x1l, x1u])\n",
    "    ax1.set_xlabel(title)\n",
    "    ax1.set_ylabel('Frequency')\n",
    "    ax1.set_title(title)\n",
    "\n",
    "    # Plot with loan status\n",
    "    if continuous:\n",
    "        sns.boxplot(x=col_name, y='loan_status', data=dataset, ax=ax2)\n",
    "        ax2.set_ylabel('')\n",
    "        ax2.set_title(title + ' by Loan Status')\n",
    "    else:\n",
    "        charge_off_rates = dataset.groupby(col_name)['loan_status'].value_counts(normalize=True).loc[:, 'Default']\n",
    "        sns.barplot(x=charge_off_rates.index, y=charge_off_rates.values, color='#4f81bd', saturation=1, ax=ax2)\n",
    "        ax2.set_ylabel('Fraction of Loans Default')\n",
    "        ax2.set_title('Default Rate by ' + title)\n",
    "    if x2limit:\n",
    "        ax2.set_xlim([x2l, x2u])\n",
    "    ax2.set_xlabel(title)\n",
    "\n",
    "    plt.tight_layout()"
   ]
  },
  {
   "cell_type": "markdown",
   "metadata": {
    "slideshow": {
     "slide_type": "-"
    }
   },
   "source": [
    "# Preliminary Data Analysis"
   ]
  },
  {
   "cell_type": "code",
   "execution_count": 74,
   "metadata": {
    "slideshow": {
     "slide_type": "-"
    }
   },
   "outputs": [
    {
     "data": {
      "text/html": [
       "<div>\n",
       "<style scoped>\n",
       "    .dataframe tbody tr th:only-of-type {\n",
       "        vertical-align: middle;\n",
       "    }\n",
       "\n",
       "    .dataframe tbody tr th {\n",
       "        vertical-align: top;\n",
       "    }\n",
       "\n",
       "    .dataframe thead th {\n",
       "        text-align: right;\n",
       "    }\n",
       "</style>\n",
       "<table border=\"1\" class=\"dataframe\">\n",
       "  <thead>\n",
       "    <tr style=\"text-align: right;\">\n",
       "      <th></th>\n",
       "      <th>loan_amnt</th>\n",
       "      <th>term</th>\n",
       "      <th>int_rate</th>\n",
       "      <th>installment</th>\n",
       "      <th>grade</th>\n",
       "      <th>emp_length</th>\n",
       "      <th>home_ownership</th>\n",
       "      <th>annual_inc</th>\n",
       "      <th>verification_status</th>\n",
       "      <th>loan_status</th>\n",
       "      <th>purpose</th>\n",
       "      <th>dti</th>\n",
       "      <th>delinq_2yrs</th>\n",
       "      <th>earliest_cr_line</th>\n",
       "      <th>open_acc</th>\n",
       "      <th>pub_rec</th>\n",
       "      <th>revol_bal</th>\n",
       "      <th>revol_util</th>\n",
       "      <th>total_acc</th>\n",
       "      <th>initial_list_status</th>\n",
       "      <th>application_type</th>\n",
       "      <th>mort_acc</th>\n",
       "      <th>pub_rec_bankruptcies</th>\n",
       "    </tr>\n",
       "  </thead>\n",
       "  <tbody>\n",
       "    <tr>\n",
       "      <th>0</th>\n",
       "      <td>5000</td>\n",
       "      <td>36 months</td>\n",
       "      <td>7.35%</td>\n",
       "      <td>155.19</td>\n",
       "      <td>A</td>\n",
       "      <td>5 years</td>\n",
       "      <td>MORTGAGE</td>\n",
       "      <td>60000.0</td>\n",
       "      <td>Not Verified</td>\n",
       "      <td>Fully Paid</td>\n",
       "      <td>car</td>\n",
       "      <td>15.76</td>\n",
       "      <td>0</td>\n",
       "      <td>Oct-04</td>\n",
       "      <td>12</td>\n",
       "      <td>0</td>\n",
       "      <td>3697</td>\n",
       "      <td>13.20%</td>\n",
       "      <td>25</td>\n",
       "      <td>w</td>\n",
       "      <td>Individual</td>\n",
       "      <td>1</td>\n",
       "      <td>0</td>\n",
       "    </tr>\n",
       "    <tr>\n",
       "      <th>1</th>\n",
       "      <td>7500</td>\n",
       "      <td>36 months</td>\n",
       "      <td>7.35%</td>\n",
       "      <td>232.79</td>\n",
       "      <td>A</td>\n",
       "      <td>7 years</td>\n",
       "      <td>MORTGAGE</td>\n",
       "      <td>110000.0</td>\n",
       "      <td>Not Verified</td>\n",
       "      <td>Fully Paid</td>\n",
       "      <td>debt_consolidation</td>\n",
       "      <td>13.12</td>\n",
       "      <td>0</td>\n",
       "      <td>Mar-13</td>\n",
       "      <td>19</td>\n",
       "      <td>0</td>\n",
       "      <td>23348</td>\n",
       "      <td>27.20%</td>\n",
       "      <td>27</td>\n",
       "      <td>w</td>\n",
       "      <td>Individual</td>\n",
       "      <td>4</td>\n",
       "      <td>0</td>\n",
       "    </tr>\n",
       "    <tr>\n",
       "      <th>2</th>\n",
       "      <td>9600</td>\n",
       "      <td>36 months</td>\n",
       "      <td>7.97%</td>\n",
       "      <td>300.70</td>\n",
       "      <td>A</td>\n",
       "      <td>&lt; 1 year</td>\n",
       "      <td>OWN</td>\n",
       "      <td>140000.0</td>\n",
       "      <td>Not Verified</td>\n",
       "      <td>Fully Paid</td>\n",
       "      <td>credit_card</td>\n",
       "      <td>18.34</td>\n",
       "      <td>0</td>\n",
       "      <td>Aug-05</td>\n",
       "      <td>16</td>\n",
       "      <td>0</td>\n",
       "      <td>11808</td>\n",
       "      <td>48.60%</td>\n",
       "      <td>44</td>\n",
       "      <td>w</td>\n",
       "      <td>Individual</td>\n",
       "      <td>3</td>\n",
       "      <td>0</td>\n",
       "    </tr>\n",
       "    <tr>\n",
       "      <th>3</th>\n",
       "      <td>2000</td>\n",
       "      <td>36 months</td>\n",
       "      <td>7.07%</td>\n",
       "      <td>61.82</td>\n",
       "      <td>A</td>\n",
       "      <td>2 years</td>\n",
       "      <td>RENT</td>\n",
       "      <td>80000.0</td>\n",
       "      <td>Not Verified</td>\n",
       "      <td>Fully Paid</td>\n",
       "      <td>medical</td>\n",
       "      <td>12.15</td>\n",
       "      <td>0</td>\n",
       "      <td>Apr-05</td>\n",
       "      <td>9</td>\n",
       "      <td>0</td>\n",
       "      <td>38</td>\n",
       "      <td>0.30%</td>\n",
       "      <td>12</td>\n",
       "      <td>w</td>\n",
       "      <td>Individual</td>\n",
       "      <td>0</td>\n",
       "      <td>0</td>\n",
       "    </tr>\n",
       "    <tr>\n",
       "      <th>4</th>\n",
       "      <td>7200</td>\n",
       "      <td>36 months</td>\n",
       "      <td>24.85%</td>\n",
       "      <td>285.70</td>\n",
       "      <td>E</td>\n",
       "      <td>2 years</td>\n",
       "      <td>RENT</td>\n",
       "      <td>50000.0</td>\n",
       "      <td>Source Verified</td>\n",
       "      <td>Fully Paid</td>\n",
       "      <td>debt_consolidation</td>\n",
       "      <td>6.07</td>\n",
       "      <td>0</td>\n",
       "      <td>Jan-00</td>\n",
       "      <td>4</td>\n",
       "      <td>0</td>\n",
       "      <td>3560</td>\n",
       "      <td>98.90%</td>\n",
       "      <td>5</td>\n",
       "      <td>w</td>\n",
       "      <td>Individual</td>\n",
       "      <td>0</td>\n",
       "      <td>0</td>\n",
       "    </tr>\n",
       "  </tbody>\n",
       "</table>\n",
       "</div>"
      ],
      "text/plain": [
       "   loan_amnt        term int_rate  installment grade emp_length  \\\n",
       "0       5000   36 months    7.35%       155.19     A    5 years   \n",
       "1       7500   36 months    7.35%       232.79     A    7 years   \n",
       "2       9600   36 months    7.97%       300.70     A   < 1 year   \n",
       "3       2000   36 months    7.07%        61.82     A    2 years   \n",
       "4       7200   36 months   24.85%       285.70     E    2 years   \n",
       "\n",
       "  home_ownership  annual_inc verification_status loan_status  \\\n",
       "0       MORTGAGE     60000.0        Not Verified  Fully Paid   \n",
       "1       MORTGAGE    110000.0        Not Verified  Fully Paid   \n",
       "2            OWN    140000.0        Not Verified  Fully Paid   \n",
       "3           RENT     80000.0        Not Verified  Fully Paid   \n",
       "4           RENT     50000.0     Source Verified  Fully Paid   \n",
       "\n",
       "              purpose    dti  delinq_2yrs earliest_cr_line  open_acc  pub_rec  \\\n",
       "0                 car  15.76            0           Oct-04        12        0   \n",
       "1  debt_consolidation  13.12            0           Mar-13        19        0   \n",
       "2         credit_card  18.34            0           Aug-05        16        0   \n",
       "3             medical  12.15            0           Apr-05         9        0   \n",
       "4  debt_consolidation   6.07            0           Jan-00         4        0   \n",
       "\n",
       "   revol_bal revol_util  total_acc initial_list_status application_type  \\\n",
       "0       3697     13.20%         25                   w       Individual   \n",
       "1      23348     27.20%         27                   w       Individual   \n",
       "2      11808     48.60%         44                   w       Individual   \n",
       "3         38      0.30%         12                   w       Individual   \n",
       "4       3560     98.90%          5                   w       Individual   \n",
       "\n",
       "   mort_acc  pub_rec_bankruptcies  \n",
       "0         1                     0  \n",
       "1         4                     0  \n",
       "2         3                     0  \n",
       "3         0                     0  \n",
       "4         0                     0  "
      ]
     },
     "execution_count": 74,
     "metadata": {},
     "output_type": "execute_result"
    }
   ],
   "source": [
    "# read in the entire raw dataset\n",
    "dataset = pd.read_csv(Path('../data/2017Half_clean.csv'), header=0)\n",
    "pd.set_option('display.max_columns', None)\n",
    "dataset.head()"
   ]
  },
  {
   "cell_type": "code",
   "execution_count": 75,
   "metadata": {
    "slideshow": {
     "slide_type": "-"
    }
   },
   "outputs": [
    {
     "name": "stdout",
     "output_type": "stream",
     "text": [
      "Fully Paid    29145\n",
      "Default       18494\n",
      "Name: loan_status, dtype: int64\n",
      "Fully Paid    0.611789\n",
      "Default       0.388211\n",
      "Name: loan_status, dtype: float64\n",
      "(47639, 23)\n"
     ]
    }
   ],
   "source": [
    "# Look at how many of each response variable we have\n",
    "print(dataset['loan_status'].value_counts(dropna=False))\n",
    "print(dataset['loan_status'].value_counts(normalize=True, dropna=False))\n",
    "print(dataset.shape)"
   ]
  },
  {
   "cell_type": "markdown",
   "metadata": {
    "slideshow": {
     "slide_type": "-"
    }
   },
   "source": [
    "| Status     | Count | Percentage |\n",
    "| -----------|:-----:|:----------:|\n",
    "| Fully Paid | 29145 | 61% |\n",
    "| Charged Off | 18494 | 39% |\n",
    "\n",
    "47639 rows x 23 Columns"
   ]
  },
  {
   "cell_type": "markdown",
   "metadata": {
    "slideshow": {
     "slide_type": "-"
    }
   },
   "source": [
    "A list of percentage of missing values in a column"
   ]
  },
  {
   "cell_type": "code",
   "execution_count": 76,
   "metadata": {
    "slideshow": {
     "slide_type": "-"
    }
   },
   "outputs": [
    {
     "name": "stdout",
     "output_type": "stream",
     "text": [
      "emp_length    7.225173\n",
      "revol_util    0.065073\n",
      "dti           0.056676\n",
      "dtype: float64\n"
     ]
    }
   ],
   "source": [
    "missing_values = ((dataset.isna().sum()) / len(dataset.index)).sort_values(ascending=False)\n",
    "missing_values = missing_values[missing_values > 0]\n",
    "print(missing_values*100)"
   ]
  },
  {
   "cell_type": "markdown",
   "metadata": {},
   "source": [
    "| Variable | % Missing |\n",
    "| ---------|:----:|\n",
    "| emp_length | 7.225173% |\n",
    "| revol_util | 0.065073% |\n",
    "| dti | 0.056676% |"
   ]
  },
  {
   "cell_type": "code",
   "execution_count": 77,
   "metadata": {
    "scrolled": true,
    "slideshow": {
     "slide_type": "-"
    }
   },
   "outputs": [
    {
     "name": "stdout",
     "output_type": "stream",
     "text": [
      "loan_amnt                 int64\n",
      "term                     object\n",
      "int_rate                 object\n",
      "installment             float64\n",
      "grade                    object\n",
      "emp_length               object\n",
      "home_ownership           object\n",
      "annual_inc              float64\n",
      "verification_status      object\n",
      "loan_status              object\n",
      "purpose                  object\n",
      "dti                     float64\n",
      "delinq_2yrs               int64\n",
      "earliest_cr_line         object\n",
      "open_acc                  int64\n",
      "pub_rec                   int64\n",
      "revol_bal                 int64\n",
      "revol_util               object\n",
      "total_acc                 int64\n",
      "initial_list_status      object\n",
      "application_type         object\n",
      "mort_acc                  int64\n",
      "pub_rec_bankruptcies      int64\n",
      "dtype: object\n"
     ]
    }
   ],
   "source": [
    "# Look at the data type of each column\n",
    "print(dataset.dtypes)"
   ]
  },
  {
   "cell_type": "markdown",
   "metadata": {},
   "source": [
    "| Variable | Type |\n",
    "| ---------|:----:|\n",
    "| Loan Amount | Numerical |\n",
    "| Term | Categorical |\n",
    "| Interest Rate | Numerical |\n",
    "| Installment | Numerical |\n",
    "| Grade | Categorical |\n",
    "| Employment Length | Categorical |\n",
    "| Home Ownership | Categorical |\n",
    "| Annual Income | Numerical |\n",
    "| Verification Status | Categorical |\n",
    "| Loan Status| Categorical |\n",
    "| Purpose | Categorical |\n",
    "| Debt-to-Income Ratio | Numerical |\n",
    "| Delinquency | Categorical |\n",
    "| Earliest Credit Line | Numerical |\n",
    "| Open Accounts | Numerical |\n",
    "| Public Records | Categorical |\n",
    "| Revolving Balance | Numerical |\n",
    "| Revolving Utility | Numerical |\n",
    "| Total Account | Numerical |\n",
    "| Initial List Status | Categorical |\n",
    "| Application Type | Categorical |\n",
    "| Mortage Account | Numerical |\n",
    "| Public Record of Bankruptcies | Categorical |"
   ]
  },
  {
   "cell_type": "markdown",
   "metadata": {
    "slideshow": {
     "slide_type": "-"
    }
   },
   "source": [
    "# Exploratory Data Analysis"
   ]
  },
  {
   "cell_type": "markdown",
   "metadata": {
    "slideshow": {
     "slide_type": "-"
    }
   },
   "source": [
    "### Annual Income (Numerical)\n",
    "The self-reported annual income provided by the borrower during registration"
   ]
  },
  {
   "cell_type": "code",
   "execution_count": 78,
   "metadata": {
    "slideshow": {
     "slide_type": "-"
    }
   },
   "outputs": [
    {
     "name": "stdout",
     "output_type": "stream",
     "text": [
      "               count          mean           std  min      25%      50%  \\\n",
      "loan_status                                                               \n",
      "Default      18494.0  74073.439857  46806.677767  0.0  45000.0  64000.0   \n",
      "Fully Paid   29145.0  80899.315013  69096.968024  0.0  49000.0  69000.0   \n",
      "\n",
      "                 75%        max  \n",
      "loan_status                      \n",
      "Default      90000.0   982000.0  \n",
      "Fully Paid   97133.0  5616890.0  \n",
      "               count       mean       std  min        25%        50%  \\\n",
      "loan_status                                                            \n",
      "Default      18494.0  11.058230  0.590522  0.0  10.714440  11.066654   \n",
      "Fully Paid   29145.0  11.129532  0.625351  0.0  10.799596  11.141876   \n",
      "\n",
      "                   75%        max  \n",
      "loan_status                        \n",
      "Default      11.407576  13.797348  \n",
      "Fully Paid   11.483847  15.541289  \n"
     ]
    },
    {
     "data": {
      "image/png": "[encoded data removed]",
      "text/plain": [
       "<Figure size 1080x270 with 2 Axes>"
      ]
     },
     "metadata": {
      "needs_background": "light"
     },
     "output_type": "display_data"
    },
    {
     "data": {
      "image/png": "[encoded data removed]",
      "text/plain": [
       "<Figure size 1080x270 with 2 Axes>"
      ]
     },
     "metadata": {
      "needs_background": "light"
     },
     "output_type": "display_data"
    }
   ],
   "source": [
    "print(dataset.groupby('loan_status')['annual_inc'].describe())\n",
    "plot_var('annual_inc', 'Annual Income $', continuous=True, dataset=dataset,\n",
    "         x1limit=True, x2limit=True, x1l=-1, x1u=350000, x2l=-1, x2u=200000)\n",
    "# Because the plot is right skewed we take a log transform of the annual income\n",
    "dataset['log_annual_inc'] = dataset['annual_inc'].apply(lambda x: np.log(x + 1))\n",
    "dataset.drop('annual_inc', axis=1, inplace=True)\n",
    "print(dataset.groupby('loan_status')['log_annual_inc'].describe())\n",
    "plot_var('log_annual_inc', 'Log Annual Income', continuous=True, dataset=dataset,\n",
    "         x1limit=True, x2limit=True, x1l=9, x1u=14, x2l=9, x2u=14)"
   ]
  },
  {
   "cell_type": "markdown",
   "metadata": {
    "slideshow": {
     "slide_type": "-"
    }
   },
   "source": [
    "It seems that those with higher annual income are less risk"
   ]
  },
  {
   "cell_type": "markdown",
   "metadata": {},
   "source": [
    "### Application Type (Categorical)\n",
    "Indicates whether the loan is an individual application or a joint application with two co-borrowers"
   ]
  },
  {
   "cell_type": "code",
   "execution_count": 79,
   "metadata": {},
   "outputs": [
    {
     "name": "stdout",
     "output_type": "stream",
     "text": [
      "loan_status  application_type\n",
      "Default      Individual          17551\n",
      "             Joint App             943\n",
      "Fully Paid   Individual          27609\n",
      "             Joint App            1536\n",
      "Name: application_type, dtype: int64\n"
     ]
    },
    {
     "data": {
      "image/png": "[encoded data removed]",
      "text/plain": [
       "<Figure size 1080x270 with 2 Axes>"
      ]
     },
     "metadata": {
      "needs_background": "light"
     },
     "output_type": "display_data"
    }
   ],
   "source": [
    "print(dataset.groupby('loan_status')['application_type'].value_counts(dropna=False))\n",
    "plot_var('application_type', 'Application Type', continuous=False, dataset=dataset)"
   ]
  },
  {
   "cell_type": "markdown",
   "metadata": {},
   "source": [
    "There does not seem to be a strong correlation between risk and application_type. Both risk around the same percentage."
   ]
  },
  {
   "cell_type": "markdown",
   "metadata": {},
   "source": [
    "### Debt to Income Ratio (Numerical)\n",
    "A ratio calculated using the borrower’s total monthly debt payments on the total debt obligations, excluding mortgage and the requested LC loan, divided by the borrower’s self-reported monthly income"
   ]
  },
  {
   "cell_type": "code",
   "execution_count": 80,
   "metadata": {},
   "outputs": [
    {
     "name": "stdout",
     "output_type": "stream",
     "text": [
      "               count       mean        std  min    25%    50%    75%     max\n",
      "loan_status                                                                 \n",
      "Default      18486.0  20.346391  12.928459  0.0  13.77  19.98  26.31  886.77\n",
      "Fully Paid   29126.0  18.066659  13.751295  0.0  11.48  17.19  23.52  999.00\n"
     ]
    },
    {
     "data": {
      "image/png": "[encoded data removed]",
      "text/plain": [
       "<Figure size 1080x270 with 2 Axes>"
      ]
     },
     "metadata": {
      "needs_background": "light"
     },
     "output_type": "display_data"
    }
   ],
   "source": [
    "# dummy = dataset.loc[dataset['dti'].notnull() & (dataset['dti']<60), 'dti']\n",
    "print(dataset.groupby('loan_status')['dti'].describe())\n",
    "plot_var('dti', 'Debt To Income Ratio', continuous=True, dataset=dataset,\n",
    "         x1limit=True, x2limit=True, x1l=0, x1u=40, x2l=0, x2u=60)\n",
    "# sns.distplot(dataset.loc[dataset['dti'].notnull() & (dataset['dti']<60), 'dti'], kde=False)\n",
    "# plt.xlabel('Debt-to-income Ratio')\n",
    "# plt.ylabel('Count')\n",
    "# plt.title('Debt-to-income Ratio')"
   ]
  },
  {
   "cell_type": "markdown",
   "metadata": {},
   "source": [
    "It seems that a higher debt to income ratio has a higher probability of charged off"
   ]
  },
  {
   "cell_type": "markdown",
   "metadata": {},
   "source": [
    "### Delinquency (Categorical)\n",
    "The number of 30+ days past-due incidences of delinquency in the borrower's credit file for the past 2 years"
   ]
  },
  {
   "cell_type": "code",
   "execution_count": 81,
   "metadata": {},
   "outputs": [
    {
     "name": "stdout",
     "output_type": "stream",
     "text": [
      "loan_status  delinq_2yrs\n",
      "Default      0              14465\n",
      "             1               2587\n",
      "             2               1442\n",
      "Fully Paid   0              23444\n",
      "             1               3817\n",
      "             2               1884\n",
      "Name: delinq_2yrs, dtype: int64\n"
     ]
    },
    {
     "data": {
      "image/png": "[encoded data removed]",
      "text/plain": [
       "<Figure size 1080x270 with 2 Axes>"
      ]
     },
     "metadata": {
      "needs_background": "light"
     },
     "output_type": "display_data"
    }
   ],
   "source": [
    "dataset['delinq_2yrs'].values[dataset['delinq_2yrs'] > 1] = 2\n",
    "print(dataset.groupby('loan_status')['delinq_2yrs'].value_counts(dropna=False))\n",
    "plot_var('delinq_2yrs', 'Number of Delinquencies', continuous=False, dataset=dataset)"
   ]
  },
  {
   "cell_type": "markdown",
   "metadata": {},
   "source": [
    "There seems to be an increasing trend in charge-off rate and increasing number of delinquencies but it is small. Whether or not this is significant remains to be seen."
   ]
  },
  {
   "cell_type": "markdown",
   "metadata": {},
   "source": [
    "### Earliest Credit Line (Numerical)\n",
    "The month the borrower's earliest reported credit line was opened."
   ]
  },
  {
   "cell_type": "code",
   "execution_count": 82,
   "metadata": {},
   "outputs": [
    {
     "name": "stdout",
     "output_type": "stream",
     "text": [
      "               count         mean       std     min     25%     50%     75%  \\\n",
      "loan_status                                                                   \n",
      "Default      18494.0  2000.799773  7.758312  1953.0  1997.0  2002.0  2006.0   \n",
      "Fully Paid   29145.0  2000.470647  7.565745  1958.0  1997.0  2002.0  2005.0   \n",
      "\n",
      "                max  \n",
      "loan_status          \n",
      "Default      2014.0  \n",
      "Fully Paid   2014.0  \n"
     ]
    },
    {
     "data": {
      "image/png": "[encoded data removed]",
      "text/plain": [
       "<Figure size 1080x270 with 2 Axes>"
      ]
     },
     "metadata": {
      "needs_background": "light"
     },
     "output_type": "display_data"
    }
   ],
   "source": [
    "# dataset['earliest_cr_line'] = pd.to_datetime(dataset['earliest_cr_line'], format='%b-%y').dt.year\n",
    "dataset['earliest_cr_line'] = dataset['earliest_cr_line'].apply(lambda s: int(s[-2:]))\n",
    "dataset.loc[dataset['earliest_cr_line'] > 20, 'earliest_cr_line'] += 1900\n",
    "dataset.loc[dataset['earliest_cr_line'] < 20, 'earliest_cr_line'] += 2000\n",
    "print(dataset.groupby('loan_status')['earliest_cr_line'].describe())\n",
    "plot_var('earliest_cr_line', 'Earliest Credit Line', continuous=True, dataset=dataset)"
   ]
  },
  {
   "cell_type": "markdown",
   "metadata": {},
   "source": [
    "It seems that those with an earlier credit line are more likely to be less risk"
   ]
  },
  {
   "cell_type": "markdown",
   "metadata": {},
   "source": [
    "### Employment Length (Categorical)\n",
    "Employment length in years. Possible values are between 0 and 10 where 0 means less than one year and 10 means ten or more years."
   ]
  },
  {
   "cell_type": "code",
   "execution_count": 83,
   "metadata": {},
   "outputs": [
    {
     "name": "stdout",
     "output_type": "stream",
     "text": [
      "loan_status  emp_length\n",
      "Default      0.0            1541\n",
      "             1.0            1328\n",
      "             2.0            1823\n",
      "             3.0            1581\n",
      "             4.0            1099\n",
      "             5.0            1152\n",
      "             6.0             732\n",
      "             7.0             650\n",
      "             8.0             582\n",
      "             9.0             627\n",
      "             10.0           5630\n",
      "             NaN            1749\n",
      "Fully Paid   0.0            2454\n",
      "             1.0            1879\n",
      "             2.0            2654\n",
      "             3.0            2349\n",
      "             4.0            1793\n",
      "             5.0            1788\n",
      "             6.0            1311\n",
      "             7.0            1054\n",
      "             8.0             856\n",
      "             9.0            1101\n",
      "             10.0          10213\n",
      "             NaN            1693\n",
      "Name: emp_length, dtype: int64\n"
     ]
    },
    {
     "data": {
      "image/png": "[encoded data removed]",
      "text/plain": [
       "<Figure size 1080x270 with 2 Axes>"
      ]
     },
     "metadata": {
      "needs_background": "light"
     },
     "output_type": "display_data"
    }
   ],
   "source": [
    "dataset['emp_length'].replace('< 1 year', 0, inplace=True)\n",
    "dataset['emp_length'].replace('1 year', 1, inplace=True)\n",
    "dataset['emp_length'].replace('2 years', 2, inplace=True)\n",
    "dataset['emp_length'].replace('3 years', 3, inplace=True)\n",
    "dataset['emp_length'].replace('4 years', 4, inplace=True)\n",
    "dataset['emp_length'].replace('5 years', 5, inplace=True)\n",
    "dataset['emp_length'].replace('6 years', 6, inplace=True)\n",
    "dataset['emp_length'].replace('7 years', 7, inplace=True)\n",
    "dataset['emp_length'].replace('8 years', 8, inplace=True)\n",
    "dataset['emp_length'].replace('9 years', 9, inplace=True)\n",
    "dataset['emp_length'].replace('10+ years', 10, inplace=True)\n",
    "print(dataset.groupby('loan_status')['emp_length'].value_counts(dropna=False).sort_index())\n",
    "plot_var('emp_length', 'Employment Length by Year', continuous=False, dataset=dataset)"
   ]
  },
  {
   "cell_type": "markdown",
   "metadata": {},
   "source": [
    "Doesn't seem to be much of a significant pattern here"
   ]
  },
  {
   "cell_type": "markdown",
   "metadata": {},
   "source": [
    "### Home Ownership (Categorical)\n",
    "The home ownership status provided by the borrower during registration or obtained from the credit report."
   ]
  },
  {
   "cell_type": "code",
   "execution_count": 84,
   "metadata": {},
   "outputs": [
    {
     "name": "stdout",
     "output_type": "stream",
     "text": [
      "loan_status  home_ownership\n",
      "Default      RENT               8466\n",
      "             MORTGAGE           7816\n",
      "             OWN                2212\n",
      "Fully Paid   MORTGAGE          15653\n",
      "             RENT              10147\n",
      "             OWN                3345\n",
      "Name: home_ownership, dtype: int64\n"
     ]
    },
    {
     "data": {
      "image/png": "[encoded data removed]",
      "text/plain": [
       "<Figure size 1080x270 with 2 Axes>"
      ]
     },
     "metadata": {
      "needs_background": "light"
     },
     "output_type": "display_data"
    }
   ],
   "source": [
    "# dataset['home_ownership'].replace(['NONE', 'ANY'], 'NaN', inplace=True)\n",
    "dataset['home_ownership'].replace(['NONE', 'ANY'], 'MORTGAGE', inplace=True)\n",
    "print(dataset.groupby('loan_status')['home_ownership'].value_counts(dropna=False))\n",
    "plot_var('home_ownership', 'Home Ownership', continuous=False, dataset=dataset)\n",
    "# dataset['home_ownership'].replace('NaN', np.nan, inplace=True)"
   ]
  },
  {
   "cell_type": "markdown",
   "metadata": {},
   "source": [
    "Interestingly those with a mortgage are more likely to pay off loans and those who rent are the least likely"
   ]
  },
  {
   "cell_type": "markdown",
   "metadata": {},
   "source": [
    "### Initial List Status (Categorical)\n",
    "The initial listing status of the loan. Possible values are – W, F"
   ]
  },
  {
   "cell_type": "code",
   "execution_count": 85,
   "metadata": {},
   "outputs": [
    {
     "name": "stdout",
     "output_type": "stream",
     "text": [
      "loan_status  initial_list_status\n",
      "Default      w                      12515\n",
      "             f                       5979\n",
      "Fully Paid   w                      21390\n",
      "             f                       7755\n",
      "Name: initial_list_status, dtype: int64\n"
     ]
    },
    {
     "data": {
      "image/png": "[encoded data removed]",
      "text/plain": [
       "<Figure size 1080x270 with 2 Axes>"
      ]
     },
     "metadata": {
      "needs_background": "light"
     },
     "output_type": "display_data"
    }
   ],
   "source": [
    "print(dataset.groupby('loan_status')['initial_list_status'].value_counts(dropna=False))\n",
    "plot_var('initial_list_status', 'Initial List Status', continuous=False, dataset=dataset)"
   ]
  },
  {
   "cell_type": "markdown",
   "metadata": {},
   "source": [
    "Theres does not seem to be much information gained from Initial List status"
   ]
  },
  {
   "cell_type": "markdown",
   "metadata": {},
   "source": [
    "### Installment (Numerical)\n",
    "The monthly payment owed by the borrower if the loan originates."
   ]
  },
  {
   "cell_type": "code",
   "execution_count": 86,
   "metadata": {
    "slideshow": {
     "slide_type": "-"
    }
   },
   "outputs": [
    {
     "name": "stdout",
     "output_type": "stream",
     "text": [
      "               count        mean         std    min     25%     50%     75%  \\\n",
      "loan_status                                                                   \n",
      "Default      18494.0  490.309022  298.855772  30.99  271.45  410.35  659.43   \n",
      "Fully Paid   29145.0  420.773546  281.422908  30.12  212.75  341.41  559.44   \n",
      "\n",
      "                 max  \n",
      "loan_status           \n",
      "Default      1566.80  \n",
      "Fully Paid   1587.23  \n",
      "               count      mean       std       min       25%       50%  \\\n",
      "loan_status                                                              \n",
      "Default      18494.0  5.995530  0.676362  3.465423  5.607455  6.019444   \n",
      "Fully Paid   29145.0  5.811583  0.722315  3.437851  5.364807  5.836009   \n",
      "\n",
      "                  75%       max  \n",
      "loan_status                      \n",
      "Default      6.492891  7.357429  \n",
      "Fully Paid   6.328722  7.370375  \n"
     ]
    },
    {
     "data": {
      "image/png": "[encoded data removed]",
      "text/plain": [
       "<Figure size 1080x270 with 2 Axes>"
      ]
     },
     "metadata": {
      "needs_background": "light"
     },
     "output_type": "display_data"
    },
    {
     "data": {
      "image/png": "[encoded data removed]",
      "text/plain": [
       "<Figure size 1080x270 with 2 Axes>"
      ]
     },
     "metadata": {
      "needs_background": "light"
     },
     "output_type": "display_data"
    }
   ],
   "source": [
    "print(dataset.groupby('loan_status')['installment'].describe())\n",
    "plot_var('installment', 'Installment', continuous=True, dataset=dataset)\n",
    "# since the plot is left skewed, we take the log transformation\n",
    "dataset['log_installment'] = dataset['installment'].apply(lambda x: np.log(x + 1))\n",
    "dataset.drop('installment', axis=1, inplace=True)\n",
    "print(dataset.groupby('loan_status')['log_installment'].describe())\n",
    "plot_var('log_installment', 'Log Installment', continuous=True, dataset=dataset)"
   ]
  },
  {
   "cell_type": "markdown",
   "metadata": {},
   "source": [
    "It seems those with higher installments are more likely to be charged off"
   ]
  },
  {
   "cell_type": "markdown",
   "metadata": {},
   "source": [
    "### Interest Rate (Numerical)\n",
    "Interest Rate on the loan"
   ]
  },
  {
   "cell_type": "code",
   "execution_count": 87,
   "metadata": {
    "slideshow": {
     "slide_type": "-"
    }
   },
   "outputs": [
    {
     "name": "stdout",
     "output_type": "stream",
     "text": [
      "               count       mean       std   min    25%    50%    75%    max\n",
      "loan_status                                                                \n",
      "Default      18494.0  16.556265  5.858256  5.32  12.74  15.05  18.99  30.99\n",
      "Fully Paid   29145.0  13.215077  5.276465  5.32   9.93  12.62  15.99  30.99\n"
     ]
    },
    {
     "data": {
      "image/png": "[encoded data removed]",
      "text/plain": [
       "<Figure size 1080x270 with 2 Axes>"
      ]
     },
     "metadata": {
      "needs_background": "light"
     },
     "output_type": "display_data"
    }
   ],
   "source": [
    "dataset['int_rate'] = dataset['int_rate'].str.rstrip('%').astype('float')\n",
    "print(dataset.groupby('loan_status')['int_rate'].describe())\n",
    "plot_var('int_rate', 'Interest Rate', continuous=True, dataset=dataset)"
   ]
  },
  {
   "cell_type": "markdown",
   "metadata": {},
   "source": [
    "There seems to be a much higher interest rate on average for loans that charge off"
   ]
  },
  {
   "cell_type": "markdown",
   "metadata": {},
   "source": [
    "### Loan Amount (Numerical)\n",
    "The listed amount of the loan applied for by the borrower. If at some point in time, the credit department reduces the loan amount, then it will be reflected in this value."
   ]
  },
  {
   "cell_type": "code",
   "execution_count": 88,
   "metadata": {
    "slideshow": {
     "slide_type": "-"
    }
   },
   "outputs": [
    {
     "name": "stdout",
     "output_type": "stream",
     "text": [
      "               count          mean          std     min     25%      50%  \\\n",
      "loan_status                                                                \n",
      "Default      18494.0  15645.820266  9411.036948  1000.0  8000.0  14000.0   \n",
      "Fully Paid   29145.0  13690.972723  9244.813927  1000.0  6400.0  11200.0   \n",
      "\n",
      "                 75%      max  \n",
      "loan_status                    \n",
      "Default      21000.0  40000.0  \n",
      "Fully Paid   19200.0  40000.0  \n"
     ]
    },
    {
     "data": {
      "image/png": "[encoded data removed]",
      "text/plain": [
       "<Figure size 1080x270 with 2 Axes>"
      ]
     },
     "metadata": {
      "needs_background": "light"
     },
     "output_type": "display_data"
    }
   ],
   "source": [
    "print(dataset.groupby('loan_status')['loan_amnt'].describe())\n",
    "plot_var('loan_amnt', 'Loan Amount', continuous=True, dataset=dataset)"
   ]
  },
  {
   "cell_type": "markdown",
   "metadata": {},
   "source": [
    "It seems charged off loans have a higher loan amount"
   ]
  },
  {
   "cell_type": "markdown",
   "metadata": {},
   "source": [
    "### Mortgage Accounts (Numerical)\n",
    "Number of mortgage accounts"
   ]
  },
  {
   "cell_type": "code",
   "execution_count": 89,
   "metadata": {},
   "outputs": [
    {
     "name": "stdout",
     "output_type": "stream",
     "text": [
      "loan_status  mort_acc\n",
      "Default      0            9093\n",
      "             1            3457\n",
      "             2            2514\n",
      "             3            1639\n",
      "             4             914\n",
      "             5             475\n",
      "             6             216\n",
      "             7             100\n",
      "             8              42\n",
      "             9              28\n",
      "             10             16\n",
      "Fully Paid   0           11003\n",
      "             1            5592\n",
      "             2            4767\n",
      "             3            3288\n",
      "             4            2163\n",
      "             5            1118\n",
      "             6             608\n",
      "             7             290\n",
      "             8             171\n",
      "             10             80\n",
      "             9              65\n",
      "Name: mort_acc, dtype: int64\n"
     ]
    },
    {
     "data": {
      "image/png": "[encoded data removed]",
      "text/plain": [
       "<Figure size 1080x270 with 2 Axes>"
      ]
     },
     "metadata": {
      "needs_background": "light"
     },
     "output_type": "display_data"
    }
   ],
   "source": [
    "dataset.loc[dataset['mort_acc'] > 9, 'mort_acc'] = 10\n",
    "print(dataset.groupby('loan_status')['mort_acc'].value_counts(dropna=False))\n",
    "plot_var('mort_acc', 'Mortgage Accounts', continuous=True, dataset=dataset)"
   ]
  },
  {
   "cell_type": "markdown",
   "metadata": {},
   "source": [
    "Currently there does not seem to be a significant difference"
   ]
  },
  {
   "cell_type": "markdown",
   "metadata": {},
   "source": [
    "### Open Account (Numerical)\n",
    "The number of open credit lines in the borrower's credit file."
   ]
  },
  {
   "cell_type": "code",
   "execution_count": 90,
   "metadata": {},
   "outputs": [
    {
     "name": "stdout",
     "output_type": "stream",
     "text": [
      "               count       mean       std  min  25%   50%   75%   max\n",
      "loan_status                                                          \n",
      "Default      18494.0  11.944306  5.770755  1.0  8.0  11.0  15.0  68.0\n",
      "Fully Paid   29145.0  11.825630  5.743959  0.0  8.0  11.0  15.0  88.0\n"
     ]
    },
    {
     "data": {
      "image/png": "[encoded data removed]",
      "text/plain": [
       "<Figure size 1080x270 with 2 Axes>"
      ]
     },
     "metadata": {
      "needs_background": "light"
     },
     "output_type": "display_data"
    }
   ],
   "source": [
    "print(dataset.groupby('loan_status')['open_acc'].describe())\n",
    "plot_var('open_acc', 'Open Credit Lines', continuous=True, dataset=dataset,\n",
    "         x1limit=True, x2limit=True, x1l=0, x1u=40, x2l=0, x2u=30)"
   ]
  },
  {
   "cell_type": "markdown",
   "metadata": {},
   "source": [
    "Does not seem to be a good indicator of risk"
   ]
  },
  {
   "cell_type": "markdown",
   "metadata": {},
   "source": [
    "### Public Record (Categorical)\n",
    "Number of derogatory public records"
   ]
  },
  {
   "cell_type": "code",
   "execution_count": 91,
   "metadata": {
    "scrolled": true
   },
   "outputs": [
    {
     "name": "stdout",
     "output_type": "stream",
     "text": [
      "loan_status  pub_rec     \n",
      "Default      None            14254\n",
      "             At least one     4240\n",
      "Fully Paid   None            22937\n",
      "             At least one     6208\n",
      "Name: pub_rec, dtype: int64\n"
     ]
    },
    {
     "data": {
      "image/png": "[encoded data removed]",
      "text/plain": [
       "<Figure size 1080x270 with 2 Axes>"
      ]
     },
     "metadata": {
      "needs_background": "light"
     },
     "output_type": "display_data"
    }
   ],
   "source": [
    "dataset['pub_rec'] = pd.cut(dataset['pub_rec'], [0, 0.9, 25], labels=['None', 'At least one'], include_lowest=True)\n",
    "print(dataset.groupby('loan_status')['pub_rec'].value_counts(dropna=False))\n",
    "plot_var('pub_rec', 'Public Records', continuous=False, dataset=dataset)"
   ]
  },
  {
   "cell_type": "markdown",
   "metadata": {},
   "source": [
    "Loan default rate does not seem to change much by derogatory public records"
   ]
  },
  {
   "cell_type": "markdown",
   "metadata": {},
   "source": [
    "### Public Record of Bankruptcies (Categorical)\n",
    "Number of public record bankruptcies"
   ]
  },
  {
   "cell_type": "code",
   "execution_count": 92,
   "metadata": {},
   "outputs": [
    {
     "name": "stdout",
     "output_type": "stream",
     "text": [
      "loan_status  pub_rec_bankruptcies\n",
      "Default      None                    15508\n",
      "             At least one             2986\n",
      "Fully Paid   None                    24732\n",
      "             At least one             4413\n",
      "Name: pub_rec_bankruptcies, dtype: int64\n"
     ]
    },
    {
     "data": {
      "image/png": "[encoded data removed]",
      "text/plain": [
       "<Figure size 1080x270 with 2 Axes>"
      ]
     },
     "metadata": {
      "needs_background": "light"
     },
     "output_type": "display_data"
    }
   ],
   "source": [
    "dataset['pub_rec_bankruptcies'] = pd.cut(dataset['pub_rec_bankruptcies'], [0, 0.9, 25], \n",
    "                                         labels=['None', 'At least one'], include_lowest=True)\n",
    "print(dataset.groupby('loan_status')['pub_rec_bankruptcies'].value_counts(dropna=False))\n",
    "plot_var('pub_rec_bankruptcies', 'Bankruptcies', continuous=False, dataset=dataset)"
   ]
  },
  {
   "cell_type": "markdown",
   "metadata": {},
   "source": [
    "Loan default rate does not seem to change much by public bankruptcies records"
   ]
  },
  {
   "cell_type": "markdown",
   "metadata": {},
   "source": [
    "### Purpose (Categorical)\n",
    "A category provided by the borrower for the loan request"
   ]
  },
  {
   "cell_type": "code",
   "execution_count": 93,
   "metadata": {},
   "outputs": [
    {
     "data": {
      "text/plain": [
       "purpose\n",
       "car                   0.294828\n",
       "home_improvement      0.323486\n",
       "vacation              0.330827\n",
       "house                 0.337255\n",
       "major_purchase        0.351542\n",
       "credit_card           0.368047\n",
       "other                 0.397081\n",
       "debt_consolidation    0.403409\n",
       "moving                0.415217\n",
       "renewable_energy      0.419355\n",
       "medical               0.420624\n",
       "small_business        0.577143\n",
       "Name: loan_status, dtype: float64"
      ]
     },
     "execution_count": 93,
     "metadata": {},
     "output_type": "execute_result"
    }
   ],
   "source": [
    "dataset.groupby('purpose')['loan_status'].value_counts(normalize=True).loc[:, 'Default'].sort_values()"
   ]
  },
  {
   "cell_type": "markdown",
   "metadata": {},
   "source": [
    "### Revolving Balance (Numerical)\n",
    "Total credit revolving balance"
   ]
  },
  {
   "cell_type": "code",
   "execution_count": 94,
   "metadata": {},
   "outputs": [
    {
     "name": "stdout",
     "output_type": "stream",
     "text": [
      "               count          mean           std  min      25%      50%  \\\n",
      "loan_status                                                               \n",
      "Default      18494.0  15708.679734  17434.382178  0.0  6293.25  11532.0   \n",
      "Fully Paid   29145.0  15601.315080  24339.574929  0.0  5176.00  10103.0   \n",
      "\n",
      "                  75%        max  \n",
      "loan_status                       \n",
      "Default      19428.75   354794.0  \n",
      "Fully Paid   18214.00  1039013.0  \n",
      "               count      mean       std  min       25%       50%       75%  \\\n",
      "loan_status                                                                   \n",
      "Default      18494.0  9.226252  1.132146  0.0  8.747392  9.352968  9.874561   \n",
      "Fully Paid   29145.0  9.078444  1.308805  0.0  8.551981  9.220687  9.810001   \n",
      "\n",
      "                   max  \n",
      "loan_status             \n",
      "Default      12.779295  \n",
      "Fully Paid   13.853783  \n"
     ]
    },
    {
     "data": {
      "image/png": "[encoded data removed]",
      "text/plain": [
       "<Figure size 1080x270 with 2 Axes>"
      ]
     },
     "metadata": {
      "needs_background": "light"
     },
     "output_type": "display_data"
    },
    {
     "data": {
      "image/png": "[encoded data removed]",
      "text/plain": [
       "<Figure size 1080x270 with 2 Axes>"
      ]
     },
     "metadata": {
      "needs_background": "light"
     },
     "output_type": "display_data"
    }
   ],
   "source": [
    "print(dataset.groupby('loan_status')['revol_bal'].describe())\n",
    "plot_var('revol_bal', 'Revolving Balance in $', continuous=True, dataset=dataset,\n",
    "         x1limit=True, x2limit=True, x1l=0, x1u=80000, x2l=0, x2u=40000)\n",
    "# Seems like the data is heavily right skewed with a large range due to large outliers so we take the log transformation\n",
    "dataset['log_revol_bal'] = dataset['revol_bal'].apply(lambda x: np.log(x + 1))\n",
    "dataset.drop('revol_bal', axis=1, inplace=True)\n",
    "print(dataset.groupby('loan_status')['log_revol_bal'].describe())\n",
    "plot_var('log_revol_bal', 'Log Revolving Balance in $', continuous=True, dataset=dataset)"
   ]
  },
  {
   "cell_type": "markdown",
   "metadata": {},
   "source": [
    "There is not much difference in the two categories for revolving balances"
   ]
  },
  {
   "cell_type": "markdown",
   "metadata": {},
   "source": [
    "### Revolving Utility (Numerical)\n",
    "Revolving line utilization rate, or the amount of credit the borrower is using relative to all available revolving credit."
   ]
  },
  {
   "cell_type": "code",
   "execution_count": 95,
   "metadata": {},
   "outputs": [
    {
     "name": "stdout",
     "output_type": "stream",
     "text": [
      "               count       mean        std  min   25%   50%   75%    max\n",
      "loan_status                                                             \n",
      "Default      18488.0  52.649946  23.650179  0.0  35.3  52.9  70.3  138.9\n",
      "Fully Paid   29120.0  44.685968  24.521824  0.0  25.4  43.3  62.9  125.2\n"
     ]
    },
    {
     "data": {
      "image/png": "[encoded data removed]",
      "text/plain": [
       "<Figure size 1080x270 with 2 Axes>"
      ]
     },
     "metadata": {
      "needs_background": "light"
     },
     "output_type": "display_data"
    }
   ],
   "source": [
    "dataset['revol_util'] = dataset['revol_util'].str.rstrip('%').astype('float')\n",
    "print(dataset.groupby('loan_status')['revol_util'].describe())\n",
    "plot_var('revol_util', 'Revolving Utility in %', continuous=True, dataset=dataset)"
   ]
  },
  {
   "cell_type": "markdown",
   "metadata": {},
   "source": [
    "It seems those with a lower revolving utility are more likely to pay off their loans"
   ]
  },
  {
   "cell_type": "markdown",
   "metadata": {},
   "source": [
    "### Grade (Categorical)\n",
    "LendingClub assigned loan grade. The higher the letter, the safer the loan."
   ]
  },
  {
   "cell_type": "code",
   "execution_count": 96,
   "metadata": {
    "slideshow": {
     "slide_type": "-"
    }
   },
   "outputs": [
    {
     "data": {
      "image/png": "[encoded data removed]",
      "text/plain": [
       "<Figure size 1080x270 with 2 Axes>"
      ]
     },
     "metadata": {
      "needs_background": "light"
     },
     "output_type": "display_data"
    }
   ],
   "source": [
    "plot_var('grade', 'Grade', continuous=False, dataset=dataset)"
   ]
  },
  {
   "cell_type": "markdown",
   "metadata": {},
   "source": [
    "There seems to be a strong trend between charge off rate and deteriorating grade"
   ]
  },
  {
   "cell_type": "markdown",
   "metadata": {},
   "source": [
    "### Term (Categorical)\n",
    "The number of payments on the loan. Values are in months and can be either 36 or 60"
   ]
  },
  {
   "cell_type": "code",
   "execution_count": 97,
   "metadata": {},
   "outputs": [
    {
     "name": "stdout",
     "output_type": "stream",
     "text": [
      "loan_status  term\n",
      "Default      36      12599\n",
      "             60       5895\n",
      "Fully Paid   36      23073\n",
      "             60       6072\n",
      "Name: term, dtype: int64\n"
     ]
    },
    {
     "data": {
      "image/png": "[encoded data removed]",
      "text/plain": [
       "<Figure size 1080x270 with 2 Axes>"
      ]
     },
     "metadata": {
      "needs_background": "light"
     },
     "output_type": "display_data"
    }
   ],
   "source": [
    "# dataset['term'].replace('36 months', 36, inplace=True)\n",
    "# dataset['term'].replace('60 months', 60, inplace=True)\n",
    "dataset['term'] = dataset['term'].apply(lambda s: np.int8(s.split()[0]))\n",
    "print(dataset.groupby('loan_status')['term'].value_counts(dropna=False))\n",
    "plot_var('term', 'Term (months)', continuous=False, dataset=dataset)"
   ]
  },
  {
   "cell_type": "markdown",
   "metadata": {},
   "source": [
    "It seems longer term loans have a higher likelihood of being charged off"
   ]
  },
  {
   "cell_type": "markdown",
   "metadata": {},
   "source": [
    "### Total Accounts (Numerical)\n",
    "The total number of credit lines currently in the borrower's credit file"
   ]
  },
  {
   "cell_type": "code",
   "execution_count": 98,
   "metadata": {
    "scrolled": true
   },
   "outputs": [
    {
     "name": "stdout",
     "output_type": "stream",
     "text": [
      "               count       mean        std  min   25%   50%   75%    max\n",
      "loan_status                                                             \n",
      "Default      18494.0  23.766843  11.858529  2.0  15.0  22.0  30.0  121.0\n",
      "Fully Paid   29145.0  24.859633  12.233984  2.0  16.0  23.0  31.0  146.0\n"
     ]
    },
    {
     "data": {
      "image/png": "[encoded data removed]",
      "text/plain": [
       "<Figure size 1080x270 with 2 Axes>"
      ]
     },
     "metadata": {
      "needs_background": "light"
     },
     "output_type": "display_data"
    }
   ],
   "source": [
    "print(dataset.groupby('loan_status')['total_acc'].describe())\n",
    "plot_var('total_acc', 'Number of Total Accounts', continuous=True, dataset=dataset)"
   ]
  },
  {
   "cell_type": "markdown",
   "metadata": {},
   "source": [
    "There does not seem to be a significant difference in charge off rate depending on the total account number"
   ]
  },
  {
   "cell_type": "markdown",
   "metadata": {},
   "source": [
    "### Verification Status (Categorical)\n",
    "Indicates if income was verified, not verified, or if the income source was verified."
   ]
  },
  {
   "cell_type": "code",
   "execution_count": 99,
   "metadata": {
    "slideshow": {
     "slide_type": "-"
    }
   },
   "outputs": [
    {
     "name": "stdout",
     "output_type": "stream",
     "text": [
      "loan_status  verification_status\n",
      "Default      Source Verified         7559\n",
      "             Verified                6761\n",
      "             Not Verified            4174\n",
      "Fully Paid   Source Verified        11607\n",
      "             Not Verified           10330\n",
      "             Verified                7208\n",
      "Name: verification_status, dtype: int64\n"
     ]
    },
    {
     "data": {
      "image/png": "[encoded data removed]",
      "text/plain": [
       "<Figure size 1080x270 with 2 Axes>"
      ]
     },
     "metadata": {
      "needs_background": "light"
     },
     "output_type": "display_data"
    }
   ],
   "source": [
    "print(dataset.groupby('loan_status')['verification_status'].value_counts(dropna=False))\n",
    "plot_var('verification_status', 'Verification Status', continuous=False, dataset=dataset)"
   ]
  },
  {
   "cell_type": "markdown",
   "metadata": {},
   "source": [
    "There seems to be a strong linear trend between charged off rate and verification status. Surprisingly, loans with a status of verified have a higher chance of becoming charged off."
   ]
  },
  {
   "cell_type": "markdown",
   "metadata": {},
   "source": [
    "# Preliminary Model Design"
   ]
  },
  {
   "cell_type": "markdown",
   "metadata": {},
   "source": [
    "### Create dummy variables\n",
    "1 means charged-off and 0 means fully paid and create dummy variables for all categorical variables"
   ]
  },
  {
   "cell_type": "code",
   "execution_count": 100,
   "metadata": {},
   "outputs": [
    {
     "data": {
      "text/html": [
       "<div>\n",
       "<style scoped>\n",
       "    .dataframe tbody tr th:only-of-type {\n",
       "        vertical-align: middle;\n",
       "    }\n",
       "\n",
       "    .dataframe tbody tr th {\n",
       "        vertical-align: top;\n",
       "    }\n",
       "\n",
       "    .dataframe thead th {\n",
       "        text-align: right;\n",
       "    }\n",
       "</style>\n",
       "<table border=\"1\" class=\"dataframe\">\n",
       "  <thead>\n",
       "    <tr style=\"text-align: right;\">\n",
       "      <th></th>\n",
       "      <th>loan_amnt</th>\n",
       "      <th>term</th>\n",
       "      <th>int_rate</th>\n",
       "      <th>emp_length</th>\n",
       "      <th>loan_status</th>\n",
       "      <th>dti</th>\n",
       "      <th>delinq_2yrs</th>\n",
       "      <th>earliest_cr_line</th>\n",
       "      <th>open_acc</th>\n",
       "      <th>revol_util</th>\n",
       "      <th>total_acc</th>\n",
       "      <th>mort_acc</th>\n",
       "      <th>log_annual_inc</th>\n",
       "      <th>log_installment</th>\n",
       "      <th>log_revol_bal</th>\n",
       "      <th>grade_B</th>\n",
       "      <th>grade_C</th>\n",
       "      <th>grade_D</th>\n",
       "      <th>grade_E</th>\n",
       "      <th>grade_F</th>\n",
       "      <th>grade_G</th>\n",
       "      <th>home_ownership_OWN</th>\n",
       "      <th>home_ownership_RENT</th>\n",
       "      <th>verification_status_Source Verified</th>\n",
       "      <th>verification_status_Verified</th>\n",
       "      <th>purpose_credit_card</th>\n",
       "      <th>purpose_debt_consolidation</th>\n",
       "      <th>purpose_home_improvement</th>\n",
       "      <th>purpose_house</th>\n",
       "      <th>purpose_major_purchase</th>\n",
       "      <th>purpose_medical</th>\n",
       "      <th>purpose_moving</th>\n",
       "      <th>purpose_other</th>\n",
       "      <th>purpose_renewable_energy</th>\n",
       "      <th>purpose_small_business</th>\n",
       "      <th>purpose_vacation</th>\n",
       "      <th>initial_list_status_w</th>\n",
       "      <th>application_type_Joint App</th>\n",
       "      <th>pub_rec_At least one</th>\n",
       "      <th>pub_rec_bankruptcies_At least one</th>\n",
       "    </tr>\n",
       "  </thead>\n",
       "  <tbody>\n",
       "    <tr>\n",
       "      <th>0</th>\n",
       "      <td>5000</td>\n",
       "      <td>36</td>\n",
       "      <td>7.35</td>\n",
       "      <td>5.0</td>\n",
       "      <td>0</td>\n",
       "      <td>15.76</td>\n",
       "      <td>0</td>\n",
       "      <td>2004</td>\n",
       "      <td>12</td>\n",
       "      <td>13.2</td>\n",
       "      <td>25</td>\n",
       "      <td>1</td>\n",
       "      <td>11.002117</td>\n",
       "      <td>5.051073</td>\n",
       "      <td>8.215547</td>\n",
       "      <td>0</td>\n",
       "      <td>0</td>\n",
       "      <td>0</td>\n",
       "      <td>0</td>\n",
       "      <td>0</td>\n",
       "      <td>0</td>\n",
       "      <td>0</td>\n",
       "      <td>0</td>\n",
       "      <td>0</td>\n",
       "      <td>0</td>\n",
       "      <td>0</td>\n",
       "      <td>0</td>\n",
       "      <td>0</td>\n",
       "      <td>0</td>\n",
       "      <td>0</td>\n",
       "      <td>0</td>\n",
       "      <td>0</td>\n",
       "      <td>0</td>\n",
       "      <td>0</td>\n",
       "      <td>0</td>\n",
       "      <td>0</td>\n",
       "      <td>1</td>\n",
       "      <td>0</td>\n",
       "      <td>0</td>\n",
       "      <td>0</td>\n",
       "    </tr>\n",
       "    <tr>\n",
       "      <th>1</th>\n",
       "      <td>7500</td>\n",
       "      <td>36</td>\n",
       "      <td>7.35</td>\n",
       "      <td>7.0</td>\n",
       "      <td>0</td>\n",
       "      <td>13.12</td>\n",
       "      <td>0</td>\n",
       "      <td>2013</td>\n",
       "      <td>19</td>\n",
       "      <td>27.2</td>\n",
       "      <td>27</td>\n",
       "      <td>4</td>\n",
       "      <td>11.608245</td>\n",
       "      <td>5.454423</td>\n",
       "      <td>10.058309</td>\n",
       "      <td>0</td>\n",
       "      <td>0</td>\n",
       "      <td>0</td>\n",
       "      <td>0</td>\n",
       "      <td>0</td>\n",
       "      <td>0</td>\n",
       "      <td>0</td>\n",
       "      <td>0</td>\n",
       "      <td>0</td>\n",
       "      <td>0</td>\n",
       "      <td>0</td>\n",
       "      <td>1</td>\n",
       "      <td>0</td>\n",
       "      <td>0</td>\n",
       "      <td>0</td>\n",
       "      <td>0</td>\n",
       "      <td>0</td>\n",
       "      <td>0</td>\n",
       "      <td>0</td>\n",
       "      <td>0</td>\n",
       "      <td>0</td>\n",
       "      <td>1</td>\n",
       "      <td>0</td>\n",
       "      <td>0</td>\n",
       "      <td>0</td>\n",
       "    </tr>\n",
       "    <tr>\n",
       "      <th>2</th>\n",
       "      <td>9600</td>\n",
       "      <td>36</td>\n",
       "      <td>7.97</td>\n",
       "      <td>0.0</td>\n",
       "      <td>0</td>\n",
       "      <td>18.34</td>\n",
       "      <td>0</td>\n",
       "      <td>2005</td>\n",
       "      <td>16</td>\n",
       "      <td>48.6</td>\n",
       "      <td>44</td>\n",
       "      <td>3</td>\n",
       "      <td>11.849405</td>\n",
       "      <td>5.709433</td>\n",
       "      <td>9.376617</td>\n",
       "      <td>0</td>\n",
       "      <td>0</td>\n",
       "      <td>0</td>\n",
       "      <td>0</td>\n",
       "      <td>0</td>\n",
       "      <td>0</td>\n",
       "      <td>1</td>\n",
       "      <td>0</td>\n",
       "      <td>0</td>\n",
       "      <td>0</td>\n",
       "      <td>1</td>\n",
       "      <td>0</td>\n",
       "      <td>0</td>\n",
       "      <td>0</td>\n",
       "      <td>0</td>\n",
       "      <td>0</td>\n",
       "      <td>0</td>\n",
       "      <td>0</td>\n",
       "      <td>0</td>\n",
       "      <td>0</td>\n",
       "      <td>0</td>\n",
       "      <td>1</td>\n",
       "      <td>0</td>\n",
       "      <td>0</td>\n",
       "      <td>0</td>\n",
       "    </tr>\n",
       "    <tr>\n",
       "      <th>3</th>\n",
       "      <td>2000</td>\n",
       "      <td>36</td>\n",
       "      <td>7.07</td>\n",
       "      <td>2.0</td>\n",
       "      <td>0</td>\n",
       "      <td>12.15</td>\n",
       "      <td>0</td>\n",
       "      <td>2005</td>\n",
       "      <td>9</td>\n",
       "      <td>0.3</td>\n",
       "      <td>12</td>\n",
       "      <td>0</td>\n",
       "      <td>11.289794</td>\n",
       "      <td>4.140273</td>\n",
       "      <td>3.663562</td>\n",
       "      <td>0</td>\n",
       "      <td>0</td>\n",
       "      <td>0</td>\n",
       "      <td>0</td>\n",
       "      <td>0</td>\n",
       "      <td>0</td>\n",
       "      <td>0</td>\n",
       "      <td>1</td>\n",
       "      <td>0</td>\n",
       "      <td>0</td>\n",
       "      <td>0</td>\n",
       "      <td>0</td>\n",
       "      <td>0</td>\n",
       "      <td>0</td>\n",
       "      <td>0</td>\n",
       "      <td>1</td>\n",
       "      <td>0</td>\n",
       "      <td>0</td>\n",
       "      <td>0</td>\n",
       "      <td>0</td>\n",
       "      <td>0</td>\n",
       "      <td>1</td>\n",
       "      <td>0</td>\n",
       "      <td>0</td>\n",
       "      <td>0</td>\n",
       "    </tr>\n",
       "    <tr>\n",
       "      <th>4</th>\n",
       "      <td>7200</td>\n",
       "      <td>36</td>\n",
       "      <td>24.85</td>\n",
       "      <td>2.0</td>\n",
       "      <td>0</td>\n",
       "      <td>6.07</td>\n",
       "      <td>0</td>\n",
       "      <td>2000</td>\n",
       "      <td>4</td>\n",
       "      <td>98.9</td>\n",
       "      <td>5</td>\n",
       "      <td>0</td>\n",
       "      <td>10.819798</td>\n",
       "      <td>5.658436</td>\n",
       "      <td>8.177797</td>\n",
       "      <td>0</td>\n",
       "      <td>0</td>\n",
       "      <td>0</td>\n",
       "      <td>1</td>\n",
       "      <td>0</td>\n",
       "      <td>0</td>\n",
       "      <td>0</td>\n",
       "      <td>1</td>\n",
       "      <td>1</td>\n",
       "      <td>0</td>\n",
       "      <td>0</td>\n",
       "      <td>1</td>\n",
       "      <td>0</td>\n",
       "      <td>0</td>\n",
       "      <td>0</td>\n",
       "      <td>0</td>\n",
       "      <td>0</td>\n",
       "      <td>0</td>\n",
       "      <td>0</td>\n",
       "      <td>0</td>\n",
       "      <td>0</td>\n",
       "      <td>1</td>\n",
       "      <td>0</td>\n",
       "      <td>0</td>\n",
       "      <td>0</td>\n",
       "    </tr>\n",
       "  </tbody>\n",
       "</table>\n",
       "</div>"
      ],
      "text/plain": [
       "   loan_amnt  term  int_rate  emp_length  loan_status    dti  delinq_2yrs  \\\n",
       "0       5000    36      7.35         5.0            0  15.76            0   \n",
       "1       7500    36      7.35         7.0            0  13.12            0   \n",
       "2       9600    36      7.97         0.0            0  18.34            0   \n",
       "3       2000    36      7.07         2.0            0  12.15            0   \n",
       "4       7200    36     24.85         2.0            0   6.07            0   \n",
       "\n",
       "   earliest_cr_line  open_acc  revol_util  total_acc  mort_acc  \\\n",
       "0              2004        12        13.2         25         1   \n",
       "1              2013        19        27.2         27         4   \n",
       "2              2005        16        48.6         44         3   \n",
       "3              2005         9         0.3         12         0   \n",
       "4              2000         4        98.9          5         0   \n",
       "\n",
       "   log_annual_inc  log_installment  log_revol_bal  grade_B  grade_C  grade_D  \\\n",
       "0       11.002117         5.051073       8.215547        0        0        0   \n",
       "1       11.608245         5.454423      10.058309        0        0        0   \n",
       "2       11.849405         5.709433       9.376617        0        0        0   \n",
       "3       11.289794         4.140273       3.663562        0        0        0   \n",
       "4       10.819798         5.658436       8.177797        0        0        0   \n",
       "\n",
       "   grade_E  grade_F  grade_G  home_ownership_OWN  home_ownership_RENT  \\\n",
       "0        0        0        0                   0                    0   \n",
       "1        0        0        0                   0                    0   \n",
       "2        0        0        0                   1                    0   \n",
       "3        0        0        0                   0                    1   \n",
       "4        1        0        0                   0                    1   \n",
       "\n",
       "   verification_status_Source Verified  verification_status_Verified  \\\n",
       "0                                    0                             0   \n",
       "1                                    0                             0   \n",
       "2                                    0                             0   \n",
       "3                                    0                             0   \n",
       "4                                    1                             0   \n",
       "\n",
       "   purpose_credit_card  purpose_debt_consolidation  purpose_home_improvement  \\\n",
       "0                    0                           0                         0   \n",
       "1                    0                           1                         0   \n",
       "2                    1                           0                         0   \n",
       "3                    0                           0                         0   \n",
       "4                    0                           1                         0   \n",
       "\n",
       "   purpose_house  purpose_major_purchase  purpose_medical  purpose_moving  \\\n",
       "0              0                       0                0               0   \n",
       "1              0                       0                0               0   \n",
       "2              0                       0                0               0   \n",
       "3              0                       0                1               0   \n",
       "4              0                       0                0               0   \n",
       "\n",
       "   purpose_other  purpose_renewable_energy  purpose_small_business  \\\n",
       "0              0                         0                       0   \n",
       "1              0                         0                       0   \n",
       "2              0                         0                       0   \n",
       "3              0                         0                       0   \n",
       "4              0                         0                       0   \n",
       "\n",
       "   purpose_vacation  initial_list_status_w  application_type_Joint App  \\\n",
       "0                 0                      1                           0   \n",
       "1                 0                      1                           0   \n",
       "2                 0                      1                           0   \n",
       "3                 0                      1                           0   \n",
       "4                 0                      1                           0   \n",
       "\n",
       "   pub_rec_At least one  pub_rec_bankruptcies_At least one  \n",
       "0                     0                                  0  \n",
       "1                     0                                  0  \n",
       "2                     0                                  0  \n",
       "3                     0                                  0  \n",
       "4                     0                                  0  "
      ]
     },
     "execution_count": 100,
     "metadata": {},
     "output_type": "execute_result"
    }
   ],
   "source": [
    "dataset['loan_status'].replace('Default', 1, inplace=True)\n",
    "dataset['loan_status'].replace('Fully Paid', 0, inplace=True)\n",
    "\n",
    "dataset = pd.get_dummies(dataset, columns=['grade', 'home_ownership', 'verification_status', 'purpose', \n",
    "                                           'initial_list_status', 'application_type', 'pub_rec', \n",
    "                                           'pub_rec_bankruptcies'], drop_first=True)\n",
    "dataset.head()"
   ]
  },
  {
   "cell_type": "markdown",
   "metadata": {},
   "source": [
    "### Split the data"
   ]
  },
  {
   "cell_type": "code",
   "execution_count": 101,
   "metadata": {},
   "outputs": [],
   "source": [
    "dataset.dropna(inplace=True)\n",
    "# dataset.fillna(lambda x: x.median())\n",
    "y = dataset.loc[:, dataset.columns == 'loan_status']\n",
    "x = dataset.loc[:, dataset.columns != 'loan_status']\n",
    "# y = dataset['loan_status']\n",
    "# X = dataset.drop(columns=['loan_status'])\n",
    "x_train, x_test, y_train, y_test = train_test_split(x, y, test_size=0.3, random_state=0, \n",
    "                                                    stratify=dataset['loan_status'])\n",
    "# x_train = x_train.reset_index()\n",
    "# y_train = y_train.reset_index()"
   ]
  },
  {
   "cell_type": "markdown",
   "metadata": {
    "slideshow": {
     "slide_type": "-"
    }
   },
   "source": [
    "# Feature Selection and Model Fitting"
   ]
  },
  {
   "cell_type": "markdown",
   "metadata": {
    "slideshow": {
     "slide_type": "-"
    }
   },
   "source": [
    "### Logistic Regression Model"
   ]
  },
  {
   "cell_type": "code",
   "execution_count": 102,
   "metadata": {
    "scrolled": false,
    "slideshow": {
     "slide_type": "-"
    }
   },
   "outputs": [],
   "source": [
    "model_lr = LogisticRegression(penalty=\"l2\", \n",
    "                              C=0.5, \n",
    "                              fit_intercept=True, \n",
    "                              class_weight='balanced', \n",
    "                              random_state=0, \n",
    "                              max_iter=10000, \n",
    "                              solver='lbfgs')\n",
    "model_lr = model_lr.fit(x_train, y_train.values.ravel())\n",
    "y_pred_lr = model_lr.predict(x_test)\n",
    "# df_coefs = pd.DataFrame(model.coef_[0], index=x.columns, columns = ['Coefficient'])\n",
    "# df_coefs"
   ]
  },
  {
   "cell_type": "code",
   "execution_count": 103,
   "metadata": {
    "slideshow": {
     "slide_type": "-"
    }
   },
   "outputs": [
    {
     "name": "stdout",
     "output_type": "stream",
     "text": [
      "Accuracy: 64.50%\n"
     ]
    },
    {
     "data": {
      "text/plain": [
       "array([[5405, 2824],\n",
       "       [1880, 3142]], dtype=int64)"
      ]
     },
     "execution_count": 103,
     "metadata": {},
     "output_type": "execute_result"
    }
   ],
   "source": [
    "print(\"Accuracy: %.2f%%\" % (model_lr.score(x_test, y_test) * 100))\n",
    "confusion_matrix(y_test, y_pred_lr)"
   ]
  },
  {
   "cell_type": "code",
   "execution_count": 104,
   "metadata": {},
   "outputs": [
    {
     "name": "stdout",
     "output_type": "stream",
     "text": [
      "Optimization terminated successfully.\n",
      "         Current function value: 0.593109\n",
      "         Iterations 6\n"
     ]
    },
    {
     "data": {
      "text/html": [
       "<table class=\"simpletable\">\n",
       "<tr>\n",
       "        <td>Model:</td>              <td>Logit</td>      <td>Pseudo R-squared:</td>    <td>0.106</td>  \n",
       "</tr>\n",
       "<tr>\n",
       "  <td>Dependent Variable:</td>    <td>loan_status</td>         <td>AIC:</td>        <td>52469.7036</td>\n",
       "</tr>\n",
       "<tr>\n",
       "         <td>Date:</td>        <td>2019-07-25 13:46</td>       <td>BIC:</td>        <td>52808.8372</td>\n",
       "</tr>\n",
       "<tr>\n",
       "   <td>No. Observations:</td>        <td>44167</td>       <td>Log-Likelihood:</td>    <td>-26196.</td> \n",
       "</tr>\n",
       "<tr>\n",
       "       <td>Df Model:</td>             <td>38</td>            <td>LL-Null:</td>        <td>-29308.</td> \n",
       "</tr>\n",
       "<tr>\n",
       "     <td>Df Residuals:</td>          <td>44128</td>        <td>LLR p-value:</td>      <td>0.0000</td>  \n",
       "</tr>\n",
       "<tr>\n",
       "      <td>Converged:</td>           <td>1.0000</td>           <td>Scale:</td>         <td>1.0000</td>  \n",
       "</tr>\n",
       "<tr>\n",
       "    <td>No. Iterations:</td>        <td>6.0000</td>              <td></td>               <td></td>     \n",
       "</tr>\n",
       "</table>\n",
       "<table class=\"simpletable\">\n",
       "<tr>\n",
       "                   <td></td>                    <th>Coef.</th>  <th>Std.Err.</th>    <th>z</th>     <th>P>|z|</th> <th>[0.025</th>  <th>0.975]</th> \n",
       "</tr>\n",
       "<tr>\n",
       "  <th>loan_amnt</th>                           <td>-0.0000</td>  <td>0.0000</td>  <td>-2.1447</td> <td>0.0320</td> <td>-0.0000</td> <td>-0.0000</td>\n",
       "</tr>\n",
       "<tr>\n",
       "  <th>term</th>                                <td>0.0141</td>   <td>0.0013</td>  <td>10.8372</td> <td>0.0000</td> <td>0.0115</td>  <td>0.0166</td> \n",
       "</tr>\n",
       "<tr>\n",
       "  <th>int_rate</th>                            <td>0.0097</td>   <td>0.0091</td>  <td>1.0693</td>  <td>0.2849</td> <td>-0.0081</td> <td>0.0275</td> \n",
       "</tr>\n",
       "<tr>\n",
       "  <th>emp_length</th>                          <td>-0.0119</td>  <td>0.0029</td>  <td>-4.0620</td> <td>0.0000</td> <td>-0.0176</td> <td>-0.0062</td>\n",
       "</tr>\n",
       "<tr>\n",
       "  <th>dti</th>                                 <td>0.0116</td>   <td>0.0014</td>  <td>8.5047</td>  <td>0.0000</td> <td>0.0089</td>  <td>0.0143</td> \n",
       "</tr>\n",
       "<tr>\n",
       "  <th>delinq_2yrs</th>                         <td>0.1473</td>   <td>0.0181</td>  <td>8.1428</td>  <td>0.0000</td> <td>0.1118</td>  <td>0.1827</td> \n",
       "</tr>\n",
       "<tr>\n",
       "  <th>earliest_cr_line</th>                    <td>-0.0019</td>  <td>0.0002</td>  <td>-9.7704</td> <td>0.0000</td> <td>-0.0022</td> <td>-0.0015</td>\n",
       "</tr>\n",
       "<tr>\n",
       "  <th>open_acc</th>                            <td>0.0244</td>   <td>0.0029</td>  <td>8.5558</td>  <td>0.0000</td> <td>0.0188</td>  <td>0.0300</td> \n",
       "</tr>\n",
       "<tr>\n",
       "  <th>revol_util</th>                          <td>0.0086</td>   <td>0.0006</td>  <td>15.1312</td> <td>0.0000</td> <td>0.0075</td>  <td>0.0098</td> \n",
       "</tr>\n",
       "<tr>\n",
       "  <th>total_acc</th>                           <td>-0.0080</td>  <td>0.0014</td>  <td>-5.8516</td> <td>0.0000</td> <td>-0.0107</td> <td>-0.0053</td>\n",
       "</tr>\n",
       "<tr>\n",
       "  <th>mort_acc</th>                            <td>-0.0799</td>  <td>0.0081</td>  <td>-9.8922</td> <td>0.0000</td> <td>-0.0957</td> <td>-0.0641</td>\n",
       "</tr>\n",
       "<tr>\n",
       "  <th>log_annual_inc</th>                      <td>-0.1578</td>  <td>0.0278</td>  <td>-5.6769</td> <td>0.0000</td> <td>-0.2123</td> <td>-0.1033</td>\n",
       "</tr>\n",
       "<tr>\n",
       "  <th>log_installment</th>                     <td>0.4319</td>   <td>0.0405</td>  <td>10.6680</td> <td>0.0000</td> <td>0.3526</td>  <td>0.5113</td> \n",
       "</tr>\n",
       "<tr>\n",
       "  <th>log_revol_bal</th>                       <td>-0.0277</td>  <td>0.0125</td>  <td>-2.2205</td> <td>0.0264</td> <td>-0.0521</td> <td>-0.0032</td>\n",
       "</tr>\n",
       "<tr>\n",
       "  <th>grade_B</th>                             <td>0.7118</td>   <td>0.0571</td>  <td>12.4607</td> <td>0.0000</td> <td>0.5998</td>  <td>0.8238</td> \n",
       "</tr>\n",
       "<tr>\n",
       "  <th>grade_C</th>                             <td>1.0898</td>   <td>0.0791</td>  <td>13.7817</td> <td>0.0000</td> <td>0.9348</td>  <td>1.2448</td> \n",
       "</tr>\n",
       "<tr>\n",
       "  <th>grade_D</th>                             <td>1.3184</td>   <td>0.1140</td>  <td>11.5632</td> <td>0.0000</td> <td>1.0949</td>  <td>1.5418</td> \n",
       "</tr>\n",
       "<tr>\n",
       "  <th>grade_E</th>                             <td>1.4086</td>   <td>0.1664</td>  <td>8.4630</td>  <td>0.0000</td> <td>1.0824</td>  <td>1.7349</td> \n",
       "</tr>\n",
       "<tr>\n",
       "  <th>grade_F</th>                             <td>1.4722</td>   <td>0.2144</td>  <td>6.8651</td>  <td>0.0000</td> <td>1.0519</td>  <td>1.8925</td> \n",
       "</tr>\n",
       "<tr>\n",
       "  <th>grade_G</th>                             <td>1.1873</td>   <td>0.2333</td>  <td>5.0900</td>  <td>0.0000</td> <td>0.7301</td>  <td>1.6445</td> \n",
       "</tr>\n",
       "<tr>\n",
       "  <th>home_ownership_OWN</th>                  <td>0.1647</td>   <td>0.0363</td>  <td>4.5427</td>  <td>0.0000</td> <td>0.0936</td>  <td>0.2358</td> \n",
       "</tr>\n",
       "<tr>\n",
       "  <th>home_ownership_RENT</th>                 <td>0.3616</td>   <td>0.0270</td>  <td>13.3728</td> <td>0.0000</td> <td>0.3086</td>  <td>0.4146</td> \n",
       "</tr>\n",
       "<tr>\n",
       "  <th>verification_status_Source Verified</th> <td>0.2497</td>   <td>0.0270</td>  <td>9.2583</td>  <td>0.0000</td> <td>0.1968</td>  <td>0.3026</td> \n",
       "</tr>\n",
       "<tr>\n",
       "  <th>verification_status_Verified</th>        <td>0.3870</td>   <td>0.0298</td>  <td>12.9815</td> <td>0.0000</td> <td>0.3285</td>  <td>0.4454</td> \n",
       "</tr>\n",
       "<tr>\n",
       "  <th>purpose_credit_card</th>                 <td>0.1081</td>   <td>0.1079</td>  <td>1.0014</td>  <td>0.3166</td> <td>-0.1035</td> <td>0.3196</td> \n",
       "</tr>\n",
       "<tr>\n",
       "  <th>purpose_debt_consolidation</th>          <td>0.0823</td>   <td>0.1059</td>  <td>0.7777</td>  <td>0.4368</td> <td>-0.1252</td> <td>0.2898</td> \n",
       "</tr>\n",
       "<tr>\n",
       "  <th>purpose_home_improvement</th>            <td>0.2263</td>   <td>0.1116</td>  <td>2.0281</td>  <td>0.0426</td> <td>0.0076</td>  <td>0.4450</td> \n",
       "</tr>\n",
       "<tr>\n",
       "  <th>purpose_house</th>                       <td>-0.3497</td>  <td>0.1840</td>  <td>-1.9011</td> <td>0.0573</td> <td>-0.7103</td> <td>0.0108</td> \n",
       "</tr>\n",
       "<tr>\n",
       "  <th>purpose_major_purchase</th>              <td>0.2294</td>   <td>0.1257</td>  <td>1.8241</td>  <td>0.0681</td> <td>-0.0171</td> <td>0.4758</td> \n",
       "</tr>\n",
       "<tr>\n",
       "  <th>purpose_medical</th>                     <td>0.4077</td>   <td>0.1356</td>  <td>3.0054</td>  <td>0.0027</td> <td>0.1418</td>  <td>0.6736</td> \n",
       "</tr>\n",
       "<tr>\n",
       "  <th>purpose_moving</th>                      <td>0.2171</td>   <td>0.1493</td>  <td>1.4542</td>  <td>0.1459</td> <td>-0.0755</td> <td>0.5097</td> \n",
       "</tr>\n",
       "<tr>\n",
       "  <th>purpose_other</th>                       <td>0.2888</td>   <td>0.1120</td>  <td>2.5783</td>  <td>0.0099</td> <td>0.0693</td>  <td>0.5084</td> \n",
       "</tr>\n",
       "<tr>\n",
       "  <th>purpose_renewable_energy</th>            <td>0.5985</td>   <td>0.4225</td>  <td>1.4166</td>  <td>0.1566</td> <td>-0.2296</td> <td>1.4265</td> \n",
       "</tr>\n",
       "<tr>\n",
       "  <th>purpose_small_business</th>              <td>0.8556</td>   <td>0.1427</td>  <td>5.9975</td>  <td>0.0000</td> <td>0.5760</td>  <td>1.1352</td> \n",
       "</tr>\n",
       "<tr>\n",
       "  <th>purpose_vacation</th>                    <td>0.3761</td>   <td>0.1475</td>  <td>2.5498</td>  <td>0.0108</td> <td>0.0870</td>  <td>0.6652</td> \n",
       "</tr>\n",
       "<tr>\n",
       "  <th>initial_list_status_w</th>               <td>-0.0780</td>  <td>0.0256</td>  <td>-3.0464</td> <td>0.0023</td> <td>-0.1282</td> <td>-0.0278</td>\n",
       "</tr>\n",
       "<tr>\n",
       "  <th>application_type_Joint App</th>          <td>-0.5104</td>  <td>0.0540</td>  <td>-9.4513</td> <td>0.0000</td> <td>-0.6163</td> <td>-0.4046</td>\n",
       "</tr>\n",
       "<tr>\n",
       "  <th>pub_rec_At least one</th>                <td>0.0561</td>   <td>0.0427</td>  <td>1.3149</td>  <td>0.1885</td> <td>-0.0275</td> <td>0.1398</td> \n",
       "</tr>\n",
       "<tr>\n",
       "  <th>pub_rec_bankruptcies_At least one</th>   <td>-0.0325</td>  <td>0.0490</td>  <td>-0.6630</td> <td>0.5073</td> <td>-0.1284</td> <td>0.0635</td> \n",
       "</tr>\n",
       "</table>"
      ],
      "text/plain": [
       "<class 'statsmodels.iolib.summary2.Summary'>\n",
       "\"\"\"\n",
       "                                  Results: Logit\n",
       "===================================================================================\n",
       "Model:                    Logit                  Pseudo R-squared:       0.106     \n",
       "Dependent Variable:       loan_status            AIC:                    52469.7036\n",
       "Date:                     2019-07-25 13:46       BIC:                    52808.8372\n",
       "No. Observations:         44167                  Log-Likelihood:         -26196.   \n",
       "Df Model:                 38                     LL-Null:                -29308.   \n",
       "Df Residuals:             44128                  LLR p-value:            0.0000    \n",
       "Converged:                1.0000                 Scale:                  1.0000    \n",
       "No. Iterations:           6.0000                                                   \n",
       "-----------------------------------------------------------------------------------\n",
       "                                     Coef.  Std.Err.    z    P>|z|   [0.025  0.975]\n",
       "-----------------------------------------------------------------------------------\n",
       "loan_amnt                           -0.0000   0.0000 -2.1447 0.0320 -0.0000 -0.0000\n",
       "term                                 0.0141   0.0013 10.8372 0.0000  0.0115  0.0166\n",
       "int_rate                             0.0097   0.0091  1.0693 0.2849 -0.0081  0.0275\n",
       "emp_length                          -0.0119   0.0029 -4.0620 0.0000 -0.0176 -0.0062\n",
       "dti                                  0.0116   0.0014  8.5047 0.0000  0.0089  0.0143\n",
       "delinq_2yrs                          0.1473   0.0181  8.1428 0.0000  0.1118  0.1827\n",
       "earliest_cr_line                    -0.0019   0.0002 -9.7704 0.0000 -0.0022 -0.0015\n",
       "open_acc                             0.0244   0.0029  8.5558 0.0000  0.0188  0.0300\n",
       "revol_util                           0.0086   0.0006 15.1312 0.0000  0.0075  0.0098\n",
       "total_acc                           -0.0080   0.0014 -5.8516 0.0000 -0.0107 -0.0053\n",
       "mort_acc                            -0.0799   0.0081 -9.8922 0.0000 -0.0957 -0.0641\n",
       "log_annual_inc                      -0.1578   0.0278 -5.6769 0.0000 -0.2123 -0.1033\n",
       "log_installment                      0.4319   0.0405 10.6680 0.0000  0.3526  0.5113\n",
       "log_revol_bal                       -0.0277   0.0125 -2.2205 0.0264 -0.0521 -0.0032\n",
       "grade_B                              0.7118   0.0571 12.4607 0.0000  0.5998  0.8238\n",
       "grade_C                              1.0898   0.0791 13.7817 0.0000  0.9348  1.2448\n",
       "grade_D                              1.3184   0.1140 11.5632 0.0000  1.0949  1.5418\n",
       "grade_E                              1.4086   0.1664  8.4630 0.0000  1.0824  1.7349\n",
       "grade_F                              1.4722   0.2144  6.8651 0.0000  1.0519  1.8925\n",
       "grade_G                              1.1873   0.2333  5.0900 0.0000  0.7301  1.6445\n",
       "home_ownership_OWN                   0.1647   0.0363  4.5427 0.0000  0.0936  0.2358\n",
       "home_ownership_RENT                  0.3616   0.0270 13.3728 0.0000  0.3086  0.4146\n",
       "verification_status_Source Verified  0.2497   0.0270  9.2583 0.0000  0.1968  0.3026\n",
       "verification_status_Verified         0.3870   0.0298 12.9815 0.0000  0.3285  0.4454\n",
       "purpose_credit_card                  0.1081   0.1079  1.0014 0.3166 -0.1035  0.3196\n",
       "purpose_debt_consolidation           0.0823   0.1059  0.7777 0.4368 -0.1252  0.2898\n",
       "purpose_home_improvement             0.2263   0.1116  2.0281 0.0426  0.0076  0.4450\n",
       "purpose_house                       -0.3497   0.1840 -1.9011 0.0573 -0.7103  0.0108\n",
       "purpose_major_purchase               0.2294   0.1257  1.8241 0.0681 -0.0171  0.4758\n",
       "purpose_medical                      0.4077   0.1356  3.0054 0.0027  0.1418  0.6736\n",
       "purpose_moving                       0.2171   0.1493  1.4542 0.1459 -0.0755  0.5097\n",
       "purpose_other                        0.2888   0.1120  2.5783 0.0099  0.0693  0.5084\n",
       "purpose_renewable_energy             0.5985   0.4225  1.4166 0.1566 -0.2296  1.4265\n",
       "purpose_small_business               0.8556   0.1427  5.9975 0.0000  0.5760  1.1352\n",
       "purpose_vacation                     0.3761   0.1475  2.5498 0.0108  0.0870  0.6652\n",
       "initial_list_status_w               -0.0780   0.0256 -3.0464 0.0023 -0.1282 -0.0278\n",
       "application_type_Joint App          -0.5104   0.0540 -9.4513 0.0000 -0.6163 -0.4046\n",
       "pub_rec_At least one                 0.0561   0.0427  1.3149 0.1885 -0.0275  0.1398\n",
       "pub_rec_bankruptcies_At least one   -0.0325   0.0490 -0.6630 0.5073 -0.1284  0.0635\n",
       "===================================================================================\n",
       "\n",
       "\"\"\""
      ]
     },
     "execution_count": 104,
     "metadata": {},
     "output_type": "execute_result"
    }
   ],
   "source": [
    "import statsmodels.api as sm\n",
    "logit_model = sm.Logit(y, x)\n",
    "result = logit_model.fit()\n",
    "result.summary2()"
   ]
  },
  {
   "cell_type": "markdown",
   "metadata": {},
   "source": [
    "We remove all variables with p-value less than 0.05"
   ]
  },
  {
   "cell_type": "code",
   "execution_count": 105,
   "metadata": {
    "slideshow": {
     "slide_type": "-"
    }
   },
   "outputs": [
    {
     "data": {
      "text/plain": [
       "int_rate                             0.284927\n",
       "purpose_credit_card                  0.316646\n",
       "purpose_debt_consolidation           0.436757\n",
       "purpose_house                        0.057285\n",
       "purpose_major_purchase               0.068132\n",
       "purpose_moving                       0.145901\n",
       "purpose_renewable_energy             0.156607\n",
       "pub_rec_At least one                 0.188533\n",
       "pub_rec_bankruptcies_At least one    0.507311\n",
       "dtype: float64"
      ]
     },
     "execution_count": 105,
     "metadata": {},
     "output_type": "execute_result"
    }
   ],
   "source": [
    "result.pvalues[result.pvalues > 0.05]"
   ]
  },
  {
   "cell_type": "code",
   "execution_count": 106,
   "metadata": {},
   "outputs": [],
   "source": [
    "keep_list = list(result.pvalues[result.pvalues < 0.05].index)\n",
    "keep_list.append('loan_status')\n",
    "drop_list = [col for col in dataset.columns if col not in keep_list]\n",
    "x_train_lr = x_train.drop(labels=drop_list, axis=1)\n",
    "x_test_lr = x_test.drop(labels=drop_list, axis=1)\n",
    "model_lr2 = LogisticRegression(penalty=\"l2\", C=0.5, fit_intercept=True, class_weight='balanced',\n",
    "                               random_state=0, max_iter=10000, solver='lbfgs')\n",
    "model_lr2 = model_lr2.fit(x_train_lr, y_train.values.ravel())\n",
    "y_pred_lr = model_lr2.predict(x_test_lr)"
   ]
  },
  {
   "cell_type": "markdown",
   "metadata": {
    "slideshow": {
     "slide_type": "-"
    }
   },
   "source": [
    "### Logistic Regression Results"
   ]
  },
  {
   "cell_type": "code",
   "execution_count": 107,
   "metadata": {
    "slideshow": {
     "slide_type": "-"
    }
   },
   "outputs": [
    {
     "name": "stdout",
     "output_type": "stream",
     "text": [
      "Accuracy: 62.59%\n"
     ]
    },
    {
     "data": {
      "text/plain": [
       "array([[5129, 3100],\n",
       "       [1857, 3165]], dtype=int64)"
      ]
     },
     "execution_count": 107,
     "metadata": {},
     "output_type": "execute_result"
    }
   ],
   "source": [
    "print(\"Accuracy: %.2f%%\" % (model_lr2.score(x_test_lr, y_test) * 100))\n",
    "confusion_matrix(y_test, y_pred_lr)"
   ]
  },
  {
   "cell_type": "code",
   "execution_count": 108,
   "metadata": {
    "slideshow": {
     "slide_type": "-"
    }
   },
   "outputs": [
    {
     "name": "stdout",
     "output_type": "stream",
     "text": [
      "F1 Score: 0.5608221848143884\n",
      "              precision    recall  f1-score   support\n",
      "\n",
      "           0       0.73      0.62      0.67      8229\n",
      "           1       0.51      0.63      0.56      5022\n",
      "\n",
      "    accuracy                           0.63     13251\n",
      "   macro avg       0.62      0.63      0.62     13251\n",
      "weighted avg       0.65      0.63      0.63     13251\n",
      "\n"
     ]
    }
   ],
   "source": [
    "print('F1 Score:', f1_score(y_test, y_pred_lr))\n",
    "print(classification_report(y_test, y_pred_lr))"
   ]
  },
  {
   "cell_type": "markdown",
   "metadata": {
    "slideshow": {
     "slide_type": "-"
    }
   },
   "source": [
    "### Random Forest Model"
   ]
  },
  {
   "cell_type": "code",
   "execution_count": 109,
   "metadata": {
    "slideshow": {
     "slide_type": "-"
    }
   },
   "outputs": [],
   "source": [
    "model_rf_path = Path('../data/rf_1000.joblib')\n",
    "if os.path.exists(model_rf_path):\n",
    "    model_rf = load(model_rf_path)\n",
    "else:\n",
    "    n_trees = [50, 100, 250, 500, 1000, 1500, 2500]\n",
    "    rf_dict = dict.fromkeys(n_trees)\n",
    "    for num in n_trees:\n",
    "        print(num)\n",
    "        rf = RandomForestClassifier(n_estimators=num,\n",
    "                                    min_samples_leaf=30,\n",
    "                                    oob_score=True,\n",
    "                                    random_state=100,\n",
    "                                    class_weight='balanced',\n",
    "                                    n_jobs=-1)\n",
    "        rf.fit(x_train, y_train.values.ravel())\n",
    "        rf_dict[num] = rf\n",
    "\n",
    "    oob_error_list = [None] * len(n_trees)\n",
    "\n",
    "    for i in range(len(n_trees)):\n",
    "        oob_error_list[i] = 1 - rf_dict[n_trees[i]].oob_score_\n",
    "\n",
    "    plt.plot(n_trees, oob_error_list, 'bo', n_trees, oob_error_list, 'k')\n",
    "    # Save model to file\n",
    "    dump(rf_dict[1000], model_rf_path)\n",
    "    model_rf = rf_dict[1000]\n",
    "y_pred_rf = model_rf.predict(x_test)"
   ]
  },
  {
   "cell_type": "markdown",
   "metadata": {
    "slideshow": {
     "slide_type": "-"
    }
   },
   "source": [
    "### Random Forest Results"
   ]
  },
  {
   "cell_type": "code",
   "execution_count": 110,
   "metadata": {
    "slideshow": {
     "slide_type": "-"
    }
   },
   "outputs": [
    {
     "name": "stdout",
     "output_type": "stream",
     "text": [
      "Accuracy: 65.45%\n"
     ]
    },
    {
     "data": {
      "text/plain": [
       "array([[5241, 2988],\n",
       "       [1590, 3432]], dtype=int64)"
      ]
     },
     "execution_count": 110,
     "metadata": {},
     "output_type": "execute_result"
    }
   ],
   "source": [
    "print(\"Accuracy: %.2f%%\" % (model_rf.score(x_test, y_test) * 100))\n",
    "confusion_matrix(y_test, y_pred_rf)"
   ]
  },
  {
   "cell_type": "code",
   "execution_count": 111,
   "metadata": {
    "slideshow": {
     "slide_type": "-"
    }
   },
   "outputs": [
    {
     "name": "stdout",
     "output_type": "stream",
     "text": [
      "F1 Score: 0.5998951232302046\n",
      "              precision    recall  f1-score   support\n",
      "\n",
      "           0       0.77      0.64      0.70      8229\n",
      "           1       0.53      0.68      0.60      5022\n",
      "\n",
      "    accuracy                           0.65     13251\n",
      "   macro avg       0.65      0.66      0.65     13251\n",
      "weighted avg       0.68      0.65      0.66     13251\n",
      "\n"
     ]
    }
   ],
   "source": [
    "print('F1 Score:', f1_score(y_test, y_pred_rf))\n",
    "print(classification_report(y_test, y_pred_rf))"
   ]
  },
  {
   "cell_type": "code",
   "execution_count": 112,
   "metadata": {},
   "outputs": [
    {
     "name": "stdout",
     "output_type": "stream",
     "text": [
      "Variable: int_rate             Importance: 0.3\n",
      "Variable: revol_util           Importance: 0.09\n",
      "Variable: dti                  Importance: 0.07\n",
      "Variable: log_installment      Importance: 0.07\n",
      "Variable: loan_amnt            Importance: 0.05\n",
      "Variable: mort_acc             Importance: 0.04\n",
      "Variable: log_annual_inc       Importance: 0.04\n",
      "Variable: log_revol_bal        Importance: 0.04\n",
      "Variable: term                 Importance: 0.03\n",
      "Variable: total_acc            Importance: 0.03\n",
      "Variable: grade_B              Importance: 0.03\n",
      "Variable: home_ownership_RENT  Importance: 0.03\n",
      "Variable: emp_length           Importance: 0.02\n",
      "Variable: earliest_cr_line     Importance: 0.02\n",
      "Variable: open_acc             Importance: 0.02\n",
      "Variable: grade_C              Importance: 0.02\n",
      "Variable: grade_D              Importance: 0.02\n",
      "Variable: grade_E              Importance: 0.02\n",
      "Variable: verification_status_Verified Importance: 0.02\n",
      "Variable: delinq_2yrs          Importance: 0.01\n",
      "Variable: grade_F              Importance: 0.01\n",
      "Variable: verification_status_Source Verified Importance: 0.01\n",
      "Variable: purpose_debt_consolidation Importance: 0.01\n",
      "Variable: initial_list_status_w Importance: 0.01\n",
      "Variable: grade_G              Importance: 0.0\n",
      "Variable: home_ownership_OWN   Importance: 0.0\n",
      "Variable: purpose_credit_card  Importance: 0.0\n",
      "Variable: purpose_home_improvement Importance: 0.0\n",
      "Variable: purpose_house        Importance: 0.0\n",
      "Variable: purpose_major_purchase Importance: 0.0\n",
      "Variable: purpose_medical      Importance: 0.0\n",
      "Variable: purpose_moving       Importance: 0.0\n",
      "Variable: purpose_other        Importance: 0.0\n",
      "Variable: purpose_renewable_energy Importance: 0.0\n",
      "Variable: purpose_small_business Importance: 0.0\n",
      "Variable: purpose_vacation     Importance: 0.0\n",
      "Variable: application_type_Joint App Importance: 0.0\n",
      "Variable: pub_rec_At least one Importance: 0.0\n",
      "Variable: pub_rec_bankruptcies_At least one Importance: 0.0\n"
     ]
    }
   ],
   "source": [
    "feature_list = list(x.columns)\n",
    "# Get numerical feature importances\n",
    "importances = list(model_rf.feature_importances_)\n",
    "# List of tuples with variable and importance\n",
    "feature_importances = [(feature, round(importance, 2)) for feature, importance in zip(feature_list, importances)]\n",
    "# Sort the feature importances by most important first\n",
    "feature_importances = sorted(feature_importances, key = lambda x: x[1], reverse = True)\n",
    "# Print out the feature and importances \n",
    "[print('Variable: {:20} Importance: {}'.format(*pair)) for pair in feature_importances];"
   ]
  },
  {
   "cell_type": "code",
   "execution_count": 113,
   "metadata": {},
   "outputs": [
    {
     "name": "stdout",
     "output_type": "stream",
     "text": [
      "Accuracy: 65.13%\n",
      "[[5177 3052]\n",
      " [1568 3454]]\n"
     ]
    }
   ],
   "source": [
    "# New random forest with only >= 0.05 important variables\n",
    "model_rf_i = RandomForestClassifier(n_estimators=1000,\n",
    "                                           min_samples_leaf=30,\n",
    "                                           oob_score=True,\n",
    "                                           random_state=100,\n",
    "                                           class_weight='balanced',\n",
    "                                           n_jobs=-1)\n",
    "# Extract the important features\n",
    "important_indices = ['int_rate', \n",
    "                     'revol_util',\n",
    "                     'dti',\n",
    "                     'log_installment', \n",
    "                     'loan_amnt', \n",
    "                     'mort_acc', \n",
    "                     'log_annual_inc', \n",
    "                     'log_revol_bal']\n",
    "x_train_i = x_train.loc[:, important_indices]\n",
    "x_test_i = x_test.loc[:, important_indices]\n",
    "# Train the random forest\n",
    "model_rf_i.fit(x_train_i, y_train.values.ravel())\n",
    "# Make predictions and determine the error\n",
    "y_pred_rf_i = model_rf_i.predict(x_test_i)\n",
    "print(\"Accuracy: %.2f%%\" % (model_rf_i.score(x_test_i, y_test) * 100))\n",
    "print(confusion_matrix(y_test, y_pred_rf_i))"
   ]
  },
  {
   "cell_type": "markdown",
   "metadata": {
    "slideshow": {
     "slide_type": "-"
    }
   },
   "source": [
    "### Neural Network Model"
   ]
  },
  {
   "cell_type": "code",
   "execution_count": 114,
   "metadata": {},
   "outputs": [
    {
     "name": "stdout",
     "output_type": "stream",
     "text": [
      "_________________________________________________________________\n",
      "Layer (type)                 Output Shape              Param #   \n",
      "=================================================================\n",
      "dense_1 (Dense)              (None, 20)                800       \n",
      "_________________________________________________________________\n",
      "dense_2 (Dense)              (None, 15)                315       \n",
      "_________________________________________________________________\n",
      "dense_3 (Dense)              (None, 4)                 64        \n",
      "_________________________________________________________________\n",
      "dense_4 (Dense)              (None, 2)                 10        \n",
      "=================================================================\n",
      "Total params: 1,189\n",
      "Trainable params: 1,189\n",
      "Non-trainable params: 0\n",
      "_________________________________________________________________\n",
      "None\n"
     ]
    }
   ],
   "source": [
    "scaler = StandardScaler()\n",
    "scaler.fit(x_train.astype('float64'))\n",
    "StandardScaler(copy=True, with_mean=True, with_std=True)\n",
    "x_train_nn = scaler.transform(x_train.astype('float64'))\n",
    "x_test_nn = scaler.transform(x_test.astype('float64'))\n",
    "dump(scaler, Path('../data/scaler.joblib'))\n",
    "\n",
    "class_weights = class_weight.compute_class_weight('balanced', \n",
    "                                                  np.unique(y_train.values.ravel()), \n",
    "                                                  y_train.values.ravel())\n",
    "\n",
    "model_nn_path = Path('../data/model_nn.h5')\n",
    "if os.path.exists(model_nn_path):\n",
    "    model_nn = load_model(str(model_nn_path))\n",
    "else:\n",
    "    model_nn = Sequential()\n",
    "    # Input layer\n",
    "    model_nn.add(Dense(20, activation='relu', input_shape=(39,)))\n",
    "    # Hidden layer\n",
    "    model_nn.add(Dense(15, activation='relu'))\n",
    "    model_nn.add(Dense(4, activation='relu'))\n",
    "    # Output layer\n",
    "    model_nn.add(Dense(2, activation='sigmoid'))\n",
    "    model_nn.output_shape\n",
    "    \n",
    "    model_nn.compile(loss='binary_crossentropy',\n",
    "                    optimizer='adam',\n",
    "                    metrics=['accuracy'])\n",
    "    model_nn.fit(x_train_nn, to_categorical(y_train), epochs=5, batch_size=10, class_weight=class_weights, verbose=1)\n",
    "    \n",
    "    model_nn.save(str(model_nn_path))\n",
    "y_pred_nn = model_nn.predict_classes(x_test_nn)\n",
    "print(model_nn.summary())\n",
    "# y_pred_nn = [round(x[0] for x in y_pred_nn)]"
   ]
  },
  {
   "cell_type": "code",
   "execution_count": 115,
   "metadata": {},
   "outputs": [
    {
     "name": "stdout",
     "output_type": "stream",
     "text": [
      "[0.8051461  1.31927968]\n",
      "0    19199\n",
      "1    11717\n",
      "Name: loan_status, dtype: int64\n",
      "15457.999999999998\n",
      "15457.999999999998\n"
     ]
    }
   ],
   "source": [
    "print(class_weights)\n",
    "print(y_train['loan_status'].value_counts(dropna=False))\n",
    "print(class_weights[0]*19199)\n",
    "print(class_weights[1]*11717)"
   ]
  },
  {
   "cell_type": "code",
   "execution_count": 116,
   "metadata": {},
   "outputs": [
    {
     "name": "stdout",
     "output_type": "stream",
     "text": [
      "[19199 11717]\n"
     ]
    },
    {
     "data": {
      "text/plain": [
       "array([0.8051461 , 1.31927968])"
      ]
     },
     "execution_count": 116,
     "metadata": {},
     "output_type": "execute_result"
    }
   ],
   "source": [
    "print(np.bincount(y_train.values.ravel()))\n",
    "30916/(2*np.bincount(y_train.values.ravel()))"
   ]
  },
  {
   "cell_type": "markdown",
   "metadata": {
    "slideshow": {
     "slide_type": "-"
    }
   },
   "source": [
    "### Neural Network Results"
   ]
  },
  {
   "cell_type": "code",
   "execution_count": 117,
   "metadata": {},
   "outputs": [
    {
     "name": "stdout",
     "output_type": "stream",
     "text": [
      "13251/13251 [==============================] - 0s 34us/step\n",
      "Accuracy: 67.23%\n",
      "[[6905 1324]\n",
      " [3015 2007]]\n"
     ]
    },
    {
     "data": {
      "text/plain": [
       "<matplotlib.axes._subplots.AxesSubplot at 0x23bb42a9208>"
      ]
     },
     "execution_count": 117,
     "metadata": {},
     "output_type": "execute_result"
    },
    {
     "data": {
      "image/png": "[encoded data removed]",
      "text/plain": [
       "<Figure size 720x504 with 2 Axes>"
      ]
     },
     "metadata": {
      "needs_background": "light"
     },
     "output_type": "display_data"
    }
   ],
   "source": [
    "score = model_nn.evaluate(x_test_nn, to_categorical(y_test))\n",
    "print(\"Accuracy: %.2f%%\" % (score[1]*100))\n",
    "print(confusion_matrix(y_test, y_pred_nn))\n",
    "\n",
    "df_cm = pd.DataFrame(confusion_matrix(y_test, y_pred_nn), \n",
    "                      index = ['Fully Paid', 'Default'], \n",
    "                      columns = ['Fully Paid', 'Default'])\n",
    "plt.figure(figsize = (10,7))\n",
    "sns.heatmap(df_cm, annot=True)"
   ]
  },
  {
   "cell_type": "code",
   "execution_count": 118,
   "metadata": {},
   "outputs": [
    {
     "name": "stdout",
     "output_type": "stream",
     "text": [
      "F1 Score: 0.4805459116485095\n",
      "              precision    recall  f1-score   support\n",
      "\n",
      "           0       0.70      0.84      0.76      8229\n",
      "           1       0.60      0.40      0.48      5022\n",
      "\n",
      "    accuracy                           0.67     13251\n",
      "   macro avg       0.65      0.62      0.62     13251\n",
      "weighted avg       0.66      0.67      0.65     13251\n",
      "\n"
     ]
    }
   ],
   "source": [
    "print('F1 Score:', f1_score(y_test, y_pred_nn))\n",
    "print(classification_report(y_test, y_pred_nn))"
   ]
  },
  {
   "cell_type": "markdown",
   "metadata": {},
   "source": [
    "notes\n",
    "higher f1 score is good.\n",
    "we dont want a default to be labeled as a paid since this results in a larger loss of money\n",
    "so we want to minimize false negative(label was predicted positive and is actually negative or predicted paid actually default)\n",
    "so we want to look at recall\n",
    "loook at the numbers for 1"
   ]
  },
  {
   "cell_type": "code",
   "execution_count": 119,
   "metadata": {},
   "outputs": [
    {
     "data": {
      "image/png": "[encoded data removed]",
      "text/plain": [
       "<Figure size 432x288 with 1 Axes>"
      ]
     },
     "metadata": {
      "needs_background": "light"
     },
     "output_type": "display_data"
    }
   ],
   "source": [
    "# predict probabilities\n",
    "prob = model_nn.predict(x_test_nn)\n",
    "# keep probabilities for the positive outcome only\n",
    "preds = prob[:,1]\n",
    "# calculate roc curve\n",
    "fpr, tpr, threshold = roc_curve(y_test, preds)\n",
    "# calculate auc, equivalent to roc_auc_score()?\n",
    "roc_auc = auc(fpr, tpr)\n",
    "\n",
    "plt.title('Receiver Operating Characteristic')\n",
    "plt.plot(fpr, tpr, 'b', label = 'AUC = %0.2f' % roc_auc)\n",
    "plt.legend(loc = 'lower right')\n",
    "plt.plot([0, 1], [0, 1], 'r--')\n",
    "plt.xlim([0, 1])\n",
    "plt.ylim([0, 1])\n",
    "plt.ylabel('True Positive Rate')\n",
    "plt.xlabel('False Positie Rate')\n",
    "plt.show()"
   ]
  },
  {
   "cell_type": "code",
   "execution_count": 120,
   "metadata": {},
   "outputs": [
    {
     "data": {
      "image/png": "[encoded data removed]",
      "text/plain": [
       "<Figure size 432x288 with 1 Axes>"
      ]
     },
     "metadata": {
      "needs_background": "light"
     },
     "output_type": "display_data"
    }
   ],
   "source": [
    "precision, recall, threshold = precision_recall_curve(y_test, preds)\n",
    "roc_auc = auc(recall, precision)\n",
    "plt.title('Precision-Recall Curve')\n",
    "plt.plot(recall, precision, 'g', label = 'AUC = %0.2f' % roc_auc)\n",
    "plt.legend(loc = 'upper right')\n",
    "plt.plot([0, 1], [0.4, 0.4], 'r--')\n",
    "plt.ylabel('Precision')\n",
    "plt.xlabel('Recall')\n",
    "plt.show()"
   ]
  },
  {
   "cell_type": "code",
   "execution_count": 122,
   "metadata": {
    "scrolled": true
   },
   "outputs": [
    {
     "name": "stderr",
     "output_type": "stream",
     "text": [
      "c:\\users\\leon\\miniconda3\\envs\\aiml\\lib\\site-packages\\sklearn\\utils\\validation.py:724: DataConversionWarning: A column-vector y was passed when a 1d array was expected. Please change the shape of y to (n_samples, ), for example using ravel().\n",
      "  y = column_or_1d(y, warn=True)\n"
     ]
    },
    {
     "name": "stdout",
     "output_type": "stream",
     "text": [
      "13251/13251 [==============================] - 0s 21us/step\n",
      "Accuracy: 64.53%\n",
      "[[5199 3030]\n",
      " [1668 3354]]\n",
      "F1 Score: 0.5881115202524987\n",
      "              precision    recall  f1-score   support\n",
      "\n",
      "           0       0.76      0.63      0.69      8229\n",
      "           1       0.53      0.67      0.59      5022\n",
      "\n",
      "    accuracy                           0.65     13251\n",
      "   macro avg       0.64      0.65      0.64     13251\n",
      "weighted avg       0.67      0.65      0.65     13251\n",
      "\n"
     ]
    }
   ],
   "source": [
    "from imblearn.over_sampling import SMOTE\n",
    "\n",
    "smote = SMOTE('minority')\n",
    "x_train_nn_sm, y_train_sm = smote.fit_sample(x_train_nn, y_train)\n",
    "# class_weights = class_weight.compute_class_weight('balanced', \n",
    "#                                                   np.unique(y_train_sm), \n",
    "#                                                   y_train_sm)\n",
    "model_nn.fit(x_train_nn_sm, to_categorical(y_train_sm), epochs=5, batch_size=10, verbose=0)\n",
    "model_nn.save(str(Path('../data/model_nn2.h5')))\n",
    "y_pred_nn = model_nn.predict_classes(x_test_nn)\n",
    "score = model_nn.evaluate(x_test_nn, to_categorical(y_test))\n",
    "print(\"Accuracy: %.2f%%\" % (score[1]*100))\n",
    "print(confusion_matrix(y_test, y_pred_nn))\n",
    "print('F1 Score:', f1_score(y_test, y_pred_nn))\n",
    "print(classification_report(y_test, y_pred_nn))"
   ]
  },
  {
   "cell_type": "code",
   "execution_count": 123,
   "metadata": {},
   "outputs": [
    {
     "name": "stderr",
     "output_type": "stream",
     "text": [
      "c:\\users\\leon\\miniconda3\\envs\\aiml\\lib\\site-packages\\sklearn\\utils\\validation.py:724: DataConversionWarning: A column-vector y was passed when a 1d array was expected. Please change the shape of y to (n_samples, ), for example using ravel().\n",
      "  y = column_or_1d(y, warn=True)\n"
     ]
    },
    {
     "name": "stdout",
     "output_type": "stream",
     "text": [
      "13251/13251 [==============================] - 0s 21us/step\n",
      "Accuracy: 63.71%\n",
      "[[5018 3211]\n",
      " [1598 3424]]\n",
      "F1 Score: 0.5874581796345544\n",
      "              precision    recall  f1-score   support\n",
      "\n",
      "           0       0.76      0.61      0.68      8229\n",
      "           1       0.52      0.68      0.59      5022\n",
      "\n",
      "    accuracy                           0.64     13251\n",
      "   macro avg       0.64      0.65      0.63     13251\n",
      "weighted avg       0.67      0.64      0.64     13251\n",
      "\n"
     ]
    }
   ],
   "source": [
    "from imblearn.over_sampling import ADASYN\n",
    "\n",
    "x_train_nn_as, y_train_as = ADASYN(random_state=42).fit_sample(x_train_nn, y_train)\n",
    "model_nn.fit(x_train_nn_as, to_categorical(y_train_as), epochs=5, batch_size=10, verbose=0)\n",
    "model_nn.save(str(Path('../data/model_nn3.h5')))\n",
    "y_pred_nn = model_nn.predict_classes(x_test_nn)\n",
    "score = model_nn.evaluate(x_test_nn, to_categorical(y_test))\n",
    "print(\"Accuracy: %.2f%%\" % (score[1]*100))\n",
    "print(confusion_matrix(y_test, y_pred_nn))\n",
    "print('F1 Score:', f1_score(y_test, y_pred_nn))\n",
    "print(classification_report(y_test, y_pred_nn))"
   ]
  },
  {
   "cell_type": "markdown",
   "metadata": {},
   "source": [
    "### XGBoost Model"
   ]
  },
  {
   "cell_type": "code",
   "execution_count": 124,
   "metadata": {},
   "outputs": [],
   "source": [
    "from xgboost import XGBClassifier\n",
    "from xgboost import plot_importance\n",
    "from sklearn.utils import class_weight\n",
    "class_weights = class_weight.compute_class_weight('balanced', \n",
    "                                                  np.unique(y_train.values.ravel()), \n",
    "                                                  y_train.values.ravel())\n",
    "model_xgb = XGBClassifier(scale_pos_weight=class_weights[1]) # random state?\n",
    "model_xgb.fit(x_train, y_train.values.ravel())\n",
    "y_pred_xgb = model_xgb.predict(x_test)"
   ]
  },
  {
   "cell_type": "markdown",
   "metadata": {},
   "source": [
    "### XGBoost Results"
   ]
  },
  {
   "cell_type": "code",
   "execution_count": 125,
   "metadata": {},
   "outputs": [
    {
     "name": "stdout",
     "output_type": "stream",
     "text": [
      "Accuracy: 67.93%\n",
      "[[5899 2330]\n",
      " [1920 3102]]\n"
     ]
    },
    {
     "data": {
      "image/png": "[encoded data removed]",
      "text/plain": [
       "<Figure size 432x288 with 1 Axes>"
      ]
     },
     "metadata": {
      "needs_background": "light"
     },
     "output_type": "display_data"
    }
   ],
   "source": [
    "print(\"Accuracy: %.2f%%\" % (model_xgb.score(x_test, y_test) * 100))\n",
    "print(confusion_matrix(y_test, y_pred_xgb))\n",
    "plot_importance(model_xgb)\n",
    "plt.show()"
   ]
  },
  {
   "cell_type": "code",
   "execution_count": 126,
   "metadata": {},
   "outputs": [],
   "source": [
    "# from sklearn.feature_selection import SelectFromModel\n",
    "# from sklearn.metrics import accuracy_score\n",
    "# thresholds = np.sort(model_xgb.feature_importances_)\n",
    "# for thresh in thresholds:\n",
    "#     # select features using threshold\n",
    "#     selection = SelectFromModel(model_xgb, threshold=thresh, prefit=True)\n",
    "#     select_x_train = selection.transform(x_train)\n",
    "#     # train model\n",
    "#     selection_model = XGBClassifier(scale_pos_weight=class_weights[1])\n",
    "#     selection_model.fit(select_x_train, y_train.values.ravel())\n",
    "#     # eval model\n",
    "#     select_x_test = selection.transform(x_test)\n",
    "#     y_pred_xgb = selection_model.predict(select_x_test)\n",
    "#     predictions = [round(value) for value in y_pred_xgb]\n",
    "#     accuracy = accuracy_score(y_test, predictions)\n",
    "#     print(\"Thresh=%.3f, n=%d, Accuracy: %.2f%%\" % (thresh, \n",
    "#                                                   select_x_train.shape[1], \n",
    "#                                                   accuracy * 100))"
   ]
  },
  {
   "cell_type": "code",
   "execution_count": 127,
   "metadata": {},
   "outputs": [
    {
     "name": "stdout",
     "output_type": "stream",
     "text": [
      "Accuracy: 68.34%\n",
      "[[5855 2374]\n",
      " [1821 3201]]\n"
     ]
    },
    {
     "data": {
      "image/png": "[encoded data removed]",
      "text/plain": [
       "<Figure size 432x288 with 1 Axes>"
      ]
     },
     "metadata": {
      "needs_background": "light"
     },
     "output_type": "display_data"
    }
   ],
   "source": [
    "# Extract the ten most important features\n",
    "model_path_xgb = Path('../data/model_xgb.joblib')\n",
    "important_indices = ['dti', \n",
    "                     'int_rate',\n",
    "                     'revol_util',\n",
    "                     'log_installment', \n",
    "                     'open_acc', \n",
    "                     'log_revol_bal', \n",
    "                     'mort_acc', \n",
    "                     'loan_amnt', \n",
    "                     'total_acc',\n",
    "                     'log_annual_inc']\n",
    "x_train_xgb = x_train.loc[:, important_indices]\n",
    "x_test_xgb = x_test.loc[:, important_indices]\n",
    "if os.path.exists(model_path_xgb):\n",
    "    model_xgb = load(model_path_xgb)\n",
    "else:\n",
    "    model_xgb = XGBClassifier(scale_pos_weight=class_weights[1])\n",
    "    model_xgb.fit(x_train_xgb, y_train.values.ravel())\n",
    "    dump(model_xgb, model_path_xgb)\n",
    "y_pred_xgb = model_xgb.predict(x_test_xgb)\n",
    "print(\"Accuracy: %.2f%%\" % (model_xgb.score(x_test_xgb, y_test) * 100))\n",
    "print(confusion_matrix(y_test, y_pred_xgb))\n",
    "plot_importance(model_xgb)\n",
    "plt.show()"
   ]
  },
  {
   "cell_type": "markdown",
   "metadata": {},
   "source": [
    "### Support Vector Machine Model"
   ]
  },
  {
   "cell_type": "code",
   "execution_count": 128,
   "metadata": {},
   "outputs": [],
   "source": [
    "# from sklearn.svm import SVC\n",
    "# from sklearn.model_selection import GridSearchCV\n",
    "\n",
    "# model_svm_path = Path('../data/model_svm.joblib')\n",
    "# if os.path.exists(model_svm_path):\n",
    "#     model_svm = load(model_svm_path)\n",
    "# else:            \n",
    "#     # parameter_candidates = [\n",
    "#     #     {'C': [1, 10, 100], 'kernel': ['linear'], 'class_weight': ['balanced']},        \n",
    "#     #     {'C': [1, 10, 100], 'gamma': [10, 0, 0.001, 0.0001], 'kernel': ['rbf'], 'class_weight': ['balanced']}    \n",
    "#     # ]\n",
    "#     # \n",
    "#     # clf = GridSearchCV(estimator=SVC(), param_grid = parameter_candidates, n_jobs=-1, cv=5)\n",
    "#     # clf.fit(x_train, y_train.values.ravel())\n",
    "#     # print('Best score for data:', clf.best_score_)\n",
    "#     # print('Best C:', clf.best_estimator_.C)\n",
    "#     # print('Best Kernel:', clf.best_estimator_.kernel)\n",
    "#     # print('Best Gamma:', clf.best_estimator_.gamma)\n",
    "#     model_svm = SVC(kernel='rbf', C=1, gamma=0.05, class_weight='balanced', random_state=0)\n",
    "#     model_svm.fit(x_train, y_train.values.ravel())\n",
    "#     dump(model_svm, model_svm_path)\n",
    "# y_pred_svm = model_svm.predict(x_test)\n",
    "# print('Accuracy of SVM on test set: {:.3f}'.format(model_svm.score(x_test, y_test)))\n",
    "# # 0.741 C=1 gamma = 0.05\n",
    "# # 0.777 C=1 gamma = 1"
   ]
  },
  {
   "cell_type": "code",
   "execution_count": 129,
   "metadata": {},
   "outputs": [],
   "source": [
    "# print(\"Accuracy: %.2f%%\" % (model_svm.score(x_test, y_test) * 100))\n",
    "# print(confusion_matrix(y_test, y_pred_svm))"
   ]
  },
  {
   "cell_type": "markdown",
   "metadata": {
    "slideshow": {
     "slide_type": "-"
    }
   },
   "source": [
    "### Ensembled Model"
   ]
  },
  {
   "cell_type": "code",
   "execution_count": 130,
   "metadata": {},
   "outputs": [],
   "source": [
    "# Random Forest Model\n",
    "output_rf = model_rf.predict_proba(x_test)\n",
    "output_rf2 = y_pred_rf_i\n",
    "\n",
    "# Neural Network Model\n",
    "output_nn = model_nn.predict(x_test_nn)\n",
    "output_nn2 = y_pred_nn\n",
    "\n",
    "# XGBoost Model\n",
    "output_xgb = model_xgb.predict_proba(x_test_xgb)\n",
    "output_xgb2 = y_pred_xgb\n",
    "\n",
    "# Ensemble output\n",
    "# Avg\n",
    "output = (output_rf + output_nn + output_xgb) / 3\n",
    "\n",
    "# Majority vote\n",
    "output2 = pd.DataFrame({'rf': output_rf2, 'nn': output_nn2, 'xgb': output_xgb2})\n",
    "output2['Prediction'] = output2.sum(axis=1)\n",
    "output2.loc[output2['Prediction'] < 2, 'Prediction'] = 0\n",
    "output2.loc[output2['Prediction'] >= 2, 'Prediction'] = 1"
   ]
  },
  {
   "cell_type": "markdown",
   "metadata": {},
   "source": [
    "### Ensembled Results"
   ]
  },
  {
   "cell_type": "code",
   "execution_count": 131,
   "metadata": {
    "slideshow": {
     "slide_type": "-"
    }
   },
   "outputs": [
    {
     "name": "stdout",
     "output_type": "stream",
     "text": [
      "  Fully Paid Default  Prediction\n",
      "0        63%     37%  Fully Paid\n",
      "1        35%     65%     Default\n",
      "2        52%     48%  Fully Paid\n",
      "3        43%     57%     Default\n",
      "4        41%     59%     Default\n",
      "Accuracy: 67.21%\n",
      "\n",
      "    rf  nn  xgb  Prediction\n",
      "0   0   0    0  Fully Paid\n",
      "1   1   1    1     Default\n",
      "2   1   1    0     Default\n",
      "3   1   1    1     Default\n",
      "4   1   1    0     Default\n",
      "Accuracy: 66.49%\n"
     ]
    }
   ],
   "source": [
    "p_output = pd.DataFrame(output)\n",
    "p_output.columns = ['Fully Paid', 'Default']\n",
    "p_output['Prediction'] = p_output.idxmax(axis=1)\n",
    "p_output['Fully Paid'] = p_output['Fully Paid'].multiply(100).round(0).astype(int).astype(str) + '%'\n",
    "p_output['Default'] = p_output['Default'].multiply(100).round(0).astype(int).astype(str) + '%'\n",
    "print(p_output.head())\n",
    "\n",
    "y_test2 = pd.DataFrame(y_test)\n",
    "y_test2.columns = ['Prediction']\n",
    "y_test2['Prediction'].replace(0, 'Fully Paid', inplace=True)\n",
    "y_test2['Prediction'].replace(1, 'Default', inplace=True)\n",
    "accuracy = accuracy_score(y_true=y_test2, y_pred=p_output['Prediction'])\n",
    "print(\"Accuracy: %.2f%%\" % (accuracy * 100))\n",
    "\n",
    "# Majority\n",
    "output2['Prediction'].replace(0, 'Fully Paid', inplace=True)\n",
    "output2['Prediction'].replace(1, 'Default', inplace=True)\n",
    "print(\"\\n\", output2.head())\n",
    "\n",
    "accuracy = accuracy_score(y_true=y_test2, y_pred=output2['Prediction'])\n",
    "print(\"Accuracy: %.2f%%\" % (accuracy * 100))"
   ]
  },
  {
   "cell_type": "code",
   "execution_count": 137,
   "metadata": {},
   "outputs": [
    {
     "ename": "ValueError",
     "evalue": "Data is not binary and pos_label is not specified",
     "output_type": "error",
     "traceback": [
      "\u001b[1;31m---------------------------------------------------------------------------\u001b[0m",
      "\u001b[1;31mValueError\u001b[0m                                Traceback (most recent call last)",
      "\u001b[1;32m<ipython-input-137-0554aff42008>\u001b[0m in \u001b[0;36m<module>\u001b[1;34m\u001b[0m\n\u001b[0;32m     30\u001b[0m \u001b[0mpreds\u001b[0m \u001b[1;33m=\u001b[0m \u001b[0mprob\u001b[0m\u001b[1;33m[\u001b[0m\u001b[1;33m:\u001b[0m\u001b[1;33m,\u001b[0m\u001b[1;36m1\u001b[0m\u001b[1;33m]\u001b[0m\u001b[1;33m\u001b[0m\u001b[1;33m\u001b[0m\u001b[0m\n\u001b[0;32m     31\u001b[0m \u001b[1;31m# calculate roc curve\u001b[0m\u001b[1;33m\u001b[0m\u001b[1;33m\u001b[0m\u001b[1;33m\u001b[0m\u001b[0m\n\u001b[1;32m---> 32\u001b[1;33m \u001b[0mfpr\u001b[0m\u001b[1;33m,\u001b[0m \u001b[0mtpr\u001b[0m\u001b[1;33m,\u001b[0m \u001b[0mthreshold\u001b[0m \u001b[1;33m=\u001b[0m \u001b[0mroc_curve\u001b[0m\u001b[1;33m(\u001b[0m\u001b[0my_test\u001b[0m\u001b[1;33m,\u001b[0m \u001b[0mpreds\u001b[0m\u001b[1;33m)\u001b[0m\u001b[1;33m\u001b[0m\u001b[1;33m\u001b[0m\u001b[0m\n\u001b[0m\u001b[0;32m     33\u001b[0m \u001b[1;31m# calculate auc, equivalent to roc_auc_score()?\u001b[0m\u001b[1;33m\u001b[0m\u001b[1;33m\u001b[0m\u001b[1;33m\u001b[0m\u001b[0m\n\u001b[0;32m     34\u001b[0m \u001b[0mroc_auc\u001b[0m \u001b[1;33m=\u001b[0m \u001b[0mauc\u001b[0m\u001b[1;33m(\u001b[0m\u001b[0mfpr\u001b[0m\u001b[1;33m,\u001b[0m \u001b[0mtpr\u001b[0m\u001b[1;33m)\u001b[0m\u001b[1;33m\u001b[0m\u001b[1;33m\u001b[0m\u001b[0m\n",
      "\u001b[1;32mc:\\users\\leon\\miniconda3\\envs\\aiml\\lib\\site-packages\\sklearn\\metrics\\ranking.py\u001b[0m in \u001b[0;36mroc_curve\u001b[1;34m(y_true, y_score, pos_label, sample_weight, drop_intermediate)\u001b[0m\n\u001b[0;32m    620\u001b[0m     \"\"\"\n\u001b[0;32m    621\u001b[0m     fps, tps, thresholds = _binary_clf_curve(\n\u001b[1;32m--> 622\u001b[1;33m         y_true, y_score, pos_label=pos_label, sample_weight=sample_weight)\n\u001b[0m\u001b[0;32m    623\u001b[0m \u001b[1;33m\u001b[0m\u001b[0m\n\u001b[0;32m    624\u001b[0m     \u001b[1;31m# Attempt to drop thresholds corresponding to points in between and\u001b[0m\u001b[1;33m\u001b[0m\u001b[1;33m\u001b[0m\u001b[1;33m\u001b[0m\u001b[0m\n",
      "\u001b[1;32mc:\\users\\leon\\miniconda3\\envs\\aiml\\lib\\site-packages\\sklearn\\metrics\\ranking.py\u001b[0m in \u001b[0;36m_binary_clf_curve\u001b[1;34m(y_true, y_score, pos_label, sample_weight)\u001b[0m\n\u001b[0;32m    413\u001b[0m              \u001b[0mnp\u001b[0m\u001b[1;33m.\u001b[0m\u001b[0marray_equal\u001b[0m\u001b[1;33m(\u001b[0m\u001b[0mclasses\u001b[0m\u001b[1;33m,\u001b[0m \u001b[1;33m[\u001b[0m\u001b[1;33m-\u001b[0m\u001b[1;36m1\u001b[0m\u001b[1;33m]\u001b[0m\u001b[1;33m)\u001b[0m \u001b[1;32mor\u001b[0m\u001b[1;33m\u001b[0m\u001b[1;33m\u001b[0m\u001b[0m\n\u001b[0;32m    414\u001b[0m              np.array_equal(classes, [1]))):\n\u001b[1;32m--> 415\u001b[1;33m         \u001b[1;32mraise\u001b[0m \u001b[0mValueError\u001b[0m\u001b[1;33m(\u001b[0m\u001b[1;34m\"Data is not binary and pos_label is not specified\"\u001b[0m\u001b[1;33m)\u001b[0m\u001b[1;33m\u001b[0m\u001b[1;33m\u001b[0m\u001b[0m\n\u001b[0m\u001b[0;32m    416\u001b[0m     \u001b[1;32melif\u001b[0m \u001b[0mpos_label\u001b[0m \u001b[1;32mis\u001b[0m \u001b[1;32mNone\u001b[0m\u001b[1;33m:\u001b[0m\u001b[1;33m\u001b[0m\u001b[1;33m\u001b[0m\u001b[0m\n\u001b[0;32m    417\u001b[0m         \u001b[0mpos_label\u001b[0m \u001b[1;33m=\u001b[0m \u001b[1;36m1.\u001b[0m\u001b[1;33m\u001b[0m\u001b[1;33m\u001b[0m\u001b[0m\n",
      "\u001b[1;31mValueError\u001b[0m: Data is not binary and pos_label is not specified"
     ]
    }
   ],
   "source": [
    "# predict probabilities\n",
    "pos_pred_rf = model_rf.predict_proba(x_test)\n",
    "pos_pred_nn = model_nn.predict(x_test_nn)\n",
    "# keep probabilities for the positive outcome only\n",
    "pos_pred_rf = pos_pred_rf[:,1]\n",
    "pos_pred_nn = pos_pred_nn[:,1]\n",
    "print(pos_pred_rf)\n",
    "print(pos_pred_nn)\n",
    "# calculate roc curve\n",
    "fpr_rf, tpr_rf, threshold = roc_curve(y_test, pos_pred_rf)\n",
    "fpr_nn, tpr_nn, threshold = roc_curve(y_test, pos_pred_nn)\n",
    "# # calculate auc, equivalent to roc_auc_score()?\n",
    "roc_auc_rf = auc(fpr_rf, tpr_rf)\n",
    "roc_auc_nn = auc(fpr_nn, tpr_nn)\n",
    "\n",
    "plt.title('Receiver Operating Characteristic')\n",
    "plt.plot(fpr_rf, tpr_rf, 'r', label = 'RF AUC = %0.2f' % roc_auc_rf)\n",
    "plt.plot(fpr_nn, tpr_nn, 'b', label = 'NN AUC = %0.2f' % roc_auc_nn)\n",
    "plt.legend(loc = 'lower right')\n",
    "plt.plot([0, 1], [0, 1], 'g--')\n",
    "plt.xlim([0, 1])\n",
    "plt.ylim([0, 1])\n",
    "plt.ylabel('True Positive Rate')\n",
    "plt.xlabel('False Positie Rate')\n",
    "plt.show()"
   ]
  },
  {
   "cell_type": "code",
   "execution_count": null,
   "metadata": {},
   "outputs": [],
   "source": []
  }
 ],
 "metadata": {
  "kernelspec": {
   "display_name": "Python 3",
   "language": "python",
   "name": "python3"
  },
  "language_info": {
   "codemirror_mode": {
    "name": "ipython",
    "version": 3
   },
   "file_extension": ".py",
   "mimetype": "text/x-python",
   "name": "python",
   "nbconvert_exporter": "python",
   "pygments_lexer": "ipython3",
   "version": "3.7.3"
  }
 },
 "nbformat": 4,
 "nbformat_minor": 2
}
