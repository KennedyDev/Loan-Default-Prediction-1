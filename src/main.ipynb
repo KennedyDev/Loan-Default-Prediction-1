{
 "cells": [
  {
   "cell_type": "markdown",
   "metadata": {
    "slideshow": {
     "slide_type": "-"
    }
   },
   "source": [
    "# Loan Default Risk"
   ]
  },
  {
   "cell_type": "code",
   "execution_count": 153,
   "metadata": {
    "slideshow": {
     "slide_type": "-"
    }
   },
   "outputs": [],
   "source": [
    "import os\n",
    "from pathlib import Path\n",
    "import pandas as pd\n",
    "import numpy as np\n",
    "import matplotlib.pyplot as plt\n",
    "import seaborn as sns\n",
    "from sklearn.model_selection import train_test_split\n",
    "from sklearn.linear_model import LogisticRegression\n",
    "from sklearn.ensemble import RandomForestClassifier\n",
    "from sklearn.preprocessing import StandardScaler\n",
    "from sklearn.neural_network import MLPClassifier\n",
    "from sklearn.metrics import confusion_matrix, f1_score, classification_report\n",
    "from sklearn.ensemble import VotingClassifier\n",
    "from joblib import dump, load"
   ]
  },
  {
   "cell_type": "code",
   "execution_count": 154,
   "metadata": {
    "slideshow": {
     "slide_type": "-"
    }
   },
   "outputs": [],
   "source": [
    "def plot_var(col_name, title, continuous, dataset, x1limit=False, x2limit=False, x1l=0, x1u=0, x2l=0, x2u=0):\n",
    "    \"\"\"\n",
    "    Plot a variable against the response variable loan status\n",
    "    - col_name is the variable name in the dataframe\n",
    "    - title is the full variable name\n",
    "    - continuous is True if the variable is continuous, False otherwise\n",
    "    - dataset is the pandas dataframe containing the dataset\n",
    "    \"\"\"\n",
    "    f, (ax1, ax2) = plt.subplots(nrows=1, ncols=2, figsize=(12, 3), dpi=90)\n",
    "\n",
    "    # Plot without loan status\n",
    "    if continuous:\n",
    "        sns.distplot(dataset.loc[dataset[col_name].notnull(), col_name], kde=False, ax=ax1)\n",
    "    else:\n",
    "        sns.countplot(dataset[col_name], order=sorted(dataset[col_name].unique()), color='#4f81bd', saturation=1, ax=ax1)\n",
    "    if x1limit:\n",
    "        ax1.set_xlim([x1l, x1u])\n",
    "    ax1.set_xlabel(title)\n",
    "    ax1.set_ylabel('Frequency')\n",
    "    ax1.set_title(title)\n",
    "\n",
    "    # Plot with loan status\n",
    "    if continuous:\n",
    "        sns.boxplot(x=col_name, y='loan_status', data=dataset, ax=ax2)\n",
    "        ax2.set_ylabel('')\n",
    "        ax2.set_title(title + ' by Loan Status')\n",
    "    else:\n",
    "        charge_off_rates = dataset.groupby(col_name)['loan_status'].value_counts(normalize=True).loc[:, 'Charged Off']\n",
    "        sns.barplot(x=charge_off_rates.index, y=charge_off_rates.values, color='#4f81bd', saturation=1, ax=ax2)\n",
    "        ax2.set_ylabel('Fraction of Loans Charged-off')\n",
    "        ax2.set_title('Charge-off Rate by ' + title)\n",
    "    if x2limit:\n",
    "        ax2.set_xlim([x2l, x2u])\n",
    "    ax2.set_xlabel(title)\n",
    "\n",
    "    plt.tight_layout()\n"
   ]
  },
  {
   "cell_type": "markdown",
   "metadata": {
    "slideshow": {
     "slide_type": "-"
    }
   },
   "source": [
    "# Preliminary Data Analysis"
   ]
  },
  {
   "cell_type": "code",
   "execution_count": 200,
   "metadata": {
    "slideshow": {
     "slide_type": "-"
    }
   },
   "outputs": [
    {
     "data": {
      "text/html": [
       "<div>\n",
       "<style scoped>\n",
       "    .dataframe tbody tr th:only-of-type {\n",
       "        vertical-align: middle;\n",
       "    }\n",
       "\n",
       "    .dataframe tbody tr th {\n",
       "        vertical-align: top;\n",
       "    }\n",
       "\n",
       "    .dataframe thead th {\n",
       "        text-align: right;\n",
       "    }\n",
       "</style>\n",
       "<table border=\"1\" class=\"dataframe\">\n",
       "  <thead>\n",
       "    <tr style=\"text-align: right;\">\n",
       "      <th></th>\n",
       "      <th>loan_amnt</th>\n",
       "      <th>term</th>\n",
       "      <th>int_rate</th>\n",
       "      <th>installment</th>\n",
       "      <th>grade</th>\n",
       "      <th>emp_length</th>\n",
       "      <th>home_ownership</th>\n",
       "      <th>annual_inc</th>\n",
       "      <th>verification_status</th>\n",
       "      <th>loan_status</th>\n",
       "      <th>purpose</th>\n",
       "      <th>dti</th>\n",
       "      <th>delinq_2yrs</th>\n",
       "      <th>earliest_cr_line</th>\n",
       "      <th>open_acc</th>\n",
       "      <th>pub_rec</th>\n",
       "      <th>revol_bal</th>\n",
       "      <th>revol_util</th>\n",
       "      <th>total_acc</th>\n",
       "      <th>initial_list_status</th>\n",
       "      <th>application_type</th>\n",
       "      <th>mort_acc</th>\n",
       "      <th>pub_rec_bankruptcies</th>\n",
       "    </tr>\n",
       "  </thead>\n",
       "  <tbody>\n",
       "    <tr>\n",
       "      <th>0</th>\n",
       "      <td>5000</td>\n",
       "      <td>36 months</td>\n",
       "      <td>7.35%</td>\n",
       "      <td>155.19</td>\n",
       "      <td>A</td>\n",
       "      <td>5 years</td>\n",
       "      <td>MORTGAGE</td>\n",
       "      <td>60000.0</td>\n",
       "      <td>Not Verified</td>\n",
       "      <td>Fully Paid</td>\n",
       "      <td>car</td>\n",
       "      <td>15.76</td>\n",
       "      <td>0</td>\n",
       "      <td>Oct-04</td>\n",
       "      <td>12</td>\n",
       "      <td>0</td>\n",
       "      <td>3697</td>\n",
       "      <td>13.20%</td>\n",
       "      <td>25</td>\n",
       "      <td>w</td>\n",
       "      <td>Individual</td>\n",
       "      <td>1</td>\n",
       "      <td>0</td>\n",
       "    </tr>\n",
       "    <tr>\n",
       "      <th>1</th>\n",
       "      <td>7500</td>\n",
       "      <td>36 months</td>\n",
       "      <td>7.35%</td>\n",
       "      <td>232.79</td>\n",
       "      <td>A</td>\n",
       "      <td>7 years</td>\n",
       "      <td>MORTGAGE</td>\n",
       "      <td>110000.0</td>\n",
       "      <td>Not Verified</td>\n",
       "      <td>Fully Paid</td>\n",
       "      <td>debt_consolidation</td>\n",
       "      <td>13.12</td>\n",
       "      <td>0</td>\n",
       "      <td>Mar-13</td>\n",
       "      <td>19</td>\n",
       "      <td>0</td>\n",
       "      <td>23348</td>\n",
       "      <td>27.20%</td>\n",
       "      <td>27</td>\n",
       "      <td>w</td>\n",
       "      <td>Individual</td>\n",
       "      <td>4</td>\n",
       "      <td>0</td>\n",
       "    </tr>\n",
       "    <tr>\n",
       "      <th>2</th>\n",
       "      <td>9600</td>\n",
       "      <td>36 months</td>\n",
       "      <td>7.97%</td>\n",
       "      <td>300.70</td>\n",
       "      <td>A</td>\n",
       "      <td>&lt; 1 year</td>\n",
       "      <td>OWN</td>\n",
       "      <td>140000.0</td>\n",
       "      <td>Not Verified</td>\n",
       "      <td>Fully Paid</td>\n",
       "      <td>credit_card</td>\n",
       "      <td>18.34</td>\n",
       "      <td>0</td>\n",
       "      <td>Aug-05</td>\n",
       "      <td>16</td>\n",
       "      <td>0</td>\n",
       "      <td>11808</td>\n",
       "      <td>48.60%</td>\n",
       "      <td>44</td>\n",
       "      <td>w</td>\n",
       "      <td>Individual</td>\n",
       "      <td>3</td>\n",
       "      <td>0</td>\n",
       "    </tr>\n",
       "    <tr>\n",
       "      <th>3</th>\n",
       "      <td>2000</td>\n",
       "      <td>36 months</td>\n",
       "      <td>7.07%</td>\n",
       "      <td>61.82</td>\n",
       "      <td>A</td>\n",
       "      <td>2 years</td>\n",
       "      <td>RENT</td>\n",
       "      <td>80000.0</td>\n",
       "      <td>Not Verified</td>\n",
       "      <td>Fully Paid</td>\n",
       "      <td>medical</td>\n",
       "      <td>12.15</td>\n",
       "      <td>0</td>\n",
       "      <td>Apr-05</td>\n",
       "      <td>9</td>\n",
       "      <td>0</td>\n",
       "      <td>38</td>\n",
       "      <td>0.30%</td>\n",
       "      <td>12</td>\n",
       "      <td>w</td>\n",
       "      <td>Individual</td>\n",
       "      <td>0</td>\n",
       "      <td>0</td>\n",
       "    </tr>\n",
       "    <tr>\n",
       "      <th>4</th>\n",
       "      <td>7200</td>\n",
       "      <td>36 months</td>\n",
       "      <td>24.85%</td>\n",
       "      <td>285.70</td>\n",
       "      <td>E</td>\n",
       "      <td>2 years</td>\n",
       "      <td>RENT</td>\n",
       "      <td>50000.0</td>\n",
       "      <td>Source Verified</td>\n",
       "      <td>Fully Paid</td>\n",
       "      <td>debt_consolidation</td>\n",
       "      <td>6.07</td>\n",
       "      <td>0</td>\n",
       "      <td>Jan-00</td>\n",
       "      <td>4</td>\n",
       "      <td>0</td>\n",
       "      <td>3560</td>\n",
       "      <td>98.90%</td>\n",
       "      <td>5</td>\n",
       "      <td>w</td>\n",
       "      <td>Individual</td>\n",
       "      <td>0</td>\n",
       "      <td>0</td>\n",
       "    </tr>\n",
       "  </tbody>\n",
       "</table>\n",
       "</div>"
      ],
      "text/plain": [
       "   loan_amnt        term int_rate  installment grade emp_length  \\\n",
       "0       5000   36 months    7.35%       155.19     A    5 years   \n",
       "1       7500   36 months    7.35%       232.79     A    7 years   \n",
       "2       9600   36 months    7.97%       300.70     A   < 1 year   \n",
       "3       2000   36 months    7.07%        61.82     A    2 years   \n",
       "4       7200   36 months   24.85%       285.70     E    2 years   \n",
       "\n",
       "  home_ownership  annual_inc verification_status loan_status  \\\n",
       "0       MORTGAGE     60000.0        Not Verified  Fully Paid   \n",
       "1       MORTGAGE    110000.0        Not Verified  Fully Paid   \n",
       "2            OWN    140000.0        Not Verified  Fully Paid   \n",
       "3           RENT     80000.0        Not Verified  Fully Paid   \n",
       "4           RENT     50000.0     Source Verified  Fully Paid   \n",
       "\n",
       "              purpose    dti  delinq_2yrs earliest_cr_line  open_acc  pub_rec  \\\n",
       "0                 car  15.76            0           Oct-04        12        0   \n",
       "1  debt_consolidation  13.12            0           Mar-13        19        0   \n",
       "2         credit_card  18.34            0           Aug-05        16        0   \n",
       "3             medical  12.15            0           Apr-05         9        0   \n",
       "4  debt_consolidation   6.07            0           Jan-00         4        0   \n",
       "\n",
       "   revol_bal revol_util  total_acc initial_list_status application_type  \\\n",
       "0       3697     13.20%         25                   w       Individual   \n",
       "1      23348     27.20%         27                   w       Individual   \n",
       "2      11808     48.60%         44                   w       Individual   \n",
       "3         38      0.30%         12                   w       Individual   \n",
       "4       3560     98.90%          5                   w       Individual   \n",
       "\n",
       "   mort_acc  pub_rec_bankruptcies  \n",
       "0         1                     0  \n",
       "1         4                     0  \n",
       "2         3                     0  \n",
       "3         0                     0  \n",
       "4         0                     0  "
      ]
     },
     "execution_count": 200,
     "metadata": {},
     "output_type": "execute_result"
    }
   ],
   "source": [
    "# read in the entire raw dataset\n",
    "dataset = pd.read_csv(Path('../data/Loan Data 2017Q2 Clean.csv'), header=0)\n",
    "pd.set_option('display.max_columns', None)\n",
    "dataset.head()"
   ]
  },
  {
   "cell_type": "code",
   "execution_count": 156,
   "metadata": {
    "slideshow": {
     "slide_type": "-"
    }
   },
   "outputs": [
    {
     "name": "stdout",
     "output_type": "stream",
     "text": [
      "Fully Paid     29145\n",
      "Charged Off    18339\n",
      "Name: loan_status, dtype: int64\n",
      "Fully Paid     0.613786\n",
      "Charged Off    0.386214\n",
      "Name: loan_status, dtype: float64\n",
      "(47484, 23)\n"
     ]
    }
   ],
   "source": [
    "# Look at how many of each response variable we have\n",
    "print(dataset['loan_status'].value_counts(dropna=False))\n",
    "print(dataset['loan_status'].value_counts(normalize=True, dropna=False))\n",
    "print(dataset.shape)"
   ]
  },
  {
   "cell_type": "markdown",
   "metadata": {
    "slideshow": {
     "slide_type": "-"
    }
   },
   "source": [
    "| Status     | Count | Percentage |\n",
    "| -----------|:-----:|:----------:|\n",
    "| Fully Paid | 29145 | 77% |\n",
    "| Charged Off | 8625 | 23% |\n",
    "\n",
    "37770 rows x 23 Columns"
   ]
  },
  {
   "cell_type": "markdown",
   "metadata": {
    "slideshow": {
     "slide_type": "-"
    }
   },
   "source": [
    "A list of percentage of missing values in a column"
   ]
  },
  {
   "cell_type": "code",
   "execution_count": 157,
   "metadata": {
    "slideshow": {
     "slide_type": "-"
    }
   },
   "outputs": [
    {
     "data": {
      "text/plain": [
       "emp_length    0.072130\n",
       "revol_util    0.000653\n",
       "dti           0.000569\n",
       "dtype: float64"
      ]
     },
     "execution_count": 157,
     "metadata": {},
     "output_type": "execute_result"
    }
   ],
   "source": [
    "missing_values = ((dataset.isna().sum()) / len(dataset.index)).sort_values(ascending=False)\n",
    "missing_values = missing_values[missing_values > 0]\n",
    "missing_values"
   ]
  },
  {
   "cell_type": "code",
   "execution_count": 158,
   "metadata": {
    "scrolled": true,
    "slideshow": {
     "slide_type": "-"
    }
   },
   "outputs": [
    {
     "name": "stdout",
     "output_type": "stream",
     "text": [
      "loan_amnt                 int64\n",
      "term                     object\n",
      "int_rate                 object\n",
      "installment             float64\n",
      "grade                    object\n",
      "emp_length               object\n",
      "home_ownership           object\n",
      "annual_inc              float64\n",
      "verification_status      object\n",
      "loan_status              object\n",
      "purpose                  object\n",
      "dti                     float64\n",
      "delinq_2yrs               int64\n",
      "earliest_cr_line         object\n",
      "open_acc                  int64\n",
      "pub_rec                   int64\n",
      "revol_bal                 int64\n",
      "revol_util               object\n",
      "total_acc                 int64\n",
      "initial_list_status      object\n",
      "application_type         object\n",
      "mort_acc                  int64\n",
      "pub_rec_bankruptcies      int64\n",
      "dtype: object\n"
     ]
    }
   ],
   "source": [
    "# Look at the data type of each column\n",
    "print(dataset.dtypes)"
   ]
  },
  {
   "cell_type": "markdown",
   "metadata": {},
   "source": [
    "| Variable | Type |\n",
    "| ---------|:----:|\n",
    "| Loan Amount | Numerical |\n",
    "| Term | Categorical |\n",
    "| Interest Rate | Numerical |\n",
    "| Installment | Numerical |\n",
    "| Grade | Categorical |\n",
    "| Employment Length | Categorical |\n",
    "| Home Ownership | Categorical |\n",
    "| Annual Income | Numerical |\n",
    "| Verification Status | Categorical |\n",
    "| Loan Status| Categorical |\n",
    "| Purpose | Categorical |\n",
    "| Debt-to-Income Ratio | Numerical |\n",
    "| Delinquency | Categorical |\n",
    "| Earliest Credit Line | Numerical |\n",
    "| Open Accounts | Numerical |\n",
    "| Public Records | Categorical |\n",
    "| Revolving Balance | Numerical |\n",
    "| Revolving Utility | Numerical |\n",
    "| Total Account | Numerical |\n",
    "| Initial List Status | Categorical |\n",
    "| Application Type | Categorical |\n",
    "| Mortage Account | Numerical |\n",
    "| Public Record of Bankruptcies | Categorical |"
   ]
  },
  {
   "cell_type": "markdown",
   "metadata": {
    "slideshow": {
     "slide_type": "-"
    }
   },
   "source": [
    "# Exploratory Data Analysis"
   ]
  },
  {
   "cell_type": "markdown",
   "metadata": {
    "slideshow": {
     "slide_type": "-"
    }
   },
   "source": [
    "### Annual Income (Numerical)\n",
    "The self-reported annual income provided by the borrower during registration"
   ]
  },
  {
   "cell_type": "code",
   "execution_count": 159,
   "metadata": {
    "slideshow": {
     "slide_type": "-"
    }
   },
   "outputs": [
    {
     "name": "stdout",
     "output_type": "stream",
     "text": [
      "               count          mean           std  min      25%      50%  \\\n",
      "loan_status                                                               \n",
      "Charged Off  18339.0  74087.964528  46859.383886  0.0  45000.0  64000.0   \n",
      "Fully Paid   29145.0  80899.315013  69096.968024  0.0  49000.0  69000.0   \n",
      "\n",
      "                 75%        max  \n",
      "loan_status                      \n",
      "Charged Off  90000.0   982000.0  \n",
      "Fully Paid   97133.0  5616890.0  \n",
      "               count       mean       std  min        25%        50%  \\\n",
      "loan_status                                                            \n",
      "Charged Off  18339.0  11.058315  0.590915  0.0  10.714440  11.066654   \n",
      "Fully Paid   29145.0  11.129532  0.625351  0.0  10.799596  11.141876   \n",
      "\n",
      "                   75%        max  \n",
      "loan_status                        \n",
      "Charged Off  11.407576  13.797348  \n",
      "Fully Paid   11.483847  15.541289  \n"
     ]
    },
    {
     "data": {
      "image/png": "[encoded data removed]",
      "text/plain": [
       "<Figure size 1080x270 with 2 Axes>"
      ]
     },
     "metadata": {
      "needs_background": "light"
     },
     "output_type": "display_data"
    },
    {
     "data": {
      "image/png": "[encoded data removed]",
      "text/plain": [
       "<Figure size 1080x270 with 2 Axes>"
      ]
     },
     "metadata": {
      "needs_background": "light"
     },
     "output_type": "display_data"
    }
   ],
   "source": [
    "print(dataset.groupby('loan_status')['annual_inc'].describe())\n",
    "plot_var('annual_inc', 'Annual Income $', continuous=True, dataset=dataset,\n",
    "         x1limit=True, x2limit=True, x1l=-1, x1u=350000, x2l=-1, x2u=200000)\n",
    "# Because the plot is right skewed we take a log transform of the annual income\n",
    "dataset['log_annual_inc'] = dataset['annual_inc'].apply(lambda x: np.log(x + 1))\n",
    "dataset.drop('annual_inc', axis=1, inplace=True)\n",
    "print(dataset.groupby('loan_status')['log_annual_inc'].describe())\n",
    "plot_var('log_annual_inc', 'Log Annual Income', continuous=True, dataset=dataset,\n",
    "         x1limit=True, x2limit=True, x1l=9, x1u=14, x2l=9, x2u=14)"
   ]
  },
  {
   "cell_type": "markdown",
   "metadata": {
    "slideshow": {
     "slide_type": "-"
    }
   },
   "source": [
    "It seems that those with higher annual income are less risk"
   ]
  },
  {
   "cell_type": "markdown",
   "metadata": {},
   "source": [
    "### Application Type (Categorical)\n",
    "Indicates whether the loan is an individual application or a joint application with two co-borrowers"
   ]
  },
  {
   "cell_type": "code",
   "execution_count": 160,
   "metadata": {},
   "outputs": [
    {
     "name": "stdout",
     "output_type": "stream",
     "text": [
      "loan_status  application_type\n",
      "Charged Off  Individual          17399\n",
      "             Joint App             940\n",
      "Fully Paid   Individual          27609\n",
      "             Joint App            1536\n",
      "Name: application_type, dtype: int64\n"
     ]
    },
    {
     "data": {
      "image/png": "[encoded data removed]",
      "text/plain": [
       "<Figure size 1080x270 with 2 Axes>"
      ]
     },
     "metadata": {
      "needs_background": "light"
     },
     "output_type": "display_data"
    }
   ],
   "source": [
    "print(dataset.groupby('loan_status')['application_type'].value_counts(dropna=False))\n",
    "plot_var('application_type', 'Application Type', continuous=False, dataset=dataset)"
   ]
  },
  {
   "cell_type": "markdown",
   "metadata": {},
   "source": [
    "There does not seem to be a strong correlation between risk and application_type. Both risk around the same percentage."
   ]
  },
  {
   "cell_type": "markdown",
   "metadata": {},
   "source": [
    "### Debt to Income Ratio (Numerical)\n",
    "A ratio calculated using the borrower’s total monthly debt payments on the total debt obligations, excluding mortgage and the requested LC loan, divided by the borrower’s self-reported monthly income"
   ]
  },
  {
   "cell_type": "code",
   "execution_count": 161,
   "metadata": {},
   "outputs": [
    {
     "name": "stdout",
     "output_type": "stream",
     "text": [
      "               count       mean        std  min    25%    50%     75%     max\n",
      "loan_status                                                                  \n",
      "Charged Off  18331.0  20.361772  12.959714  0.0  13.79  19.99  26.335  886.77\n",
      "Fully Paid   29126.0  18.066659  13.751295  0.0  11.48  17.19  23.520  999.00\n"
     ]
    },
    {
     "data": {
      "image/png": "[encoded data removed]",
      "text/plain": [
       "<Figure size 1080x270 with 2 Axes>"
      ]
     },
     "metadata": {
      "needs_background": "light"
     },
     "output_type": "display_data"
    }
   ],
   "source": [
    "# dummy = dataset.loc[dataset['dti'].notnull() & (dataset['dti']<60), 'dti']\n",
    "print(dataset.groupby('loan_status')['dti'].describe())\n",
    "plot_var('dti', 'Debt To Income Ratio', continuous=True, dataset=dataset,\n",
    "         x1limit=True, x2limit=True, x1l=0, x1u=40, x2l=0, x2u=60)\n",
    "# sns.distplot(dataset.loc[dataset['dti'].notnull() & (dataset['dti']<60), 'dti'], kde=False)\n",
    "# plt.xlabel('Debt-to-income Ratio')\n",
    "# plt.ylabel('Count')\n",
    "# plt.title('Debt-to-income Ratio')"
   ]
  },
  {
   "cell_type": "markdown",
   "metadata": {},
   "source": [
    "It seems that a higher debt to income ratio has a higher probability of charged off"
   ]
  },
  {
   "cell_type": "markdown",
   "metadata": {},
   "source": [
    "### Delinquency (Categorical)\n",
    "The number of 30+ days past-due incidences of delinquency in the borrower's credit file for the past 2 years"
   ]
  },
  {
   "cell_type": "code",
   "execution_count": 162,
   "metadata": {},
   "outputs": [
    {
     "name": "stdout",
     "output_type": "stream",
     "text": [
      "loan_status  delinq_2yrs\n",
      "Charged Off  0              14342\n",
      "             1               2567\n",
      "             2               1430\n",
      "Fully Paid   0              23444\n",
      "             1               3817\n",
      "             2               1884\n",
      "Name: delinq_2yrs, dtype: int64\n"
     ]
    },
    {
     "data": {
      "image/png": "[encoded data removed]",
      "text/plain": [
       "<Figure size 1080x270 with 2 Axes>"
      ]
     },
     "metadata": {
      "needs_background": "light"
     },
     "output_type": "display_data"
    }
   ],
   "source": [
    "dataset['delinq_2yrs'].values[dataset['delinq_2yrs'] > 1] = 2\n",
    "print(dataset.groupby('loan_status')['delinq_2yrs'].value_counts(dropna=False))\n",
    "plot_var('delinq_2yrs', 'Number of Delinquencies', continuous=False, dataset=dataset)"
   ]
  },
  {
   "cell_type": "markdown",
   "metadata": {},
   "source": [
    "There seems to be an increasing trend in charge-off rate and increasing number of delinquencies but it is small. Whether or not this is significant remains to be seen."
   ]
  },
  {
   "cell_type": "markdown",
   "metadata": {},
   "source": [
    "### Earliest Credit Line (Numerical)\n",
    "The month the borrower's earliest reported credit line was opened."
   ]
  },
  {
   "cell_type": "code",
   "execution_count": 163,
   "metadata": {},
   "outputs": [
    {
     "name": "stdout",
     "output_type": "stream",
     "text": [
      "               count         mean       std     min     25%     50%     75%  \\\n",
      "loan_status                                                                   \n",
      "Charged Off  18339.0  2000.785975  7.766795  1953.0  1997.0  2002.0  2006.0   \n",
      "Fully Paid   29145.0  2000.470647  7.565745  1958.0  1997.0  2002.0  2005.0   \n",
      "\n",
      "                max  \n",
      "loan_status          \n",
      "Charged Off  2014.0  \n",
      "Fully Paid   2014.0  \n"
     ]
    },
    {
     "data": {
      "image/png": "[encoded data removed]",
      "text/plain": [
       "<Figure size 1080x270 with 2 Axes>"
      ]
     },
     "metadata": {
      "needs_background": "light"
     },
     "output_type": "display_data"
    }
   ],
   "source": [
    "# dataset['earliest_cr_line'] = pd.to_datetime(dataset['earliest_cr_line'], format='%b-%y').dt.year\n",
    "dataset['earliest_cr_line'] = dataset['earliest_cr_line'].apply(lambda s: int(s[-2:]))\n",
    "dataset.loc[dataset['earliest_cr_line'] > 20, 'earliest_cr_line'] += 1900\n",
    "dataset.loc[dataset['earliest_cr_line'] < 20, 'earliest_cr_line'] += 2000\n",
    "print(dataset.groupby('loan_status')['earliest_cr_line'].describe())\n",
    "plot_var('earliest_cr_line', 'Earliest Credit Line', continuous=True, dataset=dataset)"
   ]
  },
  {
   "cell_type": "markdown",
   "metadata": {},
   "source": [
    "It seems that those with an earlier credit line are more likely to be less risk"
   ]
  },
  {
   "cell_type": "markdown",
   "metadata": {},
   "source": [
    "### Employment Length (Categorical)\n",
    "Employment length in years. Possible values are between 0 and 10 where 0 means less than one year and 10 means ten or more years."
   ]
  },
  {
   "cell_type": "code",
   "execution_count": 164,
   "metadata": {},
   "outputs": [
    {
     "name": "stdout",
     "output_type": "stream",
     "text": [
      "loan_status  emp_length\n",
      "Charged Off  0.0            1528\n",
      "             1.0            1321\n",
      "             2.0            1802\n",
      "             3.0            1573\n",
      "             4.0            1093\n",
      "             5.0            1141\n",
      "             6.0             725\n",
      "             7.0             641\n",
      "             8.0             575\n",
      "             9.0             624\n",
      "             10.0           5584\n",
      "             NaN            1732\n",
      "Fully Paid   0.0            2454\n",
      "             1.0            1879\n",
      "             2.0            2654\n",
      "             3.0            2349\n",
      "             4.0            1793\n",
      "             5.0            1788\n",
      "             6.0            1311\n",
      "             7.0            1054\n",
      "             8.0             856\n",
      "             9.0            1101\n",
      "             10.0          10213\n",
      "             NaN            1693\n",
      "Name: emp_length, dtype: int64\n"
     ]
    },
    {
     "data": {
      "image/png": "[encoded data removed]",
      "text/plain": [
       "<Figure size 1080x270 with 2 Axes>"
      ]
     },
     "metadata": {
      "needs_background": "light"
     },
     "output_type": "display_data"
    }
   ],
   "source": [
    "dataset['emp_length'].replace('< 1 year', 0, inplace=True)\n",
    "dataset['emp_length'].replace('1 year', 1, inplace=True)\n",
    "dataset['emp_length'].replace('2 years', 2, inplace=True)\n",
    "dataset['emp_length'].replace('3 years', 3, inplace=True)\n",
    "dataset['emp_length'].replace('4 years', 4, inplace=True)\n",
    "dataset['emp_length'].replace('5 years', 5, inplace=True)\n",
    "dataset['emp_length'].replace('6 years', 6, inplace=True)\n",
    "dataset['emp_length'].replace('7 years', 7, inplace=True)\n",
    "dataset['emp_length'].replace('8 years', 8, inplace=True)\n",
    "dataset['emp_length'].replace('9 years', 9, inplace=True)\n",
    "dataset['emp_length'].replace('10+ years', 10, inplace=True)\n",
    "print(dataset.groupby('loan_status')['emp_length'].value_counts(dropna=False).sort_index())\n",
    "plot_var('emp_length', 'Employment Length by Year', continuous=False, dataset=dataset)"
   ]
  },
  {
   "cell_type": "markdown",
   "metadata": {},
   "source": [
    "Doesn't seem to be much of a significant pattern here"
   ]
  },
  {
   "cell_type": "markdown",
   "metadata": {},
   "source": [
    "### Home Ownership (Categorical)\n",
    "The home ownership status provided by the borrower during registration or obtained from the credit report."
   ]
  },
  {
   "cell_type": "code",
   "execution_count": 165,
   "metadata": {},
   "outputs": [
    {
     "name": "stdout",
     "output_type": "stream",
     "text": [
      "loan_status  home_ownership\n",
      "Charged Off  RENT               8406\n",
      "             MORTGAGE           7732\n",
      "             OWN                2201\n",
      "Fully Paid   MORTGAGE          15651\n",
      "             RENT              10149\n",
      "             OWN                3345\n",
      "Name: home_ownership, dtype: int64\n"
     ]
    },
    {
     "data": {
      "image/png": "[encoded data removed]",
      "text/plain": [
       "<Figure size 1080x270 with 2 Axes>"
      ]
     },
     "metadata": {
      "needs_background": "light"
     },
     "output_type": "display_data"
    }
   ],
   "source": [
    "# dataset['home_ownership'].replace(['NONE', 'ANY'], 'NaN', inplace=True)\n",
    "print(dataset.groupby('loan_status')['home_ownership'].value_counts(dropna=False))\n",
    "plot_var('home_ownership', 'Home Ownership', continuous=False, dataset=dataset)\n",
    "# dataset['home_ownership'].replace('NaN', np.nan, inplace=True)"
   ]
  },
  {
   "cell_type": "markdown",
   "metadata": {},
   "source": [
    "Interestingly those with a mortgage are more likely to pay off loans and those who rent are the least likely"
   ]
  },
  {
   "cell_type": "markdown",
   "metadata": {},
   "source": [
    "### Initial List Status (Categorical)\n",
    "The initial listing status of the loan. Possible values are – W, F"
   ]
  },
  {
   "cell_type": "code",
   "execution_count": 166,
   "metadata": {},
   "outputs": [
    {
     "name": "stdout",
     "output_type": "stream",
     "text": [
      "loan_status  initial_list_status\n",
      "Charged Off  w                      12414\n",
      "             f                       5925\n",
      "Fully Paid   w                      21390\n",
      "             f                       7755\n",
      "Name: initial_list_status, dtype: int64\n"
     ]
    },
    {
     "data": {
      "image/png": "[encoded data removed]",
      "text/plain": [
       "<Figure size 1080x270 with 2 Axes>"
      ]
     },
     "metadata": {
      "needs_background": "light"
     },
     "output_type": "display_data"
    }
   ],
   "source": [
    "print(dataset.groupby('loan_status')['initial_list_status'].value_counts(dropna=False))\n",
    "plot_var('initial_list_status', 'Initial List Status', continuous=False, dataset=dataset)"
   ]
  },
  {
   "cell_type": "markdown",
   "metadata": {},
   "source": [
    "Theres does not seem to be much information gained from Initial List status"
   ]
  },
  {
   "cell_type": "markdown",
   "metadata": {},
   "source": [
    "### Installment (Numerical)\n",
    "The monthly payment owed by the borrower if the loan originates."
   ]
  },
  {
   "cell_type": "code",
   "execution_count": 167,
   "metadata": {
    "slideshow": {
     "slide_type": "-"
    }
   },
   "outputs": [
    {
     "name": "stdout",
     "output_type": "stream",
     "text": [
      "               count        mean         std    min     25%     50%     75%  \\\n",
      "loan_status                                                                   \n",
      "Charged Off  18339.0  490.505433  298.951791  30.99  271.45  410.56  659.43   \n",
      "Fully Paid   29145.0  420.773546  281.422908  30.12  212.75  341.41  559.44   \n",
      "\n",
      "                 max  \n",
      "loan_status           \n",
      "Charged Off  1566.80  \n",
      "Fully Paid   1587.23  \n",
      "               count      mean       std       min       25%       50%  \\\n",
      "loan_status                                                              \n",
      "Charged Off  18339.0  5.995893  0.676508  3.465423  5.607455  6.019955   \n",
      "Fully Paid   29145.0  5.811583  0.722315  3.437851  5.364807  5.836009   \n",
      "\n",
      "                  75%       max  \n",
      "loan_status                      \n",
      "Charged Off  6.492891  7.357429  \n",
      "Fully Paid   6.328722  7.370375  \n"
     ]
    },
    {
     "data": {
      "image/png": "[encoded data removed]",
      "text/plain": [
       "<Figure size 1080x270 with 2 Axes>"
      ]
     },
     "metadata": {
      "needs_background": "light"
     },
     "output_type": "display_data"
    },
    {
     "data": {
      "image/png": "[encoded data removed]",
      "text/plain": [
       "<Figure size 1080x270 with 2 Axes>"
      ]
     },
     "metadata": {
      "needs_background": "light"
     },
     "output_type": "display_data"
    }
   ],
   "source": [
    "print(dataset.groupby('loan_status')['installment'].describe())\n",
    "plot_var('installment', 'Installment', continuous=True, dataset=dataset)\n",
    "# since the plot is left skewed, we take the log transformation\n",
    "dataset['log_installment'] = dataset['installment'].apply(lambda x: np.log(x + 1))\n",
    "dataset.drop('installment', axis=1, inplace=True)\n",
    "print(dataset.groupby('loan_status')['log_installment'].describe())\n",
    "plot_var('log_installment', 'Log Installment', continuous=True, dataset=dataset)"
   ]
  },
  {
   "cell_type": "markdown",
   "metadata": {},
   "source": [
    "It seems those with higher installments are more likely to be charged off"
   ]
  },
  {
   "cell_type": "markdown",
   "metadata": {},
   "source": [
    "### Interest Rate (Numerical)\n",
    "Interest Rate on the loan"
   ]
  },
  {
   "cell_type": "code",
   "execution_count": 168,
   "metadata": {
    "slideshow": {
     "slide_type": "-"
    }
   },
   "outputs": [
    {
     "name": "stdout",
     "output_type": "stream",
     "text": [
      "               count       mean       std   min    25%    50%    75%    max\n",
      "loan_status                                                                \n",
      "Charged Off  18339.0  16.560890  5.858822  5.32  12.74  15.05  18.99  30.99\n",
      "Fully Paid   29145.0  13.215077  5.276465  5.32   9.93  12.62  15.99  30.99\n"
     ]
    },
    {
     "data": {
      "image/png": "[encoded data removed]",
      "text/plain": [
       "<Figure size 1080x270 with 2 Axes>"
      ]
     },
     "metadata": {
      "needs_background": "light"
     },
     "output_type": "display_data"
    }
   ],
   "source": [
    "dataset['int_rate'] = dataset['int_rate'].str.rstrip('%').astype('float')\n",
    "print(dataset.groupby('loan_status')['int_rate'].describe())\n",
    "plot_var('int_rate', 'Interest Rate', continuous=True, dataset=dataset)"
   ]
  },
  {
   "cell_type": "markdown",
   "metadata": {},
   "source": [
    "There seems to be a much higher interest rate on average for loans that charge off"
   ]
  },
  {
   "cell_type": "markdown",
   "metadata": {},
   "source": [
    "### Loan Amount (Numerical)\n",
    "The listed amount of the loan applied for by the borrower. If at some point in time, the credit department reduces the loan amount, then it will be reflected in this value."
   ]
  },
  {
   "cell_type": "code",
   "execution_count": 169,
   "metadata": {
    "slideshow": {
     "slide_type": "-"
    }
   },
   "outputs": [
    {
     "name": "stdout",
     "output_type": "stream",
     "text": [
      "               count          mean          std     min     25%      50%  \\\n",
      "loan_status                                                                \n",
      "Charged Off  18339.0  15652.497410  9415.391819  1000.0  8000.0  14000.0   \n",
      "Fully Paid   29145.0  13690.972723  9244.813927  1000.0  6400.0  11200.0   \n",
      "\n",
      "                 75%      max  \n",
      "loan_status                    \n",
      "Charged Off  21000.0  40000.0  \n",
      "Fully Paid   19200.0  40000.0  \n"
     ]
    },
    {
     "data": {
      "image/png": "[encoded data removed]",
      "text/plain": [
       "<Figure size 1080x270 with 2 Axes>"
      ]
     },
     "metadata": {
      "needs_background": "light"
     },
     "output_type": "display_data"
    }
   ],
   "source": [
    "print(dataset.groupby('loan_status')['loan_amnt'].describe())\n",
    "plot_var('loan_amnt', 'Loan Amount', continuous=True, dataset=dataset)"
   ]
  },
  {
   "cell_type": "markdown",
   "metadata": {},
   "source": [
    "It seems charged off loans have a higher loan amount"
   ]
  },
  {
   "cell_type": "markdown",
   "metadata": {},
   "source": [
    "### Mortgage Accounts (Numerical)\n",
    "Number of mortgage accounts"
   ]
  },
  {
   "cell_type": "code",
   "execution_count": 170,
   "metadata": {},
   "outputs": [
    {
     "name": "stdout",
     "output_type": "stream",
     "text": [
      "loan_status  mort_acc\n",
      "Charged Off  0            9006\n",
      "             1            3438\n",
      "             2            2495\n",
      "             3            1627\n",
      "             4             904\n",
      "             5             471\n",
      "             6             214\n",
      "             7             100\n",
      "             8              40\n",
      "             9              28\n",
      "             10             16\n",
      "Fully Paid   0           11003\n",
      "             1            5592\n",
      "             2            4767\n",
      "             3            3288\n",
      "             4            2163\n",
      "             5            1118\n",
      "             6             608\n",
      "             7             290\n",
      "             8             171\n",
      "             10             80\n",
      "             9              65\n",
      "Name: mort_acc, dtype: int64\n"
     ]
    },
    {
     "data": {
      "image/png": "[encoded data removed]",
      "text/plain": [
       "<Figure size 1080x270 with 2 Axes>"
      ]
     },
     "metadata": {
      "needs_background": "light"
     },
     "output_type": "display_data"
    }
   ],
   "source": [
    "dataset.loc[dataset['mort_acc'] > 9, 'mort_acc'] = 10\n",
    "print(dataset.groupby('loan_status')['mort_acc'].value_counts(dropna=False))\n",
    "plot_var('mort_acc', 'Mortgage Accounts', continuous=True, dataset=dataset)"
   ]
  },
  {
   "cell_type": "markdown",
   "metadata": {},
   "source": [
    "Currently there does not seem to be a significant difference"
   ]
  },
  {
   "cell_type": "markdown",
   "metadata": {},
   "source": [
    "### Open Account (Numerical)\n",
    "The number of open credit lines in the borrower's credit file."
   ]
  },
  {
   "cell_type": "code",
   "execution_count": 171,
   "metadata": {},
   "outputs": [
    {
     "name": "stdout",
     "output_type": "stream",
     "text": [
      "               count       mean       std  min  25%   50%   75%   max\n",
      "loan_status                                                          \n",
      "Charged Off  18339.0  11.947271  5.771383  1.0  8.0  11.0  15.0  68.0\n",
      "Fully Paid   29145.0  11.825630  5.743959  0.0  8.0  11.0  15.0  88.0\n"
     ]
    },
    {
     "data": {
      "image/png": "[encoded data removed]",
      "text/plain": [
       "<Figure size 1080x270 with 2 Axes>"
      ]
     },
     "metadata": {
      "needs_background": "light"
     },
     "output_type": "display_data"
    }
   ],
   "source": [
    "print(dataset.groupby('loan_status')['open_acc'].describe())\n",
    "plot_var('open_acc', 'Open Credit Lines', continuous=True, dataset=dataset,\n",
    "         x1limit=True, x2limit=True, x1l=0, x1u=40, x2l=0, x2u=30)"
   ]
  },
  {
   "cell_type": "markdown",
   "metadata": {},
   "source": [
    "Does not seem to be a good indicator of risk"
   ]
  },
  {
   "cell_type": "markdown",
   "metadata": {},
   "source": [
    "### Public Record (Categorical)\n",
    "Number of derogatory public records"
   ]
  },
  {
   "cell_type": "code",
   "execution_count": 172,
   "metadata": {
    "scrolled": true
   },
   "outputs": [
    {
     "name": "stdout",
     "output_type": "stream",
     "text": [
      "loan_status  pub_rec     \n",
      "Charged Off  None            14132\n",
      "             At least one     4207\n",
      "Fully Paid   None            22937\n",
      "             At least one     6208\n",
      "Name: pub_rec, dtype: int64\n"
     ]
    },
    {
     "data": {
      "image/png": "[encoded data removed]",
      "text/plain": [
       "<Figure size 1080x270 with 2 Axes>"
      ]
     },
     "metadata": {
      "needs_background": "light"
     },
     "output_type": "display_data"
    }
   ],
   "source": [
    "dataset['pub_rec'] = pd.cut(dataset['pub_rec'], [0, 0.9, 25], labels=['None', 'At least one'], include_lowest=True)\n",
    "print(dataset.groupby('loan_status')['pub_rec'].value_counts(dropna=False))\n",
    "plot_var('pub_rec', 'Public Records', continuous=False, dataset=dataset)"
   ]
  },
  {
   "cell_type": "markdown",
   "metadata": {},
   "source": [
    "Loan default rate does not seem to change much by derogatory public records"
   ]
  },
  {
   "cell_type": "markdown",
   "metadata": {},
   "source": [
    "### Public Record of Bankruptcies (Categorical)\n",
    "Number of public record bankruptcies"
   ]
  },
  {
   "cell_type": "code",
   "execution_count": 173,
   "metadata": {},
   "outputs": [
    {
     "name": "stdout",
     "output_type": "stream",
     "text": [
      "loan_status  pub_rec_bankruptcies\n",
      "Charged Off  None                    15370\n",
      "             At least one             2969\n",
      "Fully Paid   None                    24732\n",
      "             At least one             4413\n",
      "Name: pub_rec_bankruptcies, dtype: int64\n"
     ]
    },
    {
     "data": {
      "image/png": "[encoded data removed]",
      "text/plain": [
       "<Figure size 1080x270 with 2 Axes>"
      ]
     },
     "metadata": {
      "needs_background": "light"
     },
     "output_type": "display_data"
    }
   ],
   "source": [
    "dataset['pub_rec_bankruptcies'] = pd.cut(dataset['pub_rec_bankruptcies'], [0, 0.9, 25], labels=['None', 'At least one'], include_lowest=True)\n",
    "print(dataset.groupby('loan_status')['pub_rec_bankruptcies'].value_counts(dropna=False))\n",
    "plot_var('pub_rec_bankruptcies', 'Bankruptcies', continuous=False, dataset=dataset)"
   ]
  },
  {
   "cell_type": "markdown",
   "metadata": {},
   "source": [
    "Loan default rate does not seem to change much by public bankruptcies records"
   ]
  },
  {
   "cell_type": "markdown",
   "metadata": {},
   "source": [
    "### Purpose (Categorical)\n",
    "A category provided by the borrower for the loan request"
   ]
  },
  {
   "cell_type": "code",
   "execution_count": 174,
   "metadata": {},
   "outputs": [
    {
     "data": {
      "text/plain": [
       "purpose\n",
       "car                   0.291161\n",
       "home_improvement      0.322494\n",
       "vacation              0.329567\n",
       "house                 0.332016\n",
       "major_purchase        0.348673\n",
       "credit_card           0.365792\n",
       "other                 0.395795\n",
       "debt_consolidation    0.401390\n",
       "moving                0.415217\n",
       "medical               0.415869\n",
       "renewable_energy      0.419355\n",
       "small_business        0.575526\n",
       "Name: loan_status, dtype: float64"
      ]
     },
     "execution_count": 174,
     "metadata": {},
     "output_type": "execute_result"
    }
   ],
   "source": [
    "dataset.groupby('purpose')['loan_status'].value_counts(normalize=True).loc[:, 'Charged Off'].sort_values()"
   ]
  },
  {
   "cell_type": "markdown",
   "metadata": {},
   "source": [
    "### Revolving Balance (Numerical)\n",
    "Total credit revolving balance"
   ]
  },
  {
   "cell_type": "code",
   "execution_count": 175,
   "metadata": {},
   "outputs": [
    {
     "name": "stdout",
     "output_type": "stream",
     "text": [
      "               count          mean           std  min     25%      50%  \\\n",
      "loan_status                                                              \n",
      "Charged Off  18339.0  15728.115546  17476.547384  0.0  6298.0  11552.0   \n",
      "Fully Paid   29145.0  15601.315080  24339.574929  0.0  5176.0  10103.0   \n",
      "\n",
      "                 75%        max  \n",
      "loan_status                      \n",
      "Charged Off  19446.5   354794.0  \n",
      "Fully Paid   18214.0  1039013.0  \n",
      "               count      mean       std  min       25%       50%       75%  \\\n",
      "loan_status                                                                   \n",
      "Charged Off  18339.0  9.227021  1.132533  0.0  8.748146  9.354700  9.875474   \n",
      "Fully Paid   29145.0  9.078444  1.308805  0.0  8.551981  9.220687  9.810001   \n",
      "\n",
      "                   max  \n",
      "loan_status             \n",
      "Charged Off  12.779295  \n",
      "Fully Paid   13.853783  \n"
     ]
    },
    {
     "data": {
      "image/png": "[encoded data removed]",
      "text/plain": [
       "<Figure size 1080x270 with 2 Axes>"
      ]
     },
     "metadata": {
      "needs_background": "light"
     },
     "output_type": "display_data"
    },
    {
     "data": {
      "image/png": "[encoded data removed]",
      "text/plain": [
       "<Figure size 1080x270 with 2 Axes>"
      ]
     },
     "metadata": {
      "needs_background": "light"
     },
     "output_type": "display_data"
    }
   ],
   "source": [
    "print(dataset.groupby('loan_status')['revol_bal'].describe())\n",
    "plot_var('revol_bal', 'Revolving Balance in $', continuous=True, dataset=dataset,\n",
    "         x1limit=True, x2limit=True, x1l=0, x1u=80000, x2l=0, x2u=40000)\n",
    "# Seems like the data is heavily right skewed with a large range due to large outliers so we take the log transformation\n",
    "dataset['log_revol_bal'] = dataset['revol_bal'].apply(lambda x: np.log(x + 1))\n",
    "dataset.drop('revol_bal', axis=1, inplace=True)\n",
    "print(dataset.groupby('loan_status')['log_revol_bal'].describe())\n",
    "plot_var('log_revol_bal', 'Log Revolving Balance in $', continuous=True, dataset=dataset)"
   ]
  },
  {
   "cell_type": "markdown",
   "metadata": {},
   "source": [
    "There is not much difference in the two categories for revolving balances"
   ]
  },
  {
   "cell_type": "markdown",
   "metadata": {},
   "source": [
    "### Revolving Utility (Numerical)\n",
    "Revolving line utilization rate, or the amount of credit the borrower is using relative to all available revolving credit."
   ]
  },
  {
   "cell_type": "code",
   "execution_count": 176,
   "metadata": {},
   "outputs": [
    {
     "name": "stdout",
     "output_type": "stream",
     "text": [
      "               count       mean        std  min   25%   50%   75%    max\n",
      "loan_status                                                             \n",
      "Charged Off  18333.0  52.649065  23.641734  0.0  35.3  52.9  70.3  138.9\n",
      "Fully Paid   29120.0  44.685968  24.521824  0.0  25.4  43.3  62.9  125.2\n"
     ]
    },
    {
     "data": {
      "image/png": "[encoded data removed]",
      "text/plain": [
       "<Figure size 1080x270 with 2 Axes>"
      ]
     },
     "metadata": {
      "needs_background": "light"
     },
     "output_type": "display_data"
    }
   ],
   "source": [
    "dataset['revol_util'] = dataset['revol_util'].str.rstrip('%').astype('float')\n",
    "print(dataset.groupby('loan_status')['revol_util'].describe())\n",
    "plot_var('revol_util', 'Revolving Utility in %', continuous=True, dataset=dataset)"
   ]
  },
  {
   "cell_type": "markdown",
   "metadata": {},
   "source": [
    "It seems those with a lower revolving utility are more likely to pay off their loans"
   ]
  },
  {
   "cell_type": "markdown",
   "metadata": {},
   "source": [
    "### Grade (Categorical)\n",
    "LendingClub assigned loan grade. The higher the letter, the safer the loan."
   ]
  },
  {
   "cell_type": "code",
   "execution_count": 177,
   "metadata": {
    "slideshow": {
     "slide_type": "-"
    }
   },
   "outputs": [
    {
     "data": {
      "image/png": "[encoded data removed]",
      "text/plain": [
       "<Figure size 1080x270 with 2 Axes>"
      ]
     },
     "metadata": {
      "needs_background": "light"
     },
     "output_type": "display_data"
    }
   ],
   "source": [
    "plot_var('grade', 'Grade', continuous=False, dataset=dataset)"
   ]
  },
  {
   "cell_type": "markdown",
   "metadata": {},
   "source": [
    "There seems to be a strong trend between charge off rate and deteriorating grade"
   ]
  },
  {
   "cell_type": "markdown",
   "metadata": {},
   "source": [
    "### Term (Categorical)\n",
    "The number of payments on the loan. Values are in months and can be either 36 or 60"
   ]
  },
  {
   "cell_type": "code",
   "execution_count": 178,
   "metadata": {},
   "outputs": [
    {
     "name": "stdout",
     "output_type": "stream",
     "text": [
      "loan_status  term\n",
      "Charged Off  36      12490\n",
      "             60       5849\n",
      "Fully Paid   36      23073\n",
      "             60       6072\n",
      "Name: term, dtype: int64\n"
     ]
    },
    {
     "data": {
      "image/png": "[encoded data removed]",
      "text/plain": [
       "<Figure size 1080x270 with 2 Axes>"
      ]
     },
     "metadata": {
      "needs_background": "light"
     },
     "output_type": "display_data"
    }
   ],
   "source": [
    "# dataset['term'].replace('36 months', 36, inplace=True)\n",
    "# dataset['term'].replace('60 months', 60, inplace=True)\n",
    "dataset['term'] = dataset['term'].apply(lambda s: np.int8(s.split()[0]))\n",
    "print(dataset.groupby('loan_status')['term'].value_counts(dropna=False))\n",
    "plot_var('term', 'Term (months)', continuous=False, dataset=dataset)"
   ]
  },
  {
   "cell_type": "markdown",
   "metadata": {},
   "source": [
    "It seems longer term loans have a higher likelihood of being charged off"
   ]
  },
  {
   "cell_type": "markdown",
   "metadata": {},
   "source": [
    "### Total Accounts (Numerical)\n",
    "The total number of credit lines currently in the borrower's credit file"
   ]
  },
  {
   "cell_type": "code",
   "execution_count": 179,
   "metadata": {
    "scrolled": true
   },
   "outputs": [
    {
     "name": "stdout",
     "output_type": "stream",
     "text": [
      "               count       mean        std  min   25%   50%   75%    max\n",
      "loan_status                                                             \n",
      "Charged Off  18339.0  23.771362  11.849633  2.0  15.0  22.0  30.0  121.0\n",
      "Fully Paid   29145.0  24.859633  12.233984  2.0  16.0  23.0  31.0  146.0\n"
     ]
    },
    {
     "data": {
      "image/png": "[encoded data removed]",
      "text/plain": [
       "<Figure size 1080x270 with 2 Axes>"
      ]
     },
     "metadata": {
      "needs_background": "light"
     },
     "output_type": "display_data"
    }
   ],
   "source": [
    "print(dataset.groupby('loan_status')['total_acc'].describe())\n",
    "plot_var('total_acc', 'Number of Total Accounts', continuous=True, dataset=dataset)"
   ]
  },
  {
   "cell_type": "markdown",
   "metadata": {},
   "source": [
    "There does not seem to be a significant difference in charge off rate depending on the total account number"
   ]
  },
  {
   "cell_type": "markdown",
   "metadata": {},
   "source": [
    "### Verification Status (Categorical)\n",
    "Indicates if income was verified, not verified, or if the income source was verified."
   ]
  },
  {
   "cell_type": "code",
   "execution_count": 180,
   "metadata": {
    "slideshow": {
     "slide_type": "-"
    }
   },
   "outputs": [
    {
     "name": "stdout",
     "output_type": "stream",
     "text": [
      "loan_status  verification_status\n",
      "Charged Off  Source Verified         7487\n",
      "             Verified                6712\n",
      "             Not Verified            4140\n",
      "Fully Paid   Source Verified        11607\n",
      "             Not Verified           10330\n",
      "             Verified                7208\n",
      "Name: verification_status, dtype: int64\n"
     ]
    },
    {
     "data": {
      "image/png": "[encoded data removed]",
      "text/plain": [
       "<Figure size 1080x270 with 2 Axes>"
      ]
     },
     "metadata": {
      "needs_background": "light"
     },
     "output_type": "display_data"
    }
   ],
   "source": [
    "print(dataset.groupby('loan_status')['verification_status'].value_counts(dropna=False))\n",
    "plot_var('verification_status', 'Verification Status', continuous=False, dataset=dataset)"
   ]
  },
  {
   "cell_type": "markdown",
   "metadata": {},
   "source": [
    "There seems to be a strong linear trend between charged off rate and verification status. Surprisingly, loans with a status of verified have a higher chance of becoming charged off."
   ]
  },
  {
   "cell_type": "markdown",
   "metadata": {},
   "source": [
    "# Preliminary Model Design"
   ]
  },
  {
   "cell_type": "markdown",
   "metadata": {},
   "source": [
    "### Create dummy variables\n",
    "1 means charged-off and 0 means fully paid and create dummy variables for all categorical variables"
   ]
  },
  {
   "cell_type": "code",
   "execution_count": 181,
   "metadata": {},
   "outputs": [
    {
     "data": {
      "text/html": [
       "<div>\n",
       "<style scoped>\n",
       "    .dataframe tbody tr th:only-of-type {\n",
       "        vertical-align: middle;\n",
       "    }\n",
       "\n",
       "    .dataframe tbody tr th {\n",
       "        vertical-align: top;\n",
       "    }\n",
       "\n",
       "    .dataframe thead th {\n",
       "        text-align: right;\n",
       "    }\n",
       "</style>\n",
       "<table border=\"1\" class=\"dataframe\">\n",
       "  <thead>\n",
       "    <tr style=\"text-align: right;\">\n",
       "      <th></th>\n",
       "      <th>loan_amnt</th>\n",
       "      <th>term</th>\n",
       "      <th>int_rate</th>\n",
       "      <th>emp_length</th>\n",
       "      <th>loan_status</th>\n",
       "      <th>dti</th>\n",
       "      <th>delinq_2yrs</th>\n",
       "      <th>earliest_cr_line</th>\n",
       "      <th>open_acc</th>\n",
       "      <th>revol_util</th>\n",
       "      <th>total_acc</th>\n",
       "      <th>mort_acc</th>\n",
       "      <th>log_annual_inc</th>\n",
       "      <th>log_installment</th>\n",
       "      <th>log_revol_bal</th>\n",
       "      <th>grade_B</th>\n",
       "      <th>grade_C</th>\n",
       "      <th>grade_D</th>\n",
       "      <th>grade_E</th>\n",
       "      <th>grade_F</th>\n",
       "      <th>grade_G</th>\n",
       "      <th>home_ownership_OWN</th>\n",
       "      <th>home_ownership_RENT</th>\n",
       "      <th>verification_status_Source Verified</th>\n",
       "      <th>verification_status_Verified</th>\n",
       "      <th>purpose_credit_card</th>\n",
       "      <th>purpose_debt_consolidation</th>\n",
       "      <th>purpose_home_improvement</th>\n",
       "      <th>purpose_house</th>\n",
       "      <th>purpose_major_purchase</th>\n",
       "      <th>purpose_medical</th>\n",
       "      <th>purpose_moving</th>\n",
       "      <th>purpose_other</th>\n",
       "      <th>purpose_renewable_energy</th>\n",
       "      <th>purpose_small_business</th>\n",
       "      <th>purpose_vacation</th>\n",
       "      <th>initial_list_status_w</th>\n",
       "      <th>application_type_Joint App</th>\n",
       "      <th>pub_rec_At least one</th>\n",
       "      <th>pub_rec_bankruptcies_At least one</th>\n",
       "    </tr>\n",
       "  </thead>\n",
       "  <tbody>\n",
       "    <tr>\n",
       "      <th>0</th>\n",
       "      <td>5000</td>\n",
       "      <td>36</td>\n",
       "      <td>7.35</td>\n",
       "      <td>5.0</td>\n",
       "      <td>0</td>\n",
       "      <td>15.76</td>\n",
       "      <td>0</td>\n",
       "      <td>2004</td>\n",
       "      <td>12</td>\n",
       "      <td>13.2</td>\n",
       "      <td>25</td>\n",
       "      <td>1</td>\n",
       "      <td>11.002117</td>\n",
       "      <td>5.051073</td>\n",
       "      <td>8.215547</td>\n",
       "      <td>0</td>\n",
       "      <td>0</td>\n",
       "      <td>0</td>\n",
       "      <td>0</td>\n",
       "      <td>0</td>\n",
       "      <td>0</td>\n",
       "      <td>0</td>\n",
       "      <td>0</td>\n",
       "      <td>0</td>\n",
       "      <td>0</td>\n",
       "      <td>0</td>\n",
       "      <td>0</td>\n",
       "      <td>0</td>\n",
       "      <td>0</td>\n",
       "      <td>0</td>\n",
       "      <td>0</td>\n",
       "      <td>0</td>\n",
       "      <td>0</td>\n",
       "      <td>0</td>\n",
       "      <td>0</td>\n",
       "      <td>0</td>\n",
       "      <td>1</td>\n",
       "      <td>0</td>\n",
       "      <td>0</td>\n",
       "      <td>0</td>\n",
       "    </tr>\n",
       "    <tr>\n",
       "      <th>1</th>\n",
       "      <td>7500</td>\n",
       "      <td>36</td>\n",
       "      <td>7.35</td>\n",
       "      <td>7.0</td>\n",
       "      <td>0</td>\n",
       "      <td>13.12</td>\n",
       "      <td>0</td>\n",
       "      <td>2013</td>\n",
       "      <td>19</td>\n",
       "      <td>27.2</td>\n",
       "      <td>27</td>\n",
       "      <td>4</td>\n",
       "      <td>11.608245</td>\n",
       "      <td>5.454423</td>\n",
       "      <td>10.058309</td>\n",
       "      <td>0</td>\n",
       "      <td>0</td>\n",
       "      <td>0</td>\n",
       "      <td>0</td>\n",
       "      <td>0</td>\n",
       "      <td>0</td>\n",
       "      <td>0</td>\n",
       "      <td>0</td>\n",
       "      <td>0</td>\n",
       "      <td>0</td>\n",
       "      <td>0</td>\n",
       "      <td>1</td>\n",
       "      <td>0</td>\n",
       "      <td>0</td>\n",
       "      <td>0</td>\n",
       "      <td>0</td>\n",
       "      <td>0</td>\n",
       "      <td>0</td>\n",
       "      <td>0</td>\n",
       "      <td>0</td>\n",
       "      <td>0</td>\n",
       "      <td>1</td>\n",
       "      <td>0</td>\n",
       "      <td>0</td>\n",
       "      <td>0</td>\n",
       "    </tr>\n",
       "    <tr>\n",
       "      <th>2</th>\n",
       "      <td>9600</td>\n",
       "      <td>36</td>\n",
       "      <td>7.97</td>\n",
       "      <td>0.0</td>\n",
       "      <td>0</td>\n",
       "      <td>18.34</td>\n",
       "      <td>0</td>\n",
       "      <td>2005</td>\n",
       "      <td>16</td>\n",
       "      <td>48.6</td>\n",
       "      <td>44</td>\n",
       "      <td>3</td>\n",
       "      <td>11.849405</td>\n",
       "      <td>5.709433</td>\n",
       "      <td>9.376617</td>\n",
       "      <td>0</td>\n",
       "      <td>0</td>\n",
       "      <td>0</td>\n",
       "      <td>0</td>\n",
       "      <td>0</td>\n",
       "      <td>0</td>\n",
       "      <td>1</td>\n",
       "      <td>0</td>\n",
       "      <td>0</td>\n",
       "      <td>0</td>\n",
       "      <td>1</td>\n",
       "      <td>0</td>\n",
       "      <td>0</td>\n",
       "      <td>0</td>\n",
       "      <td>0</td>\n",
       "      <td>0</td>\n",
       "      <td>0</td>\n",
       "      <td>0</td>\n",
       "      <td>0</td>\n",
       "      <td>0</td>\n",
       "      <td>0</td>\n",
       "      <td>1</td>\n",
       "      <td>0</td>\n",
       "      <td>0</td>\n",
       "      <td>0</td>\n",
       "    </tr>\n",
       "    <tr>\n",
       "      <th>3</th>\n",
       "      <td>2000</td>\n",
       "      <td>36</td>\n",
       "      <td>7.07</td>\n",
       "      <td>2.0</td>\n",
       "      <td>0</td>\n",
       "      <td>12.15</td>\n",
       "      <td>0</td>\n",
       "      <td>2005</td>\n",
       "      <td>9</td>\n",
       "      <td>0.3</td>\n",
       "      <td>12</td>\n",
       "      <td>0</td>\n",
       "      <td>11.289794</td>\n",
       "      <td>4.140273</td>\n",
       "      <td>3.663562</td>\n",
       "      <td>0</td>\n",
       "      <td>0</td>\n",
       "      <td>0</td>\n",
       "      <td>0</td>\n",
       "      <td>0</td>\n",
       "      <td>0</td>\n",
       "      <td>0</td>\n",
       "      <td>1</td>\n",
       "      <td>0</td>\n",
       "      <td>0</td>\n",
       "      <td>0</td>\n",
       "      <td>0</td>\n",
       "      <td>0</td>\n",
       "      <td>0</td>\n",
       "      <td>0</td>\n",
       "      <td>1</td>\n",
       "      <td>0</td>\n",
       "      <td>0</td>\n",
       "      <td>0</td>\n",
       "      <td>0</td>\n",
       "      <td>0</td>\n",
       "      <td>1</td>\n",
       "      <td>0</td>\n",
       "      <td>0</td>\n",
       "      <td>0</td>\n",
       "    </tr>\n",
       "    <tr>\n",
       "      <th>4</th>\n",
       "      <td>7200</td>\n",
       "      <td>36</td>\n",
       "      <td>24.85</td>\n",
       "      <td>2.0</td>\n",
       "      <td>0</td>\n",
       "      <td>6.07</td>\n",
       "      <td>0</td>\n",
       "      <td>2000</td>\n",
       "      <td>4</td>\n",
       "      <td>98.9</td>\n",
       "      <td>5</td>\n",
       "      <td>0</td>\n",
       "      <td>10.819798</td>\n",
       "      <td>5.658436</td>\n",
       "      <td>8.177797</td>\n",
       "      <td>0</td>\n",
       "      <td>0</td>\n",
       "      <td>0</td>\n",
       "      <td>1</td>\n",
       "      <td>0</td>\n",
       "      <td>0</td>\n",
       "      <td>0</td>\n",
       "      <td>1</td>\n",
       "      <td>1</td>\n",
       "      <td>0</td>\n",
       "      <td>0</td>\n",
       "      <td>1</td>\n",
       "      <td>0</td>\n",
       "      <td>0</td>\n",
       "      <td>0</td>\n",
       "      <td>0</td>\n",
       "      <td>0</td>\n",
       "      <td>0</td>\n",
       "      <td>0</td>\n",
       "      <td>0</td>\n",
       "      <td>0</td>\n",
       "      <td>1</td>\n",
       "      <td>0</td>\n",
       "      <td>0</td>\n",
       "      <td>0</td>\n",
       "    </tr>\n",
       "  </tbody>\n",
       "</table>\n",
       "</div>"
      ],
      "text/plain": [
       "   loan_amnt  term  int_rate  emp_length  loan_status    dti  delinq_2yrs  \\\n",
       "0       5000    36      7.35         5.0            0  15.76            0   \n",
       "1       7500    36      7.35         7.0            0  13.12            0   \n",
       "2       9600    36      7.97         0.0            0  18.34            0   \n",
       "3       2000    36      7.07         2.0            0  12.15            0   \n",
       "4       7200    36     24.85         2.0            0   6.07            0   \n",
       "\n",
       "   earliest_cr_line  open_acc  revol_util  total_acc  mort_acc  \\\n",
       "0              2004        12        13.2         25         1   \n",
       "1              2013        19        27.2         27         4   \n",
       "2              2005        16        48.6         44         3   \n",
       "3              2005         9         0.3         12         0   \n",
       "4              2000         4        98.9          5         0   \n",
       "\n",
       "   log_annual_inc  log_installment  log_revol_bal  grade_B  grade_C  grade_D  \\\n",
       "0       11.002117         5.051073       8.215547        0        0        0   \n",
       "1       11.608245         5.454423      10.058309        0        0        0   \n",
       "2       11.849405         5.709433       9.376617        0        0        0   \n",
       "3       11.289794         4.140273       3.663562        0        0        0   \n",
       "4       10.819798         5.658436       8.177797        0        0        0   \n",
       "\n",
       "   grade_E  grade_F  grade_G  home_ownership_OWN  home_ownership_RENT  \\\n",
       "0        0        0        0                   0                    0   \n",
       "1        0        0        0                   0                    0   \n",
       "2        0        0        0                   1                    0   \n",
       "3        0        0        0                   0                    1   \n",
       "4        1        0        0                   0                    1   \n",
       "\n",
       "   verification_status_Source Verified  verification_status_Verified  \\\n",
       "0                                    0                             0   \n",
       "1                                    0                             0   \n",
       "2                                    0                             0   \n",
       "3                                    0                             0   \n",
       "4                                    1                             0   \n",
       "\n",
       "   purpose_credit_card  purpose_debt_consolidation  purpose_home_improvement  \\\n",
       "0                    0                           0                         0   \n",
       "1                    0                           1                         0   \n",
       "2                    1                           0                         0   \n",
       "3                    0                           0                         0   \n",
       "4                    0                           1                         0   \n",
       "\n",
       "   purpose_house  purpose_major_purchase  purpose_medical  purpose_moving  \\\n",
       "0              0                       0                0               0   \n",
       "1              0                       0                0               0   \n",
       "2              0                       0                0               0   \n",
       "3              0                       0                1               0   \n",
       "4              0                       0                0               0   \n",
       "\n",
       "   purpose_other  purpose_renewable_energy  purpose_small_business  \\\n",
       "0              0                         0                       0   \n",
       "1              0                         0                       0   \n",
       "2              0                         0                       0   \n",
       "3              0                         0                       0   \n",
       "4              0                         0                       0   \n",
       "\n",
       "   purpose_vacation  initial_list_status_w  application_type_Joint App  \\\n",
       "0                 0                      1                           0   \n",
       "1                 0                      1                           0   \n",
       "2                 0                      1                           0   \n",
       "3                 0                      1                           0   \n",
       "4                 0                      1                           0   \n",
       "\n",
       "   pub_rec_At least one  pub_rec_bankruptcies_At least one  \n",
       "0                     0                                  0  \n",
       "1                     0                                  0  \n",
       "2                     0                                  0  \n",
       "3                     0                                  0  \n",
       "4                     0                                  0  "
      ]
     },
     "execution_count": 181,
     "metadata": {},
     "output_type": "execute_result"
    }
   ],
   "source": [
    "dataset['loan_status'].replace('Charged Off', 1, inplace=True)\n",
    "dataset['loan_status'].replace('Fully Paid', 0, inplace=True)\n",
    "\n",
    "dataset = pd.get_dummies(dataset, columns=['grade', 'home_ownership', 'verification_status', 'purpose', \n",
    "                                           'initial_list_status', 'application_type', 'pub_rec', 'pub_rec_bankruptcies'], drop_first=True)\n",
    "dataset.head()"
   ]
  },
  {
   "cell_type": "markdown",
   "metadata": {},
   "source": [
    "### Split the data"
   ]
  },
  {
   "cell_type": "code",
   "execution_count": 182,
   "metadata": {},
   "outputs": [],
   "source": [
    "dataset.dropna(inplace=True)\n",
    "# dataset.fillna(lambda x: x.median())\n",
    "y = dataset.loc[:, dataset.columns == 'loan_status']\n",
    "x = dataset.loc[:, dataset.columns != 'loan_status']\n",
    "# y = dataset['loan_status']\n",
    "# X = dataset.drop(columns=['loan_status'])\n",
    "x_train, x_test, y_train, y_test = train_test_split(x, y, test_size=0.3, random_state=0, stratify=dataset['loan_status'])\n",
    "# x_train = x_train.reset_index()\n",
    "# y_train = y_train.reset_index()"
   ]
  },
  {
   "cell_type": "markdown",
   "metadata": {
    "slideshow": {
     "slide_type": "-"
    }
   },
   "source": [
    "# Feature Selection and Model Fitting"
   ]
  },
  {
   "cell_type": "markdown",
   "metadata": {
    "slideshow": {
     "slide_type": "-"
    }
   },
   "source": [
    "### Logistic Regression Model"
   ]
  },
  {
   "cell_type": "code",
   "execution_count": 183,
   "metadata": {
    "scrolled": false,
    "slideshow": {
     "slide_type": "-"
    }
   },
   "outputs": [],
   "source": [
    "model_lr = LogisticRegression(penalty=\"l2\", \n",
    "                              C=0.5, \n",
    "                              fit_intercept=True, \n",
    "                              class_weight='balanced', \n",
    "                              random_state=0, \n",
    "                              max_iter=10000, \n",
    "                              solver='lbfgs')\n",
    "model_lr = model_lr.fit(x_train, y_train.values.ravel())\n",
    "y_pred_lr = model_lr.predict(x_test)\n",
    "# df_coefs = pd.DataFrame(model.coef_[0], index=x.columns, columns = ['Coefficient'])\n",
    "# df_coefs"
   ]
  },
  {
   "cell_type": "code",
   "execution_count": 184,
   "metadata": {
    "slideshow": {
     "slide_type": "-"
    }
   },
   "outputs": [
    {
     "name": "stdout",
     "output_type": "stream",
     "text": [
      "Accuracy: 64.12%\n"
     ]
    },
    {
     "data": {
      "text/plain": [
       "array([[5399, 2830],\n",
       "       [1910, 3070]], dtype=int64)"
      ]
     },
     "execution_count": 184,
     "metadata": {},
     "output_type": "execute_result"
    }
   ],
   "source": [
    "print(\"Accuracy: %.2f%%\" % (model_lr.score(x_test, y_test) * 100))\n",
    "confusion_matrix(y_test, y_pred_lr)"
   ]
  },
  {
   "cell_type": "code",
   "execution_count": 185,
   "metadata": {},
   "outputs": [
    {
     "name": "stdout",
     "output_type": "stream",
     "text": [
      "Optimization terminated successfully.\n",
      "         Current function value: 0.592150\n",
      "         Iterations 6\n"
     ]
    },
    {
     "data": {
      "text/html": [
       "<table class=\"simpletable\">\n",
       "<tr>\n",
       "        <td>Model:</td>              <td>Logit</td>      <td>Pseudo R-squared:</td>    <td>0.106</td>  \n",
       "</tr>\n",
       "<tr>\n",
       "  <td>Dependent Variable:</td>    <td>loan_status</td>         <td>AIC:</td>        <td>52221.5470</td>\n",
       "</tr>\n",
       "<tr>\n",
       "         <td>Date:</td>        <td>2019-06-14 13:47</td>       <td>BIC:</td>        <td>52560.5585</td>\n",
       "</tr>\n",
       "<tr>\n",
       "   <td>No. Observations:</td>        <td>44029</td>       <td>Log-Likelihood:</td>    <td>-26072.</td> \n",
       "</tr>\n",
       "<tr>\n",
       "       <td>Df Model:</td>             <td>38</td>            <td>LL-Null:</td>        <td>-29174.</td> \n",
       "</tr>\n",
       "<tr>\n",
       "     <td>Df Residuals:</td>          <td>43990</td>        <td>LLR p-value:</td>      <td>0.0000</td>  \n",
       "</tr>\n",
       "<tr>\n",
       "      <td>Converged:</td>           <td>1.0000</td>           <td>Scale:</td>         <td>1.0000</td>  \n",
       "</tr>\n",
       "<tr>\n",
       "    <td>No. Iterations:</td>        <td>6.0000</td>              <td></td>               <td></td>     \n",
       "</tr>\n",
       "</table>\n",
       "<table class=\"simpletable\">\n",
       "<tr>\n",
       "                   <td></td>                    <th>Coef.</th>  <th>Std.Err.</th>    <th>z</th>     <th>P>|z|</th> <th>[0.025</th>  <th>0.975]</th> \n",
       "</tr>\n",
       "<tr>\n",
       "  <th>loan_amnt</th>                           <td>-0.0000</td>  <td>0.0000</td>  <td>-2.1053</td> <td>0.0353</td> <td>-0.0000</td> <td>-0.0000</td>\n",
       "</tr>\n",
       "<tr>\n",
       "  <th>term</th>                                <td>0.0141</td>   <td>0.0013</td>  <td>10.8303</td> <td>0.0000</td> <td>0.0116</td>  <td>0.0167</td> \n",
       "</tr>\n",
       "<tr>\n",
       "  <th>int_rate</th>                            <td>0.0111</td>   <td>0.0091</td>  <td>1.2225</td>  <td>0.2215</td> <td>-0.0067</td> <td>0.0289</td> \n",
       "</tr>\n",
       "<tr>\n",
       "  <th>emp_length</th>                          <td>-0.0120</td>  <td>0.0029</td>  <td>-4.0754</td> <td>0.0000</td> <td>-0.0177</td> <td>-0.0062</td>\n",
       "</tr>\n",
       "<tr>\n",
       "  <th>dti</th>                                 <td>0.0117</td>   <td>0.0014</td>  <td>8.5431</td>  <td>0.0000</td> <td>0.0090</td>  <td>0.0144</td> \n",
       "</tr>\n",
       "<tr>\n",
       "  <th>delinq_2yrs</th>                         <td>0.1479</td>   <td>0.0181</td>  <td>8.1592</td>  <td>0.0000</td> <td>0.1124</td>  <td>0.1835</td> \n",
       "</tr>\n",
       "<tr>\n",
       "  <th>earliest_cr_line</th>                    <td>-0.0019</td>  <td>0.0002</td>  <td>-9.8715</td> <td>0.0000</td> <td>-0.0022</td> <td>-0.0015</td>\n",
       "</tr>\n",
       "<tr>\n",
       "  <th>open_acc</th>                            <td>0.0245</td>   <td>0.0029</td>  <td>8.5530</td>  <td>0.0000</td> <td>0.0189</td>  <td>0.0301</td> \n",
       "</tr>\n",
       "<tr>\n",
       "  <th>revol_util</th>                          <td>0.0086</td>   <td>0.0006</td>  <td>15.0434</td> <td>0.0000</td> <td>0.0075</td>  <td>0.0097</td> \n",
       "</tr>\n",
       "<tr>\n",
       "  <th>total_acc</th>                           <td>-0.0080</td>  <td>0.0014</td>  <td>-5.8506</td> <td>0.0000</td> <td>-0.0107</td> <td>-0.0053</td>\n",
       "</tr>\n",
       "<tr>\n",
       "  <th>mort_acc</th>                            <td>-0.0795</td>  <td>0.0081</td>  <td>-9.8078</td> <td>0.0000</td> <td>-0.0953</td> <td>-0.0636</td>\n",
       "</tr>\n",
       "<tr>\n",
       "  <th>log_annual_inc</th>                      <td>-0.1562</td>  <td>0.0279</td>  <td>-5.6035</td> <td>0.0000</td> <td>-0.2108</td> <td>-0.1015</td>\n",
       "</tr>\n",
       "<tr>\n",
       "  <th>log_installment</th>                     <td>0.4307</td>   <td>0.0406</td>  <td>10.6106</td> <td>0.0000</td> <td>0.3512</td>  <td>0.5103</td> \n",
       "</tr>\n",
       "<tr>\n",
       "  <th>log_revol_bal</th>                       <td>-0.0271</td>  <td>0.0125</td>  <td>-2.1712</td> <td>0.0299</td> <td>-0.0516</td> <td>-0.0026</td>\n",
       "</tr>\n",
       "<tr>\n",
       "  <th>grade_B</th>                             <td>0.7070</td>   <td>0.0573</td>  <td>12.3343</td> <td>0.0000</td> <td>0.5946</td>  <td>0.8193</td> \n",
       "</tr>\n",
       "<tr>\n",
       "  <th>grade_C</th>                             <td>1.0810</td>   <td>0.0793</td>  <td>13.6304</td> <td>0.0000</td> <td>0.9255</td>  <td>1.2364</td> \n",
       "</tr>\n",
       "<tr>\n",
       "  <th>grade_D</th>                             <td>1.3020</td>   <td>0.1143</td>  <td>11.3884</td> <td>0.0000</td> <td>1.0779</td>  <td>1.5261</td> \n",
       "</tr>\n",
       "<tr>\n",
       "  <th>grade_E</th>                             <td>1.3835</td>   <td>0.1669</td>  <td>8.2910</td>  <td>0.0000</td> <td>1.0565</td>  <td>1.7106</td> \n",
       "</tr>\n",
       "<tr>\n",
       "  <th>grade_F</th>                             <td>1.4397</td>   <td>0.2150</td>  <td>6.6966</td>  <td>0.0000</td> <td>1.0183</td>  <td>1.8611</td> \n",
       "</tr>\n",
       "<tr>\n",
       "  <th>grade_G</th>                             <td>1.1584</td>   <td>0.2338</td>  <td>4.9547</td>  <td>0.0000</td> <td>0.7002</td>  <td>1.6167</td> \n",
       "</tr>\n",
       "<tr>\n",
       "  <th>home_ownership_OWN</th>                  <td>0.1731</td>   <td>0.0363</td>  <td>4.7668</td>  <td>0.0000</td> <td>0.1020</td>  <td>0.2443</td> \n",
       "</tr>\n",
       "<tr>\n",
       "  <th>home_ownership_RENT</th>                 <td>0.3679</td>   <td>0.0271</td>  <td>13.5660</td> <td>0.0000</td> <td>0.3147</td>  <td>0.4210</td> \n",
       "</tr>\n",
       "<tr>\n",
       "  <th>verification_status_Source Verified</th> <td>0.2477</td>   <td>0.0270</td>  <td>9.1580</td>  <td>0.0000</td> <td>0.1947</td>  <td>0.3007</td> \n",
       "</tr>\n",
       "<tr>\n",
       "  <th>verification_status_Verified</th>        <td>0.3871</td>   <td>0.0299</td>  <td>12.9557</td> <td>0.0000</td> <td>0.3285</td>  <td>0.4456</td> \n",
       "</tr>\n",
       "<tr>\n",
       "  <th>purpose_credit_card</th>                 <td>0.1128</td>   <td>0.1085</td>  <td>1.0396</td>  <td>0.2985</td> <td>-0.0998</td> <td>0.3253</td> \n",
       "</tr>\n",
       "<tr>\n",
       "  <th>purpose_debt_consolidation</th>          <td>0.0892</td>   <td>0.1064</td>  <td>0.8388</td>  <td>0.4016</td> <td>-0.1193</td> <td>0.2977</td> \n",
       "</tr>\n",
       "<tr>\n",
       "  <th>purpose_home_improvement</th>            <td>0.2394</td>   <td>0.1121</td>  <td>2.1355</td>  <td>0.0327</td> <td>0.0197</td>  <td>0.4591</td> \n",
       "</tr>\n",
       "<tr>\n",
       "  <th>purpose_house</th>                       <td>-0.3709</td>  <td>0.1855</td>  <td>-1.9997</td> <td>0.0455</td> <td>-0.7344</td> <td>-0.0074</td>\n",
       "</tr>\n",
       "<tr>\n",
       "  <th>purpose_major_purchase</th>              <td>0.2312</td>   <td>0.1264</td>  <td>1.8299</td>  <td>0.0673</td> <td>-0.0164</td> <td>0.4789</td> \n",
       "</tr>\n",
       "<tr>\n",
       "  <th>purpose_medical</th>                     <td>0.4030</td>   <td>0.1364</td>  <td>2.9549</td>  <td>0.0031</td> <td>0.1357</td>  <td>0.6703</td> \n",
       "</tr>\n",
       "<tr>\n",
       "  <th>purpose_moving</th>                      <td>0.2319</td>   <td>0.1497</td>  <td>1.5494</td>  <td>0.1213</td> <td>-0.0614</td> <td>0.5252</td> \n",
       "</tr>\n",
       "<tr>\n",
       "  <th>purpose_other</th>                       <td>0.2975</td>   <td>0.1125</td>  <td>2.6438</td>  <td>0.0082</td> <td>0.0770</td>  <td>0.5181</td> \n",
       "</tr>\n",
       "<tr>\n",
       "  <th>purpose_renewable_energy</th>            <td>0.6134</td>   <td>0.4227</td>  <td>1.4512</td>  <td>0.1467</td> <td>-0.2150</td> <td>1.4417</td> \n",
       "</tr>\n",
       "<tr>\n",
       "  <th>purpose_small_business</th>              <td>0.8661</td>   <td>0.1431</td>  <td>6.0504</td>  <td>0.0000</td> <td>0.5855</td>  <td>1.1466</td> \n",
       "</tr>\n",
       "<tr>\n",
       "  <th>purpose_vacation</th>                    <td>0.3846</td>   <td>0.1480</td>  <td>2.5981</td>  <td>0.0094</td> <td>0.0945</td>  <td>0.6748</td> \n",
       "</tr>\n",
       "<tr>\n",
       "  <th>initial_list_status_w</th>               <td>-0.0773</td>  <td>0.0257</td>  <td>-3.0116</td> <td>0.0026</td> <td>-0.1277</td> <td>-0.0270</td>\n",
       "</tr>\n",
       "<tr>\n",
       "  <th>application_type_Joint App</th>          <td>-0.5060</td>  <td>0.0541</td>  <td>-9.3512</td> <td>0.0000</td> <td>-0.6120</td> <td>-0.3999</td>\n",
       "</tr>\n",
       "<tr>\n",
       "  <th>pub_rec_At least one</th>                <td>0.0540</td>   <td>0.0428</td>  <td>1.2627</td>  <td>0.2067</td> <td>-0.0298</td> <td>0.1379</td> \n",
       "</tr>\n",
       "<tr>\n",
       "  <th>pub_rec_bankruptcies_At least one</th>   <td>-0.0269</td>  <td>0.0491</td>  <td>-0.5471</td> <td>0.5843</td> <td>-0.1231</td> <td>0.0694</td> \n",
       "</tr>\n",
       "</table>"
      ],
      "text/plain": [
       "<class 'statsmodels.iolib.summary2.Summary'>\n",
       "\"\"\"\n",
       "                                  Results: Logit\n",
       "===================================================================================\n",
       "Model:                    Logit                  Pseudo R-squared:       0.106     \n",
       "Dependent Variable:       loan_status            AIC:                    52221.5470\n",
       "Date:                     2019-06-14 13:47       BIC:                    52560.5585\n",
       "No. Observations:         44029                  Log-Likelihood:         -26072.   \n",
       "Df Model:                 38                     LL-Null:                -29174.   \n",
       "Df Residuals:             43990                  LLR p-value:            0.0000    \n",
       "Converged:                1.0000                 Scale:                  1.0000    \n",
       "No. Iterations:           6.0000                                                   \n",
       "-----------------------------------------------------------------------------------\n",
       "                                     Coef.  Std.Err.    z    P>|z|   [0.025  0.975]\n",
       "-----------------------------------------------------------------------------------\n",
       "loan_amnt                           -0.0000   0.0000 -2.1053 0.0353 -0.0000 -0.0000\n",
       "term                                 0.0141   0.0013 10.8303 0.0000  0.0116  0.0167\n",
       "int_rate                             0.0111   0.0091  1.2225 0.2215 -0.0067  0.0289\n",
       "emp_length                          -0.0120   0.0029 -4.0754 0.0000 -0.0177 -0.0062\n",
       "dti                                  0.0117   0.0014  8.5431 0.0000  0.0090  0.0144\n",
       "delinq_2yrs                          0.1479   0.0181  8.1592 0.0000  0.1124  0.1835\n",
       "earliest_cr_line                    -0.0019   0.0002 -9.8715 0.0000 -0.0022 -0.0015\n",
       "open_acc                             0.0245   0.0029  8.5530 0.0000  0.0189  0.0301\n",
       "revol_util                           0.0086   0.0006 15.0434 0.0000  0.0075  0.0097\n",
       "total_acc                           -0.0080   0.0014 -5.8506 0.0000 -0.0107 -0.0053\n",
       "mort_acc                            -0.0795   0.0081 -9.8078 0.0000 -0.0953 -0.0636\n",
       "log_annual_inc                      -0.1562   0.0279 -5.6035 0.0000 -0.2108 -0.1015\n",
       "log_installment                      0.4307   0.0406 10.6106 0.0000  0.3512  0.5103\n",
       "log_revol_bal                       -0.0271   0.0125 -2.1712 0.0299 -0.0516 -0.0026\n",
       "grade_B                              0.7070   0.0573 12.3343 0.0000  0.5946  0.8193\n",
       "grade_C                              1.0810   0.0793 13.6304 0.0000  0.9255  1.2364\n",
       "grade_D                              1.3020   0.1143 11.3884 0.0000  1.0779  1.5261\n",
       "grade_E                              1.3835   0.1669  8.2910 0.0000  1.0565  1.7106\n",
       "grade_F                              1.4397   0.2150  6.6966 0.0000  1.0183  1.8611\n",
       "grade_G                              1.1584   0.2338  4.9547 0.0000  0.7002  1.6167\n",
       "home_ownership_OWN                   0.1731   0.0363  4.7668 0.0000  0.1020  0.2443\n",
       "home_ownership_RENT                  0.3679   0.0271 13.5660 0.0000  0.3147  0.4210\n",
       "verification_status_Source Verified  0.2477   0.0270  9.1580 0.0000  0.1947  0.3007\n",
       "verification_status_Verified         0.3871   0.0299 12.9557 0.0000  0.3285  0.4456\n",
       "purpose_credit_card                  0.1128   0.1085  1.0396 0.2985 -0.0998  0.3253\n",
       "purpose_debt_consolidation           0.0892   0.1064  0.8388 0.4016 -0.1193  0.2977\n",
       "purpose_home_improvement             0.2394   0.1121  2.1355 0.0327  0.0197  0.4591\n",
       "purpose_house                       -0.3709   0.1855 -1.9997 0.0455 -0.7344 -0.0074\n",
       "purpose_major_purchase               0.2312   0.1264  1.8299 0.0673 -0.0164  0.4789\n",
       "purpose_medical                      0.4030   0.1364  2.9549 0.0031  0.1357  0.6703\n",
       "purpose_moving                       0.2319   0.1497  1.5494 0.1213 -0.0614  0.5252\n",
       "purpose_other                        0.2975   0.1125  2.6438 0.0082  0.0770  0.5181\n",
       "purpose_renewable_energy             0.6134   0.4227  1.4512 0.1467 -0.2150  1.4417\n",
       "purpose_small_business               0.8661   0.1431  6.0504 0.0000  0.5855  1.1466\n",
       "purpose_vacation                     0.3846   0.1480  2.5981 0.0094  0.0945  0.6748\n",
       "initial_list_status_w               -0.0773   0.0257 -3.0116 0.0026 -0.1277 -0.0270\n",
       "application_type_Joint App          -0.5060   0.0541 -9.3512 0.0000 -0.6120 -0.3999\n",
       "pub_rec_At least one                 0.0540   0.0428  1.2627 0.2067 -0.0298  0.1379\n",
       "pub_rec_bankruptcies_At least one   -0.0269   0.0491 -0.5471 0.5843 -0.1231  0.0694\n",
       "===================================================================================\n",
       "\n",
       "\"\"\""
      ]
     },
     "execution_count": 185,
     "metadata": {},
     "output_type": "execute_result"
    }
   ],
   "source": [
    "import statsmodels.api as sm\n",
    "logit_model = sm.Logit(y, x)\n",
    "result = logit_model.fit()\n",
    "result.summary2()"
   ]
  },
  {
   "cell_type": "markdown",
   "metadata": {},
   "source": [
    "We remove all variables with p-value less than 0.05"
   ]
  },
  {
   "cell_type": "code",
   "execution_count": 186,
   "metadata": {
    "slideshow": {
     "slide_type": "-"
    }
   },
   "outputs": [
    {
     "data": {
      "text/plain": [
       "int_rate                             0.221517\n",
       "purpose_credit_card                  0.298525\n",
       "purpose_debt_consolidation           0.401606\n",
       "purpose_major_purchase               0.067271\n",
       "purpose_moving                       0.121289\n",
       "purpose_renewable_energy             0.146727\n",
       "pub_rec_At least one                 0.206698\n",
       "pub_rec_bankruptcies_At least one    0.584333\n",
       "dtype: float64"
      ]
     },
     "execution_count": 186,
     "metadata": {},
     "output_type": "execute_result"
    }
   ],
   "source": [
    "result.pvalues[result.pvalues > 0.05]"
   ]
  },
  {
   "cell_type": "code",
   "execution_count": 187,
   "metadata": {},
   "outputs": [],
   "source": [
    "keep_list = list(result.pvalues[result.pvalues < 0.05].index)\n",
    "keep_list.append('loan_status')\n",
    "drop_list = [col for col in dataset.columns if col not in keep_list]\n",
    "x_train_lr = x_train.drop(labels=drop_list, axis=1)\n",
    "x_test_lr = x_test.drop(labels=drop_list, axis=1)\n",
    "model_lr2 = LogisticRegression(penalty=\"l2\", C=0.5, fit_intercept=True, class_weight='balanced', \n",
    "                              random_state=0, max_iter=10000, solver='lbfgs')\n",
    "model_lr2 = model_lr2.fit(x_train_lr, y_train.values.ravel())\n",
    "y_pred_lr = model_lr2.predict(x_test_lr)"
   ]
  },
  {
   "cell_type": "markdown",
   "metadata": {
    "slideshow": {
     "slide_type": "-"
    }
   },
   "source": [
    "### Logistic Regression Results"
   ]
  },
  {
   "cell_type": "code",
   "execution_count": 188,
   "metadata": {
    "slideshow": {
     "slide_type": "-"
    }
   },
   "outputs": [
    {
     "name": "stdout",
     "output_type": "stream",
     "text": [
      "Accuracy: 62.34%\n"
     ]
    },
    {
     "data": {
      "text/plain": [
       "array([[5116, 3113],\n",
       "       [1862, 3118]], dtype=int64)"
      ]
     },
     "execution_count": 188,
     "metadata": {},
     "output_type": "execute_result"
    }
   ],
   "source": [
    "print(\"Accuracy: %.2f%%\" % (model_lr2.score(x_test_lr, y_test) * 100))\n",
    "confusion_matrix(y_test, y_pred_lr)"
   ]
  },
  {
   "cell_type": "code",
   "execution_count": 189,
   "metadata": {
    "slideshow": {
     "slide_type": "-"
    }
   },
   "outputs": [
    {
     "name": "stdout",
     "output_type": "stream",
     "text": [
      "F1 Score: 0.5562394077245563\n",
      "              precision    recall  f1-score   support\n",
      "\n",
      "           0       0.73      0.62      0.67      8229\n",
      "           1       0.50      0.63      0.56      4980\n",
      "\n",
      "   micro avg       0.62      0.62      0.62     13209\n",
      "   macro avg       0.62      0.62      0.61     13209\n",
      "weighted avg       0.65      0.62      0.63     13209\n",
      "\n"
     ]
    }
   ],
   "source": [
    "print('F1 Score:', f1_score(y_test, y_pred_lr))\n",
    "print(classification_report(y_test, y_pred_lr))"
   ]
  },
  {
   "cell_type": "markdown",
   "metadata": {
    "slideshow": {
     "slide_type": "-"
    }
   },
   "source": [
    "### Random Forest Model"
   ]
  },
  {
   "cell_type": "code",
   "execution_count": 190,
   "metadata": {
    "slideshow": {
     "slide_type": "-"
    }
   },
   "outputs": [],
   "source": [
    "rf_model_path = Path('../data/rf_1000.joblib')\n",
    "if os.path.exists(rf_model_path):\n",
    "    forest = load(rf_model_path)\n",
    "else:\n",
    "    n_trees = [50, 100, 250, 500, 1000, 1500, 2500]\n",
    "    rf_dict = dict.fromkeys(n_trees)\n",
    "    for num in n_trees:\n",
    "        print(num)\n",
    "        rf = RandomForestClassifier(n_estimators=num,\n",
    "                                    min_samples_leaf=30,\n",
    "                                    oob_score=True,\n",
    "                                    random_state=100,\n",
    "                                    class_weight='balanced',\n",
    "                                    n_jobs=-1)\n",
    "        rf.fit(x_train, y_train.values.ravel())\n",
    "        rf_dict[num] = rf\n",
    "\n",
    "    oob_error_list = [None] * len(n_trees)\n",
    "\n",
    "    for i in range(len(n_trees)):\n",
    "        oob_error_list[i] = 1 - rf_dict[n_trees[i]].oob_score_\n",
    "\n",
    "    plt.plot(n_trees, oob_error_list, 'bo', n_trees, oob_error_list, 'k')\n",
    "    # Save model to file\n",
    "    dump(rf_dict[1000], rf_model_path)\n",
    "    forest = rf_dict[1000]\n",
    "y_pred_rf = forest.predict(x_test)"
   ]
  },
  {
   "cell_type": "markdown",
   "metadata": {
    "slideshow": {
     "slide_type": "-"
    }
   },
   "source": [
    "### Random Forest Results"
   ]
  },
  {
   "cell_type": "code",
   "execution_count": 191,
   "metadata": {
    "slideshow": {
     "slide_type": "-"
    }
   },
   "outputs": [
    {
     "name": "stdout",
     "output_type": "stream",
     "text": [
      "Accuracy: 66.74%\n"
     ]
    },
    {
     "data": {
      "text/plain": [
       "array([[5690, 2539],\n",
       "       [1854, 3126]], dtype=int64)"
      ]
     },
     "execution_count": 191,
     "metadata": {},
     "output_type": "execute_result"
    }
   ],
   "source": [
    "print(\"Accuracy: %.2f%%\" % (forest.score(x_test, y_test) * 100))\n",
    "confusion_matrix(y_test, y_pred_rf)"
   ]
  },
  {
   "cell_type": "code",
   "execution_count": 192,
   "metadata": {
    "slideshow": {
     "slide_type": "-"
    }
   },
   "outputs": [
    {
     "name": "stdout",
     "output_type": "stream",
     "text": [
      "F1 Score: 0.58731798966651\n",
      "              precision    recall  f1-score   support\n",
      "\n",
      "           0       0.75      0.69      0.72      8229\n",
      "           1       0.55      0.63      0.59      4980\n",
      "\n",
      "   micro avg       0.67      0.67      0.67     13209\n",
      "   macro avg       0.65      0.66      0.65     13209\n",
      "weighted avg       0.68      0.67      0.67     13209\n",
      "\n"
     ]
    }
   ],
   "source": [
    "print('F1 Score:', f1_score(y_test, y_pred_rf))\n",
    "print(classification_report(y_test, y_pred_rf))"
   ]
  },
  {
   "cell_type": "code",
   "execution_count": 193,
   "metadata": {},
   "outputs": [
    {
     "name": "stdout",
     "output_type": "stream",
     "text": [
      "Variable: int_rate             Importance: 0.23\n",
      "Variable: revol_util           Importance: 0.1\n",
      "Variable: dti                  Importance: 0.09\n",
      "Variable: log_installment      Importance: 0.06\n",
      "Variable: loan_amnt            Importance: 0.05\n",
      "Variable: mort_acc             Importance: 0.05\n",
      "Variable: log_annual_inc       Importance: 0.05\n",
      "Variable: log_revol_bal        Importance: 0.05\n",
      "Variable: total_acc            Importance: 0.04\n",
      "Variable: term                 Importance: 0.03\n",
      "Variable: emp_length           Importance: 0.03\n",
      "Variable: earliest_cr_line     Importance: 0.03\n",
      "Variable: open_acc             Importance: 0.03\n",
      "Variable: grade_B              Importance: 0.03\n",
      "Variable: home_ownership_RENT  Importance: 0.03\n",
      "Variable: grade_C              Importance: 0.02\n",
      "Variable: grade_D              Importance: 0.02\n",
      "Variable: grade_E              Importance: 0.02\n",
      "Variable: delinq_2yrs          Importance: 0.01\n",
      "Variable: grade_F              Importance: 0.01\n",
      "Variable: verification_status_Source Verified Importance: 0.01\n",
      "Variable: verification_status_Verified Importance: 0.01\n",
      "Variable: purpose_debt_consolidation Importance: 0.01\n",
      "Variable: initial_list_status_w Importance: 0.01\n",
      "Variable: grade_G              Importance: 0.0\n",
      "Variable: home_ownership_OWN   Importance: 0.0\n",
      "Variable: purpose_credit_card  Importance: 0.0\n",
      "Variable: purpose_home_improvement Importance: 0.0\n",
      "Variable: purpose_house        Importance: 0.0\n",
      "Variable: purpose_major_purchase Importance: 0.0\n",
      "Variable: purpose_medical      Importance: 0.0\n",
      "Variable: purpose_moving       Importance: 0.0\n",
      "Variable: purpose_other        Importance: 0.0\n",
      "Variable: purpose_renewable_energy Importance: 0.0\n",
      "Variable: purpose_small_business Importance: 0.0\n",
      "Variable: purpose_vacation     Importance: 0.0\n",
      "Variable: application_type_Joint App Importance: 0.0\n",
      "Variable: pub_rec_At least one Importance: 0.0\n",
      "Variable: pub_rec_bankruptcies_At least one Importance: 0.0\n"
     ]
    }
   ],
   "source": [
    "feature_list = list(x.columns)\n",
    "# Get numerical feature importances\n",
    "importances = list(forest.feature_importances_)\n",
    "# List of tuples with variable and importance\n",
    "feature_importances = [(feature, round(importance, 2)) for feature, importance in zip(feature_list, importances)]\n",
    "# Sort the feature importances by most important first\n",
    "feature_importances = sorted(feature_importances, key = lambda x: x[1], reverse = True)\n",
    "# Print out the feature and importances \n",
    "[print('Variable: {:20} Importance: {}'.format(*pair)) for pair in feature_importances];"
   ]
  },
  {
   "cell_type": "code",
   "execution_count": 194,
   "metadata": {},
   "outputs": [
    {
     "name": "stdout",
     "output_type": "stream",
     "text": [
      "Accuracy: 65.11%\n"
     ]
    }
   ],
   "source": [
    "# New random forest with only >= 0.05 important variables\n",
    "rf_most_important = RandomForestClassifier(n_estimators=1000,\n",
    "                            min_samples_leaf=30,\n",
    "                            oob_score=True,\n",
    "                            random_state=100,\n",
    "                            class_weight='balanced',\n",
    "                            n_jobs=2)\n",
    "# Extract the important features\n",
    "important_indices = ['int_rate', \n",
    "                     'revol_util',\n",
    "                     'dti',\n",
    "                     'log_installment', \n",
    "                     'loan_amnt', \n",
    "                     'mort_acc', \n",
    "                     'log_annual_inc', \n",
    "                    'log_revol_bal']\n",
    "x_train_i = x_train.loc[:, important_indices]\n",
    "x_test_i = x_test.loc[:, important_indices]\n",
    "# Train the random forest\n",
    "rf_most_important.fit(x_train_i, y_train.values.ravel())\n",
    "# Make predictions and determine the error\n",
    "predictions = rf_most_important.predict(x_test_i)\n",
    "print(\"Accuracy: %.2f%%\" % (rf_most_important.score(x_test_i, y_test) * 100))"
   ]
  },
  {
   "cell_type": "markdown",
   "metadata": {
    "slideshow": {
     "slide_type": "-"
    }
   },
   "source": [
    "### Neural Network Model"
   ]
  },
  {
   "cell_type": "code",
   "execution_count": 195,
   "metadata": {},
   "outputs": [
    {
     "name": "stdout",
     "output_type": "stream",
     "text": [
      "Epoch 1/5\n",
      "30820/30820 [==============================] - 9s 288us/step - loss: 0.6103 - acc: 0.6548\n",
      "Epoch 2/5\n",
      "30820/30820 [==============================] - 7s 213us/step - loss: 0.5938 - acc: 0.6759\n",
      "Epoch 3/5\n",
      "30820/30820 [==============================] - 7s 213us/step - loss: 0.5902 - acc: 0.6804\n",
      "Epoch 4/5\n",
      "30820/30820 [==============================] - 7s 214us/step - loss: 0.5877 - acc: 0.6835\n",
      "Epoch 5/5\n",
      "30820/30820 [==============================] - 7s 218us/step - loss: 0.5856 - acc: 0.6851\n",
      "_________________________________________________________________\n",
      "Layer (type)                 Output Shape              Param #   \n",
      "=================================================================\n",
      "dense_42 (Dense)             (None, 20)                800       \n",
      "_________________________________________________________________\n",
      "dense_43 (Dense)             (None, 15)                315       \n",
      "_________________________________________________________________\n",
      "dense_44 (Dense)             (None, 4)                 64        \n",
      "_________________________________________________________________\n",
      "dense_45 (Dense)             (None, 2)                 10        \n",
      "=================================================================\n",
      "Total params: 1,189\n",
      "Trainable params: 1,189\n",
      "Non-trainable params: 0\n",
      "_________________________________________________________________\n",
      "None\n"
     ]
    }
   ],
   "source": [
    "from keras.models import Sequential\n",
    "from keras.layers import Dense\n",
    "from keras.utils import to_categorical\n",
    "from keras.models import load_model\n",
    "from sklearn.utils import class_weight\n",
    "\n",
    "scaler = StandardScaler()\n",
    "scaler.fit(x_train.astype('float64'))\n",
    "StandardScaler(copy=True, with_mean=True, with_std=True)\n",
    "x_train_nn = scaler.transform(x_train.astype('float64'))\n",
    "x_test_nn = scaler.transform(x_test.astype('float64'))\n",
    "dump(scaler, Path('..\\\\data\\\\scaler.joblib'))\n",
    "\n",
    "class_weights = class_weight.compute_class_weight('balanced', \n",
    "                                                  np.unique(y_train.values.ravel()), \n",
    "                                                  y_train.values.ravel())\n",
    "\n",
    "model_nn_path = Path('../data/model_nn.h5')\n",
    "if os.path.exists(model_nn_path):\n",
    "    model_nn = load_model('..\\\\data\\\\model_nn.h5')\n",
    "else:\n",
    "    model_nn = Sequential()\n",
    "    # Input layer\n",
    "    model_nn.add(Dense(20, activation='relu', input_shape=(39,)))\n",
    "    # Hidden layer\n",
    "    model_nn.add(Dense(15, activation='relu'))\n",
    "    model_nn.add(Dense(4, activation='relu'))\n",
    "    # Output layer\n",
    "    model_nn.add(Dense(2, activation='sigmoid'))\n",
    "    model_nn.output_shape\n",
    "    \n",
    "    model_nn.compile(loss='binary_crossentropy',\n",
    "                    optimizer='adam',\n",
    "                    metrics=['accuracy'])\n",
    "    model_nn.fit(x_train_nn, to_categorical(y_train), epochs=5, batch_size=10, class_weight=class_weights, verbose=1)\n",
    "    \n",
    "    model_nn.save('..\\\\data\\\\model_nn.h5')\n",
    "y_pred_nn = model_nn.predict_classes(x_test_nn)\n",
    "print(model_nn.summary())\n",
    "# y_pred_nn = [round(x[0] for x in y_pred_nn)]"
   ]
  },
  {
   "cell_type": "markdown",
   "metadata": {
    "slideshow": {
     "slide_type": "-"
    }
   },
   "source": [
    "### Neural Network Results"
   ]
  },
  {
   "cell_type": "code",
   "execution_count": 196,
   "metadata": {},
   "outputs": [
    {
     "name": "stdout",
     "output_type": "stream",
     "text": [
      "13209/13209 [==============================] - 1s 58us/step\n",
      "Accuracy: 66.93%\n"
     ]
    },
    {
     "data": {
      "text/plain": [
       "array([[6847, 1382],\n",
       "       [2986, 1994]], dtype=int64)"
      ]
     },
     "execution_count": 196,
     "metadata": {},
     "output_type": "execute_result"
    }
   ],
   "source": [
    "score = model_nn.evaluate(x_test_nn, to_categorical(y_test))\n",
    "print(\"Accuracy: %.2f%%\" % (score[1]*100))\n",
    "confusion_matrix(y_test, y_pred_nn)"
   ]
  },
  {
   "cell_type": "code",
   "execution_count": 197,
   "metadata": {},
   "outputs": [
    {
     "name": "stdout",
     "output_type": "stream",
     "text": [
      "F1 Score: 0.47726184777405456\n",
      "              precision    recall  f1-score   support\n",
      "\n",
      "           0       0.70      0.83      0.76      8229\n",
      "           1       0.59      0.40      0.48      4980\n",
      "\n",
      "   micro avg       0.67      0.67      0.67     13209\n",
      "   macro avg       0.64      0.62      0.62     13209\n",
      "weighted avg       0.66      0.67      0.65     13209\n",
      "\n"
     ]
    }
   ],
   "source": [
    "print('F1 Score:', f1_score(y_test, y_pred_nn))\n",
    "print(classification_report(y_test, y_pred_nn))"
   ]
  },
  {
   "cell_type": "code",
   "execution_count": 198,
   "metadata": {},
   "outputs": [
    {
     "name": "stdout",
     "output_type": "stream",
     "text": [
      "          0         1\n",
      "0  0.369403  0.630705\n",
      "1  0.860519  0.139322\n",
      "2  0.417426  0.582649\n",
      "3  0.662011  0.337887\n",
      "4  0.478472  0.521558\n"
     ]
    }
   ],
   "source": [
    "NN_probs = pd.DataFrame(model_nn.predict(x_test_nn))\n",
    "print(NN_probs.head())"
   ]
  },
  {
   "cell_type": "code",
   "execution_count": 199,
   "metadata": {},
   "outputs": [
    {
     "name": "stdout",
     "output_type": "stream",
     "text": [
      "(13209, 39)\n"
     ]
    }
   ],
   "source": [
    "print(x_test_nn.shape)"
   ]
  },
  {
   "cell_type": "markdown",
   "metadata": {},
   "source": [
    "### XGBoost Model"
   ]
  },
  {
   "cell_type": "code",
   "execution_count": 48,
   "metadata": {},
   "outputs": [],
   "source": [
    "from xgboost import XGBClassifier\n",
    "from xgboost import plot_importance\n",
    "from sklearn.utils import class_weight\n",
    "class_weights = class_weight.compute_class_weight('balanced', \n",
    "                                                  np.unique(y_train.values.ravel()), \n",
    "                                                  y_train.values.ravel())\n",
    "model_xgb = XGBClassifier(scale_pos_weight=class_weights[1]) # random state?\n",
    "model_xgb.fit(x_train, y_train.values.ravel())\n",
    "y_pred_xgb = model_xgb.predict(x_test)"
   ]
  },
  {
   "cell_type": "markdown",
   "metadata": {},
   "source": [
    "### XGBoost Results"
   ]
  },
  {
   "cell_type": "code",
   "execution_count": 49,
   "metadata": {},
   "outputs": [
    {
     "name": "stdout",
     "output_type": "stream",
     "text": [
      "Accuracy: 73.38%\n",
      "[[6756 1473]\n",
      " [1345 1013]]\n"
     ]
    },
    {
     "data": {
      "image/png": "[encoded data removed]",
      "text/plain": [
       "<Figure size 432x288 with 1 Axes>"
      ]
     },
     "metadata": {
      "needs_background": "light"
     },
     "output_type": "display_data"
    }
   ],
   "source": [
    "print(\"Accuracy: %.2f%%\" % (model_xgb.score(x_test, y_test) * 100))\n",
    "print(confusion_matrix(y_test, y_pred_xgb))\n",
    "plot_importance(model_xgb)\n",
    "plt.show()"
   ]
  },
  {
   "cell_type": "code",
   "execution_count": 50,
   "metadata": {},
   "outputs": [
    {
     "name": "stdout",
     "output_type": "stream",
     "text": [
      "Thresh=0.000, n=39, Accuracy: 73.38%\n",
      "Thresh=0.000, n=39, Accuracy: 73.38%\n",
      "Thresh=0.000, n=39, Accuracy: 73.38%\n",
      "Thresh=0.000, n=39, Accuracy: 73.38%\n",
      "Thresh=0.000, n=39, Accuracy: 73.38%\n",
      "Thresh=0.000, n=39, Accuracy: 73.38%\n",
      "Thresh=0.000, n=39, Accuracy: 73.38%\n",
      "Thresh=0.000, n=39, Accuracy: 73.38%\n",
      "Thresh=0.000, n=39, Accuracy: 73.38%\n",
      "Thresh=0.000, n=39, Accuracy: 73.38%\n",
      "Thresh=0.000, n=39, Accuracy: 73.38%\n",
      "Thresh=0.001, n=28, Accuracy: 73.38%\n",
      "Thresh=0.001, n=28, Accuracy: 73.38%\n",
      "Thresh=0.001, n=28, Accuracy: 73.38%\n",
      "Thresh=0.001, n=28, Accuracy: 73.38%\n",
      "Thresh=0.003, n=24, Accuracy: 73.30%\n",
      "Thresh=0.003, n=24, Accuracy: 73.30%\n",
      "Thresh=0.004, n=22, Accuracy: 73.33%\n",
      "Thresh=0.007, n=21, Accuracy: 73.32%\n",
      "Thresh=0.009, n=20, Accuracy: 73.34%\n",
      "Thresh=0.010, n=19, Accuracy: 73.19%\n",
      "Thresh=0.016, n=18, Accuracy: 73.33%\n",
      "Thresh=0.019, n=17, Accuracy: 73.08%\n",
      "Thresh=0.019, n=17, Accuracy: 73.08%\n",
      "Thresh=0.022, n=15, Accuracy: 73.00%\n",
      "Thresh=0.025, n=14, Accuracy: 73.02%\n",
      "Thresh=0.029, n=13, Accuracy: 72.95%\n",
      "Thresh=0.031, n=12, Accuracy: 72.70%\n",
      "Thresh=0.042, n=11, Accuracy: 72.66%\n",
      "Thresh=0.042, n=11, Accuracy: 72.66%\n",
      "Thresh=0.052, n=9, Accuracy: 72.61%\n",
      "Thresh=0.057, n=8, Accuracy: 72.56%\n",
      "Thresh=0.068, n=7, Accuracy: 72.60%\n",
      "Thresh=0.070, n=6, Accuracy: 72.34%\n",
      "Thresh=0.071, n=5, Accuracy: 72.54%\n",
      "Thresh=0.076, n=4, Accuracy: 72.38%\n",
      "Thresh=0.084, n=3, Accuracy: 72.25%\n",
      "Thresh=0.113, n=2, Accuracy: 72.44%\n",
      "Thresh=0.122, n=1, Accuracy: 74.15%\n"
     ]
    }
   ],
   "source": [
    "# from sklearn.feature_selection import SelectFromModel\n",
    "# from sklearn.metrics import accuracy_score\n",
    "# thresholds = np.sort(model_xgb.feature_importances_)\n",
    "# for thresh in thresholds:\n",
    "#     # select features using threshold\n",
    "#     selection = SelectFromModel(model_xgb, threshold=thresh, prefit=True)\n",
    "#     select_x_train = selection.transform(x_train)\n",
    "#     # train model\n",
    "#     selection_model = XGBClassifier(scale_pos_weight=class_weights[1])\n",
    "#     selection_model.fit(select_x_train, y_train.values.ravel())\n",
    "#     # eval model\n",
    "#     select_x_test = selection.transform(x_test)\n",
    "#     y_pred_xgb = selection_model.predict(select_x_test)\n",
    "#     predictions = [round(value) for value in y_pred_xgb]\n",
    "#     accuracy = accuracy_score(y_test, predictions)\n",
    "#     print(\"Thresh=%.3f, n=%d, Accuracy: %.2f%%\" % (thresh, \n",
    "#                                                   select_x_train.shape[1], \n",
    "#                                                   accuracy * 100))"
   ]
  },
  {
   "cell_type": "code",
   "execution_count": 53,
   "metadata": {},
   "outputs": [
    {
     "name": "stdout",
     "output_type": "stream",
     "text": [
      "Accuracy: 72.83%\n",
      "[[6709 1520]\n",
      " [1357 1001]]\n"
     ]
    },
    {
     "data": {
      "image/png": "[encoded data removed]",
      "text/plain": [
       "<Figure size 432x288 with 1 Axes>"
      ]
     },
     "metadata": {
      "needs_background": "light"
     },
     "output_type": "display_data"
    }
   ],
   "source": [
    "# Extract the ten most important features\n",
    "model_path_xgb = '..\\\\data\\\\model_xgb.joblib'\n",
    "if os.path.exists(model_path_xgb):\n",
    "    model_xgb = load(model_path_xgb)\n",
    "else:\n",
    "    important_indices = ['dti', \n",
    "                         'int_rate',\n",
    "                         'revol_util',\n",
    "                         'log_installment', \n",
    "                         'open_acc', \n",
    "                         'log_revol_bal', \n",
    "                         'mort_acc', \n",
    "                         'loan_amnt', \n",
    "                         'total_acc',\n",
    "                         'log_annual_inc']\n",
    "    x_train_xgb = x_train.loc[:, important_indices]\n",
    "    x_test_xgb = x_test.loc[:, important_indices]\n",
    "\n",
    "    model_xgb = XGBClassifier(scale_pos_weight=class_weights[1])\n",
    "    model_xgb.fit(x_train_xgb, y_train.values.ravel())\n",
    "    y_pred_xgb = model_xgb.predict(x_test_xgb)\n",
    "    print(\"Accuracy: %.2f%%\" % (model_xgb.score(x_test_xgb, y_test) * 100))\n",
    "    print(confusion_matrix(y_test, y_pred_xgb))\n",
    "    plot_importance(model_xgb)\n",
    "    plt.show()\n",
    "    dump(model_xgb, model_path_xgb)"
   ]
  },
  {
   "cell_type": "markdown",
   "metadata": {},
   "source": [
    "### Support Vector Machine Model"
   ]
  },
  {
   "cell_type": "code",
   "execution_count": 52,
   "metadata": {},
   "outputs": [
    {
     "ename": "KeyboardInterrupt",
     "evalue": "",
     "output_type": "error",
     "traceback": [
      "\u001b[1;31m---------------------------------------------------------------------------\u001b[0m",
      "\u001b[1;31mKeyboardInterrupt\u001b[0m                         Traceback (most recent call last)",
      "\u001b[1;32m<ipython-input-52-0f7039dbcd39>\u001b[0m in \u001b[0;36m<module>\u001b[1;34m\u001b[0m\n\u001b[0;32m     21\u001b[0m     \u001b[0mmodel_svm\u001b[0m\u001b[1;33m.\u001b[0m\u001b[0mfit\u001b[0m\u001b[1;33m(\u001b[0m\u001b[0mx_train\u001b[0m\u001b[1;33m,\u001b[0m \u001b[0my_train\u001b[0m\u001b[1;33m.\u001b[0m\u001b[0mvalues\u001b[0m\u001b[1;33m.\u001b[0m\u001b[0mravel\u001b[0m\u001b[1;33m(\u001b[0m\u001b[1;33m)\u001b[0m\u001b[1;33m)\u001b[0m\u001b[1;33m\u001b[0m\u001b[1;33m\u001b[0m\u001b[0m\n\u001b[0;32m     22\u001b[0m     \u001b[0mdump\u001b[0m\u001b[1;33m(\u001b[0m\u001b[0mmodel_svm\u001b[0m\u001b[1;33m,\u001b[0m \u001b[0mmodel_svm_path\u001b[0m\u001b[1;33m)\u001b[0m\u001b[1;33m\u001b[0m\u001b[1;33m\u001b[0m\u001b[0m\n\u001b[1;32m---> 23\u001b[1;33m \u001b[0mprint\u001b[0m\u001b[1;33m(\u001b[0m\u001b[1;34m'Accuracy of SVM on test set: {:.3f}'\u001b[0m\u001b[1;33m.\u001b[0m\u001b[0mformat\u001b[0m\u001b[1;33m(\u001b[0m\u001b[0mmodel_svm\u001b[0m\u001b[1;33m.\u001b[0m\u001b[0mscore\u001b[0m\u001b[1;33m(\u001b[0m\u001b[0mx_test\u001b[0m\u001b[1;33m,\u001b[0m \u001b[0my_test\u001b[0m\u001b[1;33m)\u001b[0m\u001b[1;33m)\u001b[0m\u001b[1;33m)\u001b[0m\u001b[1;33m\u001b[0m\u001b[1;33m\u001b[0m\u001b[0m\n\u001b[0m\u001b[0;32m     24\u001b[0m \u001b[1;31m# 0.741 C=1 gamma = 0.05\u001b[0m\u001b[1;33m\u001b[0m\u001b[1;33m\u001b[0m\u001b[1;33m\u001b[0m\u001b[0m\n\u001b[0;32m     25\u001b[0m \u001b[1;31m# 0.777 C=1 gamma = 1\u001b[0m\u001b[1;33m\u001b[0m\u001b[1;33m\u001b[0m\u001b[1;33m\u001b[0m\u001b[0m\n",
      "\u001b[1;32mc:\\users\\leon\\miniconda3\\envs\\aiml\\lib\\site-packages\\sklearn\\base.py\u001b[0m in \u001b[0;36mscore\u001b[1;34m(self, X, y, sample_weight)\u001b[0m\n\u001b[0;32m    288\u001b[0m         \"\"\"\n\u001b[0;32m    289\u001b[0m         \u001b[1;32mfrom\u001b[0m \u001b[1;33m.\u001b[0m\u001b[0mmetrics\u001b[0m \u001b[1;32mimport\u001b[0m \u001b[0maccuracy_score\u001b[0m\u001b[1;33m\u001b[0m\u001b[1;33m\u001b[0m\u001b[0m\n\u001b[1;32m--> 290\u001b[1;33m         \u001b[1;32mreturn\u001b[0m \u001b[0maccuracy_score\u001b[0m\u001b[1;33m(\u001b[0m\u001b[0my\u001b[0m\u001b[1;33m,\u001b[0m \u001b[0mself\u001b[0m\u001b[1;33m.\u001b[0m\u001b[0mpredict\u001b[0m\u001b[1;33m(\u001b[0m\u001b[0mX\u001b[0m\u001b[1;33m)\u001b[0m\u001b[1;33m,\u001b[0m \u001b[0msample_weight\u001b[0m\u001b[1;33m=\u001b[0m\u001b[0msample_weight\u001b[0m\u001b[1;33m)\u001b[0m\u001b[1;33m\u001b[0m\u001b[1;33m\u001b[0m\u001b[0m\n\u001b[0m\u001b[0;32m    291\u001b[0m \u001b[1;33m\u001b[0m\u001b[0m\n\u001b[0;32m    292\u001b[0m \u001b[1;33m\u001b[0m\u001b[0m\n",
      "\u001b[1;32mc:\\users\\leon\\miniconda3\\envs\\aiml\\lib\\site-packages\\sklearn\\svm\\base.py\u001b[0m in \u001b[0;36mpredict\u001b[1;34m(self, X)\u001b[0m\n\u001b[0;32m    574\u001b[0m             \u001b[0mClass\u001b[0m \u001b[0mlabels\u001b[0m \u001b[1;32mfor\u001b[0m \u001b[0msamples\u001b[0m \u001b[1;32min\u001b[0m \u001b[0mX\u001b[0m\u001b[1;33m.\u001b[0m\u001b[1;33m\u001b[0m\u001b[1;33m\u001b[0m\u001b[0m\n\u001b[0;32m    575\u001b[0m         \"\"\"\n\u001b[1;32m--> 576\u001b[1;33m         \u001b[0my\u001b[0m \u001b[1;33m=\u001b[0m \u001b[0msuper\u001b[0m\u001b[1;33m(\u001b[0m\u001b[0mBaseSVC\u001b[0m\u001b[1;33m,\u001b[0m \u001b[0mself\u001b[0m\u001b[1;33m)\u001b[0m\u001b[1;33m.\u001b[0m\u001b[0mpredict\u001b[0m\u001b[1;33m(\u001b[0m\u001b[0mX\u001b[0m\u001b[1;33m)\u001b[0m\u001b[1;33m\u001b[0m\u001b[1;33m\u001b[0m\u001b[0m\n\u001b[0m\u001b[0;32m    577\u001b[0m         \u001b[1;32mreturn\u001b[0m \u001b[0mself\u001b[0m\u001b[1;33m.\u001b[0m\u001b[0mclasses_\u001b[0m\u001b[1;33m.\u001b[0m\u001b[0mtake\u001b[0m\u001b[1;33m(\u001b[0m\u001b[0mnp\u001b[0m\u001b[1;33m.\u001b[0m\u001b[0masarray\u001b[0m\u001b[1;33m(\u001b[0m\u001b[0my\u001b[0m\u001b[1;33m,\u001b[0m \u001b[0mdtype\u001b[0m\u001b[1;33m=\u001b[0m\u001b[0mnp\u001b[0m\u001b[1;33m.\u001b[0m\u001b[0mintp\u001b[0m\u001b[1;33m)\u001b[0m\u001b[1;33m)\u001b[0m\u001b[1;33m\u001b[0m\u001b[1;33m\u001b[0m\u001b[0m\n\u001b[0;32m    578\u001b[0m \u001b[1;33m\u001b[0m\u001b[0m\n",
      "\u001b[1;32mc:\\users\\leon\\miniconda3\\envs\\aiml\\lib\\site-packages\\sklearn\\svm\\base.py\u001b[0m in \u001b[0;36mpredict\u001b[1;34m(self, X)\u001b[0m\n\u001b[0;32m    325\u001b[0m         \u001b[0mX\u001b[0m \u001b[1;33m=\u001b[0m \u001b[0mself\u001b[0m\u001b[1;33m.\u001b[0m\u001b[0m_validate_for_predict\u001b[0m\u001b[1;33m(\u001b[0m\u001b[0mX\u001b[0m\u001b[1;33m)\u001b[0m\u001b[1;33m\u001b[0m\u001b[1;33m\u001b[0m\u001b[0m\n\u001b[0;32m    326\u001b[0m         \u001b[0mpredict\u001b[0m \u001b[1;33m=\u001b[0m \u001b[0mself\u001b[0m\u001b[1;33m.\u001b[0m\u001b[0m_sparse_predict\u001b[0m \u001b[1;32mif\u001b[0m \u001b[0mself\u001b[0m\u001b[1;33m.\u001b[0m\u001b[0m_sparse\u001b[0m \u001b[1;32melse\u001b[0m \u001b[0mself\u001b[0m\u001b[1;33m.\u001b[0m\u001b[0m_dense_predict\u001b[0m\u001b[1;33m\u001b[0m\u001b[1;33m\u001b[0m\u001b[0m\n\u001b[1;32m--> 327\u001b[1;33m         \u001b[1;32mreturn\u001b[0m \u001b[0mpredict\u001b[0m\u001b[1;33m(\u001b[0m\u001b[0mX\u001b[0m\u001b[1;33m)\u001b[0m\u001b[1;33m\u001b[0m\u001b[1;33m\u001b[0m\u001b[0m\n\u001b[0m\u001b[0;32m    328\u001b[0m \u001b[1;33m\u001b[0m\u001b[0m\n\u001b[0;32m    329\u001b[0m     \u001b[1;32mdef\u001b[0m \u001b[0m_dense_predict\u001b[0m\u001b[1;33m(\u001b[0m\u001b[0mself\u001b[0m\u001b[1;33m,\u001b[0m \u001b[0mX\u001b[0m\u001b[1;33m)\u001b[0m\u001b[1;33m:\u001b[0m\u001b[1;33m\u001b[0m\u001b[1;33m\u001b[0m\u001b[0m\n",
      "\u001b[1;32mc:\\users\\leon\\miniconda3\\envs\\aiml\\lib\\site-packages\\sklearn\\svm\\base.py\u001b[0m in \u001b[0;36m_dense_predict\u001b[1;34m(self, X)\u001b[0m\n\u001b[0;32m    348\u001b[0m             \u001b[0mself\u001b[0m\u001b[1;33m.\u001b[0m\u001b[0mprobA_\u001b[0m\u001b[1;33m,\u001b[0m \u001b[0mself\u001b[0m\u001b[1;33m.\u001b[0m\u001b[0mprobB_\u001b[0m\u001b[1;33m,\u001b[0m \u001b[0msvm_type\u001b[0m\u001b[1;33m=\u001b[0m\u001b[0msvm_type\u001b[0m\u001b[1;33m,\u001b[0m \u001b[0mkernel\u001b[0m\u001b[1;33m=\u001b[0m\u001b[0mkernel\u001b[0m\u001b[1;33m,\u001b[0m\u001b[1;33m\u001b[0m\u001b[1;33m\u001b[0m\u001b[0m\n\u001b[0;32m    349\u001b[0m             \u001b[0mdegree\u001b[0m\u001b[1;33m=\u001b[0m\u001b[0mself\u001b[0m\u001b[1;33m.\u001b[0m\u001b[0mdegree\u001b[0m\u001b[1;33m,\u001b[0m \u001b[0mcoef0\u001b[0m\u001b[1;33m=\u001b[0m\u001b[0mself\u001b[0m\u001b[1;33m.\u001b[0m\u001b[0mcoef0\u001b[0m\u001b[1;33m,\u001b[0m \u001b[0mgamma\u001b[0m\u001b[1;33m=\u001b[0m\u001b[0mself\u001b[0m\u001b[1;33m.\u001b[0m\u001b[0m_gamma\u001b[0m\u001b[1;33m,\u001b[0m\u001b[1;33m\u001b[0m\u001b[1;33m\u001b[0m\u001b[0m\n\u001b[1;32m--> 350\u001b[1;33m             cache_size=self.cache_size)\n\u001b[0m\u001b[0;32m    351\u001b[0m \u001b[1;33m\u001b[0m\u001b[0m\n\u001b[0;32m    352\u001b[0m     \u001b[1;32mdef\u001b[0m \u001b[0m_sparse_predict\u001b[0m\u001b[1;33m(\u001b[0m\u001b[0mself\u001b[0m\u001b[1;33m,\u001b[0m \u001b[0mX\u001b[0m\u001b[1;33m)\u001b[0m\u001b[1;33m:\u001b[0m\u001b[1;33m\u001b[0m\u001b[1;33m\u001b[0m\u001b[0m\n",
      "\u001b[1;31mKeyboardInterrupt\u001b[0m: "
     ]
    }
   ],
   "source": [
    "from sklearn.svm import SVC\n",
    "from sklearn.model_selection import GridSearchCV\n",
    "\n",
    "model_svm_path = '..\\\\data\\\\model_svm.joblib'\n",
    "if os.path.exists(model_svm_path):\n",
    "    model_svm = load(model_svm_path)\n",
    "else:            \n",
    "#     parameter_candidates = [\n",
    "#         {'C': [1, 10, 100], 'kernel': ['linear'], 'class_weight': ['balanced']},        \n",
    "#         {'C': [1, 10, 100], 'gamma': [10, 0, 0.001, 0.0001], 'kernel': ['rbf'], 'class_weight': ['balanced']}    \n",
    "#     ]\n",
    "\n",
    "#     clf = GridSearchCV(estimator=SVC(), param_grid = parameter_candidates, n_jobs=-1, cv=5)\n",
    "#     clf.fit(x_train, y_train.values.ravel())\n",
    "#     print('Best score for data:', clf.best_score_)\n",
    "#     print('Best C:', clf.best_estimator_.C)\n",
    "#     print('Best Kernel:', clf.best_estimator_.kernel)\n",
    "#     print('Best Gamma:', clf.best_estimator_.gamma)\n",
    "    model_svm = SVC(kernel='rbf', C=1, gamma=0.05, class_weight='balanced', random_state=0)\n",
    "    model_svm.fit(x_train, y_train.values.ravel())\n",
    "    dump(model_svm, model_svm_path)\n",
    "print('Accuracy of SVM on test set: {:.3f}'.format(model_svm.score(x_test, y_test)))\n",
    "# 0.741 C=1 gamma = 0.05\n",
    "# 0.777 C=1 gamma = 1"
   ]
  },
  {
   "cell_type": "markdown",
   "metadata": {
    "slideshow": {
     "slide_type": "-"
    }
   },
   "source": [
    "### Ensembled Model"
   ]
  },
  {
   "cell_type": "code",
   "execution_count": null,
   "metadata": {},
   "outputs": [],
   "source": [
    "# RF_probs = pd.DataFrame(forest.predict_proba(x_test))\n",
    "# LR_probs = pd.DataFrame(lr_model.predict_proba(x_test))\n",
    "# probs\n",
    "ensemble_model_path = '..\\\\data\\\\ensemble_model.joblib'\n",
    "if os.path.exists(ensemble_model_path):\n",
    "    ensemble = load(ensemble_model_path)\n",
    "else:\n",
    "    estimators = [('log_reg', lr_model), ('rf', forest)]\n",
    "    ensemble = VotingClassifier(estimators, voting='soft', n_jobs=-1)\n",
    "    ensemble.fit(x_train, y_train.values.ravel())\n",
    "    # Save model to file\n",
    "    dump(ensemble, ensemble_model_path)\n",
    "y_pred_ensemble = ensemble.predict(x_test)"
   ]
  },
  {
   "cell_type": "markdown",
   "metadata": {},
   "source": [
    "### Ensembled Results"
   ]
  },
  {
   "cell_type": "code",
   "execution_count": null,
   "metadata": {
    "slideshow": {
     "slide_type": "-"
    }
   },
   "outputs": [],
   "source": [
    "print(confusion_matrix(y_test, y_pred_ensemble))\n",
    "print('Accuracy of ensemble on test set: {:.3f}'.format(ensemble.score(x_test, y_test.values.ravel())))"
   ]
  }
 ],
 "metadata": {
  "kernelspec": {
   "display_name": "Python 3",
   "language": "python",
   "name": "python3"
  },
  "language_info": {
   "codemirror_mode": {
    "name": "ipython",
    "version": 3
   },
   "file_extension": ".py",
   "mimetype": "text/x-python",
   "name": "python",
   "nbconvert_exporter": "python",
   "pygments_lexer": "ipython3",
   "version": "3.7.2"
  }
 },
 "nbformat": 4,
 "nbformat_minor": 2
}
